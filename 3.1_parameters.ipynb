{
 "cells": [
  {
   "cell_type": "markdown",
   "metadata": {},
   "source": [
    "<a name=\"top\"></a><img src=\"images/chisel_1024.png\" alt=\"Chisel logo\" style=\"width:480px;\" />"
   ]
  },
  {
   "cell_type": "markdown",
   "metadata": {},
   "source": [
    "# Module 3.1: Generators: Parameters\n",
    "**Prev: [ChiselTest (was chisel-testers2)](2.6_chiseltest.ipynb)**<br>\n",
    "**Next: [Generators: Collections](3.2_collections.ipynb)**\n",
    "\n",
    "## Motivation\n",
    "Chisel 모듈이 코드 생성기가 되려면 생성기가 작업을 어떻게 수행해야 하는지 알려주는 무언가가 있어야 합니다. 이 섹션에서는 모듈 매개변수화, 다양한 방법론 및 스칼라 언어 기능에 대해 논의합니다. 매개변수 전달 구현의 풍부함은 생성된 회로의 풍부함에 정비례합니다. 매개변수는 유용한 기본값을 제공하고 설정하기 쉽고 불법적이거나 무의미한 값으로부터 보호해야 합니다. 더 복잡한 시스템의 경우 다른 모듈 사용에 부주의하게 영향을 미치지 않는 방식으로 로컬로 재정의할 수 있는 경우 매우 유용합니다.\n",
    "\n",
    "## Setup"
   ]
  },
  {
   "cell_type": "code",
   "execution_count": 1,
   "metadata": {},
   "outputs": [
    {
     "name": "stderr",
     "output_type": "stream",
     "text": [
      "Checking https://repo1.maven.org/maven2/edu/berkeley/cs/chisel3_2.12/maven-metadata.xml\n",
      "Checked https://repo1.maven.org/maven2/edu/berkeley/cs/chisel3_2.12/maven-metadata.xml\n",
      "Checking https://repo1.maven.org/maven2/edu/berkeley/cs/chisel-iotesters_2.12/maven-metadata.xml\n",
      "Checked https://repo1.maven.org/maven2/edu/berkeley/cs/chisel-iotesters_2.12/maven-metadata.xml\n",
      "Checking https://repo1.maven.org/maven2/edu/berkeley/cs/chiseltest_2.12/maven-metadata.xml\n",
      "Checked https://repo1.maven.org/maven2/edu/berkeley/cs/chiseltest_2.12/maven-metadata.xml\n",
      "Checking https://repo1.maven.org/maven2/edu/berkeley/cs/dsptools_2.12/maven-metadata.xml\n",
      "Checked https://repo1.maven.org/maven2/edu/berkeley/cs/dsptools_2.12/maven-metadata.xml\n",
      "Checking https://repo1.maven.org/maven2/edu/berkeley/cs/firrtl-diagrammer_2.12/maven-metadata.xml\n",
      "Checked https://repo1.maven.org/maven2/edu/berkeley/cs/firrtl-diagrammer_2.12/maven-metadata.xml\n"
     ]
    },
    {
     "data": {
      "text/plain": [
       "\u001b[36mpath\u001b[39m: \u001b[32mString\u001b[39m = \u001b[32m\"/home/parkdongho/dev/chisel-bootcamp-kr/source/load-ivy.sc\"\u001b[39m"
      ]
     },
     "execution_count": 1,
     "metadata": {},
     "output_type": "execute_result"
    }
   ],
   "source": [
    "val path = System.getProperty(\"user.dir\") + \"/source/load-ivy.sc\"\n",
    "interp.load.module(ammonite.ops.Path(java.nio.file.FileSystems.getDefault().getPath(path)))"
   ]
  },
  {
   "cell_type": "code",
   "execution_count": 2,
   "metadata": {},
   "outputs": [
    {
     "data": {
      "text/plain": [
       "\u001b[32mimport \u001b[39m\u001b[36mchisel3._\n",
       "\u001b[39m\n",
       "\u001b[32mimport \u001b[39m\u001b[36mchisel3.util._\n",
       "\u001b[39m\n",
       "\u001b[32mimport \u001b[39m\u001b[36mchisel3.tester._\n",
       "\u001b[39m\n",
       "\u001b[32mimport \u001b[39m\u001b[36mchisel3.tester.RawTester.test\u001b[39m"
      ]
     },
     "execution_count": 2,
     "metadata": {},
     "output_type": "execute_result"
    }
   ],
   "source": [
    "import chisel3._\n",
    "import chisel3.util._\n",
    "import chisel3.tester._\n",
    "import chisel3.tester.RawTester.test"
   ]
  },
  {
   "cell_type": "markdown",
   "metadata": {},
   "source": [
    "---\n",
    "# Parameter Passing\n",
    "Chisel은 하드웨어 생성기를 작성하기 위한 강력한 구성을 제공합니다.\n",
    "생성기는 일부 회로 매개변수를 사용하여 회로 기술을 생성하는 프로그램입니다.\n",
    "이 섹션에서는 chisel 생성기가 매개변수를 가져오는 방법에 대해 논의하는 것으로 시작하겠습니다.\n",
    "\n",
    "<span style=\"color:blue\">**Example: Parameterized Scala Object**</span><br>\n",
    "모든 Chisel `Module`은 다른 것과 마찬가지로 Scala 클래스입니다.\n",
    "Scala 클래스는 다음과 같이 매개변수화될 수 있음을 기억하십시오."
   ]
  },
  {
   "cell_type": "code",
   "execution_count": 8,
   "metadata": {},
   "outputs": [
    {
     "name": "stdout",
     "output_type": "stream",
     "text": [
      "I have parameters: param1 = 4 and param2 = Hello\n",
      "I have parameters: param1 = 6 and param2 = World\n"
     ]
    },
    {
     "data": {
      "text/plain": [
       "defined \u001b[32mclass\u001b[39m \u001b[36mParameterizedScalaObject\u001b[39m\n",
       "\u001b[36mobj1\u001b[39m: \u001b[32mParameterizedScalaObject\u001b[39m = ammonite.$sess.cmd7$Helper$ParameterizedScalaObject@2ceb0d2e\n",
       "\u001b[36mobj2\u001b[39m: \u001b[32mParameterizedScalaObject\u001b[39m = ammonite.$sess.cmd7$Helper$ParameterizedScalaObject@3dad1e71"
      ]
     },
     "execution_count": 8,
     "metadata": {},
     "output_type": "execute_result"
    }
   ],
   "source": [
    "class ParameterizedScalaObject(param1: Int, param2: String) {\n",
    "  println(s\"I have parameters: param1 = $param1 and param2 = $param2\")\n",
    "}\n",
    "val obj1 = new ParameterizedScalaObject(4,     \"Hello\")\n",
    "val obj2 = new ParameterizedScalaObject(4 + 2, \"World\")"
   ]
  },
  {
   "cell_type": "markdown",
   "metadata": {},
   "source": [
    "<span style=\"color:blue\">**Example: Parameterized Chisel Object**</span><br>\n",
    "Chisel 모듈은 같은 방식으로 매개변수화할 수 있습니다. 다음 모듈에는 모든 입력 및 출력의 너비에 대한 매개변수가 있습니다. 코드 블록을 실행하면 생성된 Verilog가 인쇄됩니다. 매개변수를 사용하여 새 매개변수를 반영하도록 출력이 변경되는지 확인합니다."
   ]
  },
  {
   "cell_type": "code",
   "execution_count": 9,
   "metadata": {},
   "outputs": [
    {
     "name": "stdout",
     "output_type": "stream",
     "text": [
      "Elaborating design...\n",
      "Done elaborating.\n",
      "module ParameterizedWidthAdder(\n",
      "  input        clock,\n",
      "  input        reset,\n",
      "  input        io_in0,\n",
      "  input  [3:0] io_in1,\n",
      "  output [5:0] io_sum\n",
      ");\n",
      "  wire [3:0] _GEN_0 = {{3'd0}, io_in0}; // @[cmd8.sc 11:20]\n",
      "  wire [4:0] _T = _GEN_0 + io_in1; // @[cmd8.sc 11:20]\n",
      "  assign io_sum = {{1'd0}, _T}; // @[cmd8.sc 11:20]\n",
      "endmodule\n",
      "\n"
     ]
    },
    {
     "data": {
      "text/plain": [
       "defined \u001b[32mclass\u001b[39m \u001b[36mParameterizedWidthAdder\u001b[39m"
      ]
     },
     "execution_count": 9,
     "metadata": {},
     "output_type": "execute_result"
    }
   ],
   "source": [
    "class ParameterizedWidthAdder(in0Width: Int, in1Width: Int, sumWidth: Int) extends Module {\n",
    "  require(in0Width >= 0)\n",
    "  require(in1Width >= 0)\n",
    "  require(sumWidth >= 0)\n",
    "  val io = IO(new Bundle {\n",
    "    val in0 = Input(UInt(in0Width.W))\n",
    "    val in1 = Input(UInt(in1Width.W))\n",
    "    val sum = Output(UInt(sumWidth.W))\n",
    "  })\n",
    "  // a +& b includes the carry, a + b does not\n",
    "  io.sum := io.in0 +& io.in1\n",
    "}\n",
    "\n",
    "println(getVerilog(new ParameterizedWidthAdder(1, 4, 6)))"
   ]
  },
  {
   "cell_type": "markdown",
   "metadata": {},
   "source": [
    "위의 코드 블록에는 `require(...)` 문이 있습니다. 이것은 생성기가 특정 매개변수화로만 작동하거나 일부 매개변수화가 상호 배타적이거나 무의미할 때 유용한 사전 정교화 주장입니다. 위의 코드 블록은 너비가 음수가 아닌지 확인합니다.\n",
    "\n",
    "`assert(...)`라는 simulation-time assertions을 위한 별도의 구성이 있습니다.\n",
    "\n",
    "## Sorting with Parameterized Modules\n",
    "다음 코드 블록은 모듈 2.3의 'Sort4'와 유사한 매개변수화된 정렬입니다. 매개변수화된 너비 IO가 있는 가산기의 이전 예와 달리 이 예에는 고정 IO가 있습니다. 매개변수는 모듈 내부에서 생성되는 하드웨어를 제어합니다.\n",
    "![Sort4](images/Sorter4.png)\n",
    "<span style=\"color:blue\">**Example: Parameterized 4-Input Sort**</span><br>\n",
    "2.3과 달리 이 구현은 내림차순 또는 오름차순 정렬로 매개변수화됩니다."
   ]
  },
  {
   "cell_type": "code",
   "execution_count": 10,
   "metadata": {},
   "outputs": [
    {
     "name": "stdout",
     "output_type": "stream",
     "text": [
      "Elaborating design...\n",
      "Done elaborating.\n",
      "test Sort4 Success: 0 tests passed in 2 cycles in 0.020738 seconds 96.44 Hz\n",
      "Elaborating design...\n",
      "Done elaborating.\n",
      "test Sort4 Success: 0 tests passed in 2 cycles in 0.004749 seconds 421.10 Hz\n",
      "SUCCESS!!\n"
     ]
    },
    {
     "data": {
      "text/plain": [
       "defined \u001b[32mclass\u001b[39m \u001b[36mSort4\u001b[39m"
      ]
     },
     "execution_count": 10,
     "metadata": {},
     "output_type": "execute_result"
    }
   ],
   "source": [
    "/** Sort4 sorts its 4 inputs to its 4 outputs */\n",
    "class Sort4(ascending: Boolean) extends Module {\n",
    "  val io = IO(new Bundle {\n",
    "    val in0 = Input(UInt(16.W))\n",
    "    val in1 = Input(UInt(16.W))\n",
    "    val in2 = Input(UInt(16.W))\n",
    "    val in3 = Input(UInt(16.W))\n",
    "    val out0 = Output(UInt(16.W))\n",
    "    val out1 = Output(UInt(16.W))\n",
    "    val out2 = Output(UInt(16.W))\n",
    "    val out3 = Output(UInt(16.W))\n",
    "  })\n",
    "    \n",
    "  // this comparison funtion decides < or > based on the module's parameterization\n",
    "  def comp(l: UInt, r: UInt): Bool = {\n",
    "      if (ascending) {\n",
    "        l < r\n",
    "      } else {\n",
    "        l > r\n",
    "    }\n",
    "  }\n",
    "\n",
    "  val row10 = Wire(UInt(16.W))\n",
    "  val row11 = Wire(UInt(16.W))\n",
    "  val row12 = Wire(UInt(16.W))\n",
    "  val row13 = Wire(UInt(16.W))\n",
    "\n",
    "  when(comp(io.in0, io.in1)) {\n",
    "    row10 := io.in0            // preserve first two elements\n",
    "    row11 := io.in1\n",
    "  }.otherwise {\n",
    "    row10 := io.in1            // swap first two elements\n",
    "    row11 := io.in0\n",
    "  }\n",
    "\n",
    "  when(comp(io.in2, io.in3)) {\n",
    "    row12 := io.in2            // preserve last two elements\n",
    "    row13 := io.in3\n",
    "  }.otherwise {\n",
    "    row12 := io.in3            // swap last two elements\n",
    "    row13 := io.in2\n",
    "  }\n",
    "\n",
    "  val row21 = Wire(UInt(16.W))\n",
    "  val row22 = Wire(UInt(16.W))\n",
    "\n",
    "  when(comp(row11, row12)) {\n",
    "    row21 := row11            // preserve middle 2 elements\n",
    "    row22 := row12\n",
    "  }.otherwise {\n",
    "    row21 := row12            // swap middle two elements\n",
    "    row22 := row11\n",
    "  }\n",
    "\n",
    "  val row20 = Wire(UInt(16.W))\n",
    "  val row23 = Wire(UInt(16.W))\n",
    "  when(comp(row10, row13)) {\n",
    "    row20 := row10            // preserve the first and the forth elements\n",
    "    row23 := row13\n",
    "  }.otherwise {\n",
    "    row20 := row13            // swap the first and the forth elements\n",
    "    row23 := row10\n",
    "  }\n",
    "\n",
    "  when(comp(row20, row21)) {\n",
    "    io.out0 := row20            // preserve first two elements\n",
    "    io.out1 := row21\n",
    "  }.otherwise {\n",
    "    io.out0 := row21            // swap first two elements\n",
    "    io.out1 := row20\n",
    "  }\n",
    "\n",
    "  when(comp(row22, row23)) {\n",
    "    io.out2 := row22            // preserve first two elements\n",
    "    io.out3 := row23\n",
    "  }.otherwise {\n",
    "    io.out2 := row23            // swap first two elements\n",
    "    io.out3 := row22\n",
    "  }\n",
    "}\n",
    "\n",
    "\n",
    "\n",
    "// Here are the testers\n",
    "test(new Sort4(true)) { c => \n",
    "  c.io.in0.poke(3.U)\n",
    "  c.io.in1.poke(6.U)\n",
    "  c.io.in2.poke(9.U)\n",
    "  c.io.in3.poke(12.U)\n",
    "  c.io.out0.expect(3.U)\n",
    "  c.io.out1.expect(6.U)\n",
    "  c.io.out2.expect(9.U)\n",
    "  c.io.out3.expect(12.U)\n",
    "\n",
    "  c.io.in0.poke(13.U)\n",
    "  c.io.in1.poke(4.U)\n",
    "  c.io.in2.poke(6.U)\n",
    "  c.io.in3.poke(1.U)\n",
    "  c.io.out0.expect(1.U)\n",
    "  c.io.out1.expect(4.U)\n",
    "  c.io.out2.expect(6.U)\n",
    "  c.io.out3.expect(13.U)\n",
    "\n",
    "  c.io.in0.poke(13.U)\n",
    "  c.io.in1.poke(6.U)\n",
    "  c.io.in2.poke(4.U)\n",
    "  c.io.in3.poke(1.U)\n",
    "  c.io.out0.expect(1.U)\n",
    "  c.io.out1.expect(4.U)\n",
    "  c.io.out2.expect(6.U)\n",
    "  c.io.out3.expect(13.U)\n",
    "}\n",
    "test(new Sort4(false)) { c =>\n",
    "  c.io.in0.poke(3.U)\n",
    "  c.io.in1.poke(6.U)\n",
    "  c.io.in2.poke(9.U)\n",
    "  c.io.in3.poke(12.U)\n",
    "  c.io.out0.expect(12.U)\n",
    "  c.io.out1.expect(9.U)\n",
    "  c.io.out2.expect(6.U)\n",
    "  c.io.out3.expect(3.U)\n",
    "\n",
    "  c.io.in0.poke(13.U)\n",
    "  c.io.in1.poke(4.U)\n",
    "  c.io.in2.poke(6.U)\n",
    "  c.io.in3.poke(1.U)\n",
    "  c.io.out0.expect(13.U)\n",
    "  c.io.out1.expect(6.U)\n",
    "  c.io.out2.expect(4.U)\n",
    "  c.io.out3.expect(1.U)\n",
    "\n",
    "  c.io.in0.poke(1.U)\n",
    "  c.io.in1.poke(6.U)\n",
    "  c.io.in2.poke(4.U)\n",
    "  c.io.in3.poke(13.U)\n",
    "  c.io.out0.expect(13.U)\n",
    "  c.io.out1.expect(6.U)\n",
    "  c.io.out2.expect(4.U)\n",
    "  c.io.out3.expect(1.U)\n",
    "}\n",
    "println(\"SUCCESS!!\") // Scala Code: if we get here, our tests passed!"
   ]
  },
  {
   "cell_type": "markdown",
   "metadata": {},
   "source": [
    "---\n",
    "# Option and Default Arguments\n",
    "\n",
    "함수가 값을 반환할 때도 있고 반환하지 않을 때도 있습니다. 값을 반환할 수 없을 때 오류가 발생하는 대신 Scala에는 유형 시스템에서 이를 인코딩하는 메커니즘이 있습니다.\n",
    "\n",
    "<span style=\"color:blue\">**Example: Erroneous Map Index Call**</span><br>\n",
    "다음 예에는 여러 key/value 쌍이 포함된 맵이 있습니다. 누락된 key/value 쌍에 액세스하려고 하면 런타임 오류가 발생합니다."
   ]
  },
  {
   "cell_type": "code",
   "execution_count": 14,
   "metadata": {},
   "outputs": [
    {
     "name": "stdout",
     "output_type": "stream",
     "text": [
      "1\n"
     ]
    },
    {
     "ename": "",
     "evalue": "",
     "output_type": "error",
     "traceback": [
      "\u001b[31mjava.util.NoSuchElementException: key not found: b\u001b[39m\n  scala.collection.immutable.Map$Map1.apply(\u001b[32mMap.scala\u001b[39m:\u001b[32m114\u001b[39m)\n  ammonite.$sess.cmd13$Helper.<init>(\u001b[32mcmd13.sc\u001b[39m:\u001b[32m4\u001b[39m)\n  ammonite.$sess.cmd13$.<init>(\u001b[32mcmd13.sc\u001b[39m:\u001b[32m7\u001b[39m)\n  ammonite.$sess.cmd13$.<clinit>(\u001b[32mcmd13.sc\u001b[39m:\u001b[32m-1\u001b[39m)"
     ]
    }
   ],
   "source": [
    "val map = Map(\"a\" -> 1)\n",
    "val a = map(\"a\")\n",
    "println(a)\n",
    "val b = map(\"b\")\n",
    "println(b)"
   ]
  },
  {
   "cell_type": "markdown",
   "metadata": {},
   "source": [
    "<span style=\"color:blue\">**Example: Getting Uncertain Indices**</span><br>\n",
    "그러나 'Map'은 **get** 메서드를 통해 키 값에 액세스하는 또 다른 방법을 제공합니다. 이것을 사용하면 추상 클래스 `Option`의 값을 반환합니다. `Option`에는 `Some`과 `None`의 두 가지 하위 클래스가 있습니다."
   ]
  },
  {
   "cell_type": "code",
   "execution_count": 15,
   "metadata": {},
   "outputs": [
    {
     "name": "stdout",
     "output_type": "stream",
     "text": [
      "Some(1)\n",
      "None\n"
     ]
    },
    {
     "data": {
      "text/plain": [
       "\u001b[36mmap\u001b[39m: \u001b[32mMap\u001b[39m[\u001b[32mString\u001b[39m, \u001b[32mInt\u001b[39m] = \u001b[33mMap\u001b[39m(\u001b[32m\"a\"\u001b[39m -> \u001b[32m1\u001b[39m)\n",
       "\u001b[36ma\u001b[39m: \u001b[32mOption\u001b[39m[\u001b[32mInt\u001b[39m] = \u001b[33mSome\u001b[39m(\u001b[32m1\u001b[39m)\n",
       "\u001b[36mb\u001b[39m: \u001b[32mOption\u001b[39m[\u001b[32mInt\u001b[39m] = \u001b[32mNone\u001b[39m"
      ]
     },
     "execution_count": 15,
     "metadata": {},
     "output_type": "execute_result"
    }
   ],
   "source": [
    "val map = Map(\"a\" -> 1)\n",
    "val a = map.get(\"a\")\n",
    "println(a)\n",
    "val b = map.get(\"b\")\n",
    "println(b)"
   ]
  },
  {
   "cell_type": "markdown",
   "metadata": {},
   "source": [
    "이후 섹션에서 볼 수 있듯이 `Option`은 사용자가 일치 문을 사용하여 Scala 유형 및 값을 확인할 수 있도록 하기 때문에 매우 중요합니다.\n",
    "\n",
    "<span style=\"color:blue\">**Example: Get Or Else!**</span><br>\n",
    "`Map`과 마찬가지로 `Option`에는 `None`에서 호출하면 오류가 발생하는 `get` 메서드도 있습니다. 이러한 경우 **`getOrElse`**를 사용하여 기본값을 제공할 수 있습니다."
   ]
  },
  {
   "cell_type": "code",
   "execution_count": 22,
   "metadata": {},
   "outputs": [
    {
     "name": "stdout",
     "output_type": "stream",
     "text": [
      "3\n",
      "3\n"
     ]
    },
    {
     "data": {
      "text/plain": [
       "\u001b[36msome\u001b[39m: \u001b[32mNone\u001b[39m.type = \u001b[32mNone\u001b[39m\n",
       "\u001b[36mnone\u001b[39m: \u001b[32mNone\u001b[39m.type = \u001b[32mNone\u001b[39m"
      ]
     },
     "execution_count": 22,
     "metadata": {},
     "output_type": "execute_result"
    }
   ],
   "source": [
    "val some = Some(1)\n",
    "val none = None\n",
    "println(some.get)          // Returns 1\n",
    "//println(none.get)        // Errors!\n",
    "println(some.getOrElse(2)) // Returns 1\n",
    "println(none.getOrElse(2)) // Returns 2"
   ]
  },
  {
   "cell_type": "markdown",
   "metadata": {},
   "source": [
    "## Options for Parameters with Defaults\n",
    "\n",
    "객체나 함수에 많은 매개변수가 있는 경우 항상 매개변수를 완전히 지정하는 것은 지루하고 오류가 발생하기 쉽습니다. 모듈 1에서 명명된 인수와 매개변수 기본값을 소개했습니다. 때로는 매개변수에 좋은 기본값이 없습니다. 이러한 상황에서 `Option`은 기본값 `None`과 함께 사용할 수 있습니다.\n",
    "\n",
    "<span style=\"color:blue\">**Example: Optional Reset**</span><br>\n",
    "다음은 입력을 한 클럭 주기만큼 지연시키는 블록을 보여줍니다. 기본값인 `resetValue = None`이면 레지스터는 재설정 값이 없고 가비지로 초기화됩니다.\n",
    "이것은 이 레지스터가 리셋되지 않았음을 나타내기 위해 리셋 값으로 -1을 사용하는 것과 같이 \"없음\"을 나타내기 위해 정상 범위 밖의 값을 사용하는 일반적이지만 추악한 경우를 피합니다."
   ]
  },
  {
   "cell_type": "code",
   "execution_count": 17,
   "metadata": {},
   "outputs": [
    {
     "name": "stdout",
     "output_type": "stream",
     "text": [
      "Elaborating design...\n",
      "Done elaborating.\n",
      "module DelayBy1(\n",
      "  input         clock,\n",
      "  input         reset,\n",
      "  input  [15:0] io_in,\n",
      "  output [15:0] io_out\n",
      ");\n",
      "`ifdef RANDOMIZE_REG_INIT\n",
      "  reg [31:0] _RAND_0;\n",
      "`endif // RANDOMIZE_REG_INIT\n",
      "  reg [15:0] reg_; // @[cmd16.sc 9:12]\n",
      "  assign io_out = reg_; // @[cmd16.sc 12:12]\n",
      "  always @(posedge clock) begin\n",
      "    reg_ <= io_in; // @[cmd16.sc 11:9]\n",
      "  end\n",
      "// Register and memory initialization\n",
      "`ifdef RANDOMIZE_GARBAGE_ASSIGN\n",
      "`define RANDOMIZE\n",
      "`endif\n",
      "`ifdef RANDOMIZE_INVALID_ASSIGN\n",
      "`define RANDOMIZE\n",
      "`endif\n",
      "`ifdef RANDOMIZE_REG_INIT\n",
      "`define RANDOMIZE\n",
      "`endif\n",
      "`ifdef RANDOMIZE_MEM_INIT\n",
      "`define RANDOMIZE\n",
      "`endif\n",
      "`ifndef RANDOM\n",
      "`define RANDOM $random\n",
      "`endif\n",
      "`ifdef RANDOMIZE_MEM_INIT\n",
      "  integer initvar;\n",
      "`endif\n",
      "`ifndef SYNTHESIS\n",
      "`ifdef FIRRTL_BEFORE_INITIAL\n",
      "`FIRRTL_BEFORE_INITIAL\n",
      "`endif\n",
      "initial begin\n",
      "  `ifdef RANDOMIZE\n",
      "    `ifdef INIT_RANDOM\n",
      "      `INIT_RANDOM\n",
      "    `endif\n",
      "    `ifndef VERILATOR\n",
      "      `ifdef RANDOMIZE_DELAY\n",
      "        #`RANDOMIZE_DELAY begin end\n",
      "      `else\n",
      "        #0.002 begin end\n",
      "      `endif\n",
      "    `endif\n",
      "`ifdef RANDOMIZE_REG_INIT\n",
      "  _RAND_0 = {1{`RANDOM}};\n",
      "  reg_ = _RAND_0[15:0];\n",
      "`endif // RANDOMIZE_REG_INIT\n",
      "  `endif // RANDOMIZE\n",
      "end // initial\n",
      "`ifdef FIRRTL_AFTER_INITIAL\n",
      "`FIRRTL_AFTER_INITIAL\n",
      "`endif\n",
      "`endif // SYNTHESIS\n",
      "endmodule\n",
      "\n",
      "Elaborating design...\n",
      "Done elaborating.\n",
      "module DelayBy1(\n",
      "  input         clock,\n",
      "  input         reset,\n",
      "  input  [15:0] io_in,\n",
      "  output [15:0] io_out\n",
      ");\n",
      "`ifdef RANDOMIZE_REG_INIT\n",
      "  reg [31:0] _RAND_0;\n",
      "`endif // RANDOMIZE_REG_INIT\n",
      "  reg [15:0] reg_; // @[cmd16.sc 7:16]\n",
      "  assign io_out = reg_; // @[cmd16.sc 12:12]\n",
      "  always @(posedge clock) begin\n",
      "    if (reset) begin // @[cmd16.sc 7:16]\n",
      "      reg_ <= 16'h3; // @[cmd16.sc 7:16]\n",
      "    end else begin\n",
      "      reg_ <= io_in; // @[cmd16.sc 11:9]\n",
      "    end\n",
      "  end\n",
      "// Register and memory initialization\n",
      "`ifdef RANDOMIZE_GARBAGE_ASSIGN\n",
      "`define RANDOMIZE\n",
      "`endif\n",
      "`ifdef RANDOMIZE_INVALID_ASSIGN\n",
      "`define RANDOMIZE\n",
      "`endif\n",
      "`ifdef RANDOMIZE_REG_INIT\n",
      "`define RANDOMIZE\n",
      "`endif\n",
      "`ifdef RANDOMIZE_MEM_INIT\n",
      "`define RANDOMIZE\n",
      "`endif\n",
      "`ifndef RANDOM\n",
      "`define RANDOM $random\n",
      "`endif\n",
      "`ifdef RANDOMIZE_MEM_INIT\n",
      "  integer initvar;\n",
      "`endif\n",
      "`ifndef SYNTHESIS\n",
      "`ifdef FIRRTL_BEFORE_INITIAL\n",
      "`FIRRTL_BEFORE_INITIAL\n",
      "`endif\n",
      "initial begin\n",
      "  `ifdef RANDOMIZE\n",
      "    `ifdef INIT_RANDOM\n",
      "      `INIT_RANDOM\n",
      "    `endif\n",
      "    `ifndef VERILATOR\n",
      "      `ifdef RANDOMIZE_DELAY\n",
      "        #`RANDOMIZE_DELAY begin end\n",
      "      `else\n",
      "        #0.002 begin end\n",
      "      `endif\n",
      "    `endif\n",
      "`ifdef RANDOMIZE_REG_INIT\n",
      "  _RAND_0 = {1{`RANDOM}};\n",
      "  reg_ = _RAND_0[15:0];\n",
      "`endif // RANDOMIZE_REG_INIT\n",
      "  `endif // RANDOMIZE\n",
      "end // initial\n",
      "`ifdef FIRRTL_AFTER_INITIAL\n",
      "`FIRRTL_AFTER_INITIAL\n",
      "`endif\n",
      "`endif // SYNTHESIS\n",
      "endmodule\n",
      "\n"
     ]
    },
    {
     "data": {
      "text/plain": [
       "defined \u001b[32mclass\u001b[39m \u001b[36mDelayBy1\u001b[39m"
      ]
     },
     "execution_count": 17,
     "metadata": {},
     "output_type": "execute_result"
    }
   ],
   "source": [
    "class DelayBy1(resetValue: Option[UInt] = None) extends Module {\n",
    "    val io = IO(new Bundle {\n",
    "        val in  = Input( UInt(16.W))\n",
    "        val out = Output(UInt(16.W))\n",
    "    })\n",
    "    val reg = if (resetValue.isDefined) { // resetValue = Some(number)\n",
    "        RegInit(resetValue.get)\n",
    "    } else { //resetValue = None\n",
    "        Reg(UInt())\n",
    "    }\n",
    "    reg := io.in\n",
    "    io.out := reg\n",
    "}\n",
    "\n",
    "println(getVerilog(new DelayBy1))\n",
    "println(getVerilog(new DelayBy1(Some(3.U))))"
   ]
  },
  {
   "cell_type": "markdown",
   "metadata": {},
   "source": [
    "---\n",
    "# Match/Case Statements\n",
    "Scala *matching* 개념은 Chisel 전체에서 사용되며 모든 Chisel 프로그래머의 기본 이해의 일부가 되어야 합니다. Scala는 다음을 지원하는 일치 연산자를 제공합니다.\n",
    "- C *switch* 문과 같은 대안에 대한 간단한 테스트\n",
    "- 값의 임시 조합에 대한 보다 복잡한 테스트\n",
    "- 변수의 유형을 알 수 없거나 지정되지 않은 경우(예:\n",
    "   - 변수는 이기종 목록에서 가져옵니다. ```val mixedList = List(1, \"string\", false)```\n",
    "   - 또는 변수가 상위 클래스의 구성원인 것으로 알려져 있지만 어떤 특정 하위 클래스인지는 알 수 없습니다.\n",
    "- *정규식*으로 지정된 문자열의 하위 문자열 추출\n",
    "\n",
    "\n",
    "<span style=\"color:blue\">**Example: Value Matching**</span><br>\n",
    "다음 예에서는 **일치**하는 변수의 **value**에 따라 다른 **case** 문을 실행합니다."
   ]
  },
  {
   "cell_type": "code",
   "execution_count": 23,
   "metadata": {},
   "outputs": [
    {
     "name": "stdout",
     "output_type": "stream",
     "text": [
      "y is two\n"
     ]
    },
    {
     "data": {
      "text/plain": [
       "\u001b[36my\u001b[39m: \u001b[32mInt\u001b[39m = \u001b[32m2\u001b[39m\n",
       "\u001b[36mx\u001b[39m: \u001b[32mString\u001b[39m = \u001b[32m\"two\"\u001b[39m"
      ]
     },
     "execution_count": 23,
     "metadata": {},
     "output_type": "execute_result"
    }
   ],
   "source": [
    "// y is an integer variable defined somewhere else in the code\n",
    "val y = 2\n",
    "/// ...\n",
    "val x = y match {\n",
    "  case 0 => \"zero\" // One common syntax, preferred if fits in one line\n",
    "  case 1 =>        // Another common syntax, preferred if does not fit in one line.\n",
    "      \"one\"        // Note the code block continues until the next case\n",
    "  case 2 => {      // Another syntax, but curly braces are not required\n",
    "      \"two\"\n",
    "  }\n",
    "  case _ => \"many\" // _ is a wildcard that matches all values\n",
    "}\n",
    "println(\"y is \" + x)"
   ]
  },
  {
   "cell_type": "markdown",
   "metadata": {},
   "source": [
    "일치 연산자는 가능한 값을 확인하고 각 경우에 대해 문자열을 반환합니다. 주의해야 할 몇 가지 사항:\n",
    "- ```=>``` 연산자 다음에 오는 각 코드 블록은 일치의 끝 중괄호 또는 다음 case 문에 도달할 때까지 계속됩니다.\n",
    "- case 문이 일치하는 순서대로 일치하는 항목을 검색하며, case 문이 일치하면 다른 항목이 일치하지 않습니다.\n",
    "다른 case 문에 대한 검사가 수행됩니다.\n",
    "- 찾을 수 없는 값을 처리하기 위해 밑줄을 와일드카드로 사용합니다.\n",
    "\n",
    "<span style=\"color:blue\">**Example: Multiple Value Matching**</span><br>\n",
    "또한 여러 변수를 동시에 일치시킬 수 있습니다. 다음은 match 문과 값의 튜플로 구현된 진리표의 간단한 예입니다."
   ]
  },
  {
   "cell_type": "code",
   "execution_count": 19,
   "metadata": {},
   "outputs": [
    {
     "name": "stdout",
     "output_type": "stream",
     "text": [
      "wolverine\n"
     ]
    },
    {
     "data": {
      "text/plain": [
       "defined \u001b[32mfunction\u001b[39m \u001b[36manimalType\u001b[39m"
      ]
     },
     "execution_count": 19,
     "metadata": {},
     "output_type": "execute_result"
    }
   ],
   "source": [
    "def animalType(biggerThanBreadBox: Boolean, meanAsCanBe: Boolean): String = {\n",
    "  (biggerThanBreadBox, meanAsCanBe) match {\n",
    "    case (true, true) => \"wolverine\"\n",
    "    case (true, false) => \"elephant\"\n",
    "    case (false, true) => \"shrew\"\n",
    "    case (false, false) => \"puppy\"\n",
    "  }\n",
    "}\n",
    "println(animalType(true, true))"
   ]
  },
  {
   "cell_type": "markdown",
   "metadata": {},
   "source": [
    "<span style=\"color:blue\">**Example: Type Matching**</span><br>\n",
    "Scala는 강력한 형식의 언어이므로 모든 개체의 형식은 런타임 중에 알려집니다. **match 문**을 사용하여 이 유형 정보를 사용하여 제어 흐름을 지시할 수 있습니다."
   ]
  },
  {
   "cell_type": "code",
   "execution_count": 37,
   "metadata": {},
   "outputs": [
    {
     "name": "stdout",
     "output_type": "stream",
     "text": [
      "a is a String\n",
      "UInt<2>(3) is an unknown type!\n",
      "0.0 is a Double\n"
     ]
    },
    {
     "data": {
      "text/plain": [
       "\u001b[36msequence\u001b[39m: \u001b[32mSeq\u001b[39m[\u001b[32mAny\u001b[39m] = \u001b[33mList\u001b[39m(\u001b[32m\"a\"\u001b[39m, UInt<2>(3), \u001b[32m0.0\u001b[39m)"
      ]
     },
     "execution_count": 37,
     "metadata": {},
     "output_type": "execute_result"
    }
   ],
   "source": [
    "val sequence = Seq(\"a\", 3.U(2.W), 0.0)\n",
    "sequence.foreach { x =>\n",
    "  x match {\n",
    "    case s: String => println(s\"$x is a String\")\n",
    "    case s: Int    => println(s\"$x is an Int\")\n",
    "    case s: Double => println(s\"$x is a Double\")\n",
    "    case _ => println(s\"$x is an unknown type!\")\n",
    "  }\n",
    "}"
   ]
  },
  {
   "cell_type": "markdown",
   "metadata": {},
   "source": [
    "<span style=\"color:blue\">**Example: Multiple Type Matching**</span><br>\n",
    "값에 여러 유형 중 하나가 있는지 여부를 일치시키려면 다음 구문을 사용하십시오. *일치할 때 **반드시** `_`를 사용해야 합니다.*"
   ]
  },
  {
   "cell_type": "code",
   "execution_count": 38,
   "metadata": {},
   "outputs": [
    {
     "name": "stdout",
     "output_type": "stream",
     "text": [
      "a is an unknown type!\n",
      "1 is a number!\n",
      "0.0 is a number!\n"
     ]
    },
    {
     "data": {
      "text/plain": [
       "\u001b[36msequence\u001b[39m: \u001b[32mSeq\u001b[39m[\u001b[32mAny\u001b[39m] = \u001b[33mList\u001b[39m(\u001b[32m\"a\"\u001b[39m, \u001b[32m1\u001b[39m, \u001b[32m0.0\u001b[39m)"
      ]
     },
     "execution_count": 38,
     "metadata": {},
     "output_type": "execute_result"
    }
   ],
   "source": [
    "val sequence = Seq(\"a\", 1, 0.0)\n",
    "sequence.foreach { x =>\n",
    "  x match {\n",
    "    case _: Int | _: Double => println(s\"$x is a number!\")\n",
    "    case _ => println(s\"$x is an unknown type!\")\n",
    "  }\n",
    "}"
   ]
  },
  {
   "cell_type": "markdown",
   "metadata": {},
   "source": [
    "<span style=\"color:blue\">**Example: Type Matching and Erasure**</span><br>\n",
    "유형 일치에는 몇 가지 제한 사항이 있습니다. Scala는 JVM에서 실행되고 JVM은 다형성 유형을 유지하지 않기 때문에 런타임에 일치할 수 없습니다(모두 지워지기 때문에). 다음 예는 `[String]`, `[Int]`, `[Double]` 다형성 유형이 지워지고 case 문은 **실제로** 일치하는 첫 번째 case 문과 항상 일치합니다.  `Seq`."
   ]
  },
  {
   "cell_type": "code",
   "execution_count": 22,
   "metadata": {},
   "outputs": [
    {
     "name": "stdout",
     "output_type": "stream",
     "text": [
      "List(a) is a String\n",
      "List(1) is a String\n",
      "List(0.0) is a String\n"
     ]
    },
    {
     "data": {
      "text/plain": [
       "\u001b[36msequence\u001b[39m: \u001b[32mSeq\u001b[39m[\u001b[32mSeq\u001b[39m[\u001b[32mAny\u001b[39m]] = \u001b[33mList\u001b[39m(\u001b[33mList\u001b[39m(\u001b[32m\"a\"\u001b[39m), \u001b[33mList\u001b[39m(\u001b[32m1\u001b[39m), \u001b[33mList\u001b[39m(\u001b[32m0.0\u001b[39m))"
      ]
     },
     "execution_count": 22,
     "metadata": {},
     "output_type": "execute_result"
    }
   ],
   "source": [
    "val sequence = Seq(Seq(\"a\"), Seq(1), Seq(0.0))\n",
    "sequence.foreach { x =>\n",
    "  x match {\n",
    "    case s: Seq[String] => println(s\"$x is a String\")\n",
    "    case s: Seq[Int]    => println(s\"$x is an Int\")\n",
    "    case s: Seq[Double] => println(s\"$x is a Double\")\n",
    "  }\n",
    "}"
   ]
  },
  {
   "cell_type": "markdown",
   "metadata": {},
   "source": [
    "스칼라 컴파일러는 위의 예와 같은 코드를 구현하면 일반적으로 경고를 표시합니다.다음 코드 블록은 'if/else' 대신 match 구문을 사용하는 동일한 'DelayBy1' 모듈을 보여줍니다.\n",
    "\n",
    "<span style=\"color:blue\">**Example: Optional Reset Matching**</span><br>\n",
    "다음 코드 블록은 `if/else` 대신 match 구문을 사용하는 동일한 `DelayBy1` 모듈을 보여줍니다."
   ]
  },
  {
   "cell_type": "code",
   "execution_count": 23,
   "metadata": {},
   "outputs": [
    {
     "name": "stdout",
     "output_type": "stream",
     "text": [
      "Elaborating design...\n",
      "Done elaborating.\n",
      "module DelayBy1(\n",
      "  input         clock,\n",
      "  input         reset,\n",
      "  input  [15:0] io_in,\n",
      "  output [15:0] io_out\n",
      ");\n",
      "`ifdef RANDOMIZE_REG_INIT\n",
      "  reg [31:0] _RAND_0;\n",
      "`endif // RANDOMIZE_REG_INIT\n",
      "  reg [15:0] reg_; // @[cmd22.sc 8:24]\n",
      "  assign io_out = reg_; // @[cmd22.sc 11:10]\n",
      "  always @(posedge clock) begin\n",
      "    reg_ <= io_in; // @[cmd22.sc 10:7]\n",
      "  end\n",
      "// Register and memory initialization\n",
      "`ifdef RANDOMIZE_GARBAGE_ASSIGN\n",
      "`define RANDOMIZE\n",
      "`endif\n",
      "`ifdef RANDOMIZE_INVALID_ASSIGN\n",
      "`define RANDOMIZE\n",
      "`endif\n",
      "`ifdef RANDOMIZE_REG_INIT\n",
      "`define RANDOMIZE\n",
      "`endif\n",
      "`ifdef RANDOMIZE_MEM_INIT\n",
      "`define RANDOMIZE\n",
      "`endif\n",
      "`ifndef RANDOM\n",
      "`define RANDOM $random\n",
      "`endif\n",
      "`ifdef RANDOMIZE_MEM_INIT\n",
      "  integer initvar;\n",
      "`endif\n",
      "`ifndef SYNTHESIS\n",
      "`ifdef FIRRTL_BEFORE_INITIAL\n",
      "`FIRRTL_BEFORE_INITIAL\n",
      "`endif\n",
      "initial begin\n",
      "  `ifdef RANDOMIZE\n",
      "    `ifdef INIT_RANDOM\n",
      "      `INIT_RANDOM\n",
      "    `endif\n",
      "    `ifndef VERILATOR\n",
      "      `ifdef RANDOMIZE_DELAY\n",
      "        #`RANDOMIZE_DELAY begin end\n",
      "      `else\n",
      "        #0.002 begin end\n",
      "      `endif\n",
      "    `endif\n",
      "`ifdef RANDOMIZE_REG_INIT\n",
      "  _RAND_0 = {1{`RANDOM}};\n",
      "  reg_ = _RAND_0[15:0];\n",
      "`endif // RANDOMIZE_REG_INIT\n",
      "  `endif // RANDOMIZE\n",
      "end // initial\n",
      "`ifdef FIRRTL_AFTER_INITIAL\n",
      "`FIRRTL_AFTER_INITIAL\n",
      "`endif\n",
      "`endif // SYNTHESIS\n",
      "endmodule\n",
      "\n",
      "Elaborating design...\n",
      "Done elaborating.\n",
      "module DelayBy1(\n",
      "  input         clock,\n",
      "  input         reset,\n",
      "  input  [15:0] io_in,\n",
      "  output [15:0] io_out\n",
      ");\n",
      "`ifdef RANDOMIZE_REG_INIT\n",
      "  reg [31:0] _RAND_0;\n",
      "`endif // RANDOMIZE_REG_INIT\n",
      "  reg [15:0] reg_; // @[cmd22.sc 7:28]\n",
      "  assign io_out = reg_; // @[cmd22.sc 11:10]\n",
      "  always @(posedge clock) begin\n",
      "    if (reset) begin // @[cmd22.sc 7:28]\n",
      "      reg_ <= 16'h3; // @[cmd22.sc 7:28]\n",
      "    end else begin\n",
      "      reg_ <= io_in; // @[cmd22.sc 10:7]\n",
      "    end\n",
      "  end\n",
      "// Register and memory initialization\n",
      "`ifdef RANDOMIZE_GARBAGE_ASSIGN\n",
      "`define RANDOMIZE\n",
      "`endif\n",
      "`ifdef RANDOMIZE_INVALID_ASSIGN\n",
      "`define RANDOMIZE\n",
      "`endif\n",
      "`ifdef RANDOMIZE_REG_INIT\n",
      "`define RANDOMIZE\n",
      "`endif\n",
      "`ifdef RANDOMIZE_MEM_INIT\n",
      "`define RANDOMIZE\n",
      "`endif\n",
      "`ifndef RANDOM\n",
      "`define RANDOM $random\n",
      "`endif\n",
      "`ifdef RANDOMIZE_MEM_INIT\n",
      "  integer initvar;\n",
      "`endif\n",
      "`ifndef SYNTHESIS\n",
      "`ifdef FIRRTL_BEFORE_INITIAL\n",
      "`FIRRTL_BEFORE_INITIAL\n",
      "`endif\n",
      "initial begin\n",
      "  `ifdef RANDOMIZE\n",
      "    `ifdef INIT_RANDOM\n",
      "      `INIT_RANDOM\n",
      "    `endif\n",
      "    `ifndef VERILATOR\n",
      "      `ifdef RANDOMIZE_DELAY\n",
      "        #`RANDOMIZE_DELAY begin end\n",
      "      `else\n",
      "        #0.002 begin end\n",
      "      `endif\n",
      "    `endif\n",
      "`ifdef RANDOMIZE_REG_INIT\n",
      "  _RAND_0 = {1{`RANDOM}};\n",
      "  reg_ = _RAND_0[15:0];\n",
      "`endif // RANDOMIZE_REG_INIT\n",
      "  `endif // RANDOMIZE\n",
      "end // initial\n",
      "`ifdef FIRRTL_AFTER_INITIAL\n",
      "`FIRRTL_AFTER_INITIAL\n",
      "`endif\n",
      "`endif // SYNTHESIS\n",
      "endmodule\n",
      "\n"
     ]
    },
    {
     "data": {
      "text/plain": [
       "defined \u001b[32mclass\u001b[39m \u001b[36mDelayBy1\u001b[39m"
      ]
     },
     "execution_count": 23,
     "metadata": {},
     "output_type": "execute_result"
    }
   ],
   "source": [
    "class DelayBy1(resetValue: Option[UInt] = None) extends Module {\n",
    "  val io = IO(new Bundle {\n",
    "    val in  = Input( UInt(16.W))\n",
    "    val out = Output(UInt(16.W))\n",
    "  })\n",
    "  val reg = resetValue match {\n",
    "    case Some(r) => RegInit(r)\n",
    "    case None    => Reg(UInt())\n",
    "  }\n",
    "  reg := io.i\n",
    "  io.out := reg\n",
    "}\n",
    "\n",
    "println(getVerilog(new DelayBy1))\n",
    "println(getVerilog(new DelayBy1(Some(3.U))))"
   ]
  },
  {
   "cell_type": "markdown",
   "metadata": {},
   "source": [
    "---\n",
    "# IOs with Optional Fields\n",
    "\n",
    "때로는 IO가 선택적으로 포함되거나 제외되기를 원합니다. 디버깅을 위해 볼 수 있는 좋은 내부 상태가 있을 수 있지만 시스템에서 생성기를 사용할 때 숨기고 싶을 수 있습니다. 적절한 기본값이 있기 때문에 생성기에 모든 상황에서 연결할 필요가 없는 일부 입력이 있을 수 있습니다.\n",
    "\n",
    "<span style=\"color:blue\">**Example: Optional IO with Option**</span><br>\n",
    "선택적 번들 필드는 이 기능을 얻는 한 가지 방법입니다. 다음 예에서는 선택적으로 캐리를 받는 1비트 가산기를 보여줍니다. 캐리가 포함된 경우 `io.carryIn`은 `Some[UInt]` 유형을 가지며 IO 번들에 포함됩니다.\n",
    "캐리가 포함되지 않은 경우 `io.carryIn`은 `None` 유형을 가지며 IO 번들에서 제외됩니다."
   ]
  },
  {
   "cell_type": "code",
   "execution_count": 24,
   "metadata": {},
   "outputs": [
    {
     "name": "stdout",
     "output_type": "stream",
     "text": [
      "Elaborating design...\n",
      "Done elaborating.\n",
      "test HalfFullAdder Success: 0 tests passed in 2 cycles in 0.002117 seconds 944.92 Hz\n",
      "Elaborating design...\n",
      "Done elaborating.\n",
      "test HalfFullAdder Success: 0 tests passed in 2 cycles in 0.003014 seconds 663.57 Hz\n",
      "SUCCESS!!\n"
     ]
    },
    {
     "data": {
      "text/plain": [
       "defined \u001b[32mclass\u001b[39m \u001b[36mHalfFullAdder\u001b[39m"
      ]
     },
     "execution_count": 24,
     "metadata": {},
     "output_type": "execute_result"
    }
   ],
   "source": [
    "class HalfFullAdder(val hasCarry: Boolean) extends Module {\n",
    "  val io = IO(new Bundle {\n",
    "    val a = Input(UInt(1.W))\n",
    "    val b = Input(UInt(1.W))\n",
    "    val carryIn = if (hasCarry) Some(Input(UInt(1.W))) else None\n",
    "    val s = Output(UInt(1.W))\n",
    "    val carryOut = Output(UInt(1.W))\n",
    "  })\n",
    "  val sum = io.a +& io.b +& io.carryIn.getOrElse(0.U)\n",
    "  io.s := sum(0)\n",
    "  io.carryOut := sum(1)\n",
    "}\n",
    "\n",
    "test(new HalfFullAdder(false)) { c =>\n",
    "  require(!c.hasCarry, \"DUT must be half adder\")\n",
    "  // 0 + 0 = 0\n",
    "  c.io.a.poke(0.U)\n",
    "  c.io.b.poke(0.U)\n",
    "  c.io.s.expect(0.U)\n",
    "  c.io.carryOut.expect(0.U)\n",
    "  // 0 + 1 = 1\n",
    "  c.io.b.poke(1.U)\n",
    "  c.io.s.expect(1.U)\n",
    "  c.io.carryOut.expect(0.U)\n",
    "  // 1 + 1 = 2\n",
    "  c.io.a.poke(1.U)\n",
    "  c.io.s.expect(0.U)\n",
    "  c.io.carryOut.expect(1.U)\n",
    "  // 1 + 0 = 1\n",
    "  c.io.b.poke(0.U)\n",
    "  c.io.s.expect(1.U)\n",
    "  c.io.carryOut.expect(0.U)\n",
    "}\n",
    "\n",
    "test(new HalfFullAdder(true)) { c =>\n",
    "  require(c.hasCarry, \"DUT must be half adder\")\n",
    "  c.io.carryIn.get.poke(0.U)\n",
    "  // 0 + 0 + 0 = 0\n",
    "  c.io.a.poke(0.U)\n",
    "  c.io.b.poke(0.U)\n",
    "  c.io.s.expect(0.U)\n",
    "  c.io.carryOut.expect(0.U)\n",
    "  // 0 + 0 + 1 = 1\n",
    "  c.io.b.poke(1.U)\n",
    "  c.io.s.expect(1.U)\n",
    "  c.io.carryOut.expect(0.U)\n",
    "  // 0 + 1 + 1 = 2\n",
    "  c.io.a.poke(1.U)\n",
    "  c.io.s.expect(0.U)\n",
    "  c.io.carryOut.expect(1.U)\n",
    "  // 0 + 1 + 0 = 1\n",
    "  c.io.b.poke(0.U)\n",
    "  c.io.s.expect(1.U)\n",
    "  c.io.carryOut.expect(0.U)\n",
    "\n",
    "  c.io.carryIn.get.poke(1.U)\n",
    "  // 1 + 0 + 0 = 1\n",
    "  c.io.a.poke(0.U)\n",
    "  c.io.b.poke(0.U)\n",
    "  c.io.s.expect(1.U)\n",
    "  c.io.carryOut.expect(0.U)\n",
    "  // 1 + 0 + 1 = 2\n",
    "  c.io.b.poke(1.U)\n",
    "  c.io.s.expect(0.U)\n",
    "  c.io.carryOut.expect(1.U)\n",
    "  // 1 + 1 + 1 = 3\n",
    "  c.io.a.poke(1.U)\n",
    "  c.io.s.expect(1.U)\n",
    "  c.io.carryOut.expect(1.U)\n",
    "  // 1 + 1 + 0 = 2\n",
    "  c.io.b.poke(0.U)\n",
    "  c.io.s.expect(0.U)\n",
    "  c.io.carryOut.expect(1.U)\n",
    "}\n",
    "\n",
    "println(\"SUCCESS!!\") // Scala Code: if we get here, our tests passed!"
   ]
  },
  {
   "cell_type": "markdown",
   "metadata": {},
   "source": [
    "<span style=\"color:blue\">**Example: Optional IO with Zero-Width Wires**</span><br>\n",
    "`Option`과 유사한 기능을 구현하는 또 다른 방법은 너비가 0인 와이어를 사용하는 것입니다. CHISEL 유형은 너비가 0일 수 있습니다. 너비가 0인 IO는 방출된 Verilog에서 제거되고 너비가 0인 와이어의 값을 사용하려고 하는 모든 것은 상수 0을 얻습니다. 0이 합리적인 기본값이라면 너비가 0인 와이어는 옵션에서 일치하거나 `getOrElse`를 호출할 필요가 없기 때문에 유용할 수 있습니다."
   ]
  },
  {
   "cell_type": "code",
   "execution_count": 25,
   "metadata": {},
   "outputs": [
    {
     "name": "stdout",
     "output_type": "stream",
     "text": [
      "Half Adder:\n",
      "Elaborating design...\n",
      "Done elaborating.\n",
      "module HalfFullAdder(\n",
      "  input   clock,\n",
      "  input   reset,\n",
      "  input   io_a,\n",
      "  input   io_b,\n",
      "  output  io_s,\n",
      "  output  io_carryOut\n",
      ");\n",
      "  wire [1:0] _T = io_a + io_b; // @[cmd24.sc 9:18]\n",
      "  wire [2:0] sum = {{1'd0}, _T}; // @[cmd24.sc 9:26]\n",
      "  assign io_s = sum[0]; // @[cmd24.sc 10:14]\n",
      "  assign io_carryOut = sum[1]; // @[cmd24.sc 11:21]\n",
      "endmodule\n",
      "\n",
      "\n",
      "\n",
      "Full Adder:\n",
      "Elaborating design...\n",
      "Done elaborating.\n",
      "module HalfFullAdder(\n",
      "  input   clock,\n",
      "  input   reset,\n",
      "  input   io_a,\n",
      "  input   io_b,\n",
      "  input   io_carryIn,\n",
      "  output  io_s,\n",
      "  output  io_carryOut\n",
      ");\n",
      "  wire [1:0] _T = io_a + io_b; // @[cmd24.sc 9:18]\n",
      "  wire [1:0] _GEN_0 = {{1'd0}, io_carryIn}; // @[cmd24.sc 9:26]\n",
      "  wire [2:0] sum = _T + _GEN_0; // @[cmd24.sc 9:26]\n",
      "  assign io_s = sum[0]; // @[cmd24.sc 10:14]\n",
      "  assign io_carryOut = sum[1]; // @[cmd24.sc 11:21]\n",
      "endmodule\n",
      "\n"
     ]
    },
    {
     "data": {
      "text/plain": [
       "defined \u001b[32mclass\u001b[39m \u001b[36mHalfFullAdder\u001b[39m"
      ]
     },
     "execution_count": 25,
     "metadata": {},
     "output_type": "execute_result"
    }
   ],
   "source": [
    "class HalfFullAdder(val hasCarry: Boolean) extends Module {\n",
    "  val io = IO(new Bundle {\n",
    "    val a = Input(UInt(1.W))\n",
    "    val b = Input(UInt(1.W))\n",
    "    val carryIn = Input(if (hasCarry) UInt(1.W) else UInt(0.W))\n",
    "    val s = Output(UInt(1.W))\n",
    "    val carryOut = Output(UInt(1.W))\n",
    "  })\n",
    "  val sum = io.a +& io.b +& io.carryIn\n",
    "  io.s := sum(0)\n",
    "  io.carryOut := sum(1)\n",
    "}\n",
    "println(\"Half Adder:\")\n",
    "println(getVerilog(new HalfFullAdder(false)))\n",
    "println(\"\\n\\nFull Adder:\")\n",
    "println(getVerilog(new HalfFullAdder(true)))"
   ]
  },
  {
   "cell_type": "markdown",
   "metadata": {},
   "source": [
    "---\n",
    "# Implicits\n",
    "많은 상용구 코드가 필요한 프로그래밍을 하는 경우가 종종 있습니다. 이 사용 사례를 처리하기 위해 스칼라는 **암시적** 개념을 도입했는데, 이를 통해 컴파일러가 구문상의 설탕을 처리할 수 있습니다. 많은 일들이 뒤에서 일어나기 때문에 암시는 매우 마술처럼 보일 수 있습니다. 이 섹션에서는 몇 가지 기본 예제를 분석하여 해당 예제가 무엇이며 일반적으로 사용되는 위치를 설명합니다.\n",
    "\n",
    "## Implicit Arguments\n",
    "때때로 코드는 일련의 함수 호출 내 깊숙한 곳에서 일종의 최상위 변수에 액세스해야 합니다. 모든 함수 호출을 통해 이 변수를 수동으로 스레딩하는 대신 암시적 인수를 사용하여 이를 수행할 수 있습니다.\n",
    "\n",
    "<span style=\"color:blue\">**Example: Implicit Cats**</span><br>\n",
    "다음 예에서는 암시적 또는 명시적으로 고양이 수를 전달할 수 있습니다."
   ]
  },
  {
   "cell_type": "code",
   "execution_count": 56,
   "metadata": {},
   "outputs": [
    {
     "data": {
      "text/plain": [
       "defined \u001b[32mobject\u001b[39m \u001b[36mCatDog\u001b[39m\n",
       "\u001b[36mres55_1\u001b[39m: \u001b[32mBoolean\u001b[39m = true\n",
       "\u001b[36mres55_2\u001b[39m: \u001b[32mBoolean\u001b[39m = false"
      ]
     },
     "execution_count": 56,
     "metadata": {},
     "output_type": "execute_result"
    }
   ],
   "source": [
    "object CatDog {\n",
    "  implicit val numberOfCats: Int = 3\n",
    "  //implicit val numberOfDogs: Int = 5\n",
    "\n",
    "  def tooManyCats(nDogs: Int)(implicit nCats: Int): Boolean = nCats > nDogs\n",
    "    \n",
    "  val imp = tooManyCats(2)    // Argument passed implicitly!\n",
    "  val exp = tooManyCats(2)(1) // Argument passed explicitly!\n",
    "}\n",
    "CatDog.imp\n",
    "CatDog.exp"
   ]
  },
  {
   "cell_type": "markdown",
   "metadata": {},
   "source": [
    "무슨 일이야? 먼저 암시적 값 **numberOfCats**를 정의합니다. 주어진 범위에서 **주어진 유형의 암시적 값은 하나만 있을 수 있습니다**. 그런 다음 두 개의 인수 목록을 사용하는 함수를 정의합니다. 첫 번째는 모든 명시적 매개변수이고 두 번째는 모든 암시적 매개변수입니다. **tooManyCats**를 호출할 때 두 번째 암시적 인수 목록을 생략하거나(컴파일러가 자동으로 찾을 수 있도록 함) 인수를 명시적으로 제공합니다(암시적 값과 다를 수 있음).\n",
    "\n",
    "다음은 암시적 인수가 *실패*할 수 있는 방법입니다.\n",
    "- 주어진 유형의 두 개 이상의 암시적 값이 범위에 정의되어 있습니다.\n",
    "- 컴파일러가 함수 호출에 필요한 암시적 값을 찾을 수 없는 경우\n",
    "\n",
    "<span style=\"color:blue\">**Example: Implicit Logging**</span><br>\n",
    "다음 코드 블록은 암시적 인수를 사용하여 치즐 생성기에서 logging을 구현하는 방법을 보여줍니다.\n",
    "\n",
    "***참고: Scala에 logging하는 더 좋은 방법이 있습니다!***"
   ]
  },
  {
   "cell_type": "code",
   "execution_count": 27,
   "metadata": {},
   "outputs": [
    {
     "name": "stdout",
     "output_type": "stream",
     "text": [
      "Elaborating design...\n",
      "Done elaborating.\n",
      "module ParameterizedWidthAdder(\n",
      "  input        clock,\n",
      "  input        reset,\n",
      "  input        io_in0,\n",
      "  input  [3:0] io_in1,\n",
      "  output [4:0] io_sum\n",
      ");\n",
      "  wire [3:0] _GEN_0 = {{3'd0}, io_in0}; // @[cmd26.sc 23:20]\n",
      "  wire [3:0] _T_1 = _GEN_0 + io_in1; // @[cmd26.sc 23:20]\n",
      "  assign io_sum = {{1'd0}, _T_1}; // @[cmd26.sc 23:20]\n",
      "endmodule\n",
      "\n",
      "Elaborating design...\n",
      "in0Width of 1 OK\n",
      "in1Width of 4 OK\n",
      "sumWidth of 5 OK\n",
      "Made IO\n",
      "Assigned output\n",
      "Done elaborating.\n",
      "module ParameterizedWidthAdder(\n",
      "  input        clock,\n",
      "  input        reset,\n",
      "  input        io_in0,\n",
      "  input  [3:0] io_in1,\n",
      "  output [4:0] io_sum\n",
      ");\n",
      "  wire [3:0] _GEN_0 = {{3'd0}, io_in0}; // @[cmd26.sc 23:20]\n",
      "  wire [3:0] _T_1 = _GEN_0 + io_in1; // @[cmd26.sc 23:20]\n",
      "  assign io_sum = {{1'd0}, _T_1}; // @[cmd26.sc 23:20]\n",
      "endmodule\n",
      "\n"
     ]
    },
    {
     "data": {
      "text/plain": [
       "defined \u001b[32mtrait\u001b[39m \u001b[36mVerbosity\u001b[39m\n",
       "defined \u001b[32mobject\u001b[39m \u001b[36mSilent\u001b[39m\n",
       "defined \u001b[32mobject\u001b[39m \u001b[36mVerbose\u001b[39m\n",
       "defined \u001b[32mclass\u001b[39m \u001b[36mParameterizedWidthAdder\u001b[39m"
      ]
     },
     "execution_count": 27,
     "metadata": {},
     "output_type": "execute_result"
    }
   ],
   "source": [
    "sealed trait Verbosity\n",
    "implicit case object Silent extends Verbosity\n",
    "case object Verbose extends Verbosity\n",
    "\n",
    "class ParameterizedWidthAdder(in0Width: Int, in1Width: Int, sumWidth: Int)(implicit verbosity: Verbosity)\n",
    "extends Module {\n",
    "  def log(msg: => String): Unit = verbosity match {\n",
    "    case Silent =>\n",
    "    case Verbose => println(msg)\n",
    "  }\n",
    "  require(in0Width >= 0)\n",
    "  log(s\"in0Width of $in0Width OK\")\n",
    "  require(in1Width >= 0)\n",
    "  log(s\"in1Width of $in1Width OK\")\n",
    "  require(sumWidth >= 0)\n",
    "  log(s\"sumWidth of $sumWidth OK\")\n",
    "  val io = IO(new Bundle {\n",
    "    val in0 = Input(UInt(in0Width.W))\n",
    "    val in1 = Input(UInt(in1Width.W))\n",
    "    val sum = Output(UInt(sumWidth.W))\n",
    "  })\n",
    "  log(\"Made IO\")\n",
    "  io.sum := io.in0 + io.in1\n",
    "  log(\"Assigned output\")\n",
    "}\n",
    "\n",
    "println(getVerilog(new ParameterizedWidthAdder(1, 4, 5)))\n",
    "println(getVerilog(new ParameterizedWidthAdder(1, 4, 5)(Verbose)))"
   ]
  },
  {
   "cell_type": "markdown",
   "metadata": {},
   "source": [
    "## Implicit Conversions\n",
    "암시적 인수와 마찬가지로 암시적 함수(**암시적 변환**이라고도 함)는 상용구 코드를 줄이는 데 사용됩니다. 보다 구체적으로, 하나의 Scala 객체를 다른 객체로 자동 변환하는 데 사용됩니다.\n",
    "\n",
    "<span style=\"color:blue\">**Example: Implicit Conversion**</span><br>\n",
    "다음 예에는 `Animal`과 `Human`의 두 가지 클래스가 있습니다. '동물'에는 '종' 필드가 있지만 '인간'에는 없습니다. 그러나 암시적 변환을 구현하면 '인간'에서 '종'을 호출할 수 있습니다."
   ]
  },
  {
   "cell_type": "code",
   "execution_count": 28,
   "metadata": {},
   "outputs": [
    {
     "name": "stdout",
     "output_type": "stream",
     "text": [
      "Homo sapiens\n"
     ]
    },
    {
     "data": {
      "text/plain": [
       "defined \u001b[32mclass\u001b[39m \u001b[36mAnimal\u001b[39m\n",
       "defined \u001b[32mclass\u001b[39m \u001b[36mHuman\u001b[39m\n",
       "defined \u001b[32mfunction\u001b[39m \u001b[36mhuman2animal\u001b[39m\n",
       "\u001b[36mme\u001b[39m: \u001b[32mHuman\u001b[39m = ammonite.$sess.cmd27$Helper$Human@61db59c7"
      ]
     },
     "execution_count": 28,
     "metadata": {},
     "output_type": "execute_result"
    }
   ],
   "source": [
    "class Animal(val name: String, val species: String)\n",
    "class Human(val name: String)\n",
    "implicit def human2animal(h: Human): Animal = new Animal(h.name, \"Homo sapiens\")\n",
    "val me = new Human(\"Adam\")\n",
    "println(me.species)"
   ]
  },
  {
   "cell_type": "markdown",
   "metadata": {},
   "source": [
    "일반적으로 implicits은 코드를 혼란스럽게 만들 수 있으므로 최후의 수단으로 사용하는 것이 좋습니다. 먼저 inheritance, traits 또는 method overloading을 시도하십시오."
   ]
  },
  {
   "cell_type": "markdown",
   "metadata": {},
   "source": [
    "---\n",
    "# Generator Example\n",
    "다음 예는 1비트 입력 Mealy 머신용 생성기를 보여줍니다.\n",
    "[Wikipedia](https://en.wikipedia.org/wiki/Mealy_machine#/media/File:Mealy.png)의 예제를 기반으로 한 테스트가 있습니다.\n",
    "코드를 읽고 무슨 일이 일어나는지 따라해보세요.\n",
    "\n",
    "<span style=\"color:blue\">**Example: Mealy Machine**</span><br>\n",
    "Mealy 머신 생성기의 매개변수화를 직접 만들고 아래 코드 블록에 테스트를 작성해 보세요."
   ]
  },
  {
   "cell_type": "code",
   "execution_count": 3,
   "metadata": {},
   "outputs": [
    {
     "name": "stderr",
     "output_type": "stream",
     "text": [
      "cmd3.sc:26: value === is not a member of Int\n",
      "    when (state === state.U) {\n",
      "                ^cmd3.sc:28: value := is not a member of Int\n",
      "  Expression does not convert to assignment because receiver is not assignable.\n",
      "        state  := mp.stateTransition(state, true).U\n",
      "               ^cmd3.sc:31: value := is not a member of Int\n",
      "  Expression does not convert to assignment because receiver is not assignable.\n",
      "        state  := mp.stateTransition(state, false).U\n",
      "               ^Compilation Failed"
     ]
    },
    {
     "ename": "",
     "evalue": "",
     "output_type": "error",
     "traceback": [
      "Compilation Failed"
     ]
    }
   ],
   "source": [
    "// Mealy machine has\n",
    "case class BinaryMealyParams(\n",
    "  // number of states\n",
    "  nStates: Int,\n",
    "  // initial state\n",
    "  s0: Int,\n",
    "  // function describing state transition\n",
    "  stateTransition: (Int, Boolean) => Int,\n",
    "  // function describing output\n",
    "  output: (Int, Boolean) => Int\n",
    ") {\n",
    "  require(nStates >= 0)\n",
    "  require(s0 < nStates && s0 >= 0)\n",
    "}\n",
    "\n",
    "class BinaryMealy(val mp: BinaryMealyParams) extends Module {\n",
    "  val io = IO(new Bundle {\n",
    "    val in = Input(Bool())\n",
    "    val out = Output(UInt())\n",
    "  })\n",
    "\n",
    "  val state = RegInit(UInt(), mp.s0.U)\n",
    "\n",
    "  // output zero if no states\n",
    "  io.out := 0.U\n",
    "  for (i <- 0 until mp.nStates) {\n",
    "    when (state === i.U) {\n",
    "      when (io.in) {\n",
    "        state  := mp.stateTransition(i, true).U\n",
    "        io.out := mp.output(i, true).U\n",
    "      }.otherwise {\n",
    "        state  := mp.stateTransition(i, false).U\n",
    "        io.out := mp.output(i, false).U\n",
    "      }\n",
    "    }\n",
    "  }\n",
    "}\n",
    "\n",
    "// example from https://en.wikipedia.org/wiki/Mealy_machine\n",
    "val nStates = 3\n",
    "val s0 = 2\n",
    "def stateTransition(state: Int, in: Boolean): Int = {\n",
    "  if (in) {\n",
    "    1\n",
    "  } else {\n",
    "    0\n",
    "  }\n",
    "}\n",
    "def output(state: Int, in: Boolean): Int = {\n",
    "  if (state == 2) {\n",
    "    return 0\n",
    "  }\n",
    "  if ((state == 1 && !in) || (state == 0 && in)) {\n",
    "    return 1\n",
    "  } else {\n",
    "    return 0\n",
    "  }\n",
    "}\n",
    "\n",
    "val testParams = BinaryMealyParams(nStates, s0, stateTransition, output)\n",
    "\n",
    "test(new BinaryMealy(testParams)) { c =>\n",
    "  c.io.in.poke(false.B)\n",
    "  c.io.out.expect(0.U)\n",
    "  c.clock.step(1)\n",
    "  c.io.in.poke(false.B)\n",
    "  c.io.out.expect(0.U)\n",
    "  c.clock.step(1)\n",
    "  c.io.in.poke(false.B)\n",
    "  c.io.out.expect(0.U)\n",
    "  c.clock.step(1)\n",
    "  c.io.in.poke(true.B)\n",
    "  c.io.out.expect(1.U)\n",
    "  c.clock.step(1)\n",
    "  c.io.in.poke(true.B)\n",
    "  c.io.out.expect(0.U)\n",
    "  c.clock.step(1)\n",
    "  c.io.in.poke(false.B)\n",
    "  c.io.out.expect(1.U)\n",
    "  c.clock.step(1)\n",
    "  c.io.in.poke(true.B)\n",
    "  c.io.out.expect(1.U)\n",
    "  c.clock.step(1)\n",
    "  c.io.in.poke(false.B)\n",
    "  c.io.out.expect(1.U)\n",
    "  c.clock.step(1)\n",
    "  c.io.in.poke(true.B)\n",
    "  c.io.out.expect(1.U)\n",
    "}\n",
    "\n",
    "println(\"SUCCESS!!\") // Scala Code: if we get here, our tests passed!"
   ]
  },
  {
   "cell_type": "markdown",
   "metadata": {},
   "source": [
    "---\n",
    "# You're done!\n",
    "\n",
    "[Return to the top.](#top)"
   ]
  }
 ],
 "metadata": {
  "kernelspec": {
   "display_name": "Scala",
   "language": "scala",
   "name": "scala"
  },
  "language_info": {
   "codemirror_mode": "text/x-scala",
   "file_extension": ".scala",
   "mimetype": "text/x-scala",
   "name": "scala",
   "nbconvert_exporter": "script",
   "version": "2.12.10"
  }
 },
 "nbformat": 4,
 "nbformat_minor": 1
}
