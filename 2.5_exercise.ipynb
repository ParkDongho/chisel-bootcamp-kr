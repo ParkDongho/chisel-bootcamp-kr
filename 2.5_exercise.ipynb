{
 "cells": [
  {
   "cell_type": "markdown",
   "metadata": {},
   "source": [
    "<a name=\"top\"></a><img src=\"images/chisel_1024.png\" alt=\"Chisel logo\" style=\"width:480px;\" />"
   ]
  },
  {
   "cell_type": "markdown",
   "metadata": {},
   "source": [
    "# Module 2.5: Putting it all Together: An FIR Filter\n",
    "**Prev: [Sequential Logic](2.4_sequential_logic.ipynb)**<br>\n",
    "**Next: [ChiselTest (was chisel-testers2)](2.6_chiseltest.ipynb)**\n",
    "\n",
    "## Motivation\n",
    "이제 Chisel의 기본 사항을 배웠으므로 이 지식을 사용하여 FIR(inite impulse response) 필터 모듈을 구축해 보겠습니다! FIR 필터는 디지털 신호 처리 애플리케이션에서 매우 일반적입니다. 또한 FIR 필터는 모듈 3에서 자주 다시 나타나므로 건너뛰어서 이 모듈을 뛰어넘지 않는 것이 중요합니다! FIR 필터에 익숙하지 않다면 [신뢰할 수 있는 Wikipedia](https://en.wikipedia.org/wiki/Finite_impulse_response)의 문서로 이동하여 자세히 알아보세요.\n",
    "\n",
    "## Setup"
   ]
  },
  {
   "cell_type": "code",
   "execution_count": 1,
   "metadata": {},
   "outputs": [
    {
     "data": {
      "text/plain": [
       "\u001b[36mpath\u001b[39m: \u001b[32mString\u001b[39m = \u001b[32m\"/home/parkdongho/dev/chisel-bootcamp-kr/source/load-ivy.sc\"\u001b[39m"
      ]
     },
     "execution_count": 1,
     "metadata": {},
     "output_type": "execute_result"
    }
   ],
   "source": [
    "val path = System.getProperty(\"user.dir\") + \"/source/load-ivy.sc\"\n",
    "interp.load.module(ammonite.ops.Path(java.nio.file.FileSystems.getDefault().getPath(path)))"
   ]
  },
  {
   "cell_type": "code",
   "execution_count": 2,
   "metadata": {},
   "outputs": [
    {
     "data": {
      "text/plain": [
       "\u001b[32mimport \u001b[39m\u001b[36mchisel3._\n",
       "\u001b[39m\n",
       "\u001b[32mimport \u001b[39m\u001b[36mchisel3.util._\n",
       "\u001b[39m\n",
       "\u001b[32mimport \u001b[39m\u001b[36mchisel3.tester._\n",
       "\u001b[39m\n",
       "\u001b[32mimport \u001b[39m\u001b[36mchisel3.tester.RawTester.test\u001b[39m"
      ]
     },
     "execution_count": 2,
     "metadata": {},
     "output_type": "execute_result"
    }
   ],
   "source": [
    "import chisel3._\n",
    "import chisel3.util._\n",
    "import chisel3.tester._\n",
    "import chisel3.tester.RawTester.test"
   ]
  },
  {
   "cell_type": "markdown",
   "metadata": {
    "nbpresent": {
     "id": "2e849671-a1e9-48b2-9bba-eb916ac623c6"
    }
   },
   "source": [
    "---\n",
    "# FIR Filter\n",
    "\n",
    "설계할 FIR 필터는 다음 작업을 수행합니다.\n",
    "\n",
    "<img src=\"images/fir.jpg\" width=\"720\">\n",
    "\n",
    "기본적으로 필터 계수(filter coefficients)의 요소와 입력 신호의 요소를 요소별로 곱(elementwise multiplication)하고 합(*convolution* 이라고도 함)을 출력합니다.\n",
    "\n",
    "신호 정의:\n",
    "\n",
    "$y[n] = b_0 x[n] + b_1 x[n-1] + b_2 x[n-2] + ...$\n",
    "- $y[n]$는 $n$ 시간의 출력 신호입니다.\n",
    "  - $x[n]$는 입력 신호입니다.\n",
    "  - $b_i$는 필터 계수 또는 임펄스 응답입니다.\n",
    "  - $n-1$, $n-2$, ...는 시간 $n$이 1, 2, ... 사이클 지연됩니다.\n",
    " \n",
    "## 8-bit Specification\n",
    "\n",
    "4개의 필터 계수가 매개변수인 4요소 FIR 필터를 작성합니다. module 골격과 기본 테스트가 제공됩니다.\n",
    "입력과 출력 모두 8비트 부호 없는 정수입니다. 시프트 레지스터와 같은 구성을 사용하여 필요한 상태(예: 지연된 신호 값)를 저장해야 합니다. 제공된 테스터를 사용하여 구현을 확인하십시오.\n",
    "상수 입력이 있는 레지스터는 시프트 값 1의 `ShiftRegister`를 사용하거나 `RegNext` 구성을 사용하여 만들 수 있습니다.\n",
    "\n",
    "참고: 테스트를 통과하려면 레지스터를 `0.U`로 초기화해야 합니다."
   ]
  },
  {
   "cell_type": "code",
   "execution_count": 10,
   "metadata": {
    "nbpresent": {
     "id": "26e4a686-0397-4306-985c-813909256c95"
    }
   },
   "outputs": [
    {
     "data": {
      "text/plain": [
       "defined \u001b[32mclass\u001b[39m \u001b[36mMy4ElementFir\u001b[39m"
      ]
     },
     "execution_count": 10,
     "metadata": {},
     "output_type": "execute_result"
    }
   ],
   "source": [
    "class My4ElementFir(b0: Int, b1: Int, b2: Int, b3: Int) extends Module {\n",
    "  val io = IO(new Bundle {\n",
    "    val in = Input(UInt(8.W))\n",
    "    val out = Output(UInt(8.W))\n",
    "  })\n",
    "\n",
    "  ???\n",
    "\n",
    "}"
   ]
  },
  {
   "cell_type": "code",
   "execution_count": null,
   "metadata": {
    "nbpresent": {
     "id": "ddf24b7b-09a2-46f0-b1d8-cb2ca7976b4b"
    }
   },
   "outputs": [
    {
     "name": "stdout",
     "output_type": "stream",
     "text": [
      "Elaborating design...\n"
     ]
    }
   ],
   "source": [
    "// Simple sanity check: a element with all zero coefficients should always produce zero\n",
    "test(new My4ElementFir(0, 0, 0, 0)) { c =>\n",
    "    c.io.in.poke(0.U)\n",
    "    c.io.out.expect(0.U)\n",
    "    c.clock.step(1)\n",
    "    c.io.in.poke(4.U)\n",
    "    c.io.out.expect(0.U)\n",
    "    c.clock.step(1)\n",
    "    c.io.in.poke(5.U)\n",
    "    c.io.out.expect(0.U)\n",
    "    c.clock.step(1)\n",
    "    c.io.in.poke(2.U)\n",
    "    c.io.out.expect(0.U)\n",
    "}"
   ]
  },
  {
   "cell_type": "code",
   "execution_count": null,
   "metadata": {},
   "outputs": [
    {
     "name": "stdout",
     "output_type": "stream",
     "text": [
      "Elaborating design...\n"
     ]
    }
   ],
   "source": [
    "// Simple 4-point moving average\n",
    "test(new My4ElementFir(1, 1, 1, 1)) { c =>\n",
    "    c.io.in.poke(1.U)\n",
    "    c.io.out.expect(1.U)  // 1, 0, 0, 0\n",
    "    c.clock.step(1)\n",
    "    c.io.in.poke(4.U)\n",
    "    c.io.out.expect(5.U)  // 4, 1, 0, 0\n",
    "    c.clock.step(1)\n",
    "    c.io.in.poke(3.U)\n",
    "    c.io.out.expect(8.U)  // 3, 4, 1, 0\n",
    "    c.clock.step(1)\n",
    "    c.io.in.poke(2.U)\n",
    "    c.io.out.expect(10.U)  // 2, 3, 4, 1\n",
    "    c.clock.step(1)\n",
    "    c.io.in.poke(7.U)\n",
    "    c.io.out.expect(16.U)  // 7, 2, 3, 4\n",
    "    c.clock.step(1)\n",
    "    c.io.in.poke(0.U)\n",
    "    c.io.out.expect(12.U)  // 0, 7, 2, 3\n",
    "}"
   ]
  },
  {
   "cell_type": "code",
   "execution_count": null,
   "metadata": {},
   "outputs": [
    {
     "name": "stdout",
     "output_type": "stream",
     "text": [
      "Elaborating design...\n"
     ]
    }
   ],
   "source": [
    "// Nonsymmetric filter\n",
    "test(new My4ElementFir(1, 2, 3, 4)) { c =>\n",
    "    c.io.in.poke(1.U)\n",
    "    c.io.out.expect(1.U)  // 1*1, 0*2, 0*3, 0*4\n",
    "    c.clock.step(1)\n",
    "    c.io.in.poke(4.U)\n",
    "    c.io.out.expect(6.U)  // 4*1, 1*2, 0*3, 0*4\n",
    "    c.clock.step(1)\n",
    "    c.io.in.poke(3.U)\n",
    "    c.io.out.expect(14.U)  // 3*1, 4*2, 1*3, 0*4\n",
    "    c.clock.step(1)\n",
    "    c.io.in.poke(2.U)\n",
    "    c.io.out.expect(24.U)  // 2*1, 3*2, 4*3, 1*4\n",
    "    c.clock.step(1)\n",
    "    c.io.in.poke(7.U)\n",
    "    c.io.out.expect(36.U)  // 7*1, 2*2, 3*3, 4*4\n",
    "    c.clock.step(1)\n",
    "    c.io.in.poke(0.U)\n",
    "    c.io.out.expect(32.U)  // 0*1, 7*2, 2*3, 3*4\n",
    "}"
   ]
  },
  {
   "cell_type": "markdown",
   "metadata": {},
   "source": [
    "<div id=\"container\"><section id=\"accordion\"><div>\n",
    "<input type=\"checkbox\" id=\"check-1\" />\n",
    "<label for=\"check-1\"><strong>Solution</strong></label>\n",
    "<article>\n",
    "<pre style=\"background-color:#f7f7f7\">\n",
    "  val x_n1 = RegNext(io.in, 0.U)\n",
    "  val x_n2 = RegNext(x_n1, 0.U)\n",
    "  val x_n3 = RegNext(x_n2, 0.U)\n",
    "  io.out := io.in * b0.U(8.W) + \n",
    "    x_n1 * b1.U(8.W) +\n",
    "    x_n2 * b2.U(8.W) + \n",
    "    x_n3 * b3.U(8.W)\n",
    "</pre></article></div></section></div>"
   ]
  },
  {
   "cell_type": "markdown",
   "metadata": {},
   "source": [
    "---\n",
    "# FIR Filter Generator\n",
    "\n",
    "이 모듈에서는 [Module 3.2: Generators: Collection](3.2_collections.ipynb)에서 약간 수정된 예제를 사용할 것입니다.\n",
    "모듈 3.2를 시작하지 않았더라도 걱정하지 마십시오.\n",
    "`MyManyDynamicElementVecFir`의 작동 방식에 대한 자세한 내용을 배우게 되지만 기본 아이디어는 FIR 필터 생성기라는 것입니다.\n",
    "\n",
    "생성기에는 하나의 매개변수인 길이가 있습니다.\n",
    "이 매개변수는 필터의 tap 수를 나타내며 tap은 하드웨어 `Module`에 대한 입력입니다.\n",
    "\n",
    "generator에는 3개의 입력이 있습니다.\n",
    "* in, 필터에 대한 입력\n",
    "* valid, 입력이 유효한 때를 나타내는 boolean\n",
    "* consts, 모든 탭에 대한 벡터\n",
    "\n",
    "및 1개의 출력:\n",
    "* out, 필터링된 입력\n",
    "\n",
    "<img src=\"images/fir.jpg\" style=\"width:450px;\"/>"
   ]
  },
  {
   "cell_type": "code",
   "execution_count": 15,
   "metadata": {},
   "outputs": [
    {
     "name": "stderr",
     "output_type": "stream",
     "text": [
      "(console):10:72 expected \")\"\n",
      "  val taps = Seq(io.in) ++ Seq.fill(io.consts.length - 1)(RegInit(0.U()8.W)))\n",
      "                                                                       ^"
     ]
    },
    {
     "ename": "",
     "evalue": "",
     "output_type": "error",
     "traceback": [
      "(console):10:72 expected \")\"\n  val taps = Seq(io.in) ++ Seq.fill(io.consts.length - 1)(RegInit(0.U()8.W)))\n                                                                       ^"
     ]
    }
   ],
   "source": [
    "class MyManyDynamicElementVecFir(length: Int) extends Module {\n",
    "  val io = IO(new Bundle {\n",
    "    val in = Input(UInt(8.W))\n",
    "    val valid = Input(Bool())\n",
    "    val out = Output(UInt(8.W))\n",
    "    val consts = Input(Vec(length, UInt(8.W)))\n",
    "  })\n",
    "  \n",
    "  // 이렇게 간결하다니! 이 모든 것이 나중에 무엇을 의미하는지 알게 될 것입니다.\n",
    "  val taps = Seq(io.in) ++ Seq.fill(io.consts.length - 1)(RegInit(0.U(8.W)))\n",
    "  taps.zip(taps.tail).foreach { case (a, b) => when (io.valid) { b := a } }\n",
    "\n",
    "  io.out := taps.zip(io.consts).map { case (a, b) => a * b }.reduce(_ + _)\n",
    "}\n",
    "\n",
    "visualize(() => new MyManyDynamicElementVecFir(4))"
   ]
  },
  {
   "cell_type": "markdown",
   "metadata": {},
   "source": [
    "# ---\n",
    "# DspBlock\n",
    "\n",
    "DSP 구성요소를 더 큰 시스템에 통합하는 것은 어렵고 오류가 발생하기 쉽습니다.\n",
    "[rocket section of the dsptools repository](https://github.com/ucb-bar/dsptools/tree/master/rocket)은 이러한 작업에 도움이 되는 유용한 생성기로 구성되어 있습니다.\n",
    "\n",
    "핵심 추상화 중 하나는 `Dsp Block`이라는 개념입니다.\n",
    "`Dsp Block`에는 다음이 포함됩니다.\n",
    "* AXI4 Stream 입력 및 출력\n",
    "* 메모리 매핑된 Status 및 control(본 예에서는 AXI4)\n",
    "\n",
    "<img src=\"images/fir_filter.png\" style=\"width:800px;\"/>\n",
    "\n",
    "`DspBlock`은 rocket의 diplomatic 인터페이스를 사용합니다.\n",
    "[이 사이트](https://www.lowrisc.org/docs/diplomacy/)는 diplomacy의 기본에 대한 좋은 개요를 가지고 있지만 이 예제에서 어떻게 작동하는지 너무 걱정하지 마십시오.\n",
    "다양한 블록을 연결하여 복잡한 SoC를 형성할 때 diplomacy가 정말 빛을 발합니다.\n",
    "이 예에서는 단일 주변기기를 만들고 있습니다.\n",
    "`StandaloneBlock` 특성이 혼합되어 diplomacy 인터페이스가 최상위 IO로 작동합니다.\n",
    "diplomatic 연결 없이 `DspBlock`이 최상위 인터페이스로 사용될 때만 필요합니다.\n",
    "\n",
    "다음 코드는 AXI4 인터페이스에서 FIR 필터를 래핑합니다.\n"
   ]
  },
  {
   "cell_type": "code",
   "execution_count": 18,
   "metadata": {},
   "outputs": [
    {
     "name": "stdout",
     "output_type": "stream",
     "text": [
      "Elaborating design...\n"
     ]
    },
    {
     "ename": "",
     "evalue": "",
     "output_type": "error",
     "traceback": [
      "\u001b[31mjava.lang.NoSuchMethodError: chisel3.Data.$less$greater(Lchisel3/Data;Lchisel3/internal/sourceinfo/SourceInfo;Lchisel3/CompileOptions;)V\u001b[39m\n  freechips.rocketchip.diplomacy.LazyModuleImpLike.$anonfun$instantiate$9(\u001b[32mLazyModule.scala\u001b[39m:\u001b[32m173\u001b[39m)\n  scala.collection.immutable.List.map(\u001b[32mList.scala\u001b[39m:\u001b[32m286\u001b[39m)\n  freechips.rocketchip.diplomacy.LazyModuleImpLike.instantiate(\u001b[32mLazyModule.scala\u001b[39m:\u001b[32m172\u001b[39m)\n  freechips.rocketchip.diplomacy.LazyModuleImpLike.instantiate$(\u001b[32mLazyModule.scala\u001b[39m:\u001b[32m155\u001b[39m)\n  freechips.rocketchip.diplomacy.LazyModuleImp.instantiate(\u001b[32mLazyModule.scala\u001b[39m:\u001b[32m185\u001b[39m)\n  freechips.rocketchip.diplomacy.LazyModuleImp.<init>(\u001b[32mLazyModule.scala\u001b[39m:\u001b[32m186\u001b[39m)\n  freechips.rocketchip.amba.axi4stream.AXI4StreamToBundleBridge$$anon$1.<init>(\u001b[32mNodes.scala\u001b[39m:\u001b[32m154\u001b[39m)\n  freechips.rocketchip.amba.axi4stream.AXI4StreamToBundleBridge.module$lzycompute(\u001b[32mNodes.scala\u001b[39m:\u001b[32m154\u001b[39m)\n  freechips.rocketchip.amba.axi4stream.AXI4StreamToBundleBridge.module(\u001b[32mNodes.scala\u001b[39m:\u001b[32m154\u001b[39m)\n  freechips.rocketchip.amba.axi4stream.AXI4StreamToBundleBridge.module(\u001b[32mNodes.scala\u001b[39m:\u001b[32m151\u001b[39m)\n  freechips.rocketchip.diplomacy.LazyModuleImpLike.$anonfun$instantiate$2(\u001b[32mLazyModule.scala\u001b[39m:\u001b[32m158\u001b[39m)\n  chisel3.Module$.do_apply(\u001b[32mModule.scala\u001b[39m:\u001b[32m54\u001b[39m)\n  freechips.rocketchip.diplomacy.LazyModuleImpLike.$anonfun$instantiate$1(\u001b[32mLazyModule.scala\u001b[39m:\u001b[32m158\u001b[39m)\n  scala.collection.immutable.List.flatMap(\u001b[32mList.scala\u001b[39m:\u001b[32m338\u001b[39m)\n  freechips.rocketchip.diplomacy.LazyModuleImpLike.instantiate(\u001b[32mLazyModule.scala\u001b[39m:\u001b[32m156\u001b[39m)\n  freechips.rocketchip.diplomacy.LazyModuleImpLike.instantiate$(\u001b[32mLazyModule.scala\u001b[39m:\u001b[32m155\u001b[39m)\n  freechips.rocketchip.diplomacy.LazyModuleImp.instantiate(\u001b[32mLazyModule.scala\u001b[39m:\u001b[32m185\u001b[39m)\n  freechips.rocketchip.diplomacy.LazyModuleImp.<init>(\u001b[32mLazyModule.scala\u001b[39m:\u001b[32m186\u001b[39m)\n  ammonite.$sess.cmd17$Helper$FIRBlock$$anon$1.<init>(\u001b[32mcmd17.sc\u001b[39m:\u001b[32m20\u001b[39m)\n  ammonite.$sess.cmd17$Helper$FIRBlock.module$lzycompute(\u001b[32mcmd17.sc\u001b[39m:\u001b[32m20\u001b[39m)\n  ammonite.$sess.cmd17$Helper$FIRBlock.module(\u001b[32mcmd17.sc\u001b[39m:\u001b[32m20\u001b[39m)\n  ammonite.$sess.cmd17$Helper.$anonfun$res17_8$1(\u001b[32mcmd17.sc\u001b[39m:\u001b[32m75\u001b[39m)\n  chisel3.Module$.do_apply(\u001b[32mModule.scala\u001b[39m:\u001b[32m54\u001b[39m)\n  chisel3.Driver$.$anonfun$elaborate$1(\u001b[32mDriver.scala\u001b[39m:\u001b[32m98\u001b[39m)\n  chisel3.internal.Builder$.$anonfun$build$1(\u001b[32mBuilder.scala\u001b[39m:\u001b[32m656\u001b[39m)\n  scala.util.DynamicVariable.withValue(\u001b[32mDynamicVariable.scala\u001b[39m:\u001b[32m62\u001b[39m)\n  chisel3.internal.Builder$.build(\u001b[32mBuilder.scala\u001b[39m:\u001b[32m653\u001b[39m)\n  chisel3.internal.Builder$.build(\u001b[32mBuilder.scala\u001b[39m:\u001b[32m649\u001b[39m)\n  chisel3.Driver$.elaborate(\u001b[32mDriver.scala\u001b[39m:\u001b[32m98\u001b[39m)\n  chisel3.Driver$.emit(\u001b[32mDriver.scala\u001b[39m:\u001b[32m115\u001b[39m)\n  ammonite.$sess.cmd17$Helper.<init>(\u001b[32mcmd17.sc\u001b[39m:\u001b[32m75\u001b[39m)\n  ammonite.$sess.cmd17$.<init>(\u001b[32mcmd17.sc\u001b[39m:\u001b[32m7\u001b[39m)\n  ammonite.$sess.cmd17$.<clinit>(\u001b[32mcmd17.sc\u001b[39m:\u001b[32m-1\u001b[39m)"
     ]
    }
   ],
   "source": [
    "import dspblocks._\n",
    "import freechips.rocketchip.amba.axi4._\n",
    "import freechips.rocketchip.amba.axi4stream._\n",
    "import freechips.rocketchip.config._\n",
    "import freechips.rocketchip.diplomacy._\n",
    "import freechips.rocketchip.regmapper._\n",
    "\n",
    "//\n",
    "// 모든 FIRBlocks의 기본 클래스입니다.\n",
    "// 이것은 TileLink, AXI4, APB, AHB 등을 FIR 필터의 맛으로 만들기 위해 확장될 수 있습니다.\n",
    "//\n",
    "abstract class FIRBlock[D, U, EO, EI, B <: Data](val nFilters: Int, val nTaps: Int)(implicit p: Parameters)\n",
    "// HasCSR은 메모리 인터페이스가 RegMapper API를 사용하여 상태 및 제어 레지스터를 정의함을 의미합니다.\n",
    "extends DspBlock[D, U, EO, EI, B] with HasCSR {\n",
    "    // 스트리밍 인터페이스의 diplomatic node\n",
    "    // identity 노드는 출력과 입력이 동일하도록 매개변수화됨을 의미합니다.\n",
    "    val streamNode = AXI4StreamIdentityNode()\n",
    "    \n",
    "    // 어떤 하드웨어를 elaborate할지 정의\n",
    "    lazy val module = new LazyModuleImp(this) {\n",
    "        // diplomatic node에서 스트리밍 입력 및 출력 와이어를 가져옵니다.\n",
    "        val (in, _)  = streamNode.in(0)\n",
    "        val (out, _) = streamNode.out(0)\n",
    "\n",
    "        require(in.params.n >= nFilters,\n",
    "                s\"\"\"AXI-4 Stream port must be big enough for all \n",
    "                   |the filters (need $nFilters,, only have ${in.params.n})\"\"\".stripMargin)\n",
    "\n",
    "        // taps를 저장할 레지스터를 만듭니다.\n",
    "        val taps = Reg(Vec(nFilters, Vec(nTaps, UInt(8.W))))\n",
    "\n",
    "        // 메모리 맵 taps과 첫 번째 주소는 필터 레인의 수를 나타내는 읽기 전용 필드입니다.\n",
    "        val mmap = Seq(\n",
    "            RegField.r(64, nFilters.U, RegFieldDesc(\"nFilters\", \"Number of filter lanes\"))\n",
    "        ) ++ taps.flatMap(_.map(t => RegField(8, t, RegFieldDesc(\"tap\", \"Tap\"))))\n",
    "\n",
    "        // 메모리 인터페이스용 하드웨어 생성\n",
    "        // 이 클래스에서 regmap은 추상(구현되지 않음)입니다. AXI4HasCSR 또는 TLHasCSR과 같은 것을 혼합\n",
    "        // 특정 메모리 인터페이스에 대한 regmap을 정의합니다.\n",
    "        regmap(mmap.zipWithIndex.map({case (r, i) => i * 8 -> Seq(r)}): _*)\n",
    "\n",
    "        // FIR 레인을 만들고 입력과 탭을 연결합니다.\n",
    "        val outs = for (i <- 0 until nFilters) yield {\n",
    "            val fir = Module(new MyManyDynamicElementVecFir(nTaps))\n",
    "            \n",
    "            fir.io.in := in.bits.data((i+1)*8, i*8)\n",
    "            fir.io.valid := in.valid && out.ready\n",
    "            fir.io.consts := taps(i)            \n",
    "            fir.io.out\n",
    "        }\n",
    "\n",
    "        val output = if (outs.length == 1) {\n",
    "            outs.head\n",
    "        } else {\n",
    "            outs.reduce((x: UInt, y: UInt) => Cat(y, x))\n",
    "        }\n",
    "\n",
    "        out.bits.data := output\n",
    "        in.ready  := out.ready\n",
    "        out.valid := in.valid\n",
    "    }\n",
    "}\n",
    "\n",
    "// FIRBlock의 AXI4 플레이버를 만듭니다.\n",
    "abstract class AXI4FIRBlock(nFilters: Int, nTaps: Int)(implicit p: Parameters) extends FIRBlock[AXI4MasterPortParameters, AXI4SlavePortParameters, AXI4EdgeParameters, AXI4EdgeParameters, AXI4Bundle](nFilters, nTaps) with AXI4DspBlock with AXI4HasCSR {\n",
    "    override val mem = Some(AXI4RegisterNode(\n",
    "        AddressSet(0x0, 0xffffL), beatBytes = 8\n",
    "    ))\n",
    "}\n",
    "\n",
    "// 아래 코드를 실행하면 생성된 firrtl이 표시됩니다.\n",
    "// LazyModules는 실제로 끌 모듈이 아닙니다. 끌 드라이버를 호출할 때 \".module\"을 호출해야 합니다.\n",
    "// 또한 AXI4StandaloneBlock이 혼합되어 있음을 참고하십시오. 잊어버리면 메모리 때문에 이상한 외교 오류가 발생합니다.\n",
    "// 인터페이스는 마스터를 예상하고 스트리밍 인터페이스는 연결될 것으로 예상합니다. AXI4StandaloneBlock은 최상위 IO를 추가합니다.\n",
    "println(chisel3.Driver.emit(() => LazyModule(new AXI4FIRBlock(1, 8)(Parameters.empty) with AXI4StandaloneBlock).module))"
   ]
  },
  {
   "cell_type": "markdown",
   "metadata": {},
   "source": [
    "## Testing\n",
    "\n",
    "`DspBlock`을 테스트하는 것은 약간 다릅니다.\n",
    "이제 우리는 메모리 인터페이스와 `LazyModule`을 다루고 있습니다.\n",
    "dsptools에는 `DspBlock`을 테스트하는 데 도움이 되는 몇 가지 기능이 있습니다.\n",
    "\n",
    "중요한 기능 중 하나는 `MemMasterModel`입니다.\n",
    "이 특성은 메모리 트래픽을 생성하기 위한 일반 함수인 `memReadWord` 및 `memWriteWord`와 같은 함수를 정의합니다.\n",
    "이를 통해 사용 중인 메모리 인터페이스에 특화될 수 있는 하나의 일반 테스트를 작성할 수 있습니다. 예를 들어, 하나의 테스트를 작성한 다음 이를 TileLink 및 AXI4 인터페이스에 대해 특화할 수 있습니다.\n",
    "\n",
    "아래 코드는 `FIRBlock`을 이런 식으로 테스트합니다."
   ]
  },
  {
   "cell_type": "code",
   "execution_count": 18,
   "metadata": {},
   "outputs": [
    {
     "name": "stderr",
     "output_type": "stream",
     "text": [
      "cmd18.sc:4: not found: type PeekPokeTester\n",
      "abstract class FIRBlockTester[D, U, EO, EI, B <: Data](c: FIRBlock[D, U, EO, EI, B]) extends PeekPokeTester(c.module) with MemMasterModel {\n",
      "                                                                                             ^cmd18.sc:21: type mismatch;\n",
      " found   : Helper.this.AXI4FIRBlockTester\n",
      " required: chisel3.iotesters.PeekPokeTester[freechips.rocketchip.diplomacy.LazyModuleImp{val in: freechips.rocketchip.amba.axi4stream.AXI4StreamBundle; val out: freechips.rocketchip.amba.axi4stream.AXI4StreamBundle; val taps: chisel3.Vec[chisel3.Vec[chisel3.UInt]]; val mmap: Seq[freechips.rocketchip.regmapper.RegField]; val outs: scala.collection.immutable.IndexedSeq[chisel3.UInt]; val output: chisel3.UInt}]\n",
      "val res18_5 = chisel3.iotesters.Driver(() => lm.module) { _ => new AXI4FIRBlockTester(lm) }\n",
      "                                                               ^cmd18.sc:4: no arguments allowed for nullary constructor Object: ()Object\n",
      "abstract class FIRBlockTester[D, U, EO, EI, B <: Data](c: FIRBlock[D, U, EO, EI, B]) extends PeekPokeTester(c.module) with MemMasterModel {\n",
      "                                                                                                              ^cmd18.sc:14: illegal inheritance; superclass FIRBlockTester\n",
      " is not a subclass of the superclass PeekPokeTester\n",
      " of the mixin trait AXI4MasterModel\n",
      "class AXI4FIRBlockTester(c: AXI4FIRBlock with AXI4StandaloneBlock) extends FIRBlockTester(c) with AXI4MasterModel {\n",
      "                                                                                                  ^Compilation Failed"
     ]
    },
    {
     "ename": "",
     "evalue": "",
     "output_type": "error",
     "traceback": [
      "Compilation Failed"
     ]
    }
   ],
   "source": [
    "import dsptools.tester.MemMasterModel\n",
    "import freechips.rocketchip.amba.axi4\n",
    "\n",
    "abstract class FIRBlockTester[D, U, EO, EI, B <: Data](c: FIRBlock[D, U, EO, EI, B]) extends PeekPokeTester(c.module) with MemMasterModel {\n",
    "    // check that address 0 is the number of filters\n",
    "    require(memReadWord(0) == c.nFilters)\n",
    "    // write 1 to all the taps\n",
    "    for (i <- 0 until c.nFilters * c.nTaps) {\n",
    "        memWriteWord(8 + i * 8, 1)\n",
    "    }\n",
    "}\n",
    "\n",
    "// axi4에 대한 일반 테스터를 전문화합니다.\n",
    "class AXI4FIRBlockTester(c: AXI4FIRBlock with AXI4StandaloneBlock) extends FIRBlockTester(c) with AXI4MasterModel {\n",
    "    def memAXI = c.ioMem.get\n",
    "}\n",
    "\n",
    "// lazymodules에서 테스터를 호출하는 것은 약간 이상합니다.\n",
    "// firblocktester는 모듈이 아닌 지연 모듈을 사용합니다(\"extens PeekPokeTester()\"에서 .module을 호출함).\n",
    "val lm = LazyModule(new AXI4FIRBlock(1, 8)(Parameters.empty) with AXI4StandaloneBlock)\n",
    "chisel3.iotesters.Driver(() => lm.module) { _ => new AXI4FIRBlockTester(lm) }"
   ]
  },
  {
   "cell_type": "markdown",
   "metadata": {},
   "source": [
    "<span style=\"color:red\">**Exercise: TileLink**</span><br>\n",
    "\n",
    "메모리 상호 연결에 TileLink를 사용하는 `FIRBlock` 버전을 추가하고 TileLink를 사용하도록 `FIRBlockTester`를 확장합니다."
   ]
  },
  {
   "cell_type": "markdown",
   "metadata": {},
   "source": [
    "---\n",
    "# You're done!\n",
    "\n",
    "[Return to the top.](#top)"
   ]
  }
 ],
 "metadata": {
  "kernelspec": {
   "display_name": "Scala",
   "language": "scala",
   "name": "scala"
  },
  "language_info": {
   "codemirror_mode": "text/x-scala",
   "file_extension": ".scala",
   "mimetype": "text/x-scala",
   "name": "scala",
   "nbconvert_exporter": "script",
   "version": "2.12.10"
  }
 },
 "nbformat": 4,
 "nbformat_minor": 2
}
