{
 "cells": [
  {
   "cell_type": "markdown",
   "metadata": {},
   "source": [
    "<a name=\"top\"></a><img src=\"images/chisel_1024.png\" alt=\"Chisel logo\" style=\"width:480px;\" />"
   ]
  },
  {
   "cell_type": "markdown",
   "metadata": {},
   "source": [
    "# Module 2.4: Sequential Logic\n",
    "**Prev: [Control Flow](2.3_control_flow.ipynb)**<br>\n",
    "**Next: [FIR Filter](2.5_exercise.ipynb)**\n",
    "\n",
    "## Motivation\n",
    "상태 없이는 의미 있는 디지털 논리를 작성할 수 없습니다. 상태 없이는 의미 있는 디지털 논리를 작성할 수 없습니다. 의미있는 디지털 논리를 쓸 수 없다....\n",
    "\n",
    "알겠어? 중간 결과를 저장하지 않고는 아무데도 갈 수 없기 때문입니다.\n",
    "\n",
    "자, 그 나쁜 농담은 제쳐두고, 이 모듈은 Chisel에서 일반적인 순차 패턴을 표현하는 방법을 설명할 것입니다. 모듈이 끝나면 Chisel에서 시프트 레지스터를 구현하고 테스트할 수 있어야 합니다.\n",
    "\n",
    "이 섹션이 당신에게 극적으로 감동을 주지 않을 것이라는 점을 강조하는 것이 중요합니다. Chisel의 힘은 새로운 순차 논리 패턴이 아니라 설계의 매개변수화에 있습니다. 그 기능을 시연하기 전에 이러한 순차적 패턴이 무엇인지 배워야 합니다. 따라서 이 섹션에서는 Chisel이 Verilog가 할 수 있는 일을 거의 수행할 수 있음을 보여줍니다. Chisel 구문을 배우기만 하면 됩니다.\n",
    "\n",
    "## Setup"
   ]
  },
  {
   "cell_type": "code",
   "execution_count": 5,
   "metadata": {},
   "outputs": [
    {
     "data": {
      "text/plain": [
       "\u001b[36mpath\u001b[39m: \u001b[32mString\u001b[39m = \u001b[32m\"/home/parkdongho/dev/chisel-bootcamp/source/load-ivy.sc\"\u001b[39m"
      ]
     },
     "execution_count": 5,
     "metadata": {},
     "output_type": "execute_result"
    }
   ],
   "source": [
    "val path = System.getProperty(\"user.dir\") + \"/source/load-ivy.sc\"\n",
    "interp.load.module(ammonite.ops.Path(java.nio.file.FileSystems.getDefault().getPath(path)))"
   ]
  },
  {
   "cell_type": "code",
   "execution_count": 6,
   "metadata": {},
   "outputs": [
    {
     "data": {
      "text/plain": [
       "\u001b[32mimport \u001b[39m\u001b[36mchisel3._\n",
       "\u001b[39m\n",
       "\u001b[32mimport \u001b[39m\u001b[36mchisel3.util._\n",
       "\u001b[39m\n",
       "\u001b[32mimport \u001b[39m\u001b[36mchisel3.tester._\n",
       "\u001b[39m\n",
       "\u001b[32mimport \u001b[39m\u001b[36mchisel3.tester.RawTester.test\u001b[39m"
      ]
     },
     "execution_count": 6,
     "metadata": {},
     "output_type": "execute_result"
    }
   ],
   "source": [
    "import chisel3._\n",
    "import chisel3.util._\n",
    "import chisel3.tester._\n",
    "import chisel3.tester.RawTester.test"
   ]
  },
  {
   "cell_type": "markdown",
   "metadata": {},
   "source": [
    "---\n",
    "# Registers\n",
    "\n",
    "Chisel의 기본 상태 저장 요소는 `Reg`로 표시된 레지스터입니다.\n",
    "`Reg`는 clock의 상승 에지까지 출력 값을 유지하며, 이때 입력 값을 취합니다.\n",
    "기본적으로 모든 Chisel `Module`에는 설계의 모든 레지스터에서 사용되는 암시적 clock가 있습니다.\n",
    "이렇게 하면 코드 전체에서 항상 동일한 clock을 지정하지 않아도 됩니다.\n",
    "\n",
    "<span style=\"color:blue\">**Example: Using a Register**</span><br>\n",
    "다음 코드 블록은 입력을 받아 여기에 1을 더하고 레지스터의 입력으로 연결하는 모듈을 구현합니다.\n",
    "*참고: 암시적 clock은 multi-clock 설계에서 재정의될 수 있습니다. 예제는 부록을 참조하십시오.*"
   ]
  },
  {
   "cell_type": "code",
   "execution_count": 7,
   "metadata": {},
   "outputs": [
    {
     "name": "stdout",
     "output_type": "stream",
     "text": [
      "Elaborating design...\n",
      "Done elaborating.\n",
      "test RegisterModule Success: 0 tests passed in 102 cycles in 0.014277 seconds 7144.12 Hz\n",
      "SUCCESS!!\n"
     ]
    },
    {
     "data": {
      "text/plain": [
       "defined \u001b[32mclass\u001b[39m \u001b[36mRegisterModule\u001b[39m"
      ]
     },
     "execution_count": 7,
     "metadata": {},
     "output_type": "execute_result"
    }
   ],
   "source": [
    "class RegisterModule extends Module {\n",
    "  val io = IO(new Bundle {\n",
    "    val in  = Input(UInt(12.W))\n",
    "    val out = Output(UInt(12.W))\n",
    "  })\n",
    "  \n",
    "  val register = Reg(UInt(12.W))\n",
    "  register := io.in + 1.U\n",
    "  io.out := register\n",
    "}\n",
    "\n",
    "test(new RegisterModule) { c =>\n",
    "  for (i <- 0 until 100) {\n",
    "    c.io.in.poke(i.U)\n",
    "    c.clock.step(1)\n",
    "    c.io.out.expect((i + 1).U)\n",
    "  }\n",
    "}\n",
    "println(\"SUCCESS!!\")"
   ]
  },
  {
   "cell_type": "markdown",
   "metadata": {},
   "source": [
    "레지스터는 `Reg(tpe)`를 호출하여 생성됩니다. 여기서 `tpe`는 원하는 레지스터 유형을 인코딩하는 변수입니다.\n",
    "이 예에서 `tpe`는 12비트 `UInt`입니다.\n",
    "\n",
    "위의 테스터가 하는 일을 보십시오.\n",
    "`poke()` 호출과 `expect` 호출 사이에 `step(1)` 호출이 있습니다.\n",
    "이것은 테스트 하네스가 클럭을 한 번 틱하도록 지시하여 레지스터가 입력을 출력으로 전달하도록 합니다.\n",
    "\n",
    "`step(n)`을 호출하면 clock이 `n`번 tick할 것입니다.\n",
    "\n",
    "예리한 관찰자는 조합 논리를 테스트하는 이전 테스터가 `step()`을 호출하지 않았음을 알 수 있습니다. 이는 입력에서 `poke()`를 호출하면 조합 논리를 통해 업데이트된 값이 즉시 전파되기 때문입니다. `step()`을 호출하는 것은 순차 논리에서 상태 요소를 업데이트하는 데만 필요합니다.\n",
    "\n",
    "아래 코드 블록은 `RegisterModule`에 의해 생성된 Verilog를 보여줍니다.\n",
    "\n",
    "Note:\n",
    "* 모듈에는 추가하지 않은 클럭(및 재설정)에 대한 입력이 있습니다. 이것은 암시적 클럭입니다.\n",
    "* 변수 `register`는 예상대로 `reg [11:0]`으로 표시됩니다.\n",
    "* 시뮬레이션이 시작되기 전에 레지스터를 임의의 변수로 초기화한 `ifdef Randomize`에 의해 구획된 블록이 있습니다.\n",
    "* `register`는 `posedge clock`에서 업데이트됩니다."
   ]
  },
  {
   "cell_type": "code",
   "execution_count": 8,
   "metadata": {},
   "outputs": [
    {
     "name": "stdout",
     "output_type": "stream",
     "text": [
      "Elaborating design...\n",
      "Done elaborating.\n",
      "module RegisterModule(\n",
      "  input         clock,\n",
      "  input         reset,\n",
      "  input  [11:0] io_in,\n",
      "  output [11:0] io_out\n",
      ");\n",
      "`ifdef RANDOMIZE_REG_INIT\n",
      "  reg [31:0] _RAND_0;\n",
      "`endif // RANDOMIZE_REG_INIT\n",
      "  reg [11:0] register; // @[cmd6.sc 7:21]\n",
      "  assign io_out = register; // @[cmd6.sc 9:10]\n",
      "  always @(posedge clock) begin\n",
      "    register <= io_in + 12'h1; // @[cmd6.sc 8:21]\n",
      "  end\n",
      "// Register and memory initialization\n",
      "`ifdef RANDOMIZE_GARBAGE_ASSIGN\n",
      "`define RANDOMIZE\n",
      "`endif\n",
      "`ifdef RANDOMIZE_INVALID_ASSIGN\n",
      "`define RANDOMIZE\n",
      "`endif\n",
      "`ifdef RANDOMIZE_REG_INIT\n",
      "`define RANDOMIZE\n",
      "`endif\n",
      "`ifdef RANDOMIZE_MEM_INIT\n",
      "`define RANDOMIZE\n",
      "`endif\n",
      "`ifndef RANDOM\n",
      "`define RANDOM $random\n",
      "`endif\n",
      "`ifdef RANDOMIZE_MEM_INIT\n",
      "  integer initvar;\n",
      "`endif\n",
      "`ifndef SYNTHESIS\n",
      "`ifdef FIRRTL_BEFORE_INITIAL\n",
      "`FIRRTL_BEFORE_INITIAL\n",
      "`endif\n",
      "initial begin\n",
      "  `ifdef RANDOMIZE\n",
      "    `ifdef INIT_RANDOM\n",
      "      `INIT_RANDOM\n",
      "    `endif\n",
      "    `ifndef VERILATOR\n",
      "      `ifdef RANDOMIZE_DELAY\n",
      "        #`RANDOMIZE_DELAY begin end\n",
      "      `else\n",
      "        #0.002 begin end\n",
      "      `endif\n",
      "    `endif\n",
      "`ifdef RANDOMIZE_REG_INIT\n",
      "  _RAND_0 = {1{`RANDOM}};\n",
      "  register = _RAND_0[11:0];\n",
      "`endif // RANDOMIZE_REG_INIT\n",
      "  `endif // RANDOMIZE\n",
      "end // initial\n",
      "`ifdef FIRRTL_AFTER_INITIAL\n",
      "`FIRRTL_AFTER_INITIAL\n",
      "`endif\n",
      "`endif // SYNTHESIS\n",
      "endmodule\n",
      "\n"
     ]
    }
   ],
   "source": [
    "println(getVerilog(new RegisterModule))"
   ]
  },
  {
   "cell_type": "markdown",
   "metadata": {},
   "source": [
    "한 가지 중요한 점은 Chisel이 유형(예: `UInt`)과 하드웨어 노드(예: 리터럴 `2.U` 또는 `myReg`의 출력)를 구별한다는 것입니다.\n",
    "```scala\n",
    "val myReg = Reg(UInt(2.W))\n",
    "```\n",
    "다음은 Reg가 모델로 데이터 유형을 필요로 하기 때문에 합법적입니다.\n",
    "```scala\n",
    "val myReg = Reg(2.U)\n",
    "```\n",
    "`2.U`는 이미 하드웨어 노드이고 모델로 사용할 수 없기 때문에 오류입니다."
   ]
  },
  {
   "cell_type": "markdown",
   "metadata": {},
   "source": [
    "<span style=\"color:blue\">**Example: RegNext**</span><br>\n",
    "Chisel에는 간단한 입력 연결이 있는 레지스터를 위한 편리한 레지스터 객체가 있습니다. 이전 `Module`은 다음 `Module`으로 단축될 수 있습니다. 이번에는 레지스터 비트폭을 지정할 필요가 없었습니다. 레지스터의 출력 연결(이 경우 `io.out`)에서 추론됩니다."
   ]
  },
  {
   "cell_type": "code",
   "execution_count": 9,
   "metadata": {},
   "outputs": [
    {
     "name": "stdout",
     "output_type": "stream",
     "text": [
      "Elaborating design...\n",
      "Done elaborating.\n",
      "test RegNextModule Success: 0 tests passed in 102 cycles in 0.010975 seconds 9293.85 Hz\n",
      "SUCCESS!!\n"
     ]
    },
    {
     "data": {
      "text/plain": [
       "defined \u001b[32mclass\u001b[39m \u001b[36mRegNextModule\u001b[39m"
      ]
     },
     "execution_count": 9,
     "metadata": {},
     "output_type": "execute_result"
    }
   ],
   "source": [
    "class RegNextModule extends Module {\n",
    "  val io = IO(new Bundle {\n",
    "    val in  = Input(UInt(12.W))\n",
    "    val out = Output(UInt(12.W))\n",
    "  })\n",
    "  \n",
    "  // register bitwidth is inferred from io.out\n",
    "  io.out := RegNext(io.in + 1.U)\n",
    "}\n",
    "\n",
    "test(new RegNextModule) { c =>\n",
    "  for (i <- 0 until 100) {\n",
    "    c.io.in.poke(i.U)\n",
    "    c.clock.step(1)\n",
    "    c.io.out.expect((i + 1).U)\n",
    "  }\n",
    "}\n",
    "println(\"SUCCESS!!\")"
   ]
  },
  {
   "cell_type": "markdown",
   "metadata": {},
   "source": [
    "Verilog는 이전과 거의 같아 보이지만 명시적으로 정의되는 대신 레지스터 이름이 생성됩니다."
   ]
  },
  {
   "cell_type": "code",
   "execution_count": 10,
   "metadata": {},
   "outputs": [
    {
     "name": "stdout",
     "output_type": "stream",
     "text": [
      "Elaborating design...\n",
      "Done elaborating.\n",
      "module RegNextModule(\n",
      "  input         clock,\n",
      "  input         reset,\n",
      "  input  [11:0] io_in,\n",
      "  output [11:0] io_out\n",
      ");\n",
      "`ifdef RANDOMIZE_REG_INIT\n",
      "  reg [31:0] _RAND_0;\n",
      "`endif // RANDOMIZE_REG_INIT\n",
      "  reg [11:0] REG; // @[cmd8.sc 8:20]\n",
      "  assign io_out = REG; // @[cmd8.sc 8:10]\n",
      "  always @(posedge clock) begin\n",
      "    REG <= io_in + 12'h1; // @[cmd8.sc 8:27]\n",
      "  end\n",
      "// Register and memory initialization\n",
      "`ifdef RANDOMIZE_GARBAGE_ASSIGN\n",
      "`define RANDOMIZE\n",
      "`endif\n",
      "`ifdef RANDOMIZE_INVALID_ASSIGN\n",
      "`define RANDOMIZE\n",
      "`endif\n",
      "`ifdef RANDOMIZE_REG_INIT\n",
      "`define RANDOMIZE\n",
      "`endif\n",
      "`ifdef RANDOMIZE_MEM_INIT\n",
      "`define RANDOMIZE\n",
      "`endif\n",
      "`ifndef RANDOM\n",
      "`define RANDOM $random\n",
      "`endif\n",
      "`ifdef RANDOMIZE_MEM_INIT\n",
      "  integer initvar;\n",
      "`endif\n",
      "`ifndef SYNTHESIS\n",
      "`ifdef FIRRTL_BEFORE_INITIAL\n",
      "`FIRRTL_BEFORE_INITIAL\n",
      "`endif\n",
      "initial begin\n",
      "  `ifdef RANDOMIZE\n",
      "    `ifdef INIT_RANDOM\n",
      "      `INIT_RANDOM\n",
      "    `endif\n",
      "    `ifndef VERILATOR\n",
      "      `ifdef RANDOMIZE_DELAY\n",
      "        #`RANDOMIZE_DELAY begin end\n",
      "      `else\n",
      "        #0.002 begin end\n",
      "      `endif\n",
      "    `endif\n",
      "`ifdef RANDOMIZE_REG_INIT\n",
      "  _RAND_0 = {1{`RANDOM}};\n",
      "  REG = _RAND_0[11:0];\n",
      "`endif // RANDOMIZE_REG_INIT\n",
      "  `endif // RANDOMIZE\n",
      "end // initial\n",
      "`ifdef FIRRTL_AFTER_INITIAL\n",
      "`FIRRTL_AFTER_INITIAL\n",
      "`endif\n",
      "`endif // SYNTHESIS\n",
      "endmodule\n",
      "\n"
     ]
    }
   ],
   "source": [
    "println(getVerilog(new RegNextModule))"
   ]
  },
  {
   "cell_type": "markdown",
   "metadata": {},
   "source": [
    "---\n",
    "# `RegInit`\n",
    "\n",
    "`RegisterModule`의 레지스터는 시뮬레이션을 위해 임의의 데이터로 초기화되었습니다.\n",
    "달리 지정되지 않는 한 레지스터에는 reset 값(또는 reset)이 없습니다.\n",
    "주어진 값으로 재설정되는 레지스터를 만드는 방법은 `RegInit`를 사용하는 것입니다.\n",
    "\n",
    "예를 들어, 0으로 초기화된 12비트 레지스터는 다음과 같이 생성할 수 있습니다.\n",
    "아래 두 버전 모두 유효하며 동일한 작업을 수행합니다.\n",
    "\n",
    "```scala\n",
    "val myReg = RegInit(UInt(12.W), 0.U)\n",
    "val myReg = RegInit(0.U(12.W))\n",
    "```\n",
    "\n",
    "첫 번째 버전에는 두 개의 인수가 있습니다.\n",
    "첫 번째 인수는 데이터 유형과 너비를 지정한 유형 노드입니다.\n",
    "두 번째 인수는 재설정 값(이 경우 0)을 지정한 하드웨어 노드입니다.\n",
    "\n",
    "두 번째 버전에는 하나의 인수가 있습니다.\n",
    "reset 값을 지정하는 하드웨어 노드이지만 일반적으로 '0.U'입니다.\n",
    "\n",
    "<span style=\"color:blue\">**Example: Initialized Register** </span><br>\n",
    "다음은 0으로 초기화된 `RegInit()`을 사용하는 방법을 보여줍니다."
   ]
  },
  {
   "cell_type": "code",
   "execution_count": 11,
   "metadata": {},
   "outputs": [
    {
     "name": "stdout",
     "output_type": "stream",
     "text": [
      "Elaborating design...\n",
      "Done elaborating.\n",
      "module RegInitModule(\n",
      "  input         clock,\n",
      "  input         reset,\n",
      "  input  [11:0] io_in,\n",
      "  output [11:0] io_out\n",
      ");\n",
      "`ifdef RANDOMIZE_REG_INIT\n",
      "  reg [31:0] _RAND_0;\n",
      "`endif // RANDOMIZE_REG_INIT\n",
      "  reg [11:0] register; // @[cmd10.sc 7:25]\n",
      "  wire [11:0] _T_1 = io_in + 12'h1; // @[cmd10.sc 8:21]\n",
      "  assign io_out = register; // @[cmd10.sc 9:10]\n",
      "  always @(posedge clock) begin\n",
      "    if (reset) begin // @[cmd10.sc 7:25]\n",
      "      register <= 12'h0; // @[cmd10.sc 7:25]\n",
      "    end else begin\n",
      "      register <= _T_1; // @[cmd10.sc 8:12]\n",
      "    end\n",
      "  end\n",
      "// Register and memory initialization\n",
      "`ifdef RANDOMIZE_GARBAGE_ASSIGN\n",
      "`define RANDOMIZE\n",
      "`endif\n",
      "`ifdef RANDOMIZE_INVALID_ASSIGN\n",
      "`define RANDOMIZE\n",
      "`endif\n",
      "`ifdef RANDOMIZE_REG_INIT\n",
      "`define RANDOMIZE\n",
      "`endif\n",
      "`ifdef RANDOMIZE_MEM_INIT\n",
      "`define RANDOMIZE\n",
      "`endif\n",
      "`ifndef RANDOM\n",
      "`define RANDOM $random\n",
      "`endif\n",
      "`ifdef RANDOMIZE_MEM_INIT\n",
      "  integer initvar;\n",
      "`endif\n",
      "`ifndef SYNTHESIS\n",
      "`ifdef FIRRTL_BEFORE_INITIAL\n",
      "`FIRRTL_BEFORE_INITIAL\n",
      "`endif\n",
      "initial begin\n",
      "  `ifdef RANDOMIZE\n",
      "    `ifdef INIT_RANDOM\n",
      "      `INIT_RANDOM\n",
      "    `endif\n",
      "    `ifndef VERILATOR\n",
      "      `ifdef RANDOMIZE_DELAY\n",
      "        #`RANDOMIZE_DELAY begin end\n",
      "      `else\n",
      "        #0.002 begin end\n",
      "      `endif\n",
      "    `endif\n",
      "`ifdef RANDOMIZE_REG_INIT\n",
      "  _RAND_0 = {1{`RANDOM}};\n",
      "  register = _RAND_0[11:0];\n",
      "`endif // RANDOMIZE_REG_INIT\n",
      "  `endif // RANDOMIZE\n",
      "end // initial\n",
      "`ifdef FIRRTL_AFTER_INITIAL\n",
      "`FIRRTL_AFTER_INITIAL\n",
      "`endif\n",
      "`endif // SYNTHESIS\n",
      "endmodule\n",
      "\n"
     ]
    },
    {
     "data": {
      "text/plain": [
       "defined \u001b[32mclass\u001b[39m \u001b[36mRegInitModule\u001b[39m"
      ]
     },
     "execution_count": 11,
     "metadata": {},
     "output_type": "execute_result"
    }
   ],
   "source": [
    "class RegInitModule extends Module {\n",
    "  val io = IO(new Bundle {\n",
    "    val in  = Input(UInt(12.W))\n",
    "    val out = Output(UInt(12.W))\n",
    "  })\n",
    "  \n",
    "  val register = RegInit(0.U(12.W))\n",
    "  register := io.in + 1.U\n",
    "  io.out := register\n",
    "}\n",
    "\n",
    "println(getVerilog(new RegInitModule))"
   ]
  },
  {
   "cell_type": "markdown",
   "metadata": {},
   "source": [
    "생성된 Verilog에는 레지스터를 0으로 reset하기 위해 `if (reset)`를 확인하는 블록이 있습니다.\n",
    "또한 이것은 `always @(posedge clock)` 블록 안에 있다는 점에 유의하십시오.\n",
    "Chisel의 암시적 reset은 active high 및 동기식입니다.\n",
    "레지스터는 reset이 호출되기 전에 여전히 임의의 정크로 초기화됩니다.\n",
    "`PeekPokeTesters`는 테스트를 실행하기 전에 항상 reset을 호출하지만 `reset(n)` 함수를 사용하여 수동으로 reset을 호출할 수도 있습니다. 여기서 reset은 `n` 주기 동안 high값을 갖습니다."
   ]
  },
  {
   "cell_type": "markdown",
   "metadata": {},
   "source": [
    "---\n",
    "# Control Flow\n",
    "레지스터는 제어 흐름 측면에서 와이어와 매우 유사합니다.\n",
    "그것들은 마지막 연결 의미 체계를 가지며 `when`, `elsewhen` 및 `otherwise`를 사용하여 조건부로 할당할 수 있습니다.\n",
    "\n",
    "<span style=\"color:blue\">**Example: Register Control Flow**</span><br>\n",
    "다음 예에서는 조건부 레지스터 할당을 사용하여 입력 시퀀스에서 최대값을 찾습니다."
   ]
  },
  {
   "cell_type": "code",
   "execution_count": 12,
   "metadata": {},
   "outputs": [
    {
     "name": "stdout",
     "output_type": "stream",
     "text": [
      "Elaborating design...\n",
      "Done elaborating.\n",
      "test FindMax Success: 0 tests passed in 6 cycles in 0.001468 seconds 4088.45 Hz\n",
      "SUCCESS!!\n"
     ]
    },
    {
     "data": {
      "text/plain": [
       "defined \u001b[32mclass\u001b[39m \u001b[36mFindMax\u001b[39m"
      ]
     },
     "execution_count": 12,
     "metadata": {},
     "output_type": "execute_result"
    }
   ],
   "source": [
    "class FindMax extends Module {\n",
    "  val io = IO(new Bundle {\n",
    "    val in  = Input(UInt(10.W))\n",
    "    val max = Output(UInt(10.W))\n",
    "  })\n",
    "\n",
    "  val max = RegInit(0.U(10.W))\n",
    "  when (io.in > max) {\n",
    "    max := io.in\n",
    "  }\n",
    "  io.max := max\n",
    "}\n",
    "\n",
    "test(new FindMax) { c =>\n",
    "    c.io.max.expect(0.U)\n",
    "    c.io.in.poke(1.U)\n",
    "    c.clock.step(1)\n",
    "    c.io.max.expect(1.U)\n",
    "    c.io.in.poke(3.U)\n",
    "    c.clock.step(1)\n",
    "    c.io.max.expect(3.U)\n",
    "    c.io.in.poke(2.U)\n",
    "    c.clock.step(1)\n",
    "    c.io.max.expect(3.U)\n",
    "    c.io.in.poke(24.U)\n",
    "    c.clock.step(1)\n",
    "    c.io.max.expect(24.U)\n",
    "}\n",
    "println(\"SUCCESS!!\")"
   ]
  },
  {
   "cell_type": "markdown",
   "metadata": {},
   "source": [
    "---\n",
    "# Other Register Examples\n",
    "\n",
    "레지스터에서 호출된 작업은 레지스터의 **출력**에서 수행되며 작업의 종류는 레지스터의 유형에 따라 다릅니다.\n",
    "\n",
    "```scala\n",
    "val reg: UInt = Reg(UInt(4.W))\n",
    "```\n",
    "즉, 값 `reg`가 `UInt` 유형이고 `+`, `-` 등과 같이 `UInt`로 일반적으로 수행할 수 있는 작업을 수행할 수 있음을 의미합니다.\n",
    "\n",
    "레지스터와 함께 `UInt`를 사용하는 것으로 제한되지 않으며 기본 유형 `chisel3.Data`의 모든 하위 클래스를 사용할 수 있습니다. 여기에는 부호 있는 정수 및 기타 많은 항목에 대한 `SInt`가 포함됩니다.\n",
    "\n",
    "<span style=\"color:blue\">**Example: Comb Filter**</span><br>\n",
    "다음 예는 Comb Filter를 보여줍니다."
   ]
  },
  {
   "cell_type": "code",
   "execution_count": 13,
   "metadata": {},
   "outputs": [
    {
     "name": "stdout",
     "output_type": "stream",
     "text": [
      "Elaborating design...\n",
      "Done elaborating.\n",
      "module Comb(\n",
      "  input         clock,\n",
      "  input         reset,\n",
      "  input  [11:0] io_in,\n",
      "  output [11:0] io_out\n",
      ");\n",
      "`ifdef RANDOMIZE_REG_INIT\n",
      "  reg [31:0] _RAND_0;\n",
      "`endif // RANDOMIZE_REG_INIT\n",
      "  reg [11:0] delay; // @[cmd12.sc 7:24]\n",
      "  assign io_out = $signed(io_in) - $signed(delay); // @[cmd12.sc 9:19]\n",
      "  always @(posedge clock) begin\n",
      "    delay <= io_in; // @[cmd12.sc 8:9]\n",
      "  end\n",
      "// Register and memory initialization\n",
      "`ifdef RANDOMIZE_GARBAGE_ASSIGN\n",
      "`define RANDOMIZE\n",
      "`endif\n",
      "`ifdef RANDOMIZE_INVALID_ASSIGN\n",
      "`define RANDOMIZE\n",
      "`endif\n",
      "`ifdef RANDOMIZE_REG_INIT\n",
      "`define RANDOMIZE\n",
      "`endif\n",
      "`ifdef RANDOMIZE_MEM_INIT\n",
      "`define RANDOMIZE\n",
      "`endif\n",
      "`ifndef RANDOM\n",
      "`define RANDOM $random\n",
      "`endif\n",
      "`ifdef RANDOMIZE_MEM_INIT\n",
      "  integer initvar;\n",
      "`endif\n",
      "`ifndef SYNTHESIS\n",
      "`ifdef FIRRTL_BEFORE_INITIAL\n",
      "`FIRRTL_BEFORE_INITIAL\n",
      "`endif\n",
      "initial begin\n",
      "  `ifdef RANDOMIZE\n",
      "    `ifdef INIT_RANDOM\n",
      "      `INIT_RANDOM\n",
      "    `endif\n",
      "    `ifndef VERILATOR\n",
      "      `ifdef RANDOMIZE_DELAY\n",
      "        #`RANDOMIZE_DELAY begin end\n",
      "      `else\n",
      "        #0.002 begin end\n",
      "      `endif\n",
      "    `endif\n",
      "`ifdef RANDOMIZE_REG_INIT\n",
      "  _RAND_0 = {1{`RANDOM}};\n",
      "  delay = _RAND_0[11:0];\n",
      "`endif // RANDOMIZE_REG_INIT\n",
      "  `endif // RANDOMIZE\n",
      "end // initial\n",
      "`ifdef FIRRTL_AFTER_INITIAL\n",
      "`FIRRTL_AFTER_INITIAL\n",
      "`endif\n",
      "`endif // SYNTHESIS\n",
      "endmodule\n",
      "\n"
     ]
    },
    {
     "data": {
      "text/plain": [
       "defined \u001b[32mclass\u001b[39m \u001b[36mComb\u001b[39m"
      ]
     },
     "execution_count": 13,
     "metadata": {},
     "output_type": "execute_result"
    }
   ],
   "source": [
    "class Comb extends Module {\n",
    "  val io = IO(new Bundle {\n",
    "    val in  = Input(SInt(12.W))\n",
    "    val out = Output(SInt(12.W))\n",
    "  })\n",
    "\n",
    "  val delay: SInt = Reg(SInt(12.W))\n",
    "  delay := io.in\n",
    "  io.out := io.in - delay\n",
    "}\n",
    "println(getVerilog(new Comb))"
   ]
  },
  {
   "cell_type": "markdown",
   "metadata": {},
   "source": [
    "---\n",
    "# Exercises\n",
    "<span style=\"color:red\">**Exercise: Shift Register**</span><br>\n",
    "새로 발견한 registering 지식이 주어지면 LFSR에 대한 시프트 레지스터를 구현하는 모듈을 빌드하십시오. 구체적으로:\n",
    "- 각 요소의 너비는 1비트입니다.\n",
    "- 4비트 출력 신호가 있습니다.\n",
    "- 시프트 레지스터의 다음 값인 단일 입력 비트를 사용합니다.\n",
    "- 시프트 레지스터의 병렬 출력을 출력합니다. 최상위 비트는 시프트 레지스터의 마지막 요소이고 최하위 비트는 시프트 레지스터의 첫 번째 요소입니다. '고양이'가 유용할 수 있습니다.\n",
    "- **출력은 `b0001`에서 초기화됩니다.**\n",
    "- 각 클록 주기를 이동합니다(활성화 신호 없음).\n",
    "- **Chisel에서 참고, subword 할당은 불법입니다**; `out(0) := in`과 같은 것은 작동하지 않습니다.\n",
    "\n",
    "<img src=\"images/shifter4.svg\" alt=\"shift register figure\" style=\"width: 450px\" />\n",
    "\n",
    "\n",
    "기본 모듈 스켈레톤, 테스트 벡터 및 드라이버 호출이 아래에 제공됩니다. 첫 번째 레지스터가 제공되었습니다."
   ]
  },
  {
   "cell_type": "markdown",
   "metadata": {},
   "source": [
    "class MyShiftRegister(val init: Int = 1) extends Module {\n",
    "  val io = IO(new Bundle {\n",
    "    val in  = Input(Bool())\n",
    "    val out = Output(UInt(4.W))\n",
    "  })\n",
    "\n",
    "  val state = RegInit(UInt(4.W), init.U)\n",
    "\n",
    "  ???\n",
    "}\n",
    "\n",
    "test(new MyShiftRegister()) { c =>\n",
    "  var state = c.init\n",
    "  for (i <- 0 until 10) {\n",
    "    // poke in LSB of i (i % 2)\n",
    "    c.io.in.poke(((i % 2) != 0).B)\n",
    "    // update expected state\n",
    "    state = ((state * 2) + (i % 2)) & 0xf\n",
    "    c.clock.step(1)\n",
    "    c.io.out.expect(state.U)\n",
    "  }\n",
    "}\n",
    "println(\"SUCCESS!!\")"
   ]
  },
  {
   "cell_type": "markdown",
   "metadata": {},
   "source": [
    "<div id=\"container\"><section id=\"accordion\"><div>\n",
    "<input type=\"checkbox\" id=\"check-1\" />\n",
    "<label for=\"check-1\"><strong>Solution</strong></label>\n",
    "<article>\n",
    "<pre style=\"background-color:#f7f7f7\">\n",
    "  val nextState = (state << 1) | io.in\n",
    "  state := nextState\n",
    "  io.out := state\n",
    "</pre></article></div></section></div>"
   ]
  },
  {
   "cell_type": "markdown",
   "metadata": {},
   "source": [
    "<span style=\"color:red\">**Exercise: Parameterized Shift Register (Optional)**</span><br>\n",
    "Write a shift register that is parameterized by its delay (`n`), its initial value (`init`), and also has an enable input signal (`en`)."
   ]
  },
  {
   "cell_type": "code",
   "execution_count": null,
   "metadata": {},
   "outputs": [
    {
     "name": "stdout",
     "output_type": "stream",
     "text": [
      "Testing n=3\n",
      "Elaborating design...\n"
     ]
    }
   ],
   "source": [
    "// n is the output width (number of delays - 1)\n",
    "// init state to init\n",
    "class MyOptionalShiftRegister(val n: Int, val init: BigInt = 1) extends Module {\n",
    "  val io = IO(new Bundle {\n",
    "    val en  = Input(Bool())\n",
    "    val in  = Input(Bool())\n",
    "    val out = Output(UInt(n.W))\n",
    "  })\n",
    "\n",
    "  val state = RegInit(init.U(n.W))\n",
    "\n",
    "  ???\n",
    "}\n",
    "\n",
    "// test different depths\n",
    "for (i <- Seq(3, 4, 8, 24, 65)) {\n",
    "  println(s\"Testing n=$i\")\n",
    "  test(new MyOptionalShiftRegister(n = i)) { c =>\n",
    "    val inSeq = Seq(0, 1, 1, 1, 0, 1, 1, 0, 0, 1)\n",
    "    var state = c.init\n",
    "    var i = 0\n",
    "    c.io.en.poke(true.B)\n",
    "    while (i < 10 * c.n) {\n",
    "      // poke in repeated inSeq\n",
    "      val toPoke = inSeq(i % inSeq.length)\n",
    "      c.io.in.poke((toPoke != 0).B)\n",
    "      // update expected state\n",
    "      state = ((state * 2) + toPoke) & BigInt(\"1\"*c.n, 2)\n",
    "      c.clock.step(1)\n",
    "      c.io.out.expect(state.U)\n",
    "\n",
    "      i += 1\n",
    "    }\n",
    "  }\n",
    "}\n",
    "println(\"SUCCESS!!\")"
   ]
  },
  {
   "cell_type": "markdown",
   "metadata": {},
   "source": [
    "<div id=\"container\"><section id=\"accordion\"><div>\n",
    "<input type=\"checkbox\" id=\"check-2\" />\n",
    "<label for=\"check-2\"><strong>Solution</strong></label>\n",
    "<article>\n",
    "<pre style=\"background-color:#f7f7f7\">\n",
    "  val nextState = (state << 1) | io.in\n",
    "  when (io.en) {\n",
    "    state  := nextState\n",
    "  }\n",
    "  io.out := state\n",
    "</pre></article></div></section></div>"
   ]
  },
  {
   "cell_type": "markdown",
   "metadata": {},
   "source": [
    "---\n",
    "# Appendix: Explicit clock and reset\n",
    "Chisel 모듈에는 내부에 생성된 모든 레지스터에서 암시적으로 사용하는 기본 clock 및 reset이 있습니다.\n",
    "이 기본 동작을 재정의할 수 있기를 원하는 경우가 있습니다. clock 또는 reset 신호를 생성하는 블랙박스가 있거나 다중 클럭 설계가 있을 수 있습니다.\n",
    "\n",
    "Chisel은 이러한 경우를 처리하기 위한 구문을 제공합니다.\n",
    "클록과 리셋은 별도로 또는 `withClock() {}`, `withReset() {}`, `withClockAndReset() {}`와 함께 재정의할 수 있습니다.\n",
    "다음 코드 블록은 이러한 기능을 사용하는 예를 제공합니다.\n",
    "\n",
    "한 가지 알아야 할 것은 `reset`(이 튜토리얼의 작성 시점)은 항상 동기식이며 `Bool` 유형이라는 것입니다.\n",
    "Clock은 Chisel(`Clock`)에 고유한 유형을 가지며 그렇게 선언해야 합니다.\n",
    "*`Bool`은 `asClock()`을 호출하여 `Clock`으로 변환할 수 있지만 어리석은 일을 하지 않도록 주의해야 합니다.*\n",
    "\n",
    "또한 'Chisel 테스터'는 현재 다중 클록 설계를 완벽하게 지원하지 않습니다.\n",
    "\n",
    "<span style=\"color:blue\">**Example: Multi-Clock Module**</span><br>\n",
    "다중 클럭 및 리셋 신호가 있는 모듈입니다."
   ]
  },
  {
   "cell_type": "code",
   "execution_count": 15,
   "metadata": {
    "scrolled": true
   },
   "outputs": [
    {
     "name": "stdout",
     "output_type": "stream",
     "text": [
      "Elaborating design...\n",
      "Done elaborating.\n",
      "module ClockExamples(\n",
      "  input        clock,\n",
      "  input        reset,\n",
      "  input  [9:0] io_in,\n",
      "  input        io_alternateReset,\n",
      "  input        io_alternateClock,\n",
      "  output [9:0] io_outImplicit,\n",
      "  output [9:0] io_outAlternateReset,\n",
      "  output [9:0] io_outAlternateClock,\n",
      "  output [9:0] io_outAlternateBoth\n",
      ");\n",
      "`ifdef RANDOMIZE_REG_INIT\n",
      "  reg [31:0] _RAND_0;\n",
      "  reg [31:0] _RAND_1;\n",
      "  reg [31:0] _RAND_2;\n",
      "  reg [31:0] _RAND_3;\n",
      "`endif // RANDOMIZE_REG_INIT\n",
      "  reg [9:0] imp; // @[cmd14.sc 14:20]\n",
      "  reg [9:0] REG; // @[cmd14.sc 20:25]\n",
      "  reg [9:0] REG_1; // @[cmd14.sc 26:25]\n",
      "  reg [9:0] REG_2; // @[cmd14.sc 32:22]\n",
      "  assign io_outImplicit = imp; // @[cmd14.sc 16:18]\n",
      "  assign io_outAlternateReset = REG; // @[cmd14.sc 22:26]\n",
      "  assign io_outAlternateClock = REG_1; // @[cmd14.sc 28:26]\n",
      "  assign io_outAlternateBoth = REG_2; // @[cmd14.sc 34:25]\n",
      "  always @(posedge clock) begin\n",
      "    if (reset) begin // @[cmd14.sc 14:20]\n",
      "      imp <= 10'h0; // @[cmd14.sc 14:20]\n",
      "    end else begin\n",
      "      imp <= io_in; // @[cmd14.sc 15:7]\n",
      "    end\n",
      "    if (io_alternateReset) begin // @[cmd14.sc 20:25]\n",
      "      REG <= 10'h0; // @[cmd14.sc 20:25]\n",
      "    end else begin\n",
      "      REG <= io_in; // @[cmd14.sc 21:12]\n",
      "    end\n",
      "  end\n",
      "  always @(posedge io_alternateClock) begin\n",
      "    if (reset) begin // @[cmd14.sc 26:25]\n",
      "      REG_1 <= 10'h0; // @[cmd14.sc 26:25]\n",
      "    end else begin\n",
      "      REG_1 <= io_in; // @[cmd14.sc 27:12]\n",
      "    end\n",
      "    if (io_alternateReset) begin // @[cmd14.sc 32:22]\n",
      "      REG_2 <= 10'h0; // @[cmd14.sc 32:22]\n",
      "    end else begin\n",
      "      REG_2 <= io_in; // @[cmd14.sc 33:9]\n",
      "    end\n",
      "  end\n",
      "// Register and memory initialization\n",
      "`ifdef RANDOMIZE_GARBAGE_ASSIGN\n",
      "`define RANDOMIZE\n",
      "`endif\n",
      "`ifdef RANDOMIZE_INVALID_ASSIGN\n",
      "`define RANDOMIZE\n",
      "`endif\n",
      "`ifdef RANDOMIZE_REG_INIT\n",
      "`define RANDOMIZE\n",
      "`endif\n",
      "`ifdef RANDOMIZE_MEM_INIT\n",
      "`define RANDOMIZE\n",
      "`endif\n",
      "`ifndef RANDOM\n",
      "`define RANDOM $random\n",
      "`endif\n",
      "`ifdef RANDOMIZE_MEM_INIT\n",
      "  integer initvar;\n",
      "`endif\n",
      "`ifndef SYNTHESIS\n",
      "`ifdef FIRRTL_BEFORE_INITIAL\n",
      "`FIRRTL_BEFORE_INITIAL\n",
      "`endif\n",
      "initial begin\n",
      "  `ifdef RANDOMIZE\n",
      "    `ifdef INIT_RANDOM\n",
      "      `INIT_RANDOM\n",
      "    `endif\n",
      "    `ifndef VERILATOR\n",
      "      `ifdef RANDOMIZE_DELAY\n",
      "        #`RANDOMIZE_DELAY begin end\n",
      "      `else\n",
      "        #0.002 begin end\n",
      "      `endif\n",
      "    `endif\n",
      "`ifdef RANDOMIZE_REG_INIT\n",
      "  _RAND_0 = {1{`RANDOM}};\n",
      "  imp = _RAND_0[9:0];\n",
      "  _RAND_1 = {1{`RANDOM}};\n",
      "  REG = _RAND_1[9:0];\n",
      "  _RAND_2 = {1{`RANDOM}};\n",
      "  REG_1 = _RAND_2[9:0];\n",
      "  _RAND_3 = {1{`RANDOM}};\n",
      "  REG_2 = _RAND_3[9:0];\n",
      "`endif // RANDOMIZE_REG_INIT\n",
      "  `endif // RANDOMIZE\n",
      "end // initial\n",
      "`ifdef FIRRTL_AFTER_INITIAL\n",
      "`FIRRTL_AFTER_INITIAL\n",
      "`endif\n",
      "`endif // SYNTHESIS\n",
      "endmodule\n",
      "\n"
     ]
    },
    {
     "data": {
      "text/plain": [
       "\u001b[32mimport \u001b[39m\u001b[36mchisel3.experimental.{withClock, withReset, withClockAndReset}\n",
       "\n",
       "\u001b[39m\n",
       "defined \u001b[32mclass\u001b[39m \u001b[36mClockExamples\u001b[39m"
      ]
     },
     "execution_count": 15,
     "metadata": {},
     "output_type": "execute_result"
    }
   ],
   "source": [
    "// we need to import multi-clock features\n",
    "import chisel3.experimental.{withClock, withReset, withClockAndReset}\n",
    "\n",
    "class ClockExamples extends Module {\n",
    "  val io = IO(new Bundle {\n",
    "    val in = Input(UInt(10.W))\n",
    "    val alternateReset    = Input(Bool())\n",
    "    val alternateClock    = Input(Clock())\n",
    "    val outImplicit       = Output(UInt())\n",
    "    val outAlternateReset = Output(UInt())\n",
    "    val outAlternateClock = Output(UInt())\n",
    "    val outAlternateBoth  = Output(UInt())\n",
    "  })\n",
    "\n",
    "  val imp = RegInit(0.U(10.W))\n",
    "  imp := io.in\n",
    "  io.outImplicit := imp\n",
    "\n",
    "  withReset(io.alternateReset) {\n",
    "    // everything in this scope with have alternateReset as the reset\n",
    "    val altRst = RegInit(0.U(10.W))\n",
    "    altRst := io.in\n",
    "    io.outAlternateReset := altRst\n",
    "  }\n",
    "\n",
    "  withClock(io.alternateClock) {\n",
    "    val altClk = RegInit(0.U(10.W))\n",
    "    altClk := io.in\n",
    "    io.outAlternateClock := altClk\n",
    "  }\n",
    "\n",
    "  withClockAndReset(io.alternateClock, io.alternateReset) {\n",
    "    val alt = RegInit(0.U(10.W))\n",
    "    alt := io.in\n",
    "    io.outAlternateBoth := alt\n",
    "  }\n",
    "}\n",
    "\n",
    "println(getVerilog(new ClockExamples))"
   ]
  },
  {
   "cell_type": "markdown",
   "metadata": {},
   "source": [
    "---\n",
    "# Wrap Up\n",
    "\n",
    "이 섹션을 완료했습니다. 이제 Chisel에서 레지스터를 만들고 순차 논리를 작성하는 방법을 배웠습니다. 즉, 실제 회로를 작성하기에 충분한 기본 빌딩 블록이 있음을 의미합니다.\n",
    "\n",
    "다음 섹션에서는 우리가 배운 모든 것을 하나의 예제로 결합할 것입니다! 조금 더 격려가 필요하시면 Chisel 전문 사용자의 다음 말을 기억하십시오.\n",
    "\n",
    "![BobRoss](http://i.qkme.me/3qbd5u.jpg)"
   ]
  },
  {
   "cell_type": "markdown",
   "metadata": {},
   "source": [
    "---\n",
    "# You're done!\n",
    "\n",
    "[Return to the top.](#top)"
   ]
  }
 ],
 "metadata": {
  "kernelspec": {
   "display_name": "Scala",
   "language": "scala",
   "name": "scala"
  },
  "language_info": {
   "codemirror_mode": "text/x-scala",
   "file_extension": ".scala",
   "mimetype": "text/x-scala",
   "name": "scala",
   "nbconvert_exporter": "script",
   "version": "2.12.10"
  }
 },
 "nbformat": 4,
 "nbformat_minor": 2
}
