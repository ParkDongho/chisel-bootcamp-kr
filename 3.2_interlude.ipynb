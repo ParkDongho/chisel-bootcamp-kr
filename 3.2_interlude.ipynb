{
 "cells": [
  {
   "cell_type": "markdown",
   "metadata": {},
   "source": [
    "<a name=\"top\"></a><img src=\"images/chisel_1024.png\" alt=\"Chisel logo\" style=\"width:480px;\" />"
   ]
  },
  {
   "cell_type": "markdown",
   "metadata": {},
   "source": [
    "# Module 3 Interlude: Chisel Standard Library\n",
    "**Prev: [Generators: Collections](3.2_collections.ipynb)**<br>\n",
    "**Next: [Higher-Order Functions](3.3_higher-order_functions.ipynb)**\n",
    "\n",
    "## Motivation\n",
    "Chisel은 모두 재사용에 관한 것이므로 일반적으로 사용되는 하드웨어 블록에 대한 인터페이스 및 생성기(RTL의 상호 운용성 장려)의 표준 라이브러리를 제공하는 것이 합리적입니다.\n",
    "\n",
    "## Setup"
   ]
  },
  {
   "cell_type": "code",
   "execution_count": 1,
   "metadata": {},
   "outputs": [
    {
     "data": {
      "text/plain": [
       "\u001b[36mpath\u001b[39m: \u001b[32mString\u001b[39m = \u001b[32m\"/home/parkdongho/dev/chisel-bootcamp-kr/source/load-ivy.sc\"\u001b[39m"
      ]
     },
     "execution_count": 1,
     "metadata": {},
     "output_type": "execute_result"
    }
   ],
   "source": [
    "val path = System.getProperty(\"user.dir\") + \"/source/load-ivy.sc\"\n",
    "interp.load.module(ammonite.ops.Path(java.nio.file.FileSystems.getDefault().getPath(path)))"
   ]
  },
  {
   "cell_type": "code",
   "execution_count": 2,
   "metadata": {},
   "outputs": [
    {
     "data": {
      "text/plain": [
       "\u001b[32mimport \u001b[39m\u001b[36mchisel3._\n",
       "\u001b[39m\n",
       "\u001b[32mimport \u001b[39m\u001b[36mchisel3.util._\n",
       "\u001b[39m\n",
       "\u001b[32mimport \u001b[39m\u001b[36mchisel3.tester._\n",
       "\u001b[39m\n",
       "\u001b[32mimport \u001b[39m\u001b[36mchisel3.tester.RawTester.test\u001b[39m"
      ]
     },
     "execution_count": 2,
     "metadata": {},
     "output_type": "execute_result"
    }
   ],
   "source": [
    "import chisel3._\n",
    "import chisel3.util._\n",
    "import chisel3.tester._\n",
    "import chisel3.tester.RawTester.test"
   ]
  },
  {
   "cell_type": "markdown",
   "metadata": {},
   "source": [
    "---\n",
    "# The Cheatsheet\n",
    "[Chisel3 치트시트](https://github.com/freechipsproject/chisel-cheatsheet/releases/latest/download/chisel_cheatsheet.pdf)에는 우리가 제공하는 일부 표준 라이브러리 유틸리티를 포함하여 모든 주요 하드웨어 구성 API에 대한 요약이 포함되어 있습니다. 아래에서 소개합니다.\n",
    "\n",
    "# Decoupled: A Standard Ready-Valid Interface\n",
    "Chisel에서 제공하는 일반적으로 사용되는 인터페이스 중 하나는 `DecoupledIO`로, 데이터 전송을 위해 즉시 사용할 수 있는 인터페이스를 제공합니다. 아이디어는 소스가 전송할 데이터로 `bits` 신호를 구동하고 전송할 데이터가 있을 때 `valid` 신호를 구동한다는 것입니다. 싱크는 데이터를 받아들일 준비가 되었을 때 `ready` 신호를 구동하고, 주기에서 `ready`와 `valid`가 모두 선언되면 데이터가 전송된 것으로 간주됩니다.\n",
    "\n",
    "이것은 backpressure 메커니즘을 포함하여 데이터 전송을 위해 양방향으로 flow control mechanism을 제공합니다.\n",
    "\n",
    "참고: `ready`와 `valid`는 combinational하게 연결하면 안 됩니다. 그렇지 않으면 합성할 수 없는 combinational loop가 발생할 수 있습니다. `ready`는 싱크가 데이터를 수신할 수 있는지 여부에만 의존해야 하고 `valid`는 소스에 데이터가 있는지 여부에만 의존해야 합니다. 트랜잭션 후에(다음 클록 주기에서) 값이 업데이트되어야 합니다.\n",
    "\n",
    "모든 Chisel 데이터는 다음과 같이 `DecoupledIO`(`bits` 필드로 사용됨)로 래핑될 수 있습니다.\n",
    "\n",
    "```scala\n",
    "val myChiselData = UInt(8.W)\n",
    "// or any Chisel data type, such as Bool(), SInt(...), or even custom Bundles\n",
    "val myDecoupled = Decoupled(myChiselData)\n",
    "```\n",
    "\n",
    "위는 필드가 있는 새로운 'DecoupledIO' 번들을 생성합니다.\n",
    "- `valid`: Output(Bool)\n",
    "- `ready`: Input(Bool)\n",
    "- `bits`: Output(UInt(8.W))\n",
    "___\n",
    "\n",
    "나머지 섹션은 이전과 약간 다르게 구성됩니다. 코딩 연습을 제공하는 대신 회로 상태를 인쇄하는 몇 가지 코드 예제와 테스트 케이스를 제공할 것입니다. 테스트를 실행하기 전에 인쇄될 내용을 예측해 보십시오.\n",
    "\n",
    "## Queues\n",
    "\n",
    "`Queue`는 양쪽에 Decoupled interfaces가 있는 FIFO(first-in, first-out) queue를 생성하여 backpressure을 허용합니다. 데이터 타입과 elements 수를 모두 구성 가능합니다.\n",
    "\n",
    "> 처음 몇 번은 `litValue`라고 부르는 `peek` 값을 인쇄하는 방법에 주목하세요. 이것은 반환되는 Chisel 리터럴을 `BigInt`로 변환합니다. 나중에 유사한 호출에서는 `litValue`를 호출하지 않으며 `peek`이 반환하는 값에 대한 추가 정보를 볼 수 있습니다. 유형과 너비처럼."
   ]
  },
  {
   "cell_type": "code",
   "execution_count": 3,
   "metadata": {},
   "outputs": [
    {
     "name": "stdout",
     "output_type": "stream",
     "text": [
      "Elaborating design...\n",
      "Done elaborating.\n",
      "Starting:\n",
      "\tio.in: ready=1\n",
      "\tio.out: valid=0, bits=0\n",
      "After first enqueue:\n",
      "\tio.in: ready=1\n",
      "\tio.out: valid=1, bits=42\n",
      "On first read:\n",
      "\tio.in: ready=Bool(false)\n",
      "\tio.out: valid=Bool(true), bits=UInt<8>(42)\n",
      "On second read:\n",
      "\tio.in: ready=Bool(true)\n",
      "\tio.out: valid=Bool(true), bits=UInt<8>(43)\n",
      "On third read:\n",
      "\tio.in: ready=Bool(true)\n",
      "\tio.out: valid=Bool(false), bits=UInt<8>(42)\n",
      "test Helper_Anon Success: 0 tests passed in 7 cycles in 0.028501 seconds 245.60 Hz\n"
     ]
    }
   ],
   "source": [
    "test(new Module {\n",
    "    // Example circuit using a Queue\n",
    "    val io = IO(new Bundle {\n",
    "      val in = Flipped(Decoupled(UInt(8.W)))\n",
    "      val out = Decoupled(UInt(8.W))\n",
    "    })\n",
    "    val queue = Queue(io.in, 2)  // 2-element queue\n",
    "    io.out <> queue\n",
    "  }) { c =>\n",
    "    c.io.out.ready.poke(false.B)\n",
    "    c.io.in.valid.poke(true.B)  // Enqueue an element\n",
    "    c.io.in.bits.poke(42.U)\n",
    "    println(s\"Starting:\")\n",
    "    println(s\"\\tio.in: ready=${c.io.in.ready.peek().litValue}\")\n",
    "    println(s\"\\tio.out: valid=${c.io.out.valid.peek().litValue}, bits=${c.io.out.bits.peek().litValue}\")\n",
    "    c.clock.step(1)\n",
    "\n",
    "    c.io.in.valid.poke(true.B)  // Enqueue another element\n",
    "    c.io.in.bits.poke(43.U)\n",
    "    // What do you think io.out.valid and io.out.bits will be?\n",
    "    println(s\"After first enqueue:\")\n",
    "    println(s\"\\tio.in: ready=${c.io.in.ready.peek().litValue}\")\n",
    "    println(s\"\\tio.out: valid=${c.io.out.valid.peek().litValue}, bits=${c.io.out.bits.peek().litValue}\")\n",
    "    c.clock.step(1)\n",
    "\n",
    "    c.io.in.valid.poke(true.B)  // Read a element, attempt to enqueue\n",
    "    c.io.in.bits.poke(44.U)\n",
    "    c.io.out.ready.poke(true.B)\n",
    "    // What do you think io.in.ready will be, and will this enqueue succeed, and what will be read?\n",
    "    println(s\"On first read:\")\n",
    "    println(s\"\\tio.in: ready=${c.io.in.ready.peek()}\")\n",
    "    println(s\"\\tio.out: valid=${c.io.out.valid.peek()}, bits=${c.io.out.bits.peek()}\")\n",
    "    c.clock.step(1)\n",
    "\n",
    "    c.io.in.valid.poke(false.B)  // Read elements out\n",
    "    c.io.out.ready.poke(true.B)\n",
    "    // What do you think will be read here?\n",
    "    println(s\"On second read:\")\n",
    "    println(s\"\\tio.in: ready=${c.io.in.ready.peek()}\")\n",
    "    println(s\"\\tio.out: valid=${c.io.out.valid.peek()}, bits=${c.io.out.bits.peek()}\")\n",
    "    c.clock.step(1)\n",
    "\n",
    "    // Will a third read produce anything?\n",
    "    println(s\"On third read:\")\n",
    "    println(s\"\\tio.in: ready=${c.io.in.ready.peek()}\")\n",
    "    println(s\"\\tio.out: valid=${c.io.out.valid.peek()}, bits=${c.io.out.bits.peek()}\")\n",
    "    c.clock.step(1)\n",
    "}"
   ]
  },
  {
   "cell_type": "markdown",
   "metadata": {},
   "source": [
    "## Arbiters\n",
    "중재자는 우선 순위가 지정된 _n_ `DecoupledIO` 소스에서 하나의 `DecoupledIO` 싱크로 데이터를 라우팅합니다.\n",
    "치즐에는 두 가지 유형이 포함되어 있습니다.\n",
    "- `Arbiter`: 지수가 낮은 생산자를 우선시합니다.\n",
    "- `RRArbiter`: 라운드 로빈 순서로 실행\n",
    "\n",
    "Arbiter 라우팅은 조합 논리로 구현됩니다.\n",
    "\n",
    "아래 예는 우선순위 중재자의 사용을 보여줍니다(다음 섹션에서도 구현할 것입니다)."
   ]
  },
  {
   "cell_type": "code",
   "execution_count": 4,
   "metadata": {},
   "outputs": [
    {
     "name": "stdout",
     "output_type": "stream",
     "text": [
      "Elaborating design...\n",
      "Done elaborating.\n",
      "Start:\n",
      "\tin(0).ready=0, in(1).ready=0\n",
      "\tout.valid=0, out.bits=0\n",
      "valid input 1:\n",
      "\tin(0).ready=1, in(1).ready=1\n",
      "\tout.valid=1, out.bits=42\n",
      "valid inputs 0 and 1:\n",
      "\tin(0).ready=1, in(1).ready=0\n",
      "\tout.valid=1, out.bits=43\n",
      "valid input 0:\n",
      "\tin(0).ready=1, in(1).ready=0\n",
      "\tout.valid=1, out.bits=43\n",
      "test Helper_Anon Success: 0 tests passed in 2 cycles in 0.006201 seconds 322.55 Hz\n"
     ]
    }
   ],
   "source": [
    "test(new Module {\n",
    "    // Example circuit using a priority arbiter\n",
    "    val io = IO(new Bundle {\n",
    "      val in = Flipped(Vec(2, Decoupled(UInt(8.W))))\n",
    "      val out = Decoupled(UInt(8.W))\n",
    "    })\n",
    "    // Arbiter doesn't have a convenience constructor, so it's built like any Module\n",
    "    val arbiter = Module(new Arbiter(UInt(8.W), 2))  // 2 to 1 Priority Arbiter\n",
    "    arbiter.io.in <> io.in\n",
    "    io.out <> arbiter.io.out\n",
    "  }) { c =>\n",
    "    c.io.in(0).valid.poke(false.B)\n",
    "    c.io.in(1).valid.poke(false.B)\n",
    "    c.io.out.ready.poke(false.B)\n",
    "    println(s\"Start:\")\n",
    "    println(s\"\\tin(0).ready=${c.io.in(0).ready.peek().litValue}, in(1).ready=${c.io.in(1).ready.peek().litValue}\")\n",
    "    println(s\"\\tout.valid=${c.io.out.valid.peek().litValue}, out.bits=${c.io.out.bits.peek().litValue}\")\n",
    "    c.io.in(1).valid.poke(true.B)  // Valid input 1\n",
    "    c.io.in(1).bits.poke(42.U)\n",
    "    c.io.out.ready.poke(true.B)\n",
    "    // What do you think the output will be?\n",
    "    println(s\"valid input 1:\")\n",
    "    println(s\"\\tin(0).ready=${c.io.in(0).ready.peek().litValue}, in(1).ready=${c.io.in(1).ready.peek().litValue}\")\n",
    "    println(s\"\\tout.valid=${c.io.out.valid.peek().litValue}, out.bits=${c.io.out.bits.peek().litValue}\")\n",
    "    c.io.in(0).valid.poke(true.B)  // Valid inputs 0 and 1\n",
    "    c.io.in(0).bits.poke(43.U)\n",
    "    // What do you think the output will be? Which inputs will be ready?\n",
    "    println(s\"valid inputs 0 and 1:\")\n",
    "    println(s\"\\tin(0).ready=${c.io.in(0).ready.peek().litValue}, in(1).ready=${c.io.in(1).ready.peek().litValue}\")\n",
    "    println(s\"\\tout.valid=${c.io.out.valid.peek().litValue}, out.bits=${c.io.out.bits.peek().litValue}\")\n",
    "    c.io.in(1).valid.poke(false.B)  // Valid input 0\n",
    "    // What do you think the output will be?\n",
    "    println(s\"valid input 0:\")\n",
    "    println(s\"\\tin(0).ready=${c.io.in(0).ready.peek().litValue}, in(1).ready=${c.io.in(1).ready.peek().litValue}\")\n",
    "    println(s\"\\tout.valid=${c.io.out.valid.peek().litValue}, out.bits=${c.io.out.bits.peek().litValue}\")\n",
    "}"
   ]
  },
  {
   "cell_type": "markdown",
   "metadata": {},
   "source": [
    "# Misc Function Blocks\n",
    "Chisel Utils에는 stateless 기능을 수행하는 몇 가지 도우미가 있습니다.\n",
    "\n",
    "## Bitwise Utilities\n",
    "### PopCount\n",
    "PopCount는 입력의 high (1) 비트 수를 `UInt`로 반환합니다.\n",
    "\n",
    "### Reverse\n",
    "Reverse는 비트 반전 입력을 반환합니다."
   ]
  },
  {
   "cell_type": "code",
   "execution_count": 5,
   "metadata": {},
   "outputs": [
    {
     "name": "stdout",
     "output_type": "stream",
     "text": [
      "Elaborating design...\n",
      "Done elaborating.\n",
      "in=0b0, out=0\n",
      "in=0b1111, out=4\n",
      "in=0b11001010, out=4\n",
      "in=0b11111111, out=8\n",
      "test Helper_Anon Success: 0 tests passed in 2 cycles in 0.003028 seconds 660.59 Hz\n"
     ]
    }
   ],
   "source": [
    "test(new Module {\n",
    "    // Example circuit using PopCount\n",
    "    val io = IO(new Bundle {\n",
    "      val in = Input(UInt(8.W))\n",
    "      val out = Output(UInt(8.W))\n",
    "    })\n",
    "    io.out := PopCount(io.in)\n",
    "  }) { c =>\n",
    "    // Integer.parseInt is used create an Integer from a binary specification\n",
    "    c.io.in.poke(Integer.parseInt(\"00000000\", 2).U)\n",
    "    println(s\"in=0b${c.io.in.peek().litValue.toInt.toBinaryString}, out=${c.io.out.peek().litValue}\")\n",
    "\n",
    "    c.io.in.poke(Integer.parseInt(\"00001111\", 2).U)\n",
    "    println(s\"in=0b${c.io.in.peek().litValue.toInt.toBinaryString}, out=${c.io.out.peek().litValue}\")\n",
    "\n",
    "    c.io.in.poke(Integer.parseInt(\"11001010\", 2).U)\n",
    "    println(s\"in=0b${c.io.in.peek().litValue.toInt.toBinaryString}, out=${c.io.out.peek().litValue}\")\n",
    "\n",
    "    c.io.in.poke(Integer.parseInt(\"11111111\", 2).U)\n",
    "    println(s\"in=0b${c.io.in.peek().litValue.toInt.toBinaryString}, out=${c.io.out.peek().litValue}\")\n",
    "\n",
    "}"
   ]
  },
  {
   "cell_type": "code",
   "execution_count": 6,
   "metadata": {},
   "outputs": [
    {
     "name": "stdout",
     "output_type": "stream",
     "text": [
      "Elaborating design...\n",
      "Done elaborating.\n",
      "in=0b1010101, out=0b10101010\n",
      "in=0b1111, out=0b11110000\n",
      "in=0b11110000, out=0b1111\n",
      "in=0b11001010, out=0b1010011\n",
      "test Helper_Anon Success: 0 tests passed in 2 cycles in 0.002855 seconds 700.62 Hz\n"
     ]
    }
   ],
   "source": [
    "test(new Module {\n",
    "    // Example circuit using Reverse\n",
    "    val io = IO(new Bundle {\n",
    "      val in = Input(UInt(8.W))\n",
    "      val out = Output(UInt(8.W))\n",
    "    })\n",
    "    io.out := Reverse(io.in)\n",
    "  }) { c =>\n",
    "    // Integer.parseInt is used create an Integer from a binary specification\n",
    "    c.io.in.poke(Integer.parseInt(\"01010101\", 2).U)\n",
    "    println(s\"in=0b${c.io.in.peek().litValue.toInt.toBinaryString}, out=0b${c.io.out.peek().litValue.toInt.toBinaryString}\")\n",
    "\n",
    "    c.io.in.poke(Integer.parseInt(\"00001111\", 2).U)\n",
    "    println(s\"in=0b${c.io.in.peek().litValue.toInt.toBinaryString}, out=0b${c.io.out.peek().litValue.toInt.toBinaryString}\")\n",
    "\n",
    "    c.io.in.poke(Integer.parseInt(\"11110000\", 2).U)\n",
    "    println(s\"in=0b${c.io.in.peek().litValue.toInt.toBinaryString}, out=0b${c.io.out.peek().litValue.toInt.toBinaryString}\")\n",
    "\n",
    "    c.io.in.poke(Integer.parseInt(\"11001010\", 2).U)\n",
    "    println(s\"in=0b${c.io.in.peek().litValue.toInt.toBinaryString}, out=0b${c.io.out.peek().litValue.toInt.toBinaryString}\")\n",
    "}"
   ]
  },
  {
   "cell_type": "markdown",
   "metadata": {},
   "source": [
    "## OneHot encoding utilities\n",
    "OneHot은 각 값에 대해 하나의 와이어가 있고 정확히 하나의 와이어만 high인 정수 인코딩입니다. 이를 통해 mux와 같은 일부 기능을 효율적으로 생성할 수 있습니다. 그러나 1와이어 하이 조건이 유지되지 않으면 동작이 정의되지 않을 수 있습니다.\n",
    "\n",
    "아래 두 함수는 바이너리(`UInt`)와 OneHot 인코딩 간의 변환을 제공하며 서로 반대입니다.\n",
    "- UInt to OneHot: `UIntToOH`\n",
    "- OneHot to UInt: `OHToUInt`"
   ]
  },
  {
   "cell_type": "code",
   "execution_count": 7,
   "metadata": {},
   "outputs": [
    {
     "name": "stdout",
     "output_type": "stream",
     "text": [
      "Elaborating design...\n",
      "Done elaborating.\n",
      "in=0, out=0b1\n",
      "in=1, out=0b10\n",
      "in=8, out=0b100000000\n",
      "in=15, out=0b1000000000000000\n",
      "test Helper_Anon Success: 0 tests passed in 2 cycles in 0.002347 seconds 852.07 Hz\n"
     ]
    }
   ],
   "source": [
    "test(new Module {\n",
    "    // Example circuit using UIntToOH\n",
    "    val io = IO(new Bundle {\n",
    "      val in = Input(UInt(4.W))\n",
    "      val out = Output(UInt(16.W))\n",
    "    })\n",
    "    io.out := UIntToOH(io.in)\n",
    "  }) { c =>\n",
    "    c.io.in.poke(0.U)\n",
    "    println(s\"in=${c.io.in.peek().litValue}, out=0b${c.io.out.peek().litValue.toInt.toBinaryString}\")\n",
    "\n",
    "    c.io.in.poke(1.U)\n",
    "    println(s\"in=${c.io.in.peek().litValue}, out=0b${c.io.out.peek().litValue.toInt.toBinaryString}\")\n",
    "\n",
    "    c.io.in.poke(8.U)\n",
    "    println(s\"in=${c.io.in.peek().litValue}, out=0b${c.io.out.peek().litValue.toInt.toBinaryString}\")\n",
    "\n",
    "    c.io.in.poke(15.U)\n",
    "    println(s\"in=${c.io.in.peek().litValue}, out=0b${c.io.out.peek().litValue.toInt.toBinaryString}\")\n",
    "}"
   ]
  },
  {
   "cell_type": "code",
   "execution_count": 8,
   "metadata": {},
   "outputs": [
    {
     "name": "stdout",
     "output_type": "stream",
     "text": [
      "Elaborating design...\n",
      "Done elaborating.\n",
      "in=0b1, out=0\n",
      "in=0b10000000, out=7\n",
      "in=0b1000000000000001, out=15\n",
      "in=0b0, out=0\n",
      "in=0b1010000100000, out=15\n",
      "test Helper_Anon Success: 0 tests passed in 2 cycles in 0.002834 seconds 705.60 Hz\n"
     ]
    }
   ],
   "source": [
    "test(new Module {\n",
    "    // Example circuit using OHToUInt\n",
    "    val io = IO(new Bundle {\n",
    "      val in = Input(UInt(16.W))\n",
    "      val out = Output(UInt(4.W))\n",
    "    })\n",
    "    io.out := OHToUInt(io.in)\n",
    "}) { c =>\n",
    "    c.io.in.poke(Integer.parseInt(\"0000 0000 0000 0001\".replace(\" \", \"\"), 2).U)\n",
    "    println(s\"in=0b${c.io.in.peek().litValue.toInt.toBinaryString}, out=${c.io.out.peek().litValue}\")\n",
    "\n",
    "    c.io.in.poke(Integer.parseInt(\"0000 0000 1000 0000\".replace(\" \", \"\"), 2).U)\n",
    "    println(s\"in=0b${c.io.in.peek().litValue.toInt.toBinaryString}, out=${c.io.out.peek().litValue}\")\n",
    "\n",
    "    c.io.in.poke(Integer.parseInt(\"1000 0000 0000 0001\".replace(\" \", \"\"), 2).U)\n",
    "    println(s\"in=0b${c.io.in.peek().litValue.toInt.toBinaryString}, out=${c.io.out.peek().litValue}\")\n",
    "\n",
    "    // Some invalid inputs:\n",
    "    // None high\n",
    "    c.io.in.poke(Integer.parseInt(\"0000 0000 0000 0000\".replace(\" \", \"\"), 2).U)\n",
    "    println(s\"in=0b${c.io.in.peek().litValue.toInt.toBinaryString}, out=${c.io.out.peek().litValue}\")\n",
    "\n",
    "    // Multiple high\n",
    "    c.io.in.poke(Integer.parseInt(\"0001 0100 0010 0000\".replace(\" \", \"\"), 2).U)\n",
    "    println(s\"in=0b${c.io.in.peek().litValue.toInt.toBinaryString}, out=${c.io.out.peek().litValue}\")\n",
    "}\n"
   ]
  },
  {
   "cell_type": "markdown",
   "metadata": {},
   "source": [
    "## Muxes\n",
    "이러한 mux는 선택 신호가 있는 값 목록을 가져와 가장 낮은 인덱스 선택 신호와 관련된 값을 출력합니다.\n",
    "\n",
    "이것들은 (select: Bool, value: Data) 튜플의 목록 또는 해당하는 선택 및 값 목록을 인수로 사용할 수 있습니다. 간단하게 하기 위해 아래 예에서는 두 번째 형식만 보여줍니다.\n",
    "\n",
    "### Priority Mux\n",
    "`PriorityMux`는 가장 낮은 인덱스 어설션 선택 신호와 관련된 값을 출력합니다.\n",
    "\n",
    "### OneHot Mux\n",
    "`Mux1H`는 선택 신호 중 정확히 하나가 높음이 보장될 때 효율적인 구현을 제공합니다. 가정이 사실이 아니면 동작이 정의되지 않습니다."
   ]
  },
  {
   "cell_type": "code",
   "execution_count": 7,
   "metadata": {},
   "outputs": [
    {
     "name": "stdout",
     "output_type": "stream",
     "text": [
      "Elaborating design...\n",
      "Done elaborating.\n",
      "in_sels=0, out=20\n",
      "in_sels=1, out=10\n",
      "in_sels=1, out=10\n",
      "test Helper_Anon Success: 0 tests passed in 2 cycles in 0.003274 seconds 610.89 Hz\n"
     ]
    }
   ],
   "source": [
    "test(new Module {\n",
    "    // Example circuit using PriorityMux\n",
    "    val io = IO(new Bundle {\n",
    "      val in_sels = Input(Vec(2, Bool()))\n",
    "      val in_bits = Input(Vec(2, UInt(8.W)))\n",
    "      val out = Output(UInt(8.W))\n",
    "    })\n",
    "    io.out := PriorityMux(io.in_sels, io.in_bits)\n",
    "  }) { c =>\n",
    "    c.io.in_bits(0).poke(10.U)\n",
    "    c.io.in_bits(1).poke(20.U)\n",
    "\n",
    "    // Select higher index only\n",
    "    c.io.in_sels(0).poke(false.B)\n",
    "    c.io.in_sels(1).poke(true.B)\n",
    "    println(s\"in_sels=${c.io.in_sels(0).peek().litValue}, out=${c.io.out.peek().litValue}\")\n",
    "\n",
    "    // Select both - arbitration needed\n",
    "    c.io.in_sels(0).poke(true.B)\n",
    "    c.io.in_sels(1).poke(true.B)\n",
    "    println(s\"in_sels=${c.io.in_sels(0).peek().litValue}, out=${c.io.out.peek().litValue}\")\n",
    "\n",
    "    // Select lower index only\n",
    "    c.io.in_sels(0).poke(true.B)\n",
    "    c.io.in_sels(1).poke(false.B)\n",
    "    println(s\"in_sels=${c.io.in_sels(0).peek().litValue}, out=${c.io.out.peek().litValue}\")\n",
    "}"
   ]
  },
  {
   "cell_type": "code",
   "execution_count": 12,
   "metadata": {},
   "outputs": [
    {
     "name": "stdout",
     "output_type": "stream",
     "text": [
      "Elaborating design...\n",
      "Done elaborating.\n",
      "in_sels=01, out=20\n",
      "in_sels=10, out=10\n",
      "in_sels=00, out=0\n",
      "in_sels=1, out=30\n",
      "test Helper_Anon Success: 0 tests passed in 2 cycles in 0.003496 seconds 572.16 Hz\n"
     ]
    }
   ],
   "source": [
    "test(new Module {\n",
    "    // Example circuit using Mux1H\n",
    "    val io = IO(new Bundle {\n",
    "      val in_sels = Input(Vec(2, Bool()))\n",
    "      val in_bits = Input(Vec(2, UInt(8.W)))\n",
    "      val out = Output(UInt(8.W))\n",
    "    })\n",
    "    io.out := Mux1H(io.in_sels, io.in_bits)\n",
    "  }) { c =>\n",
    "    c.io.in_bits(0).poke(10.U)\n",
    "    c.io.in_bits(1).poke(20.U)\n",
    "\n",
    "    // Select index 1\n",
    "    c.io.in_sels(0).poke(false.B)\n",
    "    c.io.in_sels(1).poke(true.B)\n",
    "    println(s\"in_sels=${c.io.in_sels(0).peek().litValue}${c.io.in_sels(1).peek().litValue}, out=${c.io.out.peek().litValue}\")\n",
    "\n",
    "    // Select index 0\n",
    "    c.io.in_sels(0).poke(true.B)\n",
    "    c.io.in_sels(1).poke(false.B)\n",
    "    println(s\"in_sels=${c.io.in_sels(0).peek().litValue}${c.io.in_sels(1).peek().litValue}, out=${c.io.out.peek().litValue}\")\n",
    "\n",
    "    // Select none (invalid)\n",
    "    c.io.in_sels(0).poke(false.B)\n",
    "    c.io.in_sels(1).poke(false.B)\n",
    "    println(s\"in_sels=${c.io.in_sels(0).peek().litValue}${c.io.in_sels(1).peek().litValue}, out=${c.io.out.peek().litValue}\")\n",
    "\n",
    "    // Select both (invalid)\n",
    "    c.io.in_sels(0).poke(true.B)\n",
    "    c.io.in_sels(1).poke(true.B)\n",
    "    println(s\"in_sels=${c.io.in_sels(0).peek().litValue}, out=${c.io.out.peek().litValue}\")\n",
    "}"
   ]
  },
  {
   "cell_type": "markdown",
   "metadata": {
    "collapsed": true
   },
   "source": [
    "## Counter\n",
    "`Counter`는 지정된 한도까지 사이클마다 한 번씩 증가할 수 있는 카운터이며, 이 지점에서 오버플로가 발생합니다. 모듈이 **아닙니다**. 값에 액세스할 수 있습니다."
   ]
  },
  {
   "cell_type": "code",
   "execution_count": 11,
   "metadata": {},
   "outputs": [
    {
     "name": "stdout",
     "output_type": "stream",
     "text": [
      "Elaborating design...\n",
      "Done elaborating.\n",
      "start: counter value=0\n",
      "step 1: counter value=1\n",
      "step 2: counter value=2\n",
      "step without increment: counter value=2\n",
      "step again: counter value=0\n",
      "test Helper_Anon Success: 0 tests passed in 6 cycles in 0.002886 seconds 2079.01 Hz\n"
     ]
    }
   ],
   "source": [
    "test(new Module {\n",
    "    // Example circuit using Mux1H\n",
    "    val io = IO(new Bundle {\n",
    "      val count = Input(Bool())\n",
    "      val out = Output(UInt(2.W))\n",
    "    })\n",
    "    val counter = Counter(3)  // 3-count Counter (outputs range [0...2])\n",
    "    when(io.count) {\n",
    "      counter.inc()\n",
    "    }\n",
    "    io.out := counter.value\n",
    "  }) { c =>\n",
    "    c.io.count.poke(true.B)\n",
    "    println(s\"start: counter value=${c.io.out.peek().litValue}\")\n",
    "\n",
    "    c.clock.step(1)\n",
    "    println(s\"step 1: counter value=${c.io.out.peek().litValue}\")\n",
    "\n",
    "    c.clock.step(1)\n",
    "    println(s\"step 2: counter value=${c.io.out.peek().litValue}\")\n",
    "\n",
    "    c.io.count.poke(false.B)\n",
    "    c.clock.step(1)\n",
    "    println(s\"step without increment: counter value=${c.io.out.peek().litValue}\")\n",
    "\n",
    "    c.io.count.poke(true.B)\n",
    "    c.clock.step(1)\n",
    "    println(s\"step again: counter value=${c.io.out.peek().litValue}\")\n",
    "}"
   ]
  },
  {
   "cell_type": "markdown",
   "metadata": {},
   "source": [
    "---\n",
    "# You're done!\n",
    "\n",
    "[Return to the top.](#top)"
   ]
  }
 ],
 "metadata": {
  "anaconda-cloud": {},
  "kernelspec": {
   "display_name": "Scala",
   "language": "scala",
   "name": "scala"
  },
  "language_info": {
   "codemirror_mode": "text/x-scala",
   "file_extension": ".scala",
   "mimetype": "text/x-scala",
   "name": "scala",
   "nbconvert_exporter": "script",
   "version": "2.12.10"
  }
 },
 "nbformat": 4,
 "nbformat_minor": 1
}
