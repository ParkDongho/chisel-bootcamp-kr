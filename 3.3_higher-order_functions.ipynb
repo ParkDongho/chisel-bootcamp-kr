{
 "cells": [
  {
   "cell_type": "markdown",
   "metadata": {},
   "source": [
    "<a name=\"top\"></a><img src=\"images/chisel_1024.png\" alt=\"Chisel logo\" style=\"width:480px;\" />"
   ]
  },
  {
   "cell_type": "markdown",
   "metadata": {},
   "source": [
    "# Module 3.3: Higher-Order Functions\n",
    "**Prev: [Interlude: Chisel Standard Library](3.2_interlude.ipynb)**<br>\n",
    "**Next: [Functional Programming](3.4_functional_programming.ipynb)**\n",
    "\n",
    "## Motivation\n",
    "이전 모듈의 성가신 `for` 루프는 장황하고 함수형 프로그래밍의 목적을 무너뜨립니다! 이 모듈에서 생성기는 funct-ky를 얻습니다.\n",
    "\n",
    "## Setup"
   ]
  },
  {
   "cell_type": "code",
   "execution_count": 1,
   "metadata": {},
   "outputs": [
    {
     "name": "stderr",
     "output_type": "stream",
     "text": [
      "Checking https://repo1.maven.org/maven2/edu/berkeley/cs/chisel3_2.12/maven-metadata.xml\n",
      "Checked https://repo1.maven.org/maven2/edu/berkeley/cs/chisel3_2.12/maven-metadata.xml\n",
      "Checking https://repo1.maven.org/maven2/edu/berkeley/cs/chisel-iotesters_2.12/maven-metadata.xml\n",
      "Checked https://repo1.maven.org/maven2/edu/berkeley/cs/chisel-iotesters_2.12/maven-metadata.xml\n",
      "Checking https://repo1.maven.org/maven2/edu/berkeley/cs/chiseltest_2.12/maven-metadata.xml\n",
      "Checked https://repo1.maven.org/maven2/edu/berkeley/cs/chiseltest_2.12/maven-metadata.xml\n",
      "Checking https://repo1.maven.org/maven2/edu/berkeley/cs/dsptools_2.12/maven-metadata.xml\n",
      "Checked https://repo1.maven.org/maven2/edu/berkeley/cs/dsptools_2.12/maven-metadata.xml\n",
      "Checking https://repo1.maven.org/maven2/edu/berkeley/cs/firrtl-diagrammer_2.12/maven-metadata.xml\n",
      "Checked https://repo1.maven.org/maven2/edu/berkeley/cs/firrtl-diagrammer_2.12/maven-metadata.xml\n"
     ]
    },
    {
     "data": {
      "text/plain": [
       "\u001b[36mpath\u001b[39m: \u001b[32mString\u001b[39m = \u001b[32m\"/home/parkdongho/dev/chisel-bootcamp-kr/source/load-ivy.sc\"\u001b[39m"
      ]
     },
     "execution_count": 1,
     "metadata": {},
     "output_type": "execute_result"
    }
   ],
   "source": [
    "val path = System.getProperty(\"user.dir\") + \"/source/load-ivy.sc\"\n",
    "interp.load.module(ammonite.ops.Path(java.nio.file.FileSystems.getDefault().getPath(path)))"
   ]
  },
  {
   "cell_type": "code",
   "execution_count": 2,
   "metadata": {},
   "outputs": [
    {
     "data": {
      "text/plain": [
       "\u001b[32mimport \u001b[39m\u001b[36mchisel3._\n",
       "\u001b[39m\n",
       "\u001b[32mimport \u001b[39m\u001b[36mchisel3.util._\n",
       "\u001b[39m\n",
       "\u001b[32mimport \u001b[39m\u001b[36mchisel3.tester._\n",
       "\u001b[39m\n",
       "\u001b[32mimport \u001b[39m\u001b[36mchisel3.tester.RawTester.test\u001b[39m"
      ]
     },
     "execution_count": 2,
     "metadata": {},
     "output_type": "execute_result"
    }
   ],
   "source": [
    "import chisel3._\n",
    "import chisel3.util._\n",
    "import chisel3.tester._\n",
    "import chisel3.tester.RawTester.test"
   ]
  },
  {
   "cell_type": "markdown",
   "metadata": {},
   "source": [
    "---\n",
    "# A Tale of Two FIRs <a name=\"compact-fir\"></a>\n",
    "마지막 모듈에서 FIR 필터의 컨볼루션 부분은 다음과 같이 작성되었습니다.\n",
    "\n",
    "```scala\n",
    "val muls = Wire(Vec(length, UInt(8.W)))\n",
    "for(i <- 0 until length) {\n",
    "  if(i == 0) muls(i) := io.in * io.consts(i)\n",
    "  else       muls(i) := regs(i - 1) * io.consts(i)\n",
    "}\n",
    "\n",
    "val scan = Wire(Vec(length, UInt(8.W)))\n",
    "for(i <- 0 until length) {\n",
    "  if(i == 0) scan(i) := muls(i)\n",
    "  else scan(i) := muls(i) + scan(i - 1)\n",
    "}\n",
    "\n",
    "io.out := scan(length - 1)\n",
    "```\n",
    "\n",
    "요약하자면 'io.in'의 각 요소를 'io.consts'의 해당 요소와 곱하여 'muls'에 저장하는 것입니다.\n",
    "그런 다음 `muls`의 요소는 `scan`에 누적되며, `scan(0) = muls(0)`, `scan(1) = scan(0) + muls(1) = muls(0) + muls (1)`, 그리고 일반적으로 `scan(n) = scan(n-1) + muls(n) = muls(0) + ... + muls(n-1) + muls(n)`.\n",
    "`scan`의 마지막 요소(모든 `muls`의 합계와 동일)는 `io.out`에 할당됩니다.\n",
    "\n",
    "그러나 매우 간단한 작업으로 간주될 수 있는 작업에 대해서는 매우 장황합니다. 사실 한 줄로 작성할 수 있는 모든 내용은 다음과 같습니다.\n",
    "\n",
    "```scala\n",
    "io.out := (taps zip io.consts).map { case (a, b) => a * b }.reduce(_ + _)\n",
    "```\n",
    "\n",
    "뭐하는거야?! 분해해 보겠습니다.\n",
    "- `taps`가 `taps(0) = io.in`, `taps(1) = regs(0)` 등의 모든 샘플 목록이라고 가정합니다.\n",
    "- `(taps zip io.consts)`는 `taps`와 `io.consts`라는 두 개의 목록을 가져와 각 요소가 해당 위치의 입력에 있는 요소의 튜플인 하나의 목록으로 결합합니다. 구체적으로, 그 값은 `[(taps(0), io.consts(0)), (taps(1), io.consts(1)), ..., (taps(n), io.consts( n))]`. 마침표는 선택 사항이므로 `(taps.zip(io.const))`와 동일합니다.\n",
    "- `.map { case (a, b) => a * b }`는 익명 함수(두 요소의 튜플을 취하여 결과를 반환함)를 list의 요소에 적용하고 결과를 반환합니다. 이 경우 결과는 자세한 예의 `muls`와 동일하며 값은 `[taps(0) * io.consts(0), taps(1) * io.consts(1), ... , taps(n) * io.consts(n)]`. 다음 모듈에서 익명 함수를 다시 살펴볼 것입니다. 지금은 이 구문을 배우기만 하면 됩니다.\n",
    "- 마지막으로 `.reduce(_ + _)`는 list의 요소에 함수(addition of elements)도 적용합니다. 그러나 두 개의 인수가 필요합니다. 첫 번째는 현재 accumulation이고 두 번째는 list 요소입니다(첫 번째 반복에서는 처음 두 요소만 추가함). 괄호 안에 두 개의 밑줄로 표시됩니다. 그러면 결과는 왼쪽에서 오른쪽 순회를 가정할 때 `(((muls(0) + muls(1)) + muls(2)) + ...) + muls(n)`이 됩니다. 더 깊은 중첩 괄호가 먼저 평가됩니다. 이것은 컨볼루션의 출력입니다.\n",
    "\n",
    "---\n",
    "# Functions as Arguments\n",
    "공식적으로 `map` 및 `reduce`와 같은 함수를 _고차 함수(higher-order functions)_ 라고 합니다. 함수를 인수로 사용하는 함수입니다.\n",
    "위의 예에서 볼 수 있듯이 이것은 일반적인 계산 패턴을 캡슐화하는 매우 강력한 구조로, 흐름 제어(flow control) 대신 응용 프로그램 논리에 집중할 수 있도록 하여 매우 간결한 코드를 생성합니다.\n",
    "\n",
    "## Different ways of specifying functions\n",
    "위의 예에서 함수를 지정하는 두 가지 방법이 있음을 눈치채셨을 것입니다.\n",
    "- 각 인수가 정확히 한 번 참조되는 함수의 경우 밑줄(`_`)을 사용하여 각 인수를 참조할 수 있습니다. 위의 예에서 `reduce` 인수 함수는 두 개의 인수를 취했으며 `_ + _`로 지정할 수 있습니다. 편리하긴 하지만 여기에는 추가 신비한 규칙이 적용되므로 작동하지 않으면 다음을 시도해 보세요.\n",
    "- 입력 인수 목록을 명시적으로 지정합니다. reduce는 `(a, b) => a + b`로 명시적으로 작성될 수 있으며, 인수 목록을 괄호 안에 넣고 `=>` 다음에 해당 인수를 참조하는 함수 본문이 오는 일반적인 형식을 사용합니다.\n",
    "- tuple unpacking이 필요할 때 `case (a, b) => a * b`와 같이 `case` 문을 사용합니다. 그것은 단일 인수, 두 요소의 튜플을 취하고 변수 `a`와 `b`로 압축을 푼 다음 함수 본문에서 사용할 수 있습니다.\n",
    "\n",
    "## Practice in Scala\n",
    "마지막 모듈에서는 `List`와 같은 Scala Collections API의 주요 클래스를 보았습니다.\n",
    "이러한 고차 함수는 이러한 API의 일부이며 실제로 위의 예는 `List`에서 `map` 및 `reduce` API를 사용합니다.\n",
    "이 섹션에서는 예제와 연습을 통해 이러한 방법에 익숙해질 것입니다.\n",
    "이 예에서는 단순성과 명확성을 위해 스칼라 숫자(`Int`)로 작업하지만 Chisel 연산자가 유사하게 동작하기 때문에 개념을 일반화해야 합니다.\n",
    "\n",
    "<span style=\"color:blue\">**Example: Map**</span><br>\n",
    "`List[A].map`에는 type signature `map[B](f: (A) ⇒ B): List[B]` 가 있습니다. 이후 모듈에서 타입에 대해 자세히 알아볼 것입니다. 지금은 타입 A와 B를 `Int` 또는 `UInt`로 생각하십시오. 즉, 소프트웨어 또는 하드웨어 타입일 수 있습니다.\n",
    "\n",
    "일반 영어에서는 `(f: (A) ⇒ B)` 타입의 인수를 취하거나 `A` 타입(입력 목록의 요소와 동일한 타입)의 인수 하나를 취하여 값을 반환하는 함수 타입 `B`(무엇이든 될 수 있음). 그런 다음 `map`은 `B` 타입(인수 함수의 반환 타입)의 새 목록을 반환합니다.\n",
    "\n",
    "FIR 예제에서 List의 동작을 이미 설명했으므로 예제와 연습으로 바로 들어가 보겠습니다."
   ]
  },
  {
   "cell_type": "code",
   "execution_count": 3,
   "metadata": {},
   "outputs": [
    {
     "name": "stdout",
     "output_type": "stream",
     "text": [
      "List(2, 3, 4, 5)\n",
      "List(2, 3, 4, 5)\n",
      "List(1a, 2a, 3a, 4a)\n",
      "List(5, 12, 21, 32)\n",
      "Range 0 to 10\n",
      "Range 0 until 10\n",
      "Vector(a, b, c, d)\n"
     ]
    },
    {
     "data": {
      "text/plain": [
       "\u001b[36mmyList\u001b[39m: \u001b[32mList\u001b[39m[\u001b[32mString\u001b[39m] = \u001b[33mList\u001b[39m(\u001b[32m\"a\"\u001b[39m, \u001b[32m\"b\"\u001b[39m, \u001b[32m\"c\"\u001b[39m, \u001b[32m\"d\"\u001b[39m)"
      ]
     },
     "execution_count": 3,
     "metadata": {},
     "output_type": "execute_result"
    }
   ],
   "source": [
    "println(List(1, 2, 3, 4).map(x => x + 1))  // explicit argument list in function\n",
    "println(List(1, 2, 3, 4).map(_ + 1))  // equivalent to the above, but implicit arguments\n",
    "println(List(1, 2, 3, 4).map(_.toString + \"a\"))  // the output element type can be different from the input element type\n",
    "\n",
    "println(List((1, 5), (2, 6), (3, 7), (4, 8)).map { case (x, y) => x*y })  // this unpacks a tuple, note use of curly braces\n",
    "\n",
    "// Related: Scala has a syntax for constructing lists of sequential numbers\n",
    "println(0 to 10)  // to is inclusive , the end point is part of the result\n",
    "println(0 until 10)  // until is exclusive at the end, the end point is not part of the result\n",
    "\n",
    "// Those largely behave like lists, and can be useful for generating indices:\n",
    "val myList = List(\"a\", \"b\", \"c\", \"d\")\n",
    "println((0 until 4).map(myList(_)))"
   ]
  },
  {
   "cell_type": "markdown",
   "metadata": {},
   "source": [
    "<span style=\"color:red\">**Exercise: Map**</span><br><a name=\"map-exercise\"></a>"
   ]
  },
  {
   "cell_type": "code",
   "execution_count": 4,
   "metadata": {},
   "outputs": [
    {
     "ename": "",
     "evalue": "",
     "output_type": "error",
     "traceback": [
      "\u001b[31mscala.NotImplementedError: an implementation is missing\u001b[39m\n  scala.Predef$.$qmark$qmark$qmark(\u001b[32mPredef.scala\u001b[39m:\u001b[32m288\u001b[39m)\n  ammonite.$sess.cmd3$Helper.<init>(\u001b[32mcmd3.sc\u001b[39m:\u001b[32m1\u001b[39m)\n  ammonite.$sess.cmd3$.<init>(\u001b[32mcmd3.sc\u001b[39m:\u001b[32m7\u001b[39m)\n  ammonite.$sess.cmd3$.<clinit>(\u001b[32mcmd3.sc\u001b[39m:\u001b[32m-1\u001b[39m)"
     ]
    }
   ],
   "source": [
    "// Now you try: \n",
    "// Fill in the blanks (the ???) such that this doubles the elements of the input list.\n",
    "// This should return: List(2, 4, 6, 8)\n",
    "println(List(1, 2, 3, 4).map( ??? ))"
   ]
  },
  {
   "cell_type": "markdown",
   "metadata": {},
   "source": [
    "<span style=\"color:blue\">**Example: zipWithIndex**</span><br>\n",
    "`List.zipWithIndex`에는 `zipWithIndex: List[(A, Int)]` 타입 서명이 있습니다.\n",
    "\n",
    "인수를 사용하지 않지만 각 요소가 원래 요소의 튜플인 목록과 인덱스(첫 번째 요소는 0임)를 반환합니다.\n",
    "따라서 `List(\"a\", \"b\", \"c\", \"d\").zipWithIndex`는 `List((\"a\", 0), (\"b\", 1), (\"c\", 2 ), (\"d\", 3))`\n",
    "\n",
    "이것은 어떤 작업에서 요소 인덱스가 필요할 때 유용합니다.\n",
    "\n",
    "이것은 매우 간단하기 때문에 몇 가지 예만 들어보겠습니다."
   ]
  },
  {
   "cell_type": "code",
   "execution_count": null,
   "metadata": {},
   "outputs": [],
   "source": [
    "println(List(1, 2, 3, 4).zipWithIndex)  // note indices start at zero\n",
    "println(List(\"a\", \"b\", \"c\", \"d\").zipWithIndex)\n",
    "println(List((\"a\", \"b\"), (\"c\", \"d\"), (\"e\", \"f\"), (\"g\", \"h\")).zipWithIndex)  // tuples nest"
   ]
  },
  {
   "cell_type": "markdown",
   "metadata": {},
   "source": [
    "<span style=\"color:blue\">**Example: Reduce**</span><br>\n",
    "`List[A].map`은 `reduce(op: (A, A) ⇒ A): A`와 유사한 타입 서명을 가지고 있습니다. (실제로는 더 관대합니다. `A`는 List 타입의 상위 타입이어야 하지만 여기서는 해당 구문을 다루지 않겠습니다.)\n",
    "\n",
    "위에서도 설명했듯이 다음은 몇 가지 예입니다."
   ]
  },
  {
   "cell_type": "code",
   "execution_count": 14,
   "metadata": {},
   "outputs": [
    {
     "name": "stdout",
     "output_type": "stream",
     "text": [
      "10\n",
      "24\n",
      "14\n"
     ]
    }
   ],
   "source": [
    "println(List(1, 2, 3, 4).reduce((a, b) => a + b))  // returns the sum of all the elements\n",
    "println(List(1, 2, 3, 4).reduce(_ * _))  // returns the product of all the elements\n",
    "println(List(1, 2, 3, 4).map(_ + 1).reduce(_ + _))  // you can chain reduce onto the result of a map"
   ]
  },
  {
   "cell_type": "code",
   "execution_count": 6,
   "metadata": {},
   "outputs": [
    {
     "ename": "",
     "evalue": "",
     "output_type": "error",
     "traceback": [
      "\u001b[31mjava.lang.UnsupportedOperationException: empty.reduceLeft\u001b[39m\n  scala.collection.LinearSeqOptimized.reduceLeft(\u001b[32mLinearSeqOptimized.scala\u001b[39m:\u001b[32m139\u001b[39m)\n  scala.collection.LinearSeqOptimized.reduceLeft$(\u001b[32mLinearSeqOptimized.scala\u001b[39m:\u001b[32m138\u001b[39m)\n  scala.collection.immutable.List.reduceLeft(\u001b[32mList.scala\u001b[39m:\u001b[32m89\u001b[39m)\n  scala.collection.TraversableOnce.reduce(\u001b[32mTraversableOnce.scala\u001b[39m:\u001b[32m213\u001b[39m)\n  scala.collection.TraversableOnce.reduce$(\u001b[32mTraversableOnce.scala\u001b[39m:\u001b[32m213\u001b[39m)\n  scala.collection.AbstractTraversable.reduce(\u001b[32mTraversable.scala\u001b[39m:\u001b[32m108\u001b[39m)\n  ammonite.$sess.cmd5$Helper.<init>(\u001b[32mcmd5.sc\u001b[39m:\u001b[32m1\u001b[39m)\n  ammonite.$sess.cmd5$.<init>(\u001b[32mcmd5.sc\u001b[39m:\u001b[32m7\u001b[39m)\n  ammonite.$sess.cmd5$.<clinit>(\u001b[32mcmd5.sc\u001b[39m:\u001b[32m-1\u001b[39m)"
     ]
    }
   ],
   "source": [
    "// Important note: reduce will fail with an empty list\n",
    "println(List[Int]().reduce(_ * _))"
   ]
  },
  {
   "cell_type": "markdown",
   "metadata": {},
   "source": [
    "<span style=\"color:red\">**Exercise: Reduce**</span><br><a name=\"reduce-exercise\"></a>"
   ]
  },
  {
   "cell_type": "code",
   "execution_count": 13,
   "metadata": {},
   "outputs": [
    {
     "ename": "",
     "evalue": "",
     "output_type": "error",
     "traceback": [
      "\u001b[31mscala.NotImplementedError: an implementation is missing\u001b[39m\n  scala.Predef$.$qmark$qmark$qmark(\u001b[32mPredef.scala\u001b[39m:\u001b[32m288\u001b[39m)\n  ammonite.$sess.cmd12$Helper.<init>(\u001b[32mcmd12.sc\u001b[39m:\u001b[32m1\u001b[39m)\n  ammonite.$sess.cmd12$.<init>(\u001b[32mcmd12.sc\u001b[39m:\u001b[32m7\u001b[39m)\n  ammonite.$sess.cmd12$.<clinit>(\u001b[32mcmd12.sc\u001b[39m:\u001b[32m-1\u001b[39m)"
     ]
    }
   ],
   "source": [
    "// Now you try: \n",
    "// Fill in the blanks (the ???) such that this returns the product of the double of the elements of the input list.\n",
    "// This should return: (1*2)*(2*2)*(3*2)*(4*2) = 384\n",
    "println(List(1, 2, 3, 4).map(???).reduce(???))"
   ]
  },
  {
   "cell_type": "markdown",
   "metadata": {},
   "source": [
    "<span style=\"color:blue\">**Example: Fold**</span><br>\n",
    "`List[A].fold`는 초기 누적 값을 지정할 수 있다는 점을 제외하면 reduce와 매우 유사합니다.\n",
    "`fold(z: A)(op: (A, A) ⇒ A): A`와 유사한 타입 서명을 가지고 있습니다. (`reduce`와 같이 `A` 타입도 더 관대합니다)\n",
    "\n",
    "특히, 두 개의 인수 목록이 필요합니다. 첫 번째(`z`)는 초기 값이고 두 번째는 누적 함수입니다.\n",
    "`reduce`와 달리 빈 목록으로 실패하지 않고 초기 값을 직접 반환합니다.\n",
    "\n",
    "다음은 몇 가지 예입니다."
   ]
  },
  {
   "cell_type": "code",
   "execution_count": 8,
   "metadata": {},
   "outputs": [
    {
     "name": "stdout",
     "output_type": "stream",
     "text": [
      "10\n",
      "11\n",
      "1\n"
     ]
    }
   ],
   "source": [
    "println(List(1, 2, 3, 4).fold(0)(_ + _))  // equivalent to the sum using reduce\n",
    "println(List(1, 2, 3, 4).fold(1)(_ + _))  // like above, but accumulation starts at 1\n",
    "println(List().fold(1)(_ + _))  // unlike reduce, does not fail on an empty input"
   ]
  },
  {
   "cell_type": "markdown",
   "metadata": {},
   "source": [
    "<span style=\"color:red\">**Exercise: Fold**</span><br><a name=\"fold-exercise\"></a>"
   ]
  },
  {
   "cell_type": "code",
   "execution_count": 12,
   "metadata": {},
   "outputs": [
    {
     "ename": "",
     "evalue": "",
     "output_type": "error",
     "traceback": [
      "\u001b[31mscala.NotImplementedError: an implementation is missing\u001b[39m\n  scala.Predef$.$qmark$qmark$qmark(\u001b[32mPredef.scala\u001b[39m:\u001b[32m288\u001b[39m)\n  ammonite.$sess.cmd11$Helper.<init>(\u001b[32mcmd11.sc\u001b[39m:\u001b[32m1\u001b[39m)\n  ammonite.$sess.cmd11$.<init>(\u001b[32mcmd11.sc\u001b[39m:\u001b[32m7\u001b[39m)\n  ammonite.$sess.cmd11$.<clinit>(\u001b[32mcmd11.sc\u001b[39m:\u001b[32m-1\u001b[39m)"
     ]
    }
   ],
   "source": [
    "// Now you try: \n",
    "// Fill in the blanks (the ???) such that this returns the double the product of the elements of the input list.\n",
    "// This should return: 2*(1*2*3*4) = 48\n",
    "// Note: unless empty list tolerance is needed, reduce is a much better fit here.\n",
    "println(List(1, 2, 3, 4).fold(???)(???))"
   ]
  },
  {
   "cell_type": "markdown",
   "metadata": {},
   "source": [
    "<span style=\"color:red\">**Exercise: Decoupled Arbiter**</span><br>\n",
    "이제 모든 것을 하나의 운동으로 통합해 봅시다.\n",
    "\n",
    "이 예에서 우리는 _n_개의 분리된 입력과 하나의 분리된 출력을 가진 모듈인 분리된 arbiter를 만들 것입니다.\n",
    "arbiter는 유효한 가장 낮은 채널을 선택하여 출력으로 전달합니다.\n",
    "\n",
    "몇 가지 힌트:\n",
    "- 건축학적으로:\n",
    "   - 입력 중 하나라도 유효하면 `io.out.valid`는 true입니다.\n",
    "   - 선택한 채널의 내부 배선을 고려하십시오.\n",
    "   - 출력이 준비되고 해당 채널이 선택되면 각 입력의 'ready'는 true입니다(이는 준비와 유효를 조합하여 연결하지만 지금은 무시하겠습니다...)\n",
    "- 다음 구성이 도움이 될 수 있습니다.\n",
    "   - `map`, 특히 하위 요소의 Vec을 반환하는 경우, 예를 들어 `io.in.map(_.valid)`는 입력 번들의 유효한 신호 목록을 반환합니다.\n",
    "   - `PriorityMux(List[Bool, Bits])`는 유효한 신호 및 비트 목록을 가져와 유효한 첫 번째 요소를 반환합니다.\n",
    "   - UInt로 인덱싱하여 Vec에 대한 동적 인덱스(예: `io.in(0.U)`)"
   ]
  },
  {
   "cell_type": "code",
   "execution_count": null,
   "metadata": {},
   "outputs": [
    {
     "name": "stdout",
     "output_type": "stream",
     "text": [
      "Elaborating design...\n"
     ]
    }
   ],
   "source": [
    "class MyRoutingArbiter(numChannels: Int) extends Module {\n",
    "  val io = IO(new Bundle {\n",
    "    val in = Vec(numChannels, Flipped(Decoupled(UInt(8.W))))\n",
    "    val out = Decoupled(UInt(8.W))\n",
    "  } )\n",
    "\n",
    "  // YOUR CODE BELOW\n",
    "  ???\n",
    "}\n",
    "\n",
    "test(new MyRoutingArbiter(4)) { c =>\n",
    "    // verify that the computation is correct\n",
    "    // Set input defaults\n",
    "    for(i <- 0 until 4) {\n",
    "        c.io.in(i).valid.poke(false.B)\n",
    "        c.io.in(i).bits.poke(i.U)\n",
    "        c.io.out.ready.poke(true.B)\n",
    "    }\n",
    "\n",
    "    c.io.out.valid.expect(false.B)\n",
    "\n",
    "    // Check single input valid behavior with backpressure\n",
    "    for (i <- 0 until 4) {\n",
    "        c.io.in(i).valid.poke(true.B)\n",
    "        c.io.out.valid.expect(true.B)\n",
    "        c.io.out.bits.expect(i.U)\n",
    "\n",
    "        c.io.out.ready.poke(false.B)\n",
    "        c.io.in(i).ready.expect(false.B)\n",
    "\n",
    "        c.io.out.ready.poke(true.B)\n",
    "        c.io.in(i).valid.poke(false.B)\n",
    "    }\n",
    "\n",
    "    // Basic check of multiple input ready behavior with backpressure\n",
    "    c.io.in(1).valid.poke(true.B)\n",
    "    c.io.in(2).valid.poke(true.B)\n",
    "    c.io.out.bits.expect(1.U)\n",
    "    c.io.in(1).ready.expect(true.B)\n",
    "    c.io.in(0).ready.expect(false.B)\n",
    "\n",
    "    c.io.out.ready.poke(false.B)\n",
    "    c.io.in(1).ready.expect(false.B)\n",
    "}\n",
    "\n",
    "println(\"SUCCESS!!\") // Scala Code: if we get here, our tests passed!"
   ]
  },
  {
   "cell_type": "markdown",
   "metadata": {},
   "source": [
    "<div id=\"container\"><section id=\"accordion\"><div>\n",
    "<input type=\"checkbox\" id=\"check-1\" />\n",
    "<label for=\"check-1\"><strong>Solution</strong></label>\n",
    "<article>\n",
    "<pre style=\"background-color:#f7f7f7\">\n",
    "class MyRoutingArbiter(numChannels: Int) extends Module {\n",
    "  val io = IO(new Bundle {\n",
    "    val in = Vec(numChannels, Flipped(Decoupled(UInt(8.W))))\n",
    "    val out = Decoupled(UInt(8.W))\n",
    "  } )\n",
    "\n",
    "  // YOUR CODE BELOW\n",
    "  io.out.valid := io.in.map(\\_.valid).reduce(\\_ || \\_)\n",
    "  val channel = PriorityMux(\n",
    "    io.in.map(\\_.valid).zipWithIndex.map { case (valid, index) => (valid, index.U) }\n",
    "  )\n",
    "  io.out.bits := io.in(channel).bits\n",
    "  io.in.map(\\_.ready).zipWithIndex.foreach { case (ready, index) =>\n",
    "    ready := io.out.ready && channel === index.U\n",
    "  }\n",
    "}\n",
    "</pre></article></div></section></div>"
   ]
  },
  {
   "cell_type": "markdown",
   "metadata": {},
   "source": [
    "---\n",
    "# You're done!\n",
    "\n",
    "[Return to the top.](#top)"
   ]
  }
 ],
 "metadata": {
  "anaconda-cloud": {},
  "kernelspec": {
   "display_name": "Scala",
   "language": "scala",
   "name": "scala"
  },
  "language_info": {
   "codemirror_mode": "text/x-scala",
   "file_extension": ".scala",
   "mimetype": "text/x-scala",
   "name": "scala",
   "nbconvert_exporter": "script",
   "version": "2.12.10"
  }
 },
 "nbformat": 4,
 "nbformat_minor": 1
}
