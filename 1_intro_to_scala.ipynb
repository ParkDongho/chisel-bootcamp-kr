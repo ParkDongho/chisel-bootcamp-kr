{
 "cells": [
  {
   "cell_type": "markdown",
   "metadata": {},
   "source": [
    "<a name=\"top\"></a><img src=\"images/chisel_1024.png\" alt=\"Chisel logo\" style=\"width:480px;\" />"
   ]
  },
  {
   "cell_type": "markdown",
   "metadata": {},
   "source": [
    "# Module 1: Introduction to Scala\n",
    "**Next: [Your First Chisel Module](2.1_first_module.ipynb)**\n",
    "\n",
    "## Motivation\n",
    "이 자습서에서는 *Jupyter* 노트북 환경을 사용하므로 코드를 읽고 변경한 다음 코드 조각을 제자리에서 실행할 수 있습니다. Chisel을 마스터하는 데 속도를 내기 위해 튜토리얼 코드 블록을 실험하는 것이 좋습니다.\n",
    "\n",
    "이 첫 번째 모듈에서는 기본 스칼라 코드를 작성하는 방법과 고급 스칼라 코드를 읽는 방법을 배웁니다."
   ]
  },
  {
   "cell_type": "markdown",
   "metadata": {},
   "source": [
    "---\n",
    "# Understanding Scala\n",
    "스칼라는 일반적인 프로그래밍 패러다임을 지원하는 또 다른 프로그래밍 언어입니다. 우리는 몇 가지 이유로 그것을 사용하기로 결정했습니다.\n",
    "\n",
    "- 임베디드 DSL을 호스팅하기에 좋은 언어입니다.\n",
    "- 다양한 데이터 컬렉션을 조작하기 위한 강력하고 우아한 라이브러리가 있습니다.\n",
    "- 개발 주기, 즉 컴파일 초기에 많은 종류의 오류를 포착하는 데 도움이 되는 엄격한 유형 시스템이 있습니다.\n",
    "- 기능을 표현하고 전달하는 강력한 방법이 있습니다.\n",
    "- Chi*p*el, Chi*j*el 및 Chi*c*el은 Chisel만큼 멋지게 혀를 굴리지 않습니다.\n",
    "\n",
    "이 모든 사항은 나중에 Chisel에 대해 이야기하면서 분명해질 것이지만 지금은 Scala 코드를 읽고 쓰는 기본 사항에 집중할 것입니다."
   ]
  },
  {
   "cell_type": "markdown",
   "metadata": {},
   "source": [
    "---\n",
    "# Variables and Constants - var and val\n",
    "(가변) 변수와 상수 값(불변 변수)을 생성하는 명령문 앞에는 각각 *var* 및 *val* 키워드가 옵니다. 가능할 때마다 *val*을 사용하는 것이 일반적입니다. 왜요? 주로 오류가 발생하기 쉬운 방식으로 변수를 재사용하거나 코드를 읽기 어렵게 만드는 방식으로 변수를 재사용할 가능성을 줄입니다. Scala의 구조는 이 방법을 예상보다 쉽게 만듭니다.\n",
    "\n",
    "<span style=\"color:blue\">**Example:**</span><br>\n",
    "후속 코드 블록은 이 노트북 내에서 바로 실행할 수 있습니다. 그것을 실행하려면 클릭하여 초점을 맞춥니다. 셀이 활성화되면 왼쪽에 녹색 막대가 있는 상자가 주위에 나타납니다. 선택되면 활성 *코드 블록* 셀은 노트북 상단에 있는 **재생** 버튼을 사용하여 실행할 수 있습니다(아래에서 참조용으로 빨간색으로 강조 표시됨).\n",
    "\n",
    "![](images/playbutton.png)\n",
    "\n",
    "또는 키보드 단축키를 사용할 수 있습니다. **Shift+Enter**는 현재 활성 셀을 실행하고 포커스를 다음 셀로 이동합니다. **Ctrl+Enter**는 현재 셀을 실행하고 포커스를 유지합니다.\n",
    "\n",
    "\n",
    "주요 예는 파란색과 굵은체 <span style=\"color:blue\">**Example**</span>로 시작하고 운동은 빨간색 <span style=\"color:red\">**Exercise**</span>으로 시작합니다. 모듈 1은 전체가 짧은 예제로 구성되어 있으므로 이 모듈의 나머지 부분에 대한 예제 선언을 생략했습니다."
   ]
  },
  {
   "cell_type": "code",
   "execution_count": 12,
   "metadata": {},
   "outputs": [
    {
     "data": {
      "text/html": [
       "<div class=\"jp-RenderedText\">\n",
       "<pre><code><span style=\"color: rgb(0, 187, 187)\"><span class=\"ansi-cyan-fg\">numberOfKittens</span></span>: <span style=\"color: rgb(0, 187, 0)\"><span class=\"ansi-green-fg\">Int</span></span> = <span style=\"color: rgb(0, 187, 0)\"><span class=\"ansi-green-fg\">7</span></span>\n",
       "<span style=\"color: rgb(0, 187, 187)\"><span class=\"ansi-cyan-fg\">kittensPerHouse</span></span>: <span style=\"color: rgb(0, 187, 0)\"><span class=\"ansi-green-fg\">Int</span></span> = <span style=\"color: rgb(0, 187, 0)\"><span class=\"ansi-green-fg\">101</span></span>\n",
       "<span style=\"color: rgb(0, 187, 187)\"><span class=\"ansi-cyan-fg\">alphabet</span></span>: <span style=\"color: rgb(0, 187, 0)\"><span class=\"ansi-green-fg\">String</span></span> = <span style=\"color: rgb(0, 187, 0)\"><span class=\"ansi-green-fg\">&quot;abcdeaaaaaaaaaaafghijklmnopqrstuvwxyz&quot;</span></span>\n",
       "<span style=\"color: rgb(0, 187, 187)\"><span class=\"ansi-cyan-fg\">done</span></span>: <span style=\"color: rgb(0, 187, 0)\"><span class=\"ansi-green-fg\">Boolean</span></span> = <style>@keyframes fadein { from { opacity: 0; } to { opacity: 1; } }</style><span style=\"animation: fadein 2s;\">true</span></code></pre>\n",
       "</div>"
      ],
      "text/plain": [
       "\u001b[36mnumberOfKittens\u001b[39m: \u001b[32mInt\u001b[39m = \u001b[32m7\u001b[39m\n",
       "\u001b[36mkittensPerHouse\u001b[39m: \u001b[32mInt\u001b[39m = \u001b[32m101\u001b[39m\n",
       "\u001b[36malphabet\u001b[39m: \u001b[32mString\u001b[39m = \u001b[32m\"abcdeaaaaaaaaaaafghijklmnopqrstuvwxyz\"\u001b[39m\n",
       "\u001b[36mdone\u001b[39m: \u001b[32mBoolean\u001b[39m = true"
      ]
     },
     "metadata": {},
     "output_type": "display_data"
    }
   ],
   "source": [
    "var numberOfKittens = 6\n",
    "val kittensPerHouse = 101\n",
    "val alphabet = \"abcdeaaaaaaaaaaafghijklmnopqrstuvwxyz\"\n",
    "var done = false"
   ]
  },
  {
   "cell_type": "markdown",
   "metadata": {},
   "source": [
    "가장 먼저 주목해야 할 것 중 하나는 Java 및 C와 달리 Scala는 일반적으로 명령문의 끝에 세미콜론을 필요로 하지 않는다는 것입니다. 스칼라는 줄바꿈이 있을 때 세미콜론을 추론합니다. 예를 들어, 줄의 마지막 항목이 추가 코드가 필요한 연산자일 때 단일 문이 여러 줄에 걸쳐 있는지 여부를 일반적으로 알 수 있습니다. 세미콜론이 필요한 유일한 경우는 여러 명령문을 한 줄에 맞추려는 경우입니다.\n",
    "\n",
    "당신은 명백한 방법으로 변수를 사용합니다. 두 개의 `var`는 재할당될 수 있지만 두 개의 `val`은 일단 생성되면 변경할 수 없습니다."
   ]
  },
  {
   "cell_type": "code",
   "execution_count": 13,
   "metadata": {},
   "outputs": [
    {
     "name": "stdout",
     "output_type": "stream",
     "text": [
      "abcdeaaaaaaaaaaafghijklmnopqrstuvwxyz\n"
     ]
    }
   ],
   "source": [
    "numberOfKittens += 1\n",
    "\n",
    "// kittensPerHouse = kittensPerHouse * 2 // This would not compile; kittensPerHouse is not updatable\n",
    "\n",
    "println(alphabet)\n",
    "done = true"
   ]
  },
  {
   "cell_type": "markdown",
   "metadata": {},
   "source": [
    "---\n",
    "# Conditionals\n",
    "\n",
    "스칼라는 다른 프로그래밍 언어와 마찬가지로 조건문을 구현합니다."
   ]
  },
  {
   "cell_type": "code",
   "execution_count": 14,
   "metadata": {},
   "outputs": [
    {
     "name": "stdout",
     "output_type": "stream",
     "text": [
      "we are done\n",
      "we are done\n"
     ]
    }
   ],
   "source": [
    "// A simple conditional; by the way, this is a comment\n",
    "if (numberOfKittens > kittensPerHouse) { \n",
    "    println(\"Too many kittens!!!\") \n",
    "}\n",
    "// The braces are not required when all branches are one liners. However, the \n",
    "// Scala Style Guide prefers brace omission only if an \"else\" clause is included.\n",
    "// (Preferably not this, even though it compiles...)\n",
    "if (numberOfKittens > kittensPerHouse) \n",
    "    println(\"Too many kittens!!!\")\n",
    "\n",
    "// ifs have else clauses, of course\n",
    "// This is where you can omit braces!\n",
    "if (done) \n",
    "    println(\"we are done\")\n",
    "else \n",
    "    numberOfKittens += 1\n",
    "\n",
    "// And else ifs\n",
    "// For style, keep braces because not all branches are one liners. \n",
    "if (done) {\n",
    "    println(\"we are done\")\n",
    "}\n",
    "else if (numberOfKittens < kittensPerHouse) {\n",
    "    println(\"more kittens!\")\n",
    "    numberOfKittens += 1\n",
    "}\n",
    "else {\n",
    "    done = true\n",
    "}"
   ]
  },
  {
   "cell_type": "markdown",
   "metadata": {},
   "source": [
    "그러나 Scala에서 \"`if`\" 조건문은 값을 반환합니다. 그 가치는 무엇입니까? 선택한 분기의 마지막 줄에서 지정합니다. 특히 함수 및 클래스에서 값을 초기화하는 데 사용할 때 매우 강력합니다. 다음과 같습니다."
   ]
  },
  {
   "cell_type": "code",
   "execution_count": 15,
   "metadata": {},
   "outputs": [
    {
     "name": "stdout",
     "output_type": "stream",
     "text": [
      "not english\n"
     ]
    },
    {
     "data": {
      "text/plain": [
       "\u001b[36mlikelyCharactersSet\u001b[39m: \u001b[32mString\u001b[39m = \u001b[32m\"not english\"\u001b[39m"
      ]
     },
     "execution_count": 15,
     "metadata": {},
     "output_type": "execute_result"
    }
   ],
   "source": [
    "val likelyCharactersSet = \n",
    "if (alphabet.length == 26)\n",
    "    \"englishㅁㄴㄴㅇㄹㄴㅇ\"\n",
    "else \n",
    "    \"not english\"\n",
    "\n",
    "println(likelyCharactersSet)"
   ]
  },
  {
   "cell_type": "markdown",
   "metadata": {},
   "source": [
    "값이 런타임에 조건부로 결정되는 상수 *likelyCharactersSet*를 만들었습니다."
   ]
  },
  {
   "cell_type": "markdown",
   "metadata": {},
   "source": [
    "---\n",
    "# Methods (Functions)\n",
    "\n",
    "메소드는 키워드 `def`로 정의됩니다. 여기서 우리는 표기법을 남용하고 그것들을 함수라고 부르기도 합니다. 함수 인수(또는 매개변수)는 인수의 이름, 해당 유형 및 선택적으로 기본값을 지정하는 쉼표로 구분된 목록에 지정됩니다. 명확성을 위해 반환 유형을 지정해야 합니다.\n",
    "\n",
    "인수가 없는 스칼라 함수에는 빈 괄호가 필요하지 않습니다. 이것은 종종 참조와 관련된 계산이 있기 때문에 클래스의 멤버가 함수가 되는 상황에서 개발자의 삶을 더 쉽게 만듭니다. 관례에 따라 부작용이 없는(즉, 호출해도 아무 것도 변경되지 않고 단순히 값을 반환하는) 인수가 없는 함수는 괄호를 사용하지 않고 부작용이 있는 함수(아마도 클래스 변수를 변경하거나 내용을 출력할 수 있음) )에는 괄호가 필요합니다.\n",
    "\n",
    "## Simple Declarations"
   ]
  },
  {
   "cell_type": "code",
   "execution_count": 1,
   "metadata": {},
   "outputs": [
    {
     "data": {
      "text/plain": [
       "defined \u001b[32mfunction\u001b[39m \u001b[36mtimes2\u001b[39m\n",
       "defined \u001b[32mfunction\u001b[39m \u001b[36mdistance\u001b[39m"
      ]
     },
     "execution_count": 1,
     "metadata": {},
     "output_type": "execute_result"
    }
   ],
   "source": [
    "// Simple scaling function with an input argument, e.g., times2(3) returns 6\n",
    "// Curly braces can be omitted for short one-line functions.\n",
    "def times2(x: Int): Int = 2 * x\n",
    "\n",
    "// More complicated function\n",
    "def distance(x: Int, y: Int, returnPositive: Boolean): Int = {\n",
    "    val xy = x * y\n",
    "    if (returnPositive) xy.abs else -xy.abs\n",
    "}"
   ]
  },
  {
   "cell_type": "markdown",
   "metadata": {},
   "source": [
    "## Overloading Functions\n",
    "같은 함수 이름을 여러 가지 방법으로 사용할 수 있습니다. 매개변수와 해당 유형은 컴파일러가 호출해야 하는 함수 버전을 파악할 수 있도록 하는 서명을 결정합니다. 그러나 오버로드된 기능은 피해야 합니다."
   ]
  },
  {
   "cell_type": "code",
   "execution_count": 17,
   "metadata": {},
   "outputs": [
    {
     "data": {
      "text/plain": [
       "defined \u001b[32mfunction\u001b[39m \u001b[36mtimes2\u001b[39m\n",
       "defined \u001b[32mfunction\u001b[39m \u001b[36mtimes2\u001b[39m\n",
       "\u001b[36mres16_2\u001b[39m: \u001b[32mInt\u001b[39m = \u001b[32m10\u001b[39m\n",
       "\u001b[36mres16_3\u001b[39m: \u001b[32mInt\u001b[39m = \u001b[32m14\u001b[39m"
      ]
     },
     "execution_count": 17,
     "metadata": {},
     "output_type": "execute_result"
    }
   ],
   "source": [
    "// Overloaded function\n",
    "def times2(x: Int): Int = 2 * x\n",
    "def times2(x: String): Int = 2 * x.toInt\n",
    "\n",
    "times2(5)\n",
    "times2(\"7\")"
   ]
  },
  {
   "cell_type": "markdown",
   "metadata": {},
   "source": [
    "## Recursive and Nested Functions\n",
    "중괄호는 코드 범위를 정의합니다. 함수의 범위 내에는 더 많은 함수 또는 재귀 함수 호출이 있을 수 있습니다. 특정 범위에 정의된 함수는 해당 범위 내에서만 액세스할 수 있습니다."
   ]
  },
  {
   "cell_type": "code",
   "execution_count": 2,
   "metadata": {},
   "outputs": [
    {
     "name": "stdout",
     "output_type": "stream",
     "text": [
      "XXXXXX\n",
      "XXXXX\n",
      "XXXX\n",
      "XXX\n",
      "XX\n",
      "X\n"
     ]
    },
    {
     "data": {
      "text/plain": [
       "defined \u001b[32mfunction\u001b[39m \u001b[36masciiTriangle\u001b[39m"
      ]
     },
     "execution_count": 2,
     "metadata": {},
     "output_type": "execute_result"
    }
   ],
   "source": [
    "/** Prints a triangle made of \"X\"s\n",
    "  * This is another style of comment\n",
    "  */\n",
    "def asciiTriangle(rows: Int) {\n",
    "    \n",
    "    // This is cute: multiplying \"X\" makes a string with many copies of \"X\"\n",
    "    def printRow(columns: Int): Unit = println(\"X\" * columns)\n",
    "    \n",
    "    if(rows > 0) {\n",
    "        printRow(rows)\n",
    "        asciiTriangle(rows - 1) // Here is the recursive call\n",
    "    }\n",
    "}\n",
    "\n",
    "// printRow(1) // This would not work, since we're calling printRow outside its scope\n",
    "asciiTriangle(6)"
   ]
  },
  {
   "cell_type": "markdown",
   "metadata": {},
   "source": [
    "---\n",
    "# Lists\n",
    "Scala는 다양한 집계 또는 시퀀스 객체를 구현합니다. List는 array와 매우 유사하지만 추가 및 추출을 위한 추가 작업을 지원합니다."
   ]
  },
  {
   "cell_type": "code",
   "execution_count": 3,
   "metadata": {},
   "outputs": [
    {
     "data": {
      "text/plain": [
       "\u001b[36mx\u001b[39m: \u001b[32mInt\u001b[39m = \u001b[32m7\u001b[39m\n",
       "\u001b[36my\u001b[39m: \u001b[32mInt\u001b[39m = \u001b[32m14\u001b[39m\n",
       "\u001b[36mlist1\u001b[39m: \u001b[32mList\u001b[39m[\u001b[32mInt\u001b[39m] = \u001b[33mList\u001b[39m(\u001b[32m1\u001b[39m, \u001b[32m2\u001b[39m, \u001b[32m3\u001b[39m)\n",
       "\u001b[36mlist2\u001b[39m: \u001b[32mList\u001b[39m[\u001b[32mInt\u001b[39m] = \u001b[33mList\u001b[39m(\u001b[32m7\u001b[39m, \u001b[32m14\u001b[39m, \u001b[32m14\u001b[39m)\n",
       "\u001b[36mlist3\u001b[39m: \u001b[32mList\u001b[39m[\u001b[32mInt\u001b[39m] = \u001b[33mList\u001b[39m(\u001b[32m1\u001b[39m, \u001b[32m2\u001b[39m, \u001b[32m3\u001b[39m, \u001b[32m7\u001b[39m, \u001b[32m14\u001b[39m, \u001b[32m14\u001b[39m)\n",
       "\u001b[36mm\u001b[39m: \u001b[32mInt\u001b[39m = \u001b[32m3\u001b[39m\n",
       "\u001b[36ms\u001b[39m: \u001b[32mInt\u001b[39m = \u001b[32m3\u001b[39m\n",
       "\u001b[36mheadOfList\u001b[39m: \u001b[32mInt\u001b[39m = \u001b[32m1\u001b[39m\n",
       "\u001b[36mrestOfList\u001b[39m: \u001b[32mList\u001b[39m[\u001b[32mInt\u001b[39m] = \u001b[33mList\u001b[39m(\u001b[32m2\u001b[39m, \u001b[32m3\u001b[39m)\n",
       "\u001b[36mthird\u001b[39m: \u001b[32mInt\u001b[39m = \u001b[32m3\u001b[39m"
      ]
     },
     "execution_count": 3,
     "metadata": {},
     "output_type": "execute_result"
    }
   ],
   "source": [
    "val x = 7\n",
    "val y = 14\n",
    "val list1 = List(1, 2, 3)\n",
    "val list2 = x :: y :: y :: Nil       // An alternate notation for assembling a list\n",
    "\n",
    "val list3 = list1 ++ list2           // Appends the second list to the first list\n",
    "val m = list2.length\n",
    "val s = list2.size\n",
    "\n",
    "val headOfList = list1.head          // Gets the first element of the list\n",
    "val restOfList = list1.tail          // Get a new list with first element removed\n",
    "\n",
    "val third = list1(2)                 // Gets the third element of a list (0-indexed)"
   ]
  },
  {
   "cell_type": "markdown",
   "metadata": {},
   "source": [
    "---\n",
    "# `for` Statement\n",
    " \n",
    "스칼라는 `for` 문을 가지고 있으며 전통적인 for 문처럼 작동합니다. 값 범위를 반복할 수 있습니다."
   ]
  },
  {
   "cell_type": "code",
   "execution_count": 20,
   "metadata": {},
   "outputs": [
    {
     "name": "stdout",
     "output_type": "stream",
     "text": [
      "0 1 2 3 4 5 6 7 \n"
     ]
    }
   ],
   "source": [
    "for (i <- 0 to 7) { print(i + \" \") }\n",
    "println()"
   ]
  },
  {
   "cell_type": "markdown",
   "metadata": {},
   "source": [
    "0에서 6까지 반복하려면 `to` 대신 `until`을 사용하세요(7은 포함되지 않음)."
   ]
  },
  {
   "cell_type": "code",
   "execution_count": 21,
   "metadata": {},
   "outputs": [
    {
     "name": "stdout",
     "output_type": "stream",
     "text": [
      "0 1 2 3 4 5 6 \n"
     ]
    }
   ],
   "source": [
    "for (i <- 0 until 7) { print(i + \" \") }\n",
    "println()"
   ]
  },
  {
   "cell_type": "markdown",
   "metadata": {},
   "source": [
    "고정된 양만큼 증가시키려면 `by`를 추가하십시오. 다음은 0에서 10 사이의 짝수 정수를 출력합니다."
   ]
  },
  {
   "cell_type": "code",
   "execution_count": 22,
   "metadata": {},
   "outputs": [
    {
     "name": "stdout",
     "output_type": "stream",
     "text": [
      "0 2 4 6 8 10 \n"
     ]
    }
   ],
   "source": [
    "for(i <- 0 to 10 by 2) { print(i + \" \") }\n",
    "println()"
   ]
  },
  {
   "cell_type": "markdown",
   "metadata": {},
   "source": [
    "어떤 종류의 컬렉션이 있고 모든 요소를 방문하려는 경우 Java 및 Python에서와 같이 `for`를 *반복자*로 사용할 수 있습니다. 여기에서 4개의 임의의 정수 목록을 만든 다음 합산합니다."
   ]
  },
  {
   "cell_type": "code",
   "execution_count": 23,
   "metadata": {},
   "outputs": [
    {
     "name": "stdout",
     "output_type": "stream",
     "text": [
      "sum is 234213665\n"
     ]
    },
    {
     "data": {
      "text/html": [
       "<div class=\"jp-RenderedText\">\n",
       "<pre><code><span style=\"color: rgb(0, 187, 187)\"><span class=\"ansi-cyan-fg\">randomList</span></span>: <span style=\"color: rgb(0, 187, 0)\"><span class=\"ansi-green-fg\">List</span></span>[<span style=\"color: rgb(0, 187, 0)\"><span class=\"ansi-green-fg\">Int</span></span>] = <span style=\"color: yellow\"><span class=\"ansi-yellow-fg\">List</span></span>(<span style=\"color: rgb(0, 187, 0)\"><span class=\"ansi-green-fg\">-1749236535</span></span>, <span style=\"color: rgb(0, 187, 0)\"><span class=\"ansi-green-fg\">1753172283</span></span>, <span style=\"color: rgb(0, 187, 0)\"><span class=\"ansi-green-fg\">1502255534</span></span>, <span style=\"color: rgb(0, 187, 0)\"><span class=\"ansi-green-fg\">-1271977617</span></span>)\n",
       "<span style=\"color: rgb(0, 187, 187)\"><span class=\"ansi-cyan-fg\">listSum</span></span>: <span style=\"color: rgb(0, 187, 0)\"><span class=\"ansi-green-fg\">Int</span></span> = <span style=\"color: rgb(0, 187, 0)\"><span class=\"ansi-green-fg\">234213665</span></span></code></pre>\n",
       "</div>"
      ],
      "text/plain": [
       "\u001b[36mrandomList\u001b[39m: \u001b[32mList\u001b[39m[\u001b[32mInt\u001b[39m] = \u001b[33mList\u001b[39m(\u001b[32m-1749236535\u001b[39m, \u001b[32m1753172283\u001b[39m, \u001b[32m1502255534\u001b[39m, \u001b[32m-1271977617\u001b[39m)\n",
       "\u001b[36mlistSum\u001b[39m: \u001b[32mInt\u001b[39m = \u001b[32m234213665\u001b[39m"
      ]
     },
     "metadata": {},
     "output_type": "display_data"
    }
   ],
   "source": [
    "val randomList = List(scala.util.Random.nextInt(), scala.util.Random.nextInt(), scala.util.Random.nextInt(), scala.util.Random.nextInt())\n",
    "var listSum = 0\n",
    "for (value <- randomList) {\n",
    "  listSum += value\n",
    "}\n",
    "println(\"sum is \" + listSum)"
   ]
  },
  {
   "cell_type": "markdown",
   "metadata": {},
   "source": [
    "스칼라의 `for`는 할 수 있는 더 많은 트릭을 가지고 있습니다. 광범위한 전통적인 반복 요구 사항에 대해 직관적으로 작동하지만 사용하기에 가장 편리한 것일 수도 있고 아닐 수도 있습니다. 배열의 요소 합산과 같은 작업은 다양한 요소 컬렉션에서 사용할 수 있는 *comprehensions*라는 풍부한 함수 제품군을 사용하여 더 쉽게 수행되는 경우가 많습니다. 이후 모듈은 `for`와 그 동맹에 대해 더 많은 것을 제공할 것입니다."
   ]
  },
  {
   "cell_type": "markdown",
   "metadata": {},
   "source": [
    "---\n",
    "# Reading Scala\n",
    "스칼라 코드를 읽고 일반적인 명명 규칙, 디자인 패턴 및 모범 사례를 이해할 수 있는 것은 효과적인 치즐 디자이너가 되기 위한 중요한 단계입니다. 코드 재사용의 가능성은 치즐의 장점 중 하나이지만 다른 사람의 코드를 읽을 수 없으면 재사용이 어렵습니다. 다른 사람의 코드를 효과적으로 구문 분석하면 특히 StackOverflow와 같은 리소스에서 도움을 더 쉽게 찾을 수 있습니다.\n",
    "\n",
    "다음 섹션에서는 보게 될 일반적인 코드 패턴을 보여줍니다."
   ]
  },
  {
   "cell_type": "markdown",
   "metadata": {},
   "source": [
    "---\n",
    "# Packages and Imports \n",
    "\n",
    "```scala\n",
    "package mytools\n",
    "class Tool1 { ... }\n",
    "```\n",
    "\n",
    "When externally referencing code defined in a file containing the above lines, one should use:  \n",
    "위의 줄을 포함하는 파일에 정의된 코드를 외부에서 참조할 때 다음을 사용해야 합니다.\n",
    " \n",
    "```scala\n",
    "import mytools.Tool1\n",
    "```\n",
    "\n",
    "Note: The package name  **should** match the directory hierarchy. This is not mandatory, but failing to abide by this guideline can produce some unusual and difficult to diagnose problems. Package names by convention are lower case and do not contain separators like underscores.  This sometimes makes good descriptive names difficult.  One approach is to add a layer of hierarchy, e.g. `package good.tools`.  Do your best.  Chisel itself plays some games with the package names that do not conform to these rules.  \n",
    "참고: 패키지 이름은 **디렉토리 계층 구조와 일치해야 합니다**. 이것은 필수 사항은 아니지만 이 지침을 준수하지 않으면 진단하기 어려운 문제가 발생할 수 있습니다. 규칙에 따른 패키지 이름은 소문자이며 밑줄과 같은 구분 기호를 포함하지 않습니다. 이것은 때때로 좋은 설명적인 이름을 어렵게 만듭니다. 한 가지 접근 방식은 계층 계층을 추가하는 것입니다. `패키지 good.tools`. 최선을 다해. Chisel 자체는 이러한 규칙을 준수하지 않는 패키지 이름으로 일부 게임을 합니다.\n",
    "\n",
    "As shown above, `import` statements inform the compiler that you are using some additional libraries.  Some common imports you will use when programming in Chisel are:  \n",
    "위에 표시된 것처럼 `import` 문은 컴파일러에 몇 가지 추가 라이브러리를 사용하고 있음을 알려줍니다. Chisel에서 프로그래밍할 때 사용할 몇 가지 일반적인 가져오기는 다음과 같습니다.\n",
    "\n",
    "```scala\n",
    "import chisel3._\n",
    "import chisel3.iotesters.{ChiselFlatSpec, Driver, PeekPokeTester}\n",
    "```\n",
    "The first imports all the classes and methods in the chisel3 package; the underscore here works as a wildcard.  The second imports specific classes from the chisel3.iotesters package.  \n",
    "첫 번째는 chisel3 패키지의 모든 클래스와 메서드를 가져옵니다. 여기서 밑줄은 와일드카드로 작동합니다. 두 번째는 chisel3.iotesters 패키지에서 특정 클래스를 가져옵니다."
   ]
  },
  {
   "cell_type": "markdown",
   "metadata": {},
   "source": [
    "---\n",
    "# Scala Is an Object Oriented Language\n",
    "Scala is object oriented, and it's important to understand a bit about this to take maxiumum advantage of both Scala and Chisel.  Note that, without a doubt, there is more than one way to describe all this.\n",
    "1. Variables are objects.\n",
    "1. Constants in the sense of *Scala's* `val` declarative are also objects.\n",
    "1. Even literal values are objects.\n",
    "1. Even functions themselves are objects. More on this later.\n",
    "1. Objects are instances of classes.\n",
    "  1. In fact, in just about every way that matters in Scala, the *object* in *Objected Oriented* will be called an instance.\n",
    "1. In defining classes, the programmer specifies:\n",
    "  1. The data (`val`, `var`) associated with the class.\n",
    "  1. The operations, called methods or functions, that instances of the class can perform.\n",
    "1. Classes can extend other classes.\n",
    "  1. The class being extended is the superclass; the extendee is the subclass.\n",
    "  1. In this case, the subclass inherits the data and methods from the superclass.\n",
    "  1. There are many useful but controlled ways in which a class may extend or override inherited properties.\n",
    "1. Classes may inherit from traits. Think of traits as lightweight classes that allow specific, limited ways of inheriting from more than one superclass.  \n",
    "1. (Singleton) Objects are a special kind of Scala class.\n",
    "  1. They are not objects as above. Remember, we're calling those instances.\n",
    "\n",
    "We are about to look at how to create a class in Scala.\n",
    "\n",
    "Scala는 객체 지향적이며 Scala와 Chisel을 최대한 활용하려면 이에 대해 약간 이해하는 것이 중요합니다. 의심할 여지 없이 이 모든 것을 설명하는 방법은 여러 가지가 있습니다.\n",
    "1. 변수는 객체입니다.\n",
    "1. *Scala* `val` 선언의 의미에서 상수도 객체입니다.\n",
    "1. 리터럴 값도 객체입니다.\n",
    "1. 함수 자체도 객체입니다. 이에 대한 자세한 내용은 나중에 설명합니다.\n",
    "1. 객체는 클래스의 인스턴스입니다.\n",
    "  1. 사실, Scala에서 중요한 거의 모든 면에서 *Objected Oriented*의 *object*는 인스턴스라고 합니다.\n",
    "1. 클래스를 정의할 때 프로그래머는 다음을 지정합니다.\n",
    "  1. 클래스와 관련된 데이터(`val`, `var`).\n",
    "  1. 클래스의 인스턴스가 수행할 수 있는 메서드 또는 함수라고 하는 작업입니다.\n",
    "1. 클래스는 다른 클래스를 확장할 수 있습니다.\n",
    "  1. 확장되는 클래스는 수퍼클래스입니다. 확장자는 하위 클래스입니다.\n",
    "  1. 이 경우 하위 클래스는 상위 클래스에서 데이터와 메서드를 상속합니다.\n",
    "  1. 클래스가 상속된 속성을 확장하거나 재정의할 수 있는 유용하지만 제어된 방법이 많이 있습니다.\n",
    "1. 클래스는 특성에서 상속될 수 있습니다. 특성을 둘 이상의 수퍼클래스에서 상속하는 특정 제한적인 방법을 허용하는 경량 클래스로 생각하십시오.\n",
    "1. (싱글톤) 객체는 특별한 종류의 스칼라 클래스입니다.\n",
    "  1. 위와 같은 객체가 아닙니다. 우리는 이러한 인스턴스를 호출한다는 것을 기억하십시오.\n",
    "\n",
    "스칼라에서 클래스를 생성하는 방법을 살펴보겠습니다."
   ]
  },
  {
   "cell_type": "markdown",
   "metadata": {},
   "source": [
    "---\n",
    "# A Class Example\n",
    "An example of creating a Scala class might be  \n",
    "Scala 클래스를 만드는 예는 다음과 같습니다."
   ]
  },
  {
   "cell_type": "code",
   "execution_count": 24,
   "metadata": {},
   "outputs": [
    {
     "data": {
      "text/plain": [
       "defined \u001b[32mclass\u001b[39m \u001b[36mWrapCounter\u001b[39m"
      ]
     },
     "execution_count": 24,
     "metadata": {},
     "output_type": "execute_result"
    }
   ],
   "source": [
    "// WrapCounter counts up to a max value based on a bit size\n",
    "class WrapCounter(counterBits: Int) {\n",
    "\n",
    "  val max: Long = (1 << counterBits) - 1\n",
    "  var counter = 0L\n",
    "    \n",
    "  def inc(): Long = {\n",
    "    counter = counter + 1\n",
    "    if (counter > max) {\n",
    "        counter = 0\n",
    "    }\n",
    "    counter\n",
    "  }\n",
    "  println(s\"counter created with max value $max\")\n",
    "}\n"
   ]
  },
  {
   "cell_type": "markdown",
   "metadata": {},
   "source": [
    "여기에 무엇이 있습니까:\n",
    "* ```class WrapCounter``` -- **WrapCounter**의 정의입니다.\n",
    "* ```(counterBits: Int)``` -- WrapCounter를 생성하려면 정수 매개변수가 필요합니다. 정수 매개변수는 카운터의 비트 너비임을 나타내기 위해 멋지게 명명되었습니다.\n",
    "* 중괄호({})는 코드 블록을 구분합니다. 대부분의 클래스는 코드 블록을 사용하여 변수, 상수 및 메서드(함수)를 정의합니다.\n",
    "* `val max: Long =` -- 클래스는 **max** 멤버 변수를 포함하며, `Long` 유형으로 선언되고 클래스가 생성될 때 초기화됩니다.\n",
    "* `(1 << counterBits) - 1`은 **counterBits** 비트에 포함될 수 있는 최대값을 계산합니다. **max**는 `val`로 생성되었으므로 변경할 수 없습니다.\n",
    "* **counter** 변수가 생성되어 **0L**로 초기화됩니다. **L**은 0이 긴 값임을 나타냅니다. 따라서 **counter**는 Long으로 유추됩니다.\n",
    "* **max**와 **counter**는 일반적으로 클래스의 _멤버 변수_라고 합니다.\n",
    "* 인수를 사용하지 않고 **Long** 값을 반환하는 클래스 메서드 **inc**가 정의되었습니다.\n",
    "* **inc** 메서드의 본문은 다음을 포함하는 코드 블록입니다.\n",
    "  * `counter = counter + 1` 증분 **카운터**.\n",
    "  * `if (counter > max) { counter = 0 }`은 카운터가 **max** 값보다 큰지 테스트하고 그렇다면 다시 0으로 설정합니다.\n",
    "  * `counter` -- 코드 블록의 마지막 줄이 중요합니다.\n",
    "    * 코드 블록의 마지막 줄로 표현된 모든 값은 해당 코드 블록의 반환 값으로 간주됩니다. 반환 값은 호출 문에서 사용하거나 무시할 수 있습니다.\n",
    "    * 이것은 매우 일반적으로 적용됩니다. 예를 들어 `if` then `else` 문은 true 및 false 절을 ​​코드 블록으로 정의하므로 값을 반환할 수 있습니다. 즉, `val result = if (10 * 10 > 90) \"greater\" else \"lesser\"` \"더 큰\" 값으로 `val`을 생성합니다.\n",
    "  * 따라서 이 경우 **inc** 함수는 **counter** 값을 반환합니다.\n",
    "* `println(s\"counter created with max value $max\")`는 문자열을 표준 출력으로 출력합니다. **println**은 정의 코드 블록에 직접 있기 때문에 클래스 초기화 코드의 일부이며 이 클래스의 인스턴스가 생성될 때마다 실행됩니다. 즉, 문자열을 출력합니다.\n",
    "* 이 경우 출력된 문자열은 _interpolated_ 문자열입니다.\n",
    "  * 첫 번째 큰따옴표 앞의 선행 **s**는 이것을 보간된 문자열로 식별합니다.\n",
    "  * 보간된 문자열은 런타임에 처리됩니다.\n",
    "  * **\\$max**는 max 값으로 대체됩니다.\n",
    "  * **\\$** 다음에 코드 블록이 있으면 해당 코드 블록에 임의의 스칼라가 포함될 수 있습니다.\n",
    "    * 예를 들어, **`println(s\"doubled max is ${max + max}\")`**.\n",
    "    * 이 코드 블록의 반환 값은 `${...}` 자리에 삽입됩니다.\n",
    "    * 반환 값이 문자열이 아니면 1로 변환됩니다. 스칼라의 거의 모든 클래스 또는 유형에는 정의된 문자열로의 암시적 변환이 있습니다.\n",
    "  * 일반적으로 디버깅하는 경우가 아니면 표준 출력이 플러딩되는 것을 방지하기 위해 클래스의 인스턴스가 생성될 때마다 무언가를 인쇄하는 것을 피해야 합니다."
   ]
  },
  {
   "cell_type": "markdown",
   "metadata": {},
   "source": [
    "---\n",
    "# Creating an Instance of a Class \n",
    "\n",
    "위의 예를 사용하여 클래스를 생성해 보겠습니다. Scala 인스턴스는 내장된 매직 키워드 `new`를 통해 생성됩니다.  "
   ]
  },
  {
   "cell_type": "code",
   "execution_count": 3,
   "metadata": {},
   "outputs": [
    {
     "name": "stderr",
     "output_type": "stream",
     "text": [
      "cmd3.sc:1: not found: type WrapCounter\n",
      "val x = new WrapCounter(2)\n",
      "            ^Compilation Failed"
     ]
    },
    {
     "ename": "",
     "evalue": "",
     "output_type": "error",
     "traceback": [
      "Compilation Failed"
     ]
    }
   ],
   "source": [
    "val x = new WrapCounter(2)"
   ]
  },
  {
   "cell_type": "markdown",
   "metadata": {},
   "source": [
    "`new` 키워드 없이 인스턴스가 생성되는 것을 볼 수 있습니다(예: `val y = WrapCounter(6)`).\n",
    "이것은 특별한 주의를 기울일 만큼 충분히 자주 발생하지만 동반 개체를 사용해야 합니다. 나중에 설명합니다.\n",
    "\n",
    "방금 생성된 인스턴스의 사용 예가 다음에 나와 있습니다. (아래 셀을 두 번 평가해 보세요.)"
   ]
  },
  {
   "cell_type": "code",
   "execution_count": 3,
   "metadata": {},
   "outputs": [
    {
     "name": "stderr",
     "output_type": "stream",
     "text": [
      "cmd3.sc:1: value inc is not a member of Int\n",
      "val res3_0 = x.inc() // Increments the counter\n",
      "               ^cmd3.sc:4: value counter is not a member of Int\n",
      "val res3_1 = if(x.counter == x.max) {              \n",
      "                  ^cmd3.sc:4: missing argument list for method max in class RichInt\n",
      "Unapplied methods are only converted to functions when a function type is expected.\n",
      "You can make this conversion explicit by writing `max _` or `max(_)` instead of `max`.\n",
      "val res3_1 = if(x.counter == x.max) {              \n",
      "                               ^cmd3.sc:8: value inc is not a member of Int\n",
      "val res3_2 = x inc() // Scala allows the dots to be omitted; this can be useful for making embedded DSL's look more natural\n",
      "               ^Compilation Failed"
     ]
    },
    {
     "ename": "",
     "evalue": "",
     "output_type": "error",
     "traceback": [
      "Compilation Failed"
     ]
    }
   ],
   "source": [
    "x.inc() // Increments the counter\n",
    "\n",
    "// Member variables of the instance x are visible to the outside, unless they are declared private\n",
    "if(x.counter == x.max) {              \n",
    "    println(\"counter is about to wrap\")\n",
    "}\n",
    "\n",
    "x inc() // Scala allows the dots to be omitted; this can be useful for making embedded DSL's look more natural"
   ]
  },
  {
   "cell_type": "markdown",
   "metadata": {},
   "source": [
    "---\n",
    "# Code Blocks\n",
    "코드 블록은 중괄호로 구분됩니다. 블록에는 스칼라 코드 라인이 0개 이상 포함될 수 있습니다. Scala 코드의 마지막 줄은 코드 블록의 반환 값(무시될 수 있음)이 됩니다. 줄이 없는 코드 블록은 `Unit`이라는 특수한 null과 유사한 객체를 반환합니다. 코드 블록은 스칼라 전체에서 사용됩니다. 코드 블록은 클래스 정의의 본문이고, 함수 및 메서드 정의를 형성하고, `if` 문의 절이며, `for` 및 기타 많은 스칼라 연산자의 본문입니다.\n",
    "\n",
    "## Parameterized Code Blocks\n",
    "코드 블록은 매개변수를 사용할 수 있습니다. 클래스 및 메서드 정의의 경우 이러한 매개변수는 대부분의 기존 프로그래밍 언어의 매개변수와 유사합니다. 아래 예에서 `c`와 `s`는 코드 블록의 매개변수입니다."
   ]
  },
  {
   "cell_type": "code",
   "execution_count": 4,
   "metadata": {},
   "outputs": [
    {
     "data": {
      "text/plain": [
       "defined \u001b[32mfunction\u001b[39m \u001b[36madd1\u001b[39m\n",
       "defined \u001b[32mclass\u001b[39m \u001b[36mRepeatString\u001b[39m"
      ]
     },
     "execution_count": 4,
     "metadata": {},
     "output_type": "execute_result"
    }
   ],
   "source": [
    "// A one-line code block doesn't need to be enclosed in {}\n",
    "def add1(c: Int): Int = c + 1\n",
    "\n",
    "class RepeatString(s: String) {\n",
    "  val repeatedString = s + s\n",
    "}"
   ]
  },
  {
   "cell_type": "markdown",
   "metadata": {},
   "source": [
    "**중요**: 코드 블록을 매개변수화할 수 있는 다른 방법이 있습니다. 다음은 예입니다."
   ]
  },
  {
   "cell_type": "code",
   "execution_count": 5,
   "metadata": {},
   "outputs": [
    {
     "data": {
      "text/plain": [
       "\u001b[36mintList\u001b[39m: \u001b[32mList\u001b[39m[\u001b[32mInt\u001b[39m] = \u001b[33mList\u001b[39m(\u001b[32m1\u001b[39m, \u001b[32m2\u001b[39m, \u001b[32m3\u001b[39m)\n",
       "\u001b[36mstringList\u001b[39m: \u001b[32mList\u001b[39m[\u001b[32mString\u001b[39m] = \u001b[33mList\u001b[39m(\u001b[32m\"1\"\u001b[39m, \u001b[32m\"2\"\u001b[39m, \u001b[32m\"3\"\u001b[39m)"
      ]
     },
     "execution_count": 5,
     "metadata": {},
     "output_type": "execute_result"
    }
   ],
   "source": [
    "val intList = List(1, 2, 3)\n",
    "val stringList = intList.map { i =>\n",
    "  i.toString\n",
    "}"
   ]
  },
  {
   "cell_type": "markdown",
   "metadata": {},
   "source": [
    "코드 블록은 List 클래스의 `map` 메서드에 전달됩니다. `map` 메서드를 사용하려면 해당 코드 블록에 단일 매개변수가 있어야 합니다. 코드 블록은 목록의 각 멤버에 대해 호출되고 코드 블록은 해당 멤버를 문자열로 변환하여 반환합니다. Scala는 이 구문의 변형을 거의 과도하게 수용합니다. 다양한 방법으로 작성된 것을 볼 수 있습니다. 이러한 유형의 코드 블록을 익명 함수라고 하며 익명 함수에 대한 자세한 내용은 이후 모듈에서 제공됩니다."
   ]
  },
  {
   "cell_type": "markdown",
   "metadata": {},
   "source": [
    "여기서 목표는 다양한 표기법 유형을 만났을 때 이를 인식하도록 돕는 것입니다. Scala를 사용하다 보면 더 편안하고 친숙하게 느껴질 것입니다. 작성자는 특정 스타일에 집착하는 경향이 있으며 하나의 표기법이 더 자연스러워 보이는 개별 구문 상황도 있습니다. 한 줄짜리는 더 간결한 형식을 사용하는 경향이 있습니다. 복잡한 블록은 일반적으로 더 내러티브한 모양을 갖습니다. 협업을 더 쉽게 하려면 [Scala Style Guide](http://docs.scala-lang.org/style/)에 있는 모범 사례를 살펴보는 것이 좋습니다."
   ]
  },
  {
   "cell_type": "markdown",
   "metadata": {},
   "source": [
    "---\n",
    "# Named Parameters and Parameter Defaults\n",
    "다음 메소드 정의를 고려하십시오.\n",
    "\n",
    "```scala\n",
    "def myMethod(count: Int, wrap: Boolean, wrapValue: Int = 24): Unit = { ... }\n",
    "```\n",
    "\n",
    "메서드를 호출할 때 전달된 값과 함께 매개 변수 이름을 자주 볼 수 있습니다.    \n",
    "```scala\n",
    "myMethod(count = 10, wrap = false, wrapValue = 23)\n",
    "```\n",
    "\n",
    "명명된 매개변수를 사용하면 다른 순서로 함수를 호출할 수도 있습니다.\n",
    "```scala\n",
    "myMethod(wrapValue = 23, wrap = false, count = 10)\n",
    "```\n",
    " \n",
    "자주 호출되는 메소드의 경우 매개변수 순서가 명확할 수 있습니다. 그러나 덜 일반적인 메서드, 특히 호출이 포함된 이름을 포함한 부울 인수의 경우 코드를 훨씬 더 읽기 쉽게 만들 수 있습니다. 메소드에 동일한 유형의 긴 인수 목록이 있는 경우 이름을 사용하면 오류 가능성도 줄어듭니다. 클래스 정의에 대한 매개변수도 이 명명된 인수 체계를 사용합니다(실제로는 클래스의 생성자 메서드에 대한 매개변수일 뿐입니다).\n",
    "\n",
    "\n",
    "특정 매개변수에 기본값이 있는 경우(재정의할 필요가 없음) 호출자는 기본값을 사용하지 않는 특정 인수(이름으로)만 전달하면 됩니다. 매개변수 `wrapValue`의 기본값은 24입니다. 따라서,\n",
    "\n",
    "```scala\n",
    "myMethod(wrap = false, count = 10)\n",
    "```\n",
    "24가 전달된 것처럼 작동합니다."
   ]
  },
  {
   "cell_type": "markdown",
   "metadata": {},
   "source": [
    "---\n",
    "# You're done!\n",
    "\n",
    "[Return to the top.](#top)"
   ]
  },
  {
   "cell_type": "code",
   "execution_count": null,
   "metadata": {},
   "outputs": [],
   "source": []
  },
  {
   "cell_type": "code",
   "execution_count": null,
   "metadata": {},
   "outputs": [],
   "source": []
  }
 ],
 "metadata": {
  "kernelspec": {
   "display_name": "Scala",
   "language": "scala",
   "name": "scala"
  },
  "language_info": {
   "codemirror_mode": "text/x-scala",
   "file_extension": ".scala",
   "mimetype": "text/x-scala",
   "name": "scala",
   "nbconvert_exporter": "script",
   "version": "2.12.10"
  }
 },
 "nbformat": 4,
 "nbformat_minor": 2
}
