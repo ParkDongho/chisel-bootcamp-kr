{
 "cells": [
  {
   "cell_type": "markdown",
   "metadata": {},
   "source": [
    "<a name=\"top\"></a><img src=\"images/chisel_1024.png\" alt=\"Chisel logo\" style=\"width:480px;\" />"
   ]
  },
  {
   "cell_type": "markdown",
   "metadata": {},
   "source": [
    "# Module 3.4: Functional Programming\n",
    "**Prev: [Higher-Order Functions](3.3_higher-order_functions.ipynb)**<br>\n",
    "**Next: [Object Oriented Programming](3.5_object_oriented_programming.ipynb)**\n",
    "\n",
    "## Motivation\n",
    "이전의 많은 모듈에서 함수를 보았지만 이제는 직접 만들어 효과적으로 사용할 때입니다.\n",
    "\n",
    "## Setup"
   ]
  },
  {
   "cell_type": "code",
   "execution_count": null,
   "metadata": {
    "scrolled": true
   },
   "outputs": [],
   "source": [
    "val path = System.getProperty(\"user.dir\") + \"/source/load-ivy.sc\"\n",
    "interp.load.module(ammonite.ops.Path(java.nio.file.FileSystems.getDefault().getPath(path)))"
   ]
  },
  {
   "cell_type": "markdown",
   "metadata": {},
   "source": [
    "이 모듈은 현재 실험 패키지에 있는 Chisel `FixedPoint` 유형을 사용합니다."
   ]
  },
  {
   "cell_type": "code",
   "execution_count": null,
   "metadata": {},
   "outputs": [],
   "source": [
    "import chisel3._\n",
    "import chisel3.util._\n",
    "import chisel3.tester._\n",
    "import chisel3.tester.RawTester.test\n",
    "import chisel3.experimental._\n",
    "import chisel3.internal.firrtl.KnownBinaryPoint"
   ]
  },
  {
   "cell_type": "markdown",
   "metadata": {},
   "source": [
    "---\n",
    "# Functional Programming in Scala\n",
    "스칼라 함수는 모듈 1에서 소개되었으며 이전 모듈에서 많이 사용되는 것을 보았습니다. \n",
    "다음은 함수에 대한 리프레시입니다. \n",
    "함수는 원하는 수의 입력을 받아 하나의 출력을 생성합니다. \n",
    "입력은 종종 함수에 대한 인수(argument)라고 합니다. \n",
    "출력을 생성하지 않으려면 `Unit` 유형을 반환합니다.\n",
    "\n",
    "<span style=\"color:blue\">**Example: Custom Functions**</span><br>\n",
    "다음은 스칼라의 함수에 대한 몇 가지 예입니다."
   ]
  },
  {
   "cell_type": "code",
   "execution_count": null,
   "metadata": {},
   "outputs": [],
   "source": [
    "// No inputs or outputs (two versions).\n",
    "def hello1(): Unit = print(\"Hello!\")\n",
    "def hello2 = print(\"Hello again!\")\n",
    "\n",
    "// Math operation: one input and one output.\n",
    "def times2(x: Int): Int = 2 * x\n",
    "\n",
    "// Inputs can have default values, and explicitly specifying the return type is optional.\n",
    "// Note that we recommend specifying the return types to avoid surprises/bugs.\n",
    "def timesN(x: Int, n: Int = 2) = n * x\n",
    "\n",
    "// Call the functions listed above.\n",
    "hello1()\n",
    "hello2\n",
    "times2(4)\n",
    "timesN(4)         // no need to specify n to use the default value\n",
    "timesN(4, 3)      // argument order is the same as the order where the function was defined\n",
    "timesN(n=7, x=2)  // arguments may be reordered and assigned to explicitly"
   ]
  },
  {
   "cell_type": "markdown",
   "metadata": {},
   "source": [
    "## Functions as Objects\n",
    "스칼라의 함수는 일급 객체입니다. 즉, 함수를 `val`에 할당하고 클래스, 객체 또는 기타 함수에 인수로 전달할 수 있습니다.\n",
    "\n",
    "<span style=\"color:blue\">**Example: Function Objects**</span><br>\n",
    "다음은 함수 및 객체로 구현된 동일한 기능입니다."
   ]
  },
  {
   "cell_type": "code",
   "execution_count": null,
   "metadata": {},
   "outputs": [],
   "source": [
    "// These are normal functions.\n",
    "def plus1funct(x: Int): Int = x + 1\n",
    "def times2funct(x: Int): Int = x * 2\n",
    "\n",
    "// These are functions as vals.\n",
    "// The first one explicitly specifies the return type.\n",
    "val plus1val: Double => Int = x => (x + 1).toInt\n",
    "val times2val = (x: Int) => x * 2\n",
    "\n",
    "// Calling both looks the same.\n",
    "plus1funct(4)\n",
    "plus1val(4.0)\n",
    "plus1funct(x=4)\n",
    "//plus1val(x=4) // this doesn't work"
   ]
  },
  {
   "cell_type": "markdown",
   "metadata": {},
   "source": [
    "왜 `def` 대신 `val`을 만들고 싶습니까? `val` 을 사용하면 아래와 같이 함수를 다른 함수에 전달할 수 있습니다. 다른 함수를 인수로 받아들이는 고유한 함수를 만들 수도 있습니다. 공식적으로 함수를 취하거나 생성하는 함수를 *고차 함수*라고 합니다. 지난 모듈에서 사용된 것을 보았지만 이제 직접 만들 것입니다!\n",
    "\n",
    "<span style=\"color:blue\">**Example: Higher-Order Functions**</span><br>\n",
    "여기서 우리는 다시 `map`을 보여주고, `op`라는 함수를 인수로 받아들이는 새로운 함수 `opN`도 생성합니다."
   ]
  },
  {
   "cell_type": "code",
   "execution_count": null,
   "metadata": {},
   "outputs": [],
   "source": [
    "def plus1funct(x: Int): Int = x + 1\n",
    "def times2funct(x: Int): Int = x * 2\n",
    "\n",
    "// create our function\n",
    "val plus1 = (x: Int) => x + 1\n",
    "val times2 = (x: Int) => x * 2\n",
    "\n",
    "// pass it to map, a list function\n",
    "val myList = List(1, 2, 5, 9)\n",
    "val myListPlus = myList.map(plus1)\n",
    "val myListTimes = myList.map(times2)\n",
    "\n",
    "// create a custom function, which performs an operation on X N times using recursion\n",
    "def opN(x: Int, n: Int, op: Int => Int): Int = {\n",
    "  if (n <= 0) { x }\n",
    "  else { opN(op(x), n-1, op) }\n",
    "}\n",
    "\n",
    "opN(7, 3, plus1)\n",
    "opN(7, 3, times2)"
   ]
  },
  {
   "cell_type": "markdown",
   "metadata": {},
   "source": [
    "<span style=\"color:blue\">**Example: Functions vs. Objects**</span><br>\n",
    "인수 없이 함수를 사용할 때 혼란스러운 상황이 발생할 수 있습니다. 함수는 호출될 때마다 평가되는 반면 `val`은 인스턴스화할 때 평가됩니다."
   ]
  },
  {
   "cell_type": "code",
   "execution_count": 1,
   "metadata": {},
   "outputs": [
    {
     "name": "stdout",
     "output_type": "stream",
     "text": [
      "x = -1276526897\n",
      "x = -1276526897\n",
      "y = -417326514\n",
      "y = -645686402\n"
     ]
    },
    {
     "data": {
      "text/plain": [
       "\u001b[32mimport \u001b[39m\u001b[36mscala.util.Random\n",
       "\n",
       "// both x and y call the nextInt function, but x is evaluated immediately and y is a function\n",
       "\u001b[39m\n",
       "\u001b[36mx\u001b[39m: \u001b[32mInt\u001b[39m = \u001b[32m-1276526897\u001b[39m\n",
       "defined \u001b[32mfunction\u001b[39m \u001b[36my\u001b[39m"
      ]
     },
     "execution_count": 1,
     "metadata": {},
     "output_type": "execute_result"
    }
   ],
   "source": [
    "import scala.util.Random\n",
    "\n",
    "// both x and y call the nextInt function, but x is evaluated immediately and y is a function\n",
    "val x = Random.nextInt\n",
    "def y = Random.nextInt\n",
    "\n",
    "// x was previously evaluated, so it is a constant\n",
    "println(s\"x = $x\")\n",
    "println(s\"x = $x\")\n",
    "\n",
    "// y is a function and gets reevaluated at each call, thus these produce different results\n",
    "println(s\"y = $y\")\n",
    "println(s\"y = $y\")"
   ]
  },
  {
   "cell_type": "markdown",
   "metadata": {},
   "source": [
    "## Anonymous Functions\n",
    "\n",
    "이름에서 알 수 있듯이 익명 함수는 이름이 없습니다. 한 번만 사용할 경우 함수에 대해 `val`을 만들 필요가 없습니다.\n",
    "\n",
    "<span style=\"color:blue\">**Example: Anonymous Functions**</span><br>\n",
    "다음 예제는 이를 보여줍니다. 그것들은 종종 범위가 지정됩니다(괄호 대신 중괄호 안에 넣음)."
   ]
  },
  {
   "cell_type": "code",
   "execution_count": 3,
   "metadata": {},
   "outputs": [
    {
     "data": {
      "text/plain": [
       "\u001b[36mmyList\u001b[39m: \u001b[32mList\u001b[39m[\u001b[32mInt\u001b[39m] = \u001b[33mList\u001b[39m(\u001b[32m5\u001b[39m, \u001b[32m6\u001b[39m, \u001b[32m7\u001b[39m, \u001b[32m8\u001b[39m)\n",
       "\u001b[36mres2_1\u001b[39m: \u001b[32mList\u001b[39m[\u001b[32mInt\u001b[39m] = \u001b[33mList\u001b[39m(\u001b[32m6\u001b[39m, \u001b[32m7\u001b[39m, \u001b[32m8\u001b[39m, \u001b[32m9\u001b[39m)\n",
       "\u001b[36mres2_2\u001b[39m: \u001b[32mList\u001b[39m[\u001b[32mInt\u001b[39m] = \u001b[33mList\u001b[39m(\u001b[32m6\u001b[39m, \u001b[32m7\u001b[39m, \u001b[32m8\u001b[39m, \u001b[32m9\u001b[39m)\n",
       "\u001b[36mmyAnyList\u001b[39m: \u001b[32mList\u001b[39m[\u001b[32mAny\u001b[39m] = \u001b[33mList\u001b[39m(\u001b[32m1\u001b[39m, \u001b[32m2\u001b[39m, \u001b[32m\"3\"\u001b[39m, \u001b[32m4L\u001b[39m, \u001b[33mList\u001b[39m(\u001b[32m5\u001b[39m, \u001b[32m6\u001b[39m, \u001b[32m7\u001b[39m, \u001b[32m8\u001b[39m))\n",
       "\u001b[36mres2_4\u001b[39m: \u001b[32mList\u001b[39m[\u001b[32mString\u001b[39m] = \u001b[33mList\u001b[39m(\u001b[32m\"Number\"\u001b[39m, \u001b[32m\"Number\"\u001b[39m, \u001b[32m\"String\"\u001b[39m, \u001b[32m\"Number\"\u001b[39m, \u001b[32m\"error\"\u001b[39m)"
      ]
     },
     "execution_count": 3,
     "metadata": {},
     "output_type": "execute_result"
    }
   ],
   "source": [
    "val myList = List(5, 6, 7, 8)\n",
    "\n",
    "// add one to every item in the list using an anonymous function\n",
    "// arguments get passed to the underscore variable\n",
    "// these all do the same thing\n",
    "myList.map( (x:Int) => x + 1 )\n",
    "myList.map(_ + 1)\n",
    "\n",
    "// a common situation is to use case statements within an anonymous function\n",
    "val myAnyList = List(1, 2, \"3\", 4L, myList)\n",
    "myAnyList.map {\n",
    "  case (_:Int|_:Long) => \"Number\"\n",
    "  case _:String => \"String\"\n",
    "  case _ => \"error\"\n",
    "}"
   ]
  },
  {
   "cell_type": "markdown",
   "metadata": {},
   "source": [
    "<span style=\"color:red\">**Exercise: Sequence Manipulation**</span><br>\n",
    "사용하게 될 고차 함수의 일반적인 집합은 `scanLeft`/`scanRight`, `reduceLeft`/`reduceRight` 및 `foldLeft`/`foldRight`입니다. 각각이 어떻게 작동하고 언제 사용해야 하는지 이해하는 것이 중요합니다. 'scan', 'reduce', 'fold'에 대한 기본 방향이 남아 있지만 이것이 모든 경우에 보장되는 것은 아닙니다."
   ]
  },
  {
   "cell_type": "code",
   "execution_count": null,
   "metadata": {},
   "outputs": [],
   "source": [
    "val exList = List(1, 5, 7, 100)\n",
    "\n",
    "// write a custom function to add two numbers, then use reduce to find the sum of all values in exList\n",
    "def add(a: Int, b: Int): Int = a + b\n",
    "val sum = exList.reduce(add)\n",
    "\n",
    "// find the sum of exList using an anonymous function (hint: you've seen this before!)\n",
    "val anon_sum = exList.reduce(_ + _)\n",
    "\n",
    "// find the moving average of exList from right to left using scan; make the result (ma2) a list of doubles\n",
    "def avg(a: Int, b: Double): Double = (a + b)/2.0\n",
    "val ma2 = exList.scanRight(0.0)(avg)"
   ]
  },
  {
   "cell_type": "code",
   "execution_count": 10,
   "metadata": {},
   "outputs": [],
   "source": [
    "assert(add(88, 88) == 176)\n",
    "assert(sum == 113)\n",
    "\n",
    "assert(anon_sum == 113)\n",
    "\n",
    "assert(avg(100, 100.0) == 100.0)\n",
    "assert(ma2 == List(8.875, 16.75, 28.5, 50.0, 0.0))"
   ]
  },
  {
   "cell_type": "markdown",
   "metadata": {},
   "source": [
    "<div id=\"container\"><section id=\"accordion\"><div>\n",
    "<input type=\"checkbox\" id=\"check-1\" />\n",
    "<label for=\"check-1\"><strong>Solution</strong></label>\n",
    "<article>\n",
    "<pre style=\"background-color:#f7f7f7\">\n",
    "def add(a: Int, b: Int): Int = a + b\n",
    "val sum = exList.reduce(add)\n",
    "\n",
    "val anon\\_sum = exList.reduce(\\_ + \\_)\n",
    "\n",
    "def avg(a: Int, b: Double): Double = (a + b)/2.0\n",
    "val ma2 = exList.scanRight(0.0)(avg)\n",
    "</pre></article></div></section></div>"
   ]
  },
  {
   "cell_type": "markdown",
   "metadata": {},
   "source": [
    "---\n",
    "# Functional Programming in Chisel\n",
    "Chisel에서 하드웨어 생성기를 생성할 때 함수형 프로그래밍을 사용하는 방법에 대한 몇 가지 예를 살펴보겠습니다."
   ]
  },
  {
   "cell_type": "markdown",
   "metadata": {},
   "source": [
    "<span style=\"color:blue\">**Example: FIR Filter**</span><br>\n",
    "먼저 이전 예제의 FIR 필터를 다시 살펴보겠습니다. \n",
    "coefficient를 클래스에 매개변수로 전달하거나 프로그래밍 가능하게 만드는 대신 \n",
    "window coefficient를 계산하는 방법을 정의하는 함수를 FIR에 전달합니다. \n",
    "이 함수는 window 길이와 비트 너비를 사용하여 coefficient를의 크기 조정된 list를 생성합니다. \n",
    "다음은 두 개의 예제 창입니다. \n",
    "분수를 피하기 위해 최대 및 최소 정수 값 사이가 되도록 계수를 조정합니다. \n",
    "이 창에 대한 자세한 내용은 [이 Wikipedia 페이지](https://en.wikipedia.org/wiki/Window_function)를 확인하세요."
   ]
  },
  {
   "cell_type": "code",
   "execution_count": 7,
   "metadata": {},
   "outputs": [
    {
     "name": "stdout",
     "output_type": "stream",
     "text": [
      "Range 0 until 3"
     ]
    },
    {
     "data": {
      "text/plain": [
       "\u001b[32mimport \u001b[39m\u001b[36mscala.math.{abs, round, cos, Pi, pow}\n",
       "\n",
       "// simple triangular window\n",
       "\u001b[39m\n",
       "\u001b[36mTriangularWindow\u001b[39m: (\u001b[32mInt\u001b[39m, \u001b[32mInt\u001b[39m) => \u001b[32mSeq\u001b[39m[\u001b[32mInt\u001b[39m] = ammonite.$sess.cmd6$Helper$$Lambda$3314/1941899394@4bf0aa04\n",
       "\u001b[36mHammingWindow\u001b[39m: (\u001b[32mInt\u001b[39m, \u001b[32mInt\u001b[39m) => \u001b[32mSeq\u001b[39m[\u001b[32mInt\u001b[39m] = ammonite.$sess.cmd6$Helper$$Lambda$3315/465003634@f6a18c0\n",
       "\u001b[36ma\u001b[39m: \u001b[32mRange\u001b[39m = \u001b[33mRange\u001b[39m(\u001b[32m0\u001b[39m, \u001b[32m1\u001b[39m, \u001b[32m2\u001b[39m)\n",
       "\u001b[36mres6_5\u001b[39m: \u001b[32mSeq\u001b[39m[\u001b[32mInt\u001b[39m] = \u001b[33mVector\u001b[39m(\n",
       "  \u001b[32m0\u001b[39m,\n",
       "  \u001b[32m14564\u001b[39m,\n",
       "  \u001b[32m29127\u001b[39m,\n",
       "  \u001b[32m43691\u001b[39m,\n",
       "  \u001b[32m58254\u001b[39m,\n",
       "  \u001b[32m58254\u001b[39m,\n",
       "  \u001b[32m43691\u001b[39m,\n",
       "  \u001b[32m29127\u001b[39m,\n",
       "  \u001b[32m14564\u001b[39m,\n",
       "  \u001b[32m0\u001b[39m\n",
       ")\n",
       "\u001b[36mres6_6\u001b[39m: \u001b[32mSeq\u001b[39m[\u001b[32mInt\u001b[39m] = \u001b[33mVector\u001b[39m(\n",
       "  \u001b[32m5243\u001b[39m,\n",
       "  \u001b[32m12296\u001b[39m,\n",
       "  \u001b[32m30155\u001b[39m,\n",
       "  \u001b[32m50463\u001b[39m,\n",
       "  \u001b[32m63718\u001b[39m,\n",
       "  \u001b[32m63718\u001b[39m,\n",
       "  \u001b[32m50463\u001b[39m,\n",
       "  \u001b[32m30155\u001b[39m,\n",
       "  \u001b[32m12296\u001b[39m,\n",
       "  \u001b[32m5243\u001b[39m\n",
       ")"
      ]
     },
     "execution_count": 7,
     "metadata": {},
     "output_type": "execute_result"
    }
   ],
   "source": [
    "// get some math functions\n",
    "import scala.math.{abs, round, cos, Pi, pow}\n",
    "\n",
    "// simple triangular window\n",
    "val TriangularWindow: (Int, Int) => Seq[Int] = (length, bitwidth) => {\n",
    "  val raw_coeffs = (0 until length).map( (x:Int) => 1-abs((x.toDouble-(length-1)/2.0)/((length-1)/2.0)) )\n",
    "  val scaled_coeffs = raw_coeffs.map( (x: Double) => round(x * pow(2, bitwidth)).toInt)\n",
    "  scaled_coeffs\n",
    "}\n",
    "\n",
    "// Hamming window\n",
    "val HammingWindow: (Int, Int) => Seq[Int] = (length, bitwidth) => {\n",
    "  val raw_coeffs = (0 until length).map( (x: Int) => 0.54 - 0.46*cos(2*Pi*x/(length-1)))\n",
    "  val scaled_coeffs = raw_coeffs.map( (x: Double) => round(x * pow(2, bitwidth)).toInt)\n",
    "  scaled_coeffs\n",
    "}\n",
    "\n",
    "val a = 0 until 3\n",
    "\n",
    "print(a)\n",
    "\n",
    "// check it out! first argument is the window length, and second argument is the bitwidth\n",
    "TriangularWindow(10, 16)\n",
    "HammingWindow(10, 16)"
   ]
  },
  {
   "cell_type": "markdown",
   "metadata": {},
   "source": [
    "이제 창 함수를 인수로 받아들이는 FIR 필터를 만듭니다. 이를 통해 나중에 새 창을 정의하고 동일한 FIR 생성기를 유지할 수 있습니다. 또한 윈도우가 다른 길이나 비트폭에 대해 다시 계산될 것임을 알고 FIR의 크기를 독립적으로 조정할 수 있습니다. 컴파일 타임에 창을 선택하기 때문에 이러한 계수는 고정되어 있습니다."
   ]
  },
  {
   "cell_type": "code",
   "execution_count": 0,
   "metadata": {},
   "outputs": [
    {
     "name": "stderr",
     "output_type": "stream",
     "text": [
      "cmd0.sc:27: not found: value visualize\n",
      "val res0_1 = visualize(() => new MyFir(5, 12, TriangularWindow))\n",
      "             ^cmd0.sc:1: not found: type Module\n",
      "class MyFir(length: Int, bitwidth: Int, window: (Int, Int) => Seq[Int]) extends Module {\n",
      "                                                                                ^cmd0.sc:27: not found: value TriangularWindow\n",
      "val res0_1 = visualize(() => new MyFir(5, 12, TriangularWindow))\n",
      "                                              ^cmd0.sc:2: not found: value IO\n",
      "  val io = IO(new Bundle {\n",
      "           ^cmd0.sc:2: not found: type Bundle\n",
      "  val io = IO(new Bundle {\n",
      "                  ^cmd0.sc:3: not found: value UInt\n",
      "    val in = Input(UInt(bitwidth.W))\n",
      "                   ^cmd0.sc:3: value W is not a member of Int\n",
      "    val in = Input(UInt(bitwidth.W))\n",
      "                                 ^cmd0.sc:4: not found: value Output\n",
      "    val out = Output(UInt((bitwidth*2+length-1).W)) // expect bit growth, conservative but lazy\n",
      "              ^cmd0.sc:4: not found: value UInt\n",
      "    val out = Output(UInt((bitwidth*2+length-1).W)) // expect bit growth, conservative but lazy\n",
      "                     ^cmd0.sc:4: value W is not a member of Int\n",
      "    val out = Output(UInt((bitwidth*2+length-1).W)) // expect bit growth, conservative but lazy\n",
      "                                                ^cmd0.sc:8: value U is not a member of Int\n",
      "  val coeffs = window(length, bitwidth).map(_.U)\n",
      "                                              ^cmd0.sc:12: not found: value Wire\n",
      "  val delays = Seq.fill(length)(Wire(UInt(bitwidth.W))).scan(io.in)( (prev: UInt, next: UInt) => {\n",
      "                                ^cmd0.sc:12: not found: value UInt\n",
      "  val delays = Seq.fill(length)(Wire(UInt(bitwidth.W))).scan(io.in)( (prev: UInt, next: UInt) => {\n",
      "                                     ^cmd0.sc:12: value W is not a member of Int\n",
      "  val delays = Seq.fill(length)(Wire(UInt(bitwidth.W))).scan(io.in)( (prev: UInt, next: UInt) => {\n",
      "                                                   ^cmd0.sc:12: not found: type UInt\n",
      "  val delays = Seq.fill(length)(Wire(UInt(bitwidth.W))).scan(io.in)( (prev: UInt, next: UInt) => {\n",
      "                                                                            ^cmd0.sc:12: not found: type UInt\n",
      "  val delays = Seq.fill(length)(Wire(UInt(bitwidth.W))).scan(io.in)( (prev: UInt, next: UInt) => {\n",
      "                                                                                        ^Compilation Failed"
     ]
    },
    {
     "ename": "",
     "evalue": "",
     "output_type": "error",
     "traceback": [
      "Compilation Failed"
     ]
    }
   ],
   "source": [
    "// our FIR has parameterized window length, IO bitwidth, and windowing function\n",
    "class MyFir(length: Int, bitwidth: Int, window: (Int, Int) => Seq[Int]) extends Module {\n",
    "  val io = IO(new Bundle {\n",
    "    val in = Input(UInt(bitwidth.W))\n",
    "    val out = Output(UInt((bitwidth*2+length-1).W)) // expect bit growth, conservative but lazy\n",
    "  })\n",
    "\n",
    "  // calculate the coefficients using the provided window function, mapping to UInts\n",
    "  val coeffs = window(length, bitwidth).map(_.U)\n",
    "  \n",
    "  // create an array holding the output of the delays\n",
    "  // note: we avoid using a Vec here since we don't need dynamic indexing\n",
    "  val delays = Seq.fill(length)(Wire(UInt(bitwidth.W))).scan(io.in)( (prev: UInt, next: UInt) => {\n",
    "    next := RegNext(prev)\n",
    "    next\n",
    "  })\n",
    "  \n",
    "  // multiply, putting result in \"mults\"\n",
    "  val mults = delays.zip(coeffs).map{ case(delay: UInt, coeff: UInt) => delay * coeff }\n",
    "  \n",
    "  // add up multiplier outputs with bit growth\n",
    "  val result = mults.reduce(_+&_)\n",
    "\n",
    "  // connect output\n",
    "  io.out := result\n",
    "}\n",
    "\n",
    "visualize(() => new MyFir(5, 12, TriangularWindow))"
   ]
  },
  {
   "cell_type": "markdown",
   "metadata": {},
   "source": [
    "마지막 세 줄은 쉽게 하나로 결합될 수 있습니다. 또한 손실을 피하기 위해 비트폭 증가를 보수적으로 처리한 방법에 주목하십시오.\n",
    "\n",
    "<span style=\"color:blue\">**Example: FIR Filter Tester**</span><br>\n",
    "FIR을 테스트해봅시다! 이전에는 사용자 지정 골든 모델을 제공했습니다. 이번에는 유용한 선형 대수 및 신호 처리 함수의 Scala 라이브러리인 Breeze를 FIR 필터의 황금 모델로 사용할 것입니다. 아래 코드는 Chisel 출력을 골든 모델 출력과 비교하며 오류가 있으면 테스터가 실패합니다.\n",
    "\n",
    "예상 호출 직후 끝에 있는 인쇄 문에 대한 주석 처리를 제거해 보십시오. 또한 창을 삼각형에서 해밍으로 변경해 보십시오."
   ]
  },
  {
   "cell_type": "code",
   "execution_count": 43,
   "metadata": {},
   "outputs": [
    {
     "name": "stdout",
     "output_type": "stream",
     "text": [
      "test MyFir Success: 0 tests passed in 107 cycles in 0.222556 seconds 480.78 Hz\n"
     ]
    },
    {
     "data": {
      "text/plain": [
       "\u001b[32mimport \u001b[39m\u001b[36mscala.math.{pow, sin, Pi}\n",
       "\u001b[39m\n",
       "\u001b[32mimport \u001b[39m\u001b[36mbreeze.signal.{filter, OptOverhang}\n",
       "\u001b[39m\n",
       "\u001b[32mimport \u001b[39m\u001b[36mbreeze.signal.support.{CanFilter, FIRKernel1D}\n",
       "\u001b[39m\n",
       "\u001b[32mimport \u001b[39m\u001b[36mbreeze.linalg.DenseVector\n",
       "\n",
       "// test parameters\n",
       "\u001b[39m\n",
       "\u001b[36mlength\u001b[39m: \u001b[32mInt\u001b[39m = \u001b[32m7\u001b[39m\n",
       "\u001b[36mbitwidth\u001b[39m: \u001b[32mInt\u001b[39m = \u001b[32m12\u001b[39m\n",
       "\u001b[36mwindow\u001b[39m: (\u001b[32mInt\u001b[39m, \u001b[32mInt\u001b[39m) => \u001b[32mSeq\u001b[39m[\u001b[32mInt\u001b[39m] = ammonite.$sess.cmd40$Helper$$Lambda$3748/663073470@70f2fb1c"
      ]
     },
     "execution_count": 43,
     "metadata": {},
     "output_type": "execute_result"
    }
   ],
   "source": [
    "// math imports\n",
    "import scala.math.{pow, sin, Pi}\n",
    "import breeze.signal.{filter, OptOverhang}\n",
    "import breeze.signal.support.{CanFilter, FIRKernel1D}\n",
    "import breeze.linalg.DenseVector\n",
    "\n",
    "// test parameters\n",
    "val length = 7\n",
    "val bitwidth = 12 // must be less than 15, otherwise Int can't represent the data, need BigInt\n",
    "val window = TriangularWindow\n",
    "\n",
    "// test our FIR\n",
    "test(new MyFir(length, bitwidth, window)) { c =>\n",
    "    \n",
    "    // test data\n",
    "    val n = 100 // input length\n",
    "    val sine_freq = 10\n",
    "    val samp_freq = 100\n",
    "\n",
    "    // sample data, scale to between 0 and 2^bitwidth\n",
    "    val max_value = pow(2, bitwidth)-1\n",
    "    val sine = (0 until n).map(i => (max_value/2 + max_value/2*sin(2*Pi*sine_freq/samp_freq*i)).toInt)\n",
    "    //println(s\"input = ${sine.toArray.deep.mkString(\", \")}\")\n",
    "\n",
    "    // coefficients\n",
    "    val coeffs = window(length, bitwidth)\n",
    "    //println(s\"coeffs = ${coeffs.toArray.deep.mkString(\", \")}\")\n",
    "\n",
    "    // use breeze filter as golden model; need to reverse coefficients\n",
    "    val expected = filter(\n",
    "        DenseVector(sine.toArray),\n",
    "        FIRKernel1D(DenseVector(coeffs.reverse.toArray), 1.0, \"\"),\n",
    "        OptOverhang.None\n",
    "    )\n",
    "    expected.toArray // seems to be necessary\n",
    "    //println(s\"exp_out = ${expected.toArray.deep.mkString(\", \")}\") // this seems to be necessary\n",
    "\n",
    "    // push data through our FIR and check the result\n",
    "    c.reset.poke(true.B)\n",
    "    c.clock.step(5)\n",
    "    c.reset.poke(false.B)\n",
    "    for (i <- 0 until n) {\n",
    "        c.io.in.poke(sine(i).U)\n",
    "        if (i >= length-1) { // wait for all registers to be initialized since we didn't zero-pad the data\n",
    "            val expectValue = expected(i-length+1)\n",
    "            //println(s\"expected value is $expectValue\")\n",
    "            c.io.out.expect(expected(i-length+1).U)\n",
    "            //println(s\"cycle $i, got ${c.io.out.peek()}, expect ${expected(i-length+1)}\")\n",
    "        }\n",
    "        c.clock.step(1)\n",
    "    }\n",
    "}"
   ]
  },
  {
   "cell_type": "markdown",
   "metadata": {},
   "source": [
    "---\n",
    "# Chisel Exercises\n",
    "다음 연습을 완료하여 함수 작성, 하드웨어 생성기에 대한 인수로 사용, 변경 가능한 데이터 피하기를 연습하십시오.\n",
    "\n",
    "<span style=\"color:red\">**Exercise: Neural Network Neuron**</span><br>\n",
    "첫 번째 예에서는 인공 신경망에서 완전히 연결된 계층의 빌딩 블록인 뉴런을 구축하게 됩니다. 뉴런은 입력당 하나씩 입력과 가중치 집합을 가져와 하나의 출력을 생성합니다. 가중치와 입력을 곱하고 더하고 그 결과는 활성화 함수를 통해 제공됩니다. 이 연습에서는 다양한 활성화 함수를 구현하고 이를 뉴런 생성기에 인수로 전달합니다.\n",
    "\n",
    "![Neuron](https://upload.wikimedia.org/wikipedia/commons/thumb/6/60/ArtificialNeuronModel_english.png/600px-ArtificialNeuronModel_english.png)\n",
    "\n",
    "먼저 다음 코드를 완성하여 뉴런 생성기를 만듭니다. 매개변수 `inputs`는 입력 수를 제공합니다. 'act' 매개변수는 활성화 함수의 논리를 구현하는 함수입니다. 8개의 소수 비트를 사용하여 입력 및 출력을 16비트 고정 소수점 값으로 만들 것입니다."
   ]
  },
  {
   "cell_type": "code",
   "execution_count": 12,
   "metadata": {},
   "outputs": [
    {
     "data": {
      "text/plain": [
       "defined \u001b[32mclass\u001b[39m \u001b[36mNeuron\u001b[39m"
      ]
     },
     "execution_count": 12,
     "metadata": {},
     "output_type": "execute_result"
    }
   ],
   "source": [
    "class Neuron(inputs: Int, act: FixedPoint => FixedPoint) extends Module {\n",
    "  val io = IO(new Bundle {\n",
    "    val in      = Input(Vec(inputs, FixedPoint(16.W, 8.BP)))\n",
    "    val weights = Input(Vec(inputs, FixedPoint(16.W, 8.BP)))\n",
    "    val out     = Output(FixedPoint(16.W, 8.BP))\n",
    "  })\n",
    "  \n",
    "  ???\n",
    "}"
   ]
  },
  {
   "cell_type": "markdown",
   "metadata": {},
   "source": [
    "<div id=\"container\"><section id=\"accordion\"><div>\n",
    "<input type=\"checkbox\" id=\"check-2\" />\n",
    "<label for=\"check-2\"><strong>Solution</strong></label>\n",
    "<article>\n",
    "<pre style=\"background-color:#f7f7f7\">\n",
    "  val mac = io.in.zip(io.weights).map{ case(a:FixedPoint, b:FixedPoint) => a*b}.reduce(_+_)\n",
    "  io.out := act(mac)\n",
    "</pre></article></div></section></div>"
   ]
  },
  {
   "cell_type": "markdown",
   "metadata": {},
   "source": [
    "이제 활성화 함수를 생성해 보겠습니다! 임계값 0을 사용합니다. 일반적인 활성화 함수는 시그모이드 함수와 정류 선형 단위(ReLU)입니다.\n",
    "\n",
    "우리가 사용할 시그모이드를 [로지스틱 함수](https://en.wikipedia.org/wiki/Logistic_function)라고 하며,\n",
    "\n",
    "$logistic(x) = \\cfrac{1}{1+e^{-\\beta x}}$\n",
    "\n",
    "여기서 $\\beta$는 기울기 계수입니다. 그러나 하드웨어에서 지수 함수를 계산하는 것은 상당히 어렵고 비용이 많이 듭니다. 우리는 이것을 단계 함수로 근사할 것입니다.\n",
    "$step(x) = \\begin{cases}\n",
    "             0  & \\text{if } x \\le 0 \\\\\n",
    "             1  & \\text{if } x \\gt 0\n",
    "       \\end{cases}$\n",
    "\n",
    "두 번째 함수인 ReLU는 유사한 공식으로 제공됩니다.\n",
    "\n",
    "$relu(x) = \\begin{cases}\n",
    "             0  & \\text{if } x \\le 0 \\\\\n",
    "             x  & \\text{if } x \\gt 0\n",
    "       \\end{cases}$\n",
    "\n",
    "아래 두 가지 기능을 구현하십시오. `-3.14.F(8.BP)`와 같은 고정 소수점 리터럴을 지정할 수 있습니다."
   ]
  },
  {
   "cell_type": "code",
   "execution_count": 13,
   "metadata": {},
   "outputs": [
    {
     "ename": "",
     "evalue": "",
     "output_type": "error",
     "traceback": [
      "\u001b[31mscala.NotImplementedError: an implementation is missing\u001b[39m\n  scala.Predef$.$qmark$qmark$qmark(\u001b[32mPredef.scala\u001b[39m:\u001b[32m288\u001b[39m)\n  ammonite.$sess.cmd12$Helper.<init>(\u001b[32mcmd12.sc\u001b[39m:\u001b[32m1\u001b[39m)\n  ammonite.$sess.cmd12$.<init>(\u001b[32mcmd12.sc\u001b[39m:\u001b[32m7\u001b[39m)\n  ammonite.$sess.cmd12$.<clinit>(\u001b[32mcmd12.sc\u001b[39m:\u001b[32m-1\u001b[39m)"
     ]
    }
   ],
   "source": [
    "val Step: FixedPoint => FixedPoint = ???\n",
    "val ReLU: FixedPoint => FixedPoint = ???"
   ]
  },
  {
   "cell_type": "markdown",
   "metadata": {},
   "source": [
    "<div id=\"container\"><section id=\"accordion\"><div>\n",
    "<input type=\"checkbox\" id=\"check-3\" />\n",
    "<label for=\"check-3\"><strong>Solution</strong></label>\n",
    "<article>\n",
    "<pre style=\"background-color:#f7f7f7\">\n",
    "val Step: FixedPoint => FixedPoint = x => Mux(x <= 0.F(8.BP), 0.F(8.BP), 1.F(8.BP))\n",
    "val ReLU: FixedPoint => FixedPoint = x => Mux(x <= 0.F(8.BP), 0.F(8.BP), x)\n",
    "</pre></article></div></section></div>"
   ]
  },
  {
   "cell_type": "markdown",
   "metadata": {},
   "source": [
    "마지막으로 뉴런의 정확성을 확인하는 테스터를 만들어 보겠습니다. 단계 활성화 기능을 사용하면 뉴런을 논리 게이트 근사기로 사용할 수 있습니다. 가중치와 편향을 적절히 선택하면 이진 기능을 수행할 수 있습니다. AND 논리를 사용하여 뉴런을 테스트합니다. 다음 테스터를 완료하여 단계 함수로 뉴런을 확인하십시오.\n",
    "\n",
    "회로는 순전히 조합이므로 `reset(5)` 및 `step(1)` 호출이 필요하지 않습니다."
   ]
  },
  {
   "cell_type": "code",
   "execution_count": 13,
   "metadata": {},
   "outputs": [
    {
     "name": "stderr",
     "output_type": "stream",
     "text": [
      "cmd13.sc:1: not found: value Step\n",
      "val res13 = test(new Neuron(2, Step)) { c =>\n",
      "                               ^Compilation Failed"
     ]
    },
    {
     "ename": "",
     "evalue": "",
     "output_type": "error",
     "traceback": [
      "Compilation Failed"
     ]
    }
   ],
   "source": [
    "// test our Neuron \n",
    "test(new Neuron(2, Step)) { c =>\n",
    "    val inputs = Seq(Seq(-1, -1), Seq(-1, 1), Seq(1, -1), Seq(1, 1))\n",
    "\n",
    "    // make this a sequence of two values\n",
    "    val weights = ???\n",
    "\n",
    "    // push data through our Neuron and check the result (AND gate)\n",
    "    c.reset.poke(true.B)\n",
    "    c.clock.step(5)\n",
    "    c.reset.poke(false.B)\n",
    "    for (i <- inputs) {\n",
    "        c.io.in(0).poke(i(0).F(8.BP))\n",
    "        c.io.in(1).poke(i(1).F(8.BP))\n",
    "        c.io.weights(0).poke(weights(0).F(16.W, 8.BP))\n",
    "        c.io.weights(1).poke(weights(1).F(16.W, 8.BP))\n",
    "        c.io.out.expect((if (i(0) + i(1) > 0) 1 else 0).F(16.W, 8.BP))\n",
    "        c.clock.step(1)\n",
    "    }\n",
    "    \n",
    "}"
   ]
  },
  {
   "cell_type": "markdown",
   "metadata": {},
   "source": [
    "<div id=\"container\"><section id=\"accordion\"><div>\n",
    "<input type=\"checkbox\" id=\"check-4\" />\n",
    "<label for=\"check-4\"><strong>Solution</strong></label>\n",
    "<article>\n",
    "<pre style=\"background-color:#f7f7f7\">\n",
    "val weights  = Seq(1.0, 1.0)\n",
    "</pre></article></div></section></div>"
   ]
  },
  {
   "cell_type": "markdown",
   "metadata": {},
   "source": [
    "---\n",
    "# You're done!\n",
    "\n",
    "[Return to the top.](#top)"
   ]
  }
 ],
 "metadata": {
  "kernelspec": {
   "display_name": "Scala",
   "language": "scala",
   "name": "scala"
  },
  "language_info": {
   "codemirror_mode": "text/x-scala",
   "file_extension": ".scala",
   "mimetype": "text/x-scala",
   "name": "scala",
   "nbconvert_exporter": "script",
   "version": "2.12.10"
  }
 },
 "nbformat": 4,
 "nbformat_minor": 2
}
