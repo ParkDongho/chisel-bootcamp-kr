{
 "cells": [
  {
   "cell_type": "markdown",
   "metadata": {},
   "source": [
    "<a name=\"top\"></a><img src=\"images/chisel_1024.png\" alt=\"Chisel logo\" style=\"width:480px;\" />"
   ]
  },
  {
   "cell_type": "markdown",
   "metadata": {},
   "source": [
    "# Module 3.6: Generators: Types\n",
    "**Prev: [Object Oriented Programming](3.5_object_oriented_programming.ipynb)**<br>\n",
    "**Next: [Introduction to FIRRTL](4.1_firrtl_ast.ipynb)**\n",
    "\n",
    "## Motivation\n",
    "스칼라는 강력한 형식의 프로그래밍 언어입니다. 이것은 양날의 검입니다. 한편으로 Python(동적 타입 언어)에서 컴파일 및 실행되는 많은 프로그램은 Scala에서 컴파일 시간에 실패합니다. 반면 스칼라에서 컴파일하는 프로그램은 유사한 Python 프로그램보다 런타임 오류가 훨씬 적습니다.\n",
    "\n",
    "이 섹션에서 우리의 목표는 스칼라의 일급 시민으로서 타입에 익숙해지는 것입니다. 처음에는 생산성이 제한적이라고 느낄 수 있지만 곧 컴파일 시간 오류 메시지를 이해하는 방법과 더 많은 오류를 포착하기 위해 타입 시스템을 염두에 두고 프로그램을 설계하는 방법을 배우게 될 것입니다.\n",
    "\n",
    "\n",
    "## Setup"
   ]
  },
  {
   "cell_type": "code",
   "execution_count": 1,
   "metadata": {},
   "outputs": [
    {
     "name": "stderr",
     "output_type": "stream",
     "text": [
      "Checking https://repo1.maven.org/maven2/edu/berkeley/cs/chisel3_2.12/maven-metadata.xml\n",
      "Checked https://repo1.maven.org/maven2/edu/berkeley/cs/chisel3_2.12/maven-metadata.xml\n",
      "Checking https://repo1.maven.org/maven2/edu/berkeley/cs/chisel-iotesters_2.12/maven-metadata.xml\n",
      "Checked https://repo1.maven.org/maven2/edu/berkeley/cs/chisel-iotesters_2.12/maven-metadata.xml\n",
      "Checking https://repo1.maven.org/maven2/edu/berkeley/cs/chiseltest_2.12/maven-metadata.xml\n",
      "Checked https://repo1.maven.org/maven2/edu/berkeley/cs/chiseltest_2.12/maven-metadata.xml\n",
      "Checking https://repo1.maven.org/maven2/edu/berkeley/cs/dsptools_2.12/maven-metadata.xml\n",
      "Checked https://repo1.maven.org/maven2/edu/berkeley/cs/dsptools_2.12/maven-metadata.xml\n",
      "Checking https://repo1.maven.org/maven2/edu/berkeley/cs/firrtl-diagrammer_2.12/maven-metadata.xml\n",
      "Checked https://repo1.maven.org/maven2/edu/berkeley/cs/firrtl-diagrammer_2.12/maven-metadata.xml\n"
     ]
    },
    {
     "data": {
      "text/plain": [
       "\u001b[36mpath\u001b[39m: \u001b[32mString\u001b[39m = \u001b[32m\"/home/parkdongho/dev/chisel-bootcamp-kr/source/load-ivy.sc\"\u001b[39m"
      ]
     },
     "execution_count": 1,
     "metadata": {},
     "output_type": "execute_result"
    }
   ],
   "source": [
    "val path = System.getProperty(\"user.dir\") + \"/source/load-ivy.sc\"\n",
    "interp.load.module(ammonite.ops.Path(java.nio.file.FileSystems.getDefault().getPath(path)))"
   ]
  },
  {
   "cell_type": "code",
   "execution_count": 2,
   "metadata": {},
   "outputs": [
    {
     "data": {
      "text/plain": [
       "\u001b[32mimport \u001b[39m\u001b[36mchisel3._\n",
       "\u001b[39m\n",
       "\u001b[32mimport \u001b[39m\u001b[36mchisel3.util._\n",
       "\u001b[39m\n",
       "\u001b[32mimport \u001b[39m\u001b[36mchisel3.tester._\n",
       "\u001b[39m\n",
       "\u001b[32mimport \u001b[39m\u001b[36mchisel3.tester.RawTester.test\u001b[39m"
      ]
     },
     "execution_count": 2,
     "metadata": {},
     "output_type": "execute_result"
    }
   ],
   "source": [
    "import chisel3._\n",
    "import chisel3.util._\n",
    "import chisel3.tester._\n",
    "import chisel3.tester.RawTester.test"
   ]
  },
  {
   "cell_type": "markdown",
   "metadata": {},
   "source": [
    "---\n",
    "# Static Types<a name=\"types-in-scala\"></a>\n",
    "\n",
    "## Types in Scala\n",
    "\n",
    "Scala의 모든 객체에는 일반적으로 객체의 클래스인 타입이 있습니다.\n",
    "몇 가지를 보겠습니다."
   ]
  },
  {
   "cell_type": "code",
   "execution_count": 3,
   "metadata": {},
   "outputs": [
    {
     "name": "stdout",
     "output_type": "stream",
     "text": [
      "int\n",
      "double\n",
      "class java.lang.String\n"
     ]
    }
   ],
   "source": [
    "println(10.getClass)\n",
    "println(10.0.getClass)\n",
    "println(\"ten\".getClass)"
   ]
  },
  {
   "cell_type": "markdown",
   "metadata": {},
   "source": [
    "자신의 클래스를 선언하면 연결된 타입이 있습니다."
   ]
  },
  {
   "cell_type": "code",
   "execution_count": 43,
   "metadata": {},
   "outputs": [
    {
     "name": "stdout",
     "output_type": "stream",
     "text": [
      "class ammonite.$sess.cmd42$Helper$MyClass\n"
     ]
    },
    {
     "data": {
      "text/plain": [
       "defined \u001b[32mclass\u001b[39m \u001b[36mMyClass\u001b[39m"
      ]
     },
     "execution_count": 43,
     "metadata": {},
     "output_type": "execute_result"
    }
   ],
   "source": [
    "class MyClass {\n",
    "    def myMethod = ???\n",
    "}\n",
    "println(new MyClass().getClass)"
   ]
  },
  {
   "cell_type": "markdown",
   "metadata": {},
   "source": [
    "필수는 아니지만 **모든 함수 선언에 대한 입력 및 출력 타입을 정의**하는 것이 좋습니다. 이렇게 하면 스칼라 컴파일러가 함수의 부적절한 사용을 포착할 수 있습니다."
   ]
  },
  {
   "cell_type": "code",
   "execution_count": 3,
   "metadata": {},
   "outputs": [
    {
     "name": "stderr",
     "output_type": "stream",
     "text": [
      "cmd3.sc:4: type mismatch;\n",
      " found   : Int(10)\n",
      " required: String\n",
      " val res3_2 = double(10)        // Bad input argument!\n",
      "                     ^cmd3.sc:5: value / is not a member of String\n",
      " val res3_3 = double(\"hi\") / 10 // Inproper use of double's output!\n",
      "                           ^Compilation Failed"
     ]
    },
    {
     "ename": "",
     "evalue": "",
     "output_type": "error",
     "traceback": [
      "Compilation Failed"
     ]
    }
   ],
   "source": [
    "def double(s: String): String = s + s\n",
    "// Uncomment the code below to test it\n",
    " double(\"hi\")      // Proper use of double\n",
    " double(10)        // Bad input argument!\n",
    " double(\"hi\") / 10 // Inproper use of double's output!"
   ]
  },
  {
   "cell_type": "markdown",
   "metadata": {},
   "source": [
    "아무 것도 반환하지 않는 함수는 `Unit` 타입을 반환합니다."
   ]
  },
  {
   "cell_type": "code",
   "execution_count": 4,
   "metadata": {},
   "outputs": [
    {
     "data": {
      "text/html": [
       "<div class=\"jp-RenderedText\">\n",
       "<pre><code><span style=\"color: rgb(0, 187, 187)\"><span class=\"ansi-cyan-fg\">counter</span></span>: <span style=\"color: rgb(0, 187, 0)\"><span class=\"ansi-green-fg\">Int</span></span> = <span style=\"color: rgb(0, 187, 0)\"><span class=\"ansi-green-fg\">1</span></span>\n",
       "defined <span style=\"color: rgb(0, 187, 0)\"><span class=\"ansi-green-fg\">function</span></span> <span style=\"color: rgb(0, 187, 187)\"><span class=\"ansi-cyan-fg\">increment</span></span></code></pre>\n",
       "</div>"
      ],
      "text/plain": [
       "\u001b[36mcounter\u001b[39m: \u001b[32mInt\u001b[39m = \u001b[32m1\u001b[39m\n",
       "defined \u001b[32mfunction\u001b[39m \u001b[36mincrement\u001b[39m"
      ]
     },
     "metadata": {},
     "output_type": "display_data"
    }
   ],
   "source": [
    "var counter = 0\n",
    "def increment(): Unit = {\n",
    "    counter += 1\n",
    "}\n",
    "increment()"
   ]
  },
  {
   "cell_type": "markdown",
   "metadata": {},
   "source": [
    "## Scala vs. Chisel Types<a name=\"scala-vs-chisel-types\"></a>\n",
    "\n",
    "요약: 모듈 2.2에서는 Chisel 타입과 Scala 타입의 차이점에 대해 논의했습니다. 예를 들어\n",
    "```scala\n",
    "val a = Wire(UInt(4.W))\n",
    "a := 0.U\n",
    "```\n",
    "`0`U'는 'UInt' 타입(Chisel 타입)이기 때문에 합법적이지만,\n",
    "```scala\n",
    "val a = Wire(UInt(4.W))\n",
    "a := 0\n",
    "```\n",
    "0은 'Int' 타입(Scala 타입)이기 때문에 불법입니다.\n",
    "\n",
    "이것은 `Boolean`(Scala 타입)과 구별되는 Chisel 타입인 `Bool`에도 해당됩니다.\n",
    "```scala\n",
    "val bool = Wire(Bool())\n",
    "val boolean: Boolean = false\n",
    "// legal\n",
    "when (bool) { ... }\n",
    "if (boolean) { ... }\n",
    "// illegal\n",
    "if (bool) { ... }\n",
    "when (boolean) { ... }\n",
    "```\n",
    "\n",
    "실수를 해서 `UInt`와 `Int` 또는 `Bool`과 `Boolean`을 혼동하면 일반적으로 Scala 컴파일러가 이를 잡아줍니다. 이것은 스칼라의 정적 타이핑 때문입니다. 컴파일 타임에 컴파일러는 Chisel과 Scala 타입을 구별할 수 있으며 `if()`가 `Boolean`을 예상하고 `when()`이 `Bool`을 예상한다는 것도 이해할 수 있습니다.\n"
   ]
  },
  {
   "cell_type": "markdown",
   "metadata": {},
   "source": [
    "## Scala Type Coercion<a name=\"type-coercion\"></a>\n",
    "\n",
    "<!-- typeOf. Scala has a function called `typeOf[T]` which returns a type object for `T`. -->\n",
    "<!-- This doesn't actually seem useful to Chisel users... -->"
   ]
  },
  {
   "cell_type": "markdown",
   "metadata": {
    "collapsed": true
   },
   "source": [
    "### asInstanceOf\n",
    "\n",
    "`x.asInstanceOf[T]`는 객체 `x`를 `T` 타입으로 캐스트합니다. 주어진 객체를 `T` 타입으로 캐스팅할 수 없는 경우 예외가 발생합니다."
   ]
  },
  {
   "cell_type": "code",
   "execution_count": 46,
   "metadata": {},
   "outputs": [
    {
     "name": "stdout",
     "output_type": "stream",
     "text": [
      "As expected, we can't cast UInt to Int\n",
      "UInt<2>(3)\n"
     ]
    },
    {
     "data": {
      "text/plain": [
       "\u001b[36mx\u001b[39m: \u001b[32mUInt\u001b[39m = UInt<2>(3)"
      ]
     },
     "execution_count": 46,
     "metadata": {},
     "output_type": "execute_result"
    }
   ],
   "source": [
    "val x: UInt = 3.U\n",
    "try {\n",
    "  println(x.asInstanceOf[Int])\n",
    "} catch {\n",
    "  case e: java.lang.ClassCastException => println(\"As expected, we can't cast UInt to Int\")\n",
    "}\n",
    "\n",
    "// But we can cast UInt to Data since UInt inherits from Data.\n",
    "println(x.asInstanceOf[Data])"
   ]
  },
  {
   "cell_type": "markdown",
   "metadata": {},
   "source": [
    "\n",
    "### Type Casting in Chisel\n",
    "\n",
    "아래 코드는 주석을 제거하지 않고 실행하려고 하면 오류가 발생합니다. 뭐가 문제 야? 불법인 `SInt`에 `UInt`를 할당하려고 합니다.\n",
    "\n",
    "Chisel에는 타입 캐스팅 기능 세트가 있습니다. 가장 일반적인 것은 'asTypeOf()'로 아래와 같습니다. 일부 Chisel 객체는 `asUInt()` 및 `asSInt()`뿐만 아니라 일부 다른 객체도 정의합니다.\n",
    "\n",
    "아래 코드 블록에서 `//`를 제거하면 예제가 작동합니다.\n"
   ]
  },
  {
   "cell_type": "code",
   "execution_count": 6,
   "metadata": {},
   "outputs": [
    {
     "name": "stdout",
     "output_type": "stream",
     "text": [
      "Elaborating design...\n",
      "Done elaborating.\n",
      "test TypeConvertDemo Success: 0 tests passed in 2 cycles in 0.017976 seconds 111.26 Hz\n"
     ]
    },
    {
     "data": {
      "text/plain": [
       "defined \u001b[32mclass\u001b[39m \u001b[36mTypeConvertDemo\u001b[39m"
      ]
     },
     "execution_count": 6,
     "metadata": {},
     "output_type": "execute_result"
    }
   ],
   "source": [
    "class TypeConvertDemo extends Module {\n",
    "    val io = IO(new Bundle {\n",
    "        val in  = Input(UInt(4.W))\n",
    "        val out = Output(SInt(4.W))\n",
    "    })\n",
    "    io.out := io.in.asTypeOf(io.out)\n",
    "}\n",
    "\n",
    "test(new TypeConvertDemo) { c =>\n",
    "      c.io.in.poke(3.U)\n",
    "      c.io.out.expect(3.S)\n",
    "      c.io.in.poke(15.U)\n",
    "      c.io.out.expect(-1.S)\n",
    "}"
   ]
  },
  {
   "cell_type": "markdown",
   "metadata": {},
   "source": [
    "---\n",
    "# Type Matching<a name=\"type-matching\"></a>\n",
    "\n",
    "## Match Operator\n",
    "3.1에서 일치 연산자(===)가 도입되었음을 상기하십시오.\n",
    "타입 일치는 타입 제네릭 generator를 작성하려고 할 때 특히 유용합니다. 다음 예는 `UInt` 또는 `SInt` 타입의 두 리터럴을 추가할 수 있는 \"제너레이터\"의 예를 보여줍니다. 이후 섹션에서는 타입 제네릭 generator 작성에 대해 자세히 설명합니다.\n",
    "\n",
    "**참고: Scala에서 타입 제네릭 generator를 작성하는 훨씬 더 좋고 안전한 방법이 있습니다**."
   ]
  },
  {
   "cell_type": "code",
   "execution_count": 7,
   "metadata": {},
   "outputs": [
    {
     "name": "stdout",
     "output_type": "stream",
     "text": [
      "Elaborating design...\n",
      "Done elaborating.\n",
      "module ConstantSum(\n",
      "  input        clock,\n",
      "  input        reset,\n",
      "  output [1:0] io_out\n",
      ");\n",
      "  assign io_out = 2'h3; // @[cmd6.sc 6:43]\n",
      "endmodule\n",
      "\n",
      "Elaborating design...\n",
      "Done elaborating.\n",
      "module ConstantSum(\n",
      "  input        clock,\n",
      "  input        reset,\n",
      "  output [2:0] io_out\n",
      ");\n",
      "  assign io_out = 3'sh1; // @[cmd6.sc 7:43]\n",
      "endmodule\n",
      "\n",
      "Elaborating design...\n",
      "[\u001b[31merror\u001b[0m] \tat ... ()\n",
      "[\u001b[31merror\u001b[0m] \tat ammonite.$sess.cmd6$Helper$ConstantSum.<init>(cmd6.sc:8)\n",
      "[\u001b[31merror\u001b[0m] \tat ammonite.$sess.cmd6$Helper.$anonfun$res6_3$1(cmd6.sc:13)\n",
      "[\u001b[31merror\u001b[0m] \tat ... ()\n",
      "[\u001b[31merror\u001b[0m] \tat ... (Stack trace trimmed to user code only. Rerun with --full-stacktrace to see the full stack trace)\n"
     ]
    },
    {
     "ename": "",
     "evalue": "",
     "output_type": "error",
     "traceback": [
      "\u001b[31mscala.MatchError: ChiselExecutionFailure(Failed to elaborate Chisel circuit) (of class chisel3.ChiselExecutionFailure)\u001b[39m\n  ammonite.$file.dummy.source.load$minusivy_2$Helper.getVerilog(\u001b[32mMain.sc\u001b[39m:\u001b[32m26\u001b[39m)\n  ammonite.$sess.cmd6$Helper.<init>(\u001b[32mcmd6.sc\u001b[39m:\u001b[32m13\u001b[39m)\n  ammonite.$sess.cmd6$.<init>(\u001b[32mcmd6.sc\u001b[39m:\u001b[32m7\u001b[39m)\n  ammonite.$sess.cmd6$.<clinit>(\u001b[32mcmd6.sc\u001b[39m:\u001b[32m-1\u001b[39m)"
     ]
    }
   ],
   "source": [
    "class ConstantSum(in1: Data, in2: Data) extends Module {\n",
    "    val io = IO(new Bundle {\n",
    "        val out = Output(chiselTypeOf(in1)) // in case in1 is literal then just get its type\n",
    "    })\n",
    "    (in1, in2) match {\n",
    "        case (x: UInt, y: UInt) => io.out := x + y\n",
    "        case (x: SInt, y: SInt) => io.out := x + y\n",
    "        case _ => throw new Exception(\"I give up!\")\n",
    "    }\n",
    "}\n",
    "println(getVerilog(dut = new ConstantSum(3.U, 4.U)))\n",
    "println(getVerilog(dut = new ConstantSum(-3.S, 4.S)))\n",
    "println(getVerilog(dut = new ConstantSum(3.U, 4.S)))"
   ]
  },
  {
   "cell_type": "markdown",
   "metadata": {},
   "source": [
    "Chisel 타입은 일반적으로 값이 일치하지 않아야 함을 기억하는 것이 좋습니다.\n",
    "Scala의 일치는 회로 정교화(elaboration) 중에 실행되지만 아마도 원하는 것은 사후 정교화 비교입니다.\n",
    "다음은 구문 오류를 제공합니다."
   ]
  },
  {
   "cell_type": "code",
   "execution_count": 48,
   "metadata": {},
   "outputs": [
    {
     "name": "stderr",
     "output_type": "stream",
     "text": [
      "(console):8:16 expected \")\"\n",
      "        case (0.U) => true.B\n",
      "               ^"
     ]
    },
    {
     "ename": "",
     "evalue": "",
     "output_type": "error",
     "traceback": [
      "(console):8:16 expected \")\"\n        case (0.U) => true.B\n               ^"
     ]
    }
   ],
   "source": [
    "class InputIsZero extends Module {\n",
    "    val io = IO(new Bundle {\n",
    "        val in  = Input(UInt(16.W))\n",
    "        val out = Output(Bool())\n",
    "    })\n",
    "    io.out := (io.in match {\n",
    "        // note that case 0.U is an error\n",
    "        case (0.U) => true.B\n",
    "        case _   => false.B\n",
    "    })\n",
    "}\n",
    "println(getVerilog(new InputIsZero))"
   ]
  },
  {
   "cell_type": "markdown",
   "metadata": {},
   "source": [
    "## Unapply\n",
    "\n",
    "실제로 match를 하면 어떤 일이 벌어지나요?\n",
    "다음과 같은 case class와 멋진 value matching을 수행할 수 있는 이유는 다음과 같습니다.\n",
    "```scala\n",
    "case class Something(a: String, b: Int)\n",
    "val a = Something(\"A\", 3)\n",
    "a match {\n",
    "    case Something(\"A\", value) => value\n",
    "    case Something(str, 3)     => 0\n",
    "}\n",
    "```\n",
    "\n",
    "결과적으로 모든 case class에 대해 생성된 컴패니언 객체에는 **apply** 메서드 외에 **unapply** 메소드도 포함되어 있습니다.\n",
    "**unapply** 메소드란 무엇일까요?\n",
    "\n",
    "Scala unapply 메소드는 match 문에 타입을 일치시키고 match 중에 해당 타입에서 **값을 추출**하는 기능을 제공하는 또 다른 형태의 구문 설탕입니다.\n",
    "\n",
    "다음 예를 살펴보겠습니다.\n",
    "어떤 이유로 generator가 파이프라인되는 경우 지연이 `3*totalWidth`이고, 그렇지 않으면 지연이 `2*someOtherWidth`라고 가정해 보겠습니다.\n",
    "case class에는 **unapply**가 정의되어 있으므로 다음과 같이 case class 내부의 값을 일치시킬 수 있습니다."
   ]
  },
  {
   "cell_type": "code",
   "execution_count": 8,
   "metadata": {},
   "outputs": [
    {
     "name": "stdout",
     "output_type": "stream",
     "text": [
      "20\n",
      "60\n"
     ]
    },
    {
     "data": {
      "text/plain": [
       "defined \u001b[32mclass\u001b[39m \u001b[36mSomeGeneratorParameters\u001b[39m\n",
       "defined \u001b[32mfunction\u001b[39m \u001b[36mdelay\u001b[39m"
      ]
     },
     "execution_count": 8,
     "metadata": {},
     "output_type": "execute_result"
    }
   ],
   "source": [
    "case class SomeGeneratorParameters(\n",
    "    someWidth: Int,\n",
    "    someOtherWidth: Int = 10,\n",
    "    pipelineMe: Boolean = false\n",
    ") {\n",
    "    require(someWidth >= 0)\n",
    "    require(someOtherWidth >= 0)\n",
    "    val totalWidth = someWidth + someOtherWidth\n",
    "}\n",
    "\n",
    "def delay(p: SomeGeneratorParameters): Int = p match {\n",
    "    case sg @ SomeGeneratorParameters(_, _, true) => sg.totalWidth * 3\n",
    "    case SomeGeneratorParameters(_, sw, false) => sw * 2 \n",
    "}\n",
    "\n",
    "println(delay(SomeGeneratorParameters(10, 10)))\n",
    "println(delay(SomeGeneratorParameters(10, 10, true)))"
   ]
  },
  {
   "cell_type": "markdown",
   "metadata": {},
   "source": [
    "`delay` 기능을 보면 각 문자의 타입에 대한 일치 외에도 다음과 같은 사항도 있음을 유의해야 합니다.\n",
    "- 매개변수의 내부 값을 직접 참조\n",
    "- 때로는 매개변수의 내부 값과 직접 일치합니다.\n",
    "\n",
    "이는 컴파일러가 `unapply` 메소드를 구현하기 때문에 가능합니다. 대소문자를 적용하지 않는 것은 단지 구문상의 설탕일 뿐입니다. 예를 들어 다음 두 경우의 예는 동일합니다.\n",
    "\n",
    "```scala\n",
    "case p: SomeGeneratorParameters => p.sw * 2\n",
    "case SomeGeneratorParameters(_, sw, _) => sw * 2\n",
    "```\n",
    "\n",
    "또한 일치하는 구문과 스타일이 더 많습니다. 다음 두 경우도 동일하지만 두 번째 경우를 사용하면 상위 값을 계속 참조하면서 내부 값을 일치시킬 수 있습니다.\n",
    "\n",
    "```scala\n",
    "case SomeGeneratorParameters(_, sw, true) => sw\n",
    "case sg@SomeGeneratorParameters(_, sw, true) => sw\n",
    "```\n",
    "\n",
    "마지막으로 다음과 같은 세 번째 예에서 볼 수 있듯이 조건 검사를 match 문에 직접 포함할 수 있습니다.\n",
    "\n",
    "```scala\n",
    "case SomeGeneratorParameters(_, sw, false) => sw * 2\n",
    "case s@SomeGeneratorParameters(_, sw, false) => s.sw * 2\n",
    "case s: SomeGeneratorParameters if s.pipelineMe => s.sw * 2\n",
    "```\n",
    "\n",
    "이러한 모든 구문은 클래스의 컴패니언 개체에 포함된 Scala unapply 메서드에 의해 활성화됩니다. 클래스를 unapply하고 싶지만 case class로 만들고 싶지 않다면 수동으로 unapply 메소드를 구현할 수 있습니다. 다음 예제는 클래스의 apply 및 unapply 메소드를 수동으로 구현하는 방법을 보여줍니다."
   ]
  },
  {
   "cell_type": "code",
   "execution_count": 50,
   "metadata": {},
   "outputs": [
    {
     "name": "stdout",
     "output_type": "stream",
     "text": [
      "Pinta and Nina are small boats!\n"
     ]
    },
    {
     "data": {
      "text/plain": [
       "defined \u001b[32mclass\u001b[39m \u001b[36mBoat\u001b[39m\n",
       "defined \u001b[32mobject\u001b[39m \u001b[36mBoat\u001b[39m\n",
       "defined \u001b[32mfunction\u001b[39m \u001b[36mgetSmallBoats\u001b[39m\n",
       "\u001b[36mboats\u001b[39m: \u001b[32mSeq\u001b[39m[\u001b[32mBoat\u001b[39m] = \u001b[33mList\u001b[39m(\n",
       "  ammonite.$sess.cmd49$Helper$Boat@45a2c47d,\n",
       "  ammonite.$sess.cmd49$Helper$Boat@3c15c90c,\n",
       "  ammonite.$sess.cmd49$Helper$Boat@797a0a85\n",
       ")"
      ]
     },
     "execution_count": 50,
     "metadata": {},
     "output_type": "execute_result"
    }
   ],
   "source": [
    "class Boat(val name: String, val length: Int)\n",
    "object Boat {\n",
    "    def unapply(b: Boat): Option[(String, Int)] = Some((b.name, b.length))\n",
    "    def apply(name: String, length: Int): Boat = new Boat(name, length)\n",
    "}\n",
    "\n",
    "def getSmallBoats(seq: Seq[Boat]): Seq[Boat] = seq.filter { b =>\n",
    "    b match {\n",
    "        case Boat(_, length) if length < 60 => true\n",
    "        case Boat(_, _) => false\n",
    "    }\n",
    "}\n",
    "\n",
    "val boats = Seq(Boat(\"Santa Maria\", 62), Boat(\"Pinta\", 56), Boat(\"Nina\", 50))\n",
    "println(getSmallBoats(boats).map(_.name).mkString(\" and \") + \" are small boats!\")"
   ]
  },
  {
   "cell_type": "markdown",
   "metadata": {},
   "source": [
    "## Partial Functions\n",
    "\n",
    "이것은 간략한 개요입니다. [이 가이드](https://twitter.github.io/scala_school/pattern-matching-and-functional-composition.html#PartialFunction)에 더 자세한 개요가 있습니다.\n",
    "\n",
    "부분 함수는 입력의 하위 집합에만 정의된 함수입니다.\n",
    "옵션과 마찬가지로 부분 함수에는 특정 입력에 대한 값이 없을 수 있습니다.\n",
    "이것은 `isDefinedAt(...)`로 테스트할 수 있습니다.\n",
    "\n",
    "Partial functions는 `orElse`와 함께 연결할 수 있습니다.\n",
    "\n",
    "정의되지 않은 입력으로 `PartialFunction`을 호출하면 런타임 오류가 발생합니다. 예를 들어, `PartialFunction`에 대한 입력이 사용자 정의인 경우 발생할 수 있습니다. 타입 안전성을 높이기 위해 대신 `Option`을 반환하는 함수를 작성하는 것이 좋습니다."
   ]
  },
  {
   "cell_type": "code",
   "execution_count": 51,
   "metadata": {},
   "outputs": [
    {
     "name": "stdout",
     "output_type": "stream",
     "text": [
      "partialFunc1.isDefinedAt(2) = true\n",
      "partialFunc1.isDefinedAt(5) = true\n",
      "partialFunc1.isDefinedAt(1) = false\n",
      "partialFunc1.isDefinedAt(0) = false\n",
      "partialFunc1(2) = Something\n",
      "partialFunc1(0) = can't apply PartialFunctions where they are not defined\n",
      "partialFunc2.isDefinedAt(1) = true\n",
      "partialFunc2.isDefinedAt(0) = false\n",
      "partialFunc2(1) = Something else\n",
      "partialFunc2(0) = can't apply PartialFunctions where they are not defined\n",
      "partialFunc3.isDefinedAt(0) = false\n",
      "partialFunc3.isDefinedAt(1) = true\n",
      "partialFunc3.isDefinedAt(2) = true\n",
      "partialFunc3.isDefinedAt(3) = false\n",
      "partialFunc3(1) = Something else\n",
      "partialFunc3(2) = Something\n"
     ]
    },
    {
     "data": {
      "text/plain": [
       "defined \u001b[32mfunction\u001b[39m \u001b[36mprintAndAssert\u001b[39m\n",
       "\u001b[36mpartialFunc1\u001b[39m: \u001b[32mPartialFunction\u001b[39m[\u001b[32mInt\u001b[39m, \u001b[32mString\u001b[39m] = <function1>\n",
       "\u001b[36mpartialFunc2\u001b[39m: \u001b[32mPartialFunction\u001b[39m[\u001b[32mInt\u001b[39m, \u001b[32mString\u001b[39m] = <function1>\n",
       "\u001b[36mpartialFunc3\u001b[39m: \u001b[32mPartialFunction\u001b[39m[\u001b[32mInt\u001b[39m, \u001b[32mString\u001b[39m] = <function1>"
      ]
     },
     "execution_count": 51,
     "metadata": {},
     "output_type": "execute_result"
    }
   ],
   "source": [
    "// 이 셀을 조금 덜 지루하게 만드는 도우미 함수.\n",
    "def printAndAssert(cmd: String, result: Boolean, expected: Boolean): Unit = {\n",
    "  println(s\"$cmd = $result\")\n",
    "  assert(result == expected)\n",
    "}\n",
    "\n",
    "// -1, 2, 5 등에 대해 정의\n",
    "val partialFunc1: PartialFunction[Int, String] = {\n",
    "  case i if (i + 1) % 3 == 0 => \"Something\"\n",
    "}\n",
    "printAndAssert(\"partialFunc1.isDefinedAt(2)\", partialFunc1.isDefinedAt(2), true)\n",
    "printAndAssert(\"partialFunc1.isDefinedAt(5)\", partialFunc1.isDefinedAt(5), true)\n",
    "printAndAssert(\"partialFunc1.isDefinedAt(1)\", partialFunc1.isDefinedAt(1), false)\n",
    "printAndAssert(\"partialFunc1.isDefinedAt(0)\", partialFunc1.isDefinedAt(0), false)\n",
    "\n",
    "println(s\"partialFunc1(2) = ${partialFunc1(2)}\")\n",
    "try {\n",
    "  println(partialFunc1(1))\n",
    "} catch {\n",
    "  case e: scala.MatchError => println(\"partialFunc1(0) = can't apply PartialFunctions where they are not defined\")\n",
    "}\n",
    "\n",
    "// 1, 4, 7 등에 대해 정의\n",
    "val partialFunc2: PartialFunction[Int, String] = {\n",
    "  case i if (i + 2) % 3 == 0 => \"Something else\"\n",
    "}\n",
    "printAndAssert(\"partialFunc2.isDefinedAt(1)\", partialFunc2.isDefinedAt(1), true)\n",
    "printAndAssert(\"partialFunc2.isDefinedAt(0)\", partialFunc2.isDefinedAt(0), false)\n",
    "println(s\"partialFunc2(1) = ${partialFunc2(1)}\")\n",
    "try {\n",
    "  println(partialFunc2(0))\n",
    "} catch {\n",
    "  case e: scala.MatchError => println(\"partialFunc2(0) = can't apply PartialFunctions where they are not defined\")\n",
    "}\n",
    "\n",
    "val partialFunc3 = partialFunc1 orElse partialFunc2\n",
    "printAndAssert(\"partialFunc3.isDefinedAt(0)\", partialFunc3.isDefinedAt(0), false)\n",
    "printAndAssert(\"partialFunc3.isDefinedAt(1)\", partialFunc3.isDefinedAt(1), true)\n",
    "printAndAssert(\"partialFunc3.isDefinedAt(2)\", partialFunc3.isDefinedAt(2), true)\n",
    "printAndAssert(\"partialFunc3.isDefinedAt(3)\", partialFunc3.isDefinedAt(3), false)\n",
    "println(s\"partialFunc3(1) = ${partialFunc3(1)}\")\n",
    "println(s\"partialFunc3(2) = ${partialFunc3(2)}\")"
   ]
  },
  {
   "cell_type": "markdown",
   "metadata": {},
   "source": [
    "---\n",
    "# Type Safe Connections<a name=\"type-safe-connections\"></a>\n",
    "\n",
    "Chisel은 다음을 포함하여 많은 연결 타입을 확인할 수 있습니다.\n",
    "* Clock에 대한 Bool/UInt\n",
    "\n",
    "다른 타입의 경우 Chisel을 사용하여 연결할 수 있지만 적절하게 비트를 자르거나 채울 수 있습니다.\n",
    "* Bool/UInt에서 Bool/UInt로\n",
    "* Bundle에서 Bundle"
   ]
  },
  {
   "cell_type": "code",
   "execution_count": 68,
   "metadata": {},
   "outputs": [
    {
     "name": "stdout",
     "output_type": "stream",
     "text": [
      "Elaborating design...\n",
      "[\u001b[31merror\u001b[0m] \tat ... ()\n",
      "[\u001b[31merror\u001b[0m] \tat ammonite.$sess.cmd67$Helper$BadTypeModule$$anon$1.<init>(cmd67.sc:15)\n",
      "[\u001b[31merror\u001b[0m] \tat ammonite.$sess.cmd67$Helper$BadTypeModule.<init>(cmd67.sc:10)\n",
      "[\u001b[31merror\u001b[0m] \tat ammonite.$sess.cmd67$Helper.$anonfun$res67_3$1(cmd67.sc:28)\n",
      "[\u001b[31merror\u001b[0m] \tat ... ()\n",
      "[\u001b[31merror\u001b[0m] \tat ... (Stack trace trimmed to user code only. Rerun with --full-stacktrace to see the full stack trace)\n"
     ]
    },
    {
     "ename": "",
     "evalue": "",
     "output_type": "error",
     "traceback": [
      "\u001b[31mscala.MatchError: ChiselExecutionFailure(Failed to elaborate Chisel circuit) (of class chisel3.ChiselExecutionFailure)\u001b[39m\n  ammonite.$file.dummy.source.load$minusivy_2$Helper.getVerilog(\u001b[32mMain.sc\u001b[39m:\u001b[32m26\u001b[39m)\n  ammonite.$sess.cmd67$Helper.<init>(\u001b[32mcmd67.sc\u001b[39m:\u001b[32m28\u001b[39m)\n  ammonite.$sess.cmd67$.<init>(\u001b[32mcmd67.sc\u001b[39m:\u001b[32m7\u001b[39m)\n  ammonite.$sess.cmd67$.<clinit>(\u001b[32mcmd67.sc\u001b[39m:\u001b[32m-1\u001b[39m)"
     ]
    }
   ],
   "source": [
    "class Bundle1 extends Bundle {\n",
    "  val a = UInt(8.W)\n",
    "}\n",
    "\n",
    "class Bundle2 extends Bundle1 {\n",
    "  val b = UInt(16.W)\n",
    "}\n",
    "\n",
    "class BadTypeModule extends Module {\n",
    "  val io = IO(new Bundle {\n",
    "    val c  = Input(Clock())\n",
    "    val in = Input(UInt(2.W))\n",
    "    val out = Output(Bool())\n",
    "\n",
    "    val bundleIn = Input(new Bundle2)\n",
    "    val bundleOut = Output(new Bundle1)\n",
    "  })\n",
    "  \n",
    "  //io.out := io.c // won't work due to different types\n",
    "\n",
    "  // Okay, but Chisel will truncate the input width to 1 to match the output.\n",
    "//   io.out := io.in\n",
    "\n",
    "//   // Compiles; Chisel will connect the common subelements of the two Bundles (in this case, 'a').\n",
    "//   io.bundleOut := io.bundleIn\n",
    "}\n",
    "\n",
    "println(getVerilog(new BadTypeModule))"
   ]
  },
  {
   "cell_type": "markdown",
   "metadata": {},
   "source": [
    "---\n",
    "# Type Generics<a name=\"type-generics\"></a>\n",
    "Scala의 제네릭 타입(다형성이라고도 함)은 특히 상속과 결합할 때 매우 복잡합니다.\n",
    "\n",
    "이 섹션은 당신의 발가락을 젖게 할 것입니다. 자세한 내용은 [본 튜토리얼](https://twitter.github.io/scala_school/type-basics.html)을 확인하세요.\n",
    "\n",
    "클래스는 타입이 다형성일 수 있습니다. 한 가지 좋은 예는 포함된 타입을 알아야 하는 시퀀스입니다."
   ]
  },
  {
   "cell_type": "code",
   "execution_count": 53,
   "metadata": {},
   "outputs": [
    {
     "data": {
      "text/plain": [
       "\u001b[36mseq1\u001b[39m: \u001b[32mSeq\u001b[39m[\u001b[32mString\u001b[39m] = \u001b[33mList\u001b[39m(\u001b[32m\"1\"\u001b[39m, \u001b[32m\"2\"\u001b[39m, \u001b[32m\"3\"\u001b[39m)\n",
       "\u001b[36mseq2\u001b[39m: \u001b[32mSeq\u001b[39m[\u001b[32mInt\u001b[39m] = \u001b[33mList\u001b[39m(\u001b[32m1\u001b[39m, \u001b[32m2\u001b[39m, \u001b[32m3\u001b[39m)\n",
       "\u001b[36mseq3\u001b[39m: \u001b[32mSeq\u001b[39m[\u001b[32mAny\u001b[39m] = \u001b[33mList\u001b[39m(\u001b[32m1\u001b[39m, \u001b[32m\"2\"\u001b[39m, true)"
      ]
     },
     "execution_count": 53,
     "metadata": {},
     "output_type": "execute_result"
    }
   ],
   "source": [
    "val seq1 = Seq(\"1\", \"2\", \"3\") // Type is Seq[String]\n",
    "val seq2 = Seq(1, 2, 3)       // Type is Seq[Int]\n",
    "val seq3 = Seq(1, \"2\", true)  // Type is Seq[Any]"
   ]
  },
  {
   "cell_type": "markdown",
   "metadata": {},
   "source": [
    "때때로 스칼라 컴파일러는 사용자가 명시적으로 타입을 입력해야 하는 다형성 타입을 결정하는 데 도움이 필요합니다."
   ]
  },
  {
   "cell_type": "code",
   "execution_count": 28,
   "metadata": {},
   "outputs": [
    {
     "data": {
      "text/plain": [
       "\u001b[36mdefault\u001b[39m: \u001b[32mSeq\u001b[39m[\u001b[32mString\u001b[39m] = \u001b[33mList\u001b[39m()\n",
       "\u001b[36mres27_1\u001b[39m: \u001b[32mSeq\u001b[39m[\u001b[32mString\u001b[39m] = \u001b[33mList\u001b[39m(\u001b[32m\"2\"\u001b[39m)"
      ]
     },
     "execution_count": 28,
     "metadata": {},
     "output_type": "execute_result"
    }
   ],
   "source": [
    "//val default = Seq() // Error!\n",
    "val default = Seq[String]() // User must tell compiler that default is of type Seq[String]\n",
    "Seq(1, \"2\", true).foldLeft(default){ (strings, next) =>\n",
    "    next match {\n",
    "        case s: String => strings ++ Seq(s)\n",
    "        case _ => strings\n",
    "    }\n",
    "}"
   ]
  },
  {
   "cell_type": "markdown",
   "metadata": {},
   "source": [
    "함수는 입력 또는 출력 타입에서 다형성일 수도 있습니다. 다음 예제에서는 코드 블록을 실행하는 데 걸리는 시간을 계산하는 함수를 정의합니다. 코드 블록의 반환 타입에 따라 매개변수화됩니다. *`=> T` 구문은 인수 목록이 없는 익명 함수를 인코딩합니다. `{ ... }` 대 `{ x => ... }`.*"
   ]
  },
  {
   "cell_type": "code",
   "execution_count": 29,
   "metadata": {},
   "outputs": [
    {
     "name": "stdout",
     "output_type": "stream",
     "text": [
      "Block took 8.099028 milliseconds!\n",
      "Add 1 through a million is 1784293664\n",
      "Block took 49.223639 milliseconds!\n",
      "The largest number under a million that has beef: ebeef\n"
     ]
    },
    {
     "data": {
      "text/plain": [
       "defined \u001b[32mfunction\u001b[39m \u001b[36mtime\u001b[39m\n",
       "\u001b[36mint\u001b[39m: \u001b[32mInt\u001b[39m = \u001b[32m1784293664\u001b[39m\n",
       "\u001b[36mstring\u001b[39m: \u001b[32mString\u001b[39m = \u001b[32m\"ebeef\"\u001b[39m"
      ]
     },
     "execution_count": 29,
     "metadata": {},
     "output_type": "execute_result"
    }
   ],
   "source": [
    "def time[T](block: => T): T = {\n",
    "    val t0 = System.nanoTime()\n",
    "    val result = block\n",
    "    val t1 = System.nanoTime()\n",
    "    val timeMillis = (t1 - t0) / 1000000.0\n",
    "    println(s\"Block took $timeMillis milliseconds!\")\n",
    "    result\n",
    "}\n",
    "\n",
    "// Adds 1 through a million\n",
    "val int = time { (1 to 1000000).reduce(_ + _) }\n",
    "println(s\"Add 1 through a million is $int\")\n",
    "\n",
    "// Finds the largest number under a million that, in hex, contains \"beef\"\n",
    "val string = time {\n",
    "    (1 to 1000000).map(_.toHexString).filter(_.contains(\"beef\")).last\n",
    "}\n",
    "println(s\"The largest number under a million that has beef: $string\")"
   ]
  },
  {
   "cell_type": "markdown",
   "metadata": {},
   "source": [
    "## Chisel Type Hierarchy\n",
    "Chisel을 사용하여 타입 제네릭 코드를 작성하려면 Chisel의 타입 계층에 대해 약간 아는 것이 도움이 됩니다.\n",
    "\n",
    "'chisel3.Data'는 Chisel 하드웨어 타입의 기본 클래스입니다.\n",
    "`UInt`, `SInt`, `Vec`, `Bundle` 등은 모두 `Data`의 인스턴스입니다.\n",
    "`Data`는 IO에서 사용할 수 있으며 `:=`, 전선, reg 등을 지원합니다.\n",
    "\n",
    "레지스터는 Chisel의 다형성 코드의 좋은 예입니다.\n",
    "`RegEnable`(`Bool` 활성화 신호가 있는 레지스터)의 구현을 살펴보세요. [여기](https://github.com/freechipsproject/chisel3/blob/v3.0.0/src/main/scala/chisel3/util/Reg.scala#L10).\n",
    "apply function은 `[T <: Data]`용으로 템플릿화되어 있습니다. 즉, `RegEnable`은 모든 Chisel 하드웨어 타입에서 작동합니다.\n",
    "\n",
    "일부 작업은 '비트'의 하위 타입에만 정의됩니다(예: '+').\n",
    "이것이 `UInt` 또는 `SInt`를 추가할 수 있지만 `Bundle` 또는 `Vec`을 추가할 수 없는 이유입니다."
   ]
  },
  {
   "cell_type": "markdown",
   "metadata": {},
   "source": [
    "<span style=\"color:blue\">**Example: Type Generic ShiftRegister**<a name=\"type-generic-shift-register\"></a></span><br>\n",
    "Scala에서 객체와 함수는 매개변수로 취급할 수 있는 유일한 것이 아닙니다. 타입을 매개변수로 취급할 수도 있습니다.\n",
    "\n",
    "일반적으로 타입 제약 조건을 제공해야 합니다. 이 경우 객체를 번들에 넣고 연결(:=)하고 ​​레지스터를 생성(RegNext)할 수 있기를 원합니다. 이러한 작업은 임의의 개체에서 수행할 수 없습니다. 예를 들어 wire := 3은 Chisel UInt가 아니라 Scala Int이기 때문에 불법입니다. 타입 제약을 사용하여 타입 T가 Data의 하위 클래스라고 말하면, 모든 Data에 대해 :=가 정의되어 있기 때문에 타입 T의 모든 객체에 :=를 사용할 수 있습니다.\n",
    "\n",
    "다음은 타입을 매개변수로 사용하는 시프트 레지스터의 구현입니다. *gen*은 사용할 너비를 알려주는 타입 T의 인수입니다. 예를 들어 new ShiftRegister(UInt(4.W))는 4비트 UInt용 시프트 레지스터입니다.\n",
    "*gen*은 또한 스칼라 컴파일러가 타입 T-를 추론할 수 있도록 합니다.\n",
    "더 구체적이고 싶다면 new ShiftRegister[UInt](UInt(4.W)) 를 작성할 수 있습니다.\n",
    "그러나 Scala 컴파일러는 [UInt]를 생략해도 알아낼 만큼 충분히 똑똑합니다."
   ]
  },
  {
   "cell_type": "code",
   "execution_count": 30,
   "metadata": {},
   "outputs": [
    {
     "data": {
      "text/html": [
       "<div width=\"100%\" height=\"100%\" overflow=\"scroll\"><?xml version=\"1.0\" encoding=\"UTF-8\" standalone=\"no\"?>\n",
       "<?xml-stylesheet href=\"styles.css\" type=\"text/css\"?>\n",
       "<!DOCTYPE svg PUBLIC \"-//W3C//DTD SVG 1.1//EN\"\n",
       " \"http://www.w3.org/Graphics/SVG/1.1/DTD/svg11.dtd\">\n",
       "<!-- Generated by graphviz version 2.40.1 (0)\n",
       " -->\n",
       "<!-- Title: ShiftRegister Pages: 1 -->\n",
       "<svg width=\"663pt\" height=\"207pt\"\n",
       " viewBox=\"0.00 0.00 663.00 207.00\" xmlns=\"http://www.w3.org/2000/svg\" xmlns:xlink=\"http://www.w3.org/1999/xlink\">\n",
       "<g id=\"graph0\" class=\"graph\" transform=\"scale(1 1) rotate(0) translate(4 203)\">\n",
       "<title>ShiftRegister</title>\n",
       "<polygon fill=\"#ffffff\" stroke=\"transparent\" points=\"-4,4 -4,-203 659,-203 659,4 -4,4\"/>\n",
       "<g id=\"clust1\" class=\"cluster\">\n",
       "<title>cluster_ShiftRegister</title>\n",
       "<polygon fill=\"#fff8dc\" stroke=\"#000000\" points=\"8,-8 8,-191 647,-191 647,-8 8,-8\"/>\n",
       "<text text-anchor=\"middle\" x=\"327.5\" y=\"-175.8\" font-family=\"Times,serif\" font-size=\"14.00\" fill=\"#000000\">ShiftRegister</text>\n",
       "</g>\n",
       "<!-- cluster_ShiftRegister_clock -->\n",
       "<g id=\"node1\" class=\"node\">\n",
       "<title>cluster_ShiftRegister_clock</title>\n",
       "<polygon fill=\"#cccccc\" stroke=\"#000000\" points=\"71,-160 16,-160 16,-124 71,-124 71,-160\"/>\n",
       "<text text-anchor=\"middle\" x=\"43.5\" y=\"-138.3\" font-family=\"Times,serif\" font-size=\"14.00\" fill=\"#000000\">clock</text>\n",
       "</g>\n",
       "<!-- cluster_ShiftRegister_reset -->\n",
       "<g id=\"node2\" class=\"node\">\n",
       "<title>cluster_ShiftRegister_reset</title>\n",
       "<polygon fill=\"#cccccc\" stroke=\"#000000\" points=\"70.5,-106 16.5,-106 16.5,-70 70.5,-70 70.5,-106\"/>\n",
       "<text text-anchor=\"middle\" x=\"43.5\" y=\"-84.3\" font-family=\"Times,serif\" font-size=\"14.00\" fill=\"#000000\">reset</text>\n",
       "</g>\n",
       "<!-- cluster_ShiftRegister_io_in -->\n",
       "<g id=\"node3\" class=\"node\">\n",
       "<title>cluster_ShiftRegister_io_in</title>\n",
       "<polygon fill=\"#cccccc\" stroke=\"#000000\" points=\"70.5,-52 16.5,-52 16.5,-16 70.5,-16 70.5,-52\"/>\n",
       "<text text-anchor=\"middle\" x=\"43.5\" y=\"-30.3\" font-family=\"Times,serif\" font-size=\"14.00\" fill=\"#000000\">io_in</text>\n",
       "</g>\n",
       "<!-- cluster_ShiftRegister_io_out_0 -->\n",
       "<g id=\"node4\" class=\"node\">\n",
       "<title>cluster_ShiftRegister_io_out_0</title>\n",
       "<polygon fill=\"#e0ffff\" stroke=\"#000000\" points=\"198,-52 121,-52 121,-16 198,-16 198,-52\"/>\n",
       "<text text-anchor=\"middle\" x=\"159.5\" y=\"-30.3\" font-family=\"Times,serif\" font-size=\"14.00\" fill=\"#000000\">io_out_0</text>\n",
       "</g>\n",
       "<!-- cluster_ShiftRegister_io_in&#45;&gt;cluster_ShiftRegister_io_out_0 -->\n",
       "<g id=\"edge3\" class=\"edge\">\n",
       "<title>cluster_ShiftRegister_io_in&#45;&gt;cluster_ShiftRegister_io_out_0</title>\n",
       "<path fill=\"none\" stroke=\"#000000\" d=\"M70.6968,-34C82.5434,-34 96.8052,-34 110.3989,-34\"/>\n",
       "<polygon fill=\"#000000\" stroke=\"#000000\" points=\"110.6128,-37.5001 120.6128,-34 110.6128,-30.5001 110.6128,-37.5001\"/>\n",
       "</g>\n",
       "<!-- struct_cluster_ShiftRegister_REG -->\n",
       "<g id=\"node8\" class=\"node\">\n",
       "<title>struct_cluster_ShiftRegister_REG</title>\n",
       "<polygon fill=\"#ffe4b5\" stroke=\"transparent\" points=\"115,-75.5 115,-100.5 204,-100.5 204,-75.5 115,-75.5\"/>\n",
       "<polygon fill=\"none\" stroke=\"#000000\" points=\"115.5,-75 115.5,-100 138.5,-100 138.5,-75 115.5,-75\"/>\n",
       "<text text-anchor=\"start\" x=\"120.5\" y=\"-83.8\" font-family=\"Times,serif\" font-size=\"14.00\" fill=\"#000000\">●</text>\n",
       "<polygon fill=\"none\" stroke=\"#000000\" points=\"138.5,-75 138.5,-100 181.5,-100 181.5,-75 138.5,-75\"/>\n",
       "<text text-anchor=\"start\" x=\"143.5\" y=\"-83.8\" font-family=\"Times,serif\" font-size=\"14.00\" fill=\"#000000\">REG</text>\n",
       "<polygon fill=\"none\" stroke=\"#000000\" points=\"181.5,-75 181.5,-100 204.5,-100 204.5,-75 181.5,-75\"/>\n",
       "<text text-anchor=\"start\" x=\"186.5\" y=\"-83.8\" font-family=\"Times,serif\" font-size=\"14.00\" fill=\"#000000\">●</text>\n",
       "</g>\n",
       "<!-- cluster_ShiftRegister_io_in&#45;&gt;struct_cluster_ShiftRegister_REG -->\n",
       "<g id=\"edge2\" class=\"edge\">\n",
       "<title>cluster_ShiftRegister_io_in&#45;&gt;struct_cluster_ShiftRegister_REG:in</title>\n",
       "<path fill=\"none\" stroke=\"#000000\" d=\"M62.6611,-52.2396C75.7728,-64.0972 93.015,-78.4064 105.7204,-84.2817\"/>\n",
       "<polygon fill=\"#000000\" stroke=\"#000000\" points=\"104.9279,-87.694 115.5,-87 106.8026,-80.9497 104.9279,-87.694\"/>\n",
       "</g>\n",
       "<!-- cluster_ShiftRegister_io_out_1 -->\n",
       "<g id=\"node5\" class=\"node\">\n",
       "<title>cluster_ShiftRegister_io_out_1</title>\n",
       "<polygon fill=\"#e0ffff\" stroke=\"#000000\" points=\"347,-52 270,-52 270,-16 347,-16 347,-52\"/>\n",
       "<text text-anchor=\"middle\" x=\"308.5\" y=\"-30.3\" font-family=\"Times,serif\" font-size=\"14.00\" fill=\"#000000\">io_out_1</text>\n",
       "</g>\n",
       "<!-- cluster_ShiftRegister_io_out_2 -->\n",
       "<g id=\"node6\" class=\"node\">\n",
       "<title>cluster_ShiftRegister_io_out_2</title>\n",
       "<polygon fill=\"#e0ffff\" stroke=\"#000000\" points=\"504,-78 427,-78 427,-42 504,-42 504,-78\"/>\n",
       "<text text-anchor=\"middle\" x=\"465.5\" y=\"-56.3\" font-family=\"Times,serif\" font-size=\"14.00\" fill=\"#000000\">io_out_2</text>\n",
       "</g>\n",
       "<!-- cluster_ShiftRegister_io_out_3 -->\n",
       "<g id=\"node7\" class=\"node\">\n",
       "<title>cluster_ShiftRegister_io_out_3</title>\n",
       "<polygon fill=\"#e0ffff\" stroke=\"#000000\" points=\"639,-131 562,-131 562,-95 639,-95 639,-131\"/>\n",
       "<text text-anchor=\"middle\" x=\"600.5\" y=\"-109.3\" font-family=\"Times,serif\" font-size=\"14.00\" fill=\"#000000\">io_out_3</text>\n",
       "</g>\n",
       "<!-- struct_cluster_ShiftRegister_REG&#45;&gt;cluster_ShiftRegister_io_out_1 -->\n",
       "<g id=\"edge6\" class=\"edge\">\n",
       "<title>struct_cluster_ShiftRegister_REG:out&#45;&gt;cluster_ShiftRegister_io_out_1</title>\n",
       "<path fill=\"none\" stroke=\"#000000\" d=\"M204.5,-87C227.0235,-87 228.0139,-71.3857 248,-61 252.0123,-58.915 256.2191,-56.8337 260.4659,-54.804\"/>\n",
       "<polygon fill=\"#000000\" stroke=\"#000000\" points=\"262.1863,-57.8635 269.767,-50.462 259.2252,-51.5206 262.1863,-57.8635\"/>\n",
       "</g>\n",
       "<!-- struct_cluster_ShiftRegister_REG_1 -->\n",
       "<g id=\"node9\" class=\"node\">\n",
       "<title>struct_cluster_ShiftRegister_REG_1</title>\n",
       "<polygon fill=\"#ffe4b5\" stroke=\"transparent\" points=\"256,-75.5 256,-100.5 361,-100.5 361,-75.5 256,-75.5\"/>\n",
       "<polygon fill=\"none\" stroke=\"#000000\" points=\"256.5,-75 256.5,-100 279.5,-100 279.5,-75 256.5,-75\"/>\n",
       "<text text-anchor=\"start\" x=\"261.5\" y=\"-83.8\" font-family=\"Times,serif\" font-size=\"14.00\" fill=\"#000000\">●</text>\n",
       "<polygon fill=\"none\" stroke=\"#000000\" points=\"279.5,-75 279.5,-100 338.5,-100 338.5,-75 279.5,-75\"/>\n",
       "<text text-anchor=\"start\" x=\"284.5\" y=\"-83.8\" font-family=\"Times,serif\" font-size=\"14.00\" fill=\"#000000\">REG_1</text>\n",
       "<polygon fill=\"none\" stroke=\"#000000\" points=\"338.5,-75 338.5,-100 361.5,-100 361.5,-75 338.5,-75\"/>\n",
       "<text text-anchor=\"start\" x=\"343.5\" y=\"-83.8\" font-family=\"Times,serif\" font-size=\"14.00\" fill=\"#000000\">●</text>\n",
       "</g>\n",
       "<!-- struct_cluster_ShiftRegister_REG&#45;&gt;struct_cluster_ShiftRegister_REG_1 -->\n",
       "<g id=\"edge4\" class=\"edge\">\n",
       "<title>struct_cluster_ShiftRegister_REG:out&#45;&gt;struct_cluster_ShiftRegister_REG_1:in</title>\n",
       "<path fill=\"none\" stroke=\"#000000\" d=\"M204.5,-87C223.8194,-87 231.0265,-87 246.3716,-87\"/>\n",
       "<polygon fill=\"#000000\" stroke=\"#000000\" points=\"246.5,-90.5001 256.5,-87 246.5,-83.5001 246.5,-90.5001\"/>\n",
       "</g>\n",
       "<!-- struct_cluster_ShiftRegister_REG_1&#45;&gt;cluster_ShiftRegister_io_out_2 -->\n",
       "<g id=\"edge5\" class=\"edge\">\n",
       "<title>struct_cluster_ShiftRegister_REG_1:out&#45;&gt;cluster_ShiftRegister_io_out_2</title>\n",
       "<path fill=\"none\" stroke=\"#000000\" d=\"M361.5,-87C379.9005,-87 399.5617,-82.9914 416.7801,-78.0633\"/>\n",
       "<polygon fill=\"#000000\" stroke=\"#000000\" points=\"418.0563,-81.3336 426.6078,-75.0788 416.0222,-74.6357 418.0563,-81.3336\"/>\n",
       "</g>\n",
       "<!-- struct_cluster_ShiftRegister_REG_2 -->\n",
       "<g id=\"node10\" class=\"node\">\n",
       "<title>struct_cluster_ShiftRegister_REG_2</title>\n",
       "<polygon fill=\"#ffe4b5\" stroke=\"transparent\" points=\"413,-101.5 413,-126.5 518,-126.5 518,-101.5 413,-101.5\"/>\n",
       "<polygon fill=\"none\" stroke=\"#000000\" points=\"413.5,-101 413.5,-126 436.5,-126 436.5,-101 413.5,-101\"/>\n",
       "<text text-anchor=\"start\" x=\"418.5\" y=\"-109.8\" font-family=\"Times,serif\" font-size=\"14.00\" fill=\"#000000\">●</text>\n",
       "<polygon fill=\"none\" stroke=\"#000000\" points=\"436.5,-101 436.5,-126 495.5,-126 495.5,-101 436.5,-101\"/>\n",
       "<text text-anchor=\"start\" x=\"441.5\" y=\"-109.8\" font-family=\"Times,serif\" font-size=\"14.00\" fill=\"#000000\">REG_2</text>\n",
       "<polygon fill=\"none\" stroke=\"#000000\" points=\"495.5,-101 495.5,-126 518.5,-126 518.5,-101 495.5,-101\"/>\n",
       "<text text-anchor=\"start\" x=\"500.5\" y=\"-109.8\" font-family=\"Times,serif\" font-size=\"14.00\" fill=\"#000000\">●</text>\n",
       "</g>\n",
       "<!-- struct_cluster_ShiftRegister_REG_1&#45;&gt;struct_cluster_ShiftRegister_REG_2 -->\n",
       "<g id=\"edge7\" class=\"edge\">\n",
       "<title>struct_cluster_ShiftRegister_REG_1:out&#45;&gt;struct_cluster_ShiftRegister_REG_2:in</title>\n",
       "<path fill=\"none\" stroke=\"#000000\" d=\"M361.5,-87C383.5035,-87 387.0032,-105.8541 403.5134,-111.4514\"/>\n",
       "<polygon fill=\"#000000\" stroke=\"#000000\" points=\"403.0818,-114.9263 413.5,-113 404.1544,-108.0089 403.0818,-114.9263\"/>\n",
       "</g>\n",
       "<!-- struct_cluster_ShiftRegister_REG_2&#45;&gt;cluster_ShiftRegister_io_out_3 -->\n",
       "<g id=\"edge1\" class=\"edge\">\n",
       "<title>struct_cluster_ShiftRegister_REG_2:out&#45;&gt;cluster_ShiftRegister_io_out_3</title>\n",
       "<path fill=\"none\" stroke=\"#000000\" d=\"M518.5,-113C529.1804,-113 540.6433,-113 551.5128,-113\"/>\n",
       "<polygon fill=\"#000000\" stroke=\"#000000\" points=\"551.7074,-116.5001 561.7074,-113 551.7073,-109.5001 551.7074,-116.5001\"/>\n",
       "</g>\n",
       "</g>\n",
       "</svg>\n",
       "</div>"
      ]
     },
     "metadata": {},
     "output_type": "display_data"
    },
    {
     "name": "stdout",
     "output_type": "stream",
     "text": [
      "Elaborating design...\n",
      "Done elaborating.\n",
      "Testing ShiftRegister of type SInt<6>(IO io_in in ShiftRegister) and depth 4\n",
      "0: Vector(0, 0, 0, 0)\n",
      "1: Vector(1, 0, 0, 0)\n",
      "2: Vector(2, 1, 0, 0)\n",
      "3: Vector(3, 2, 1, 0)\n",
      "4: Vector(4, 3, 2, 1)\n",
      "5: Vector(5, 4, 3, 2)\n",
      "6: Vector(6, 5, 4, 3)\n",
      "7: Vector(7, 6, 5, 4)\n",
      "8: Vector(8, 7, 6, 5)\n",
      "9: Vector(9, 8, 7, 6)\n",
      "test ShiftRegister Success: 0 tests passed in 12 cycles in 0.024947 seconds 481.02 Hz\n"
     ]
    },
    {
     "data": {
      "text/plain": [
       "defined \u001b[32mclass\u001b[39m \u001b[36mShiftRegisterIO\u001b[39m\n",
       "defined \u001b[32mclass\u001b[39m \u001b[36mShiftRegister\u001b[39m"
      ]
     },
     "execution_count": 30,
     "metadata": {},
     "output_type": "execute_result"
    }
   ],
   "source": [
    "class ShiftRegisterIO[T <: Data](gen: T, n: Int) extends Bundle {\n",
    "    require (n >= 0, \"Shift register must have non-negative shift\")\n",
    "    \n",
    "    val in = Input(gen)\n",
    "    val out = Output(Vec(n + 1, gen)) // + 1 because in is included in out\n",
    "    override def cloneType: this.type = (new ShiftRegisterIO(gen, n)).asInstanceOf[this.type]\n",
    "}\n",
    "\n",
    "class ShiftRegister[T <: Data](gen: T, n: Int) extends Module {\n",
    "    val io = IO(new ShiftRegisterIO(gen, n))\n",
    "    \n",
    "    io.out.foldLeft(io.in) { case (in, out) =>\n",
    "        out := in\n",
    "        RegNext(in)\n",
    "    }\n",
    "}\n",
    "\n",
    "visualize(() => new ShiftRegister(SInt(6.W), 3))\n",
    "test(new ShiftRegister(SInt(6.W), 3)) { c => \n",
    "    println(s\"Testing ShiftRegister of type ${c.io.in} and depth ${c.io.out.length}\")\n",
    "    for (i <- 0 until 10) {\n",
    "        c.io.in.poke(i.S) // magic literal creation\n",
    "        println(s\"$i: ${c.io.out.indices.map { index => c.io.out(index).peek().litValue} }\")\n",
    "        c.clock.step(1)\n",
    "    }}"
   ]
  },
  {
   "cell_type": "markdown",
   "metadata": {},
   "source": [
    "일반적으로 타입 제네릭과 함께 상속을 사용하지 않는 것이 좋습니다.\n",
    "제대로 하는 것은 매우 까다로울 수 있고 빨리 좌절할 수 있습니다."
   ]
  },
  {
   "cell_type": "markdown",
   "metadata": {},
   "source": [
    "## Type Generics with Typeclasses\n",
    "\n",
    "위의 예는 `:=` 또는 `RegNext()`와 같은 `Data`의 모든 인스턴스에서 수행할 수 있는 간단한 작업으로 제한되었습니다.\n",
    "DSP 회로를 생성할 때 덧셈 및 곱셈과 같은 수학적 연산을 수행하고 싶습니다.\n",
    "`dsptools` 라이브러리는 타입 매개변수화된 DSP generator를 작성하기 위한 도구를 제공합니다.\n",
    "\n",
    "다음은 곱하기 누산 모듈을 작성하는 예입니다.\n",
    "이는 `FixedPoint`, `SInt` 또는 `DspComplex[T]`(`dsptools`에서 제공하는 복소수 타입)에 대한 MAC(multiply-accumulate)를 생성하는 데 사용할 수 있습니다.\n",
    "`dsptools`가 타입 클래스를 사용하기 때문에 타입 바인딩의 구문이 약간 다릅니다.\n",
    "그것들은 이 노트북의 범위를 벗어납니다.\n",
    "typeclasses 사용에 대한 자세한 내용은 `dsptools` readme 및 문서를 참조하십시오.\n",
    "\n",
    "`T <: Data : Ring`은 `T`가 `Data`의 하위 타입이자 `Ring`임을 의미합니다.\n",
    "'링'은 'dsptools'에서 '+' 및 '*'(다른 작업 중에서)가 있는 숫자로 정의됩니다.\n",
    "\n",
    "_'Ring'의 대안은 'Real'이지만 복소수가 'Real'이 아니기 때문에 'DspComplex()'에 대한 MAC을 만들 수 없습니다._\n",
    "\n"
   ]
  },
  {
   "cell_type": "code",
   "execution_count": 31,
   "metadata": {},
   "outputs": [
    {
     "name": "stdout",
     "output_type": "stream",
     "text": [
      "Elaborating design...\n",
      "Done elaborating.\n",
      "module Mac(\n",
      "  input        clock,\n",
      "  input        reset,\n",
      "  input  [3:0] io_a,\n",
      "  input  [3:0] io_b,\n",
      "  input  [3:0] io_c,\n",
      "  output [5:0] io_out\n",
      ");\n",
      "  wire [7:0] _T = io_a * io_b; // @[UIntTypeClass.scala 40:41]\n",
      "  wire [7:0] _GEN_0 = {{4'd0}, io_c}; // @[UIntTypeClass.scala 19:40]\n",
      "  wire [7:0] _T_2 = _T + _GEN_0; // @[UIntTypeClass.scala 19:40]\n",
      "  assign io_out = _T_2[5:0]; // @[cmd30.sc 11:12]\n",
      "endmodule\n",
      "\n",
      "Elaborating design...\n",
      "Done elaborating.\n",
      "module Mac(\n",
      "  input        clock,\n",
      "  input        reset,\n",
      "  input  [3:0] io_a,\n",
      "  input  [3:0] io_b,\n",
      "  input  [3:0] io_c,\n",
      "  output [5:0] io_out\n",
      ");\n",
      "  wire [7:0] _T = $signed(io_a) * $signed(io_b); // @[SIntTypeClass.scala 45:41]\n",
      "  wire [7:0] _GEN_0 = {{4{io_c[3]}},io_c}; // @[SIntTypeClass.scala 19:40]\n",
      "  wire [7:0] _T_3 = $signed(_T) + $signed(_GEN_0); // @[SIntTypeClass.scala 19:40]\n",
      "  assign io_out = _T_3[5:0]; // @[cmd30.sc 11:12]\n",
      "endmodule\n",
      "\n",
      "Elaborating design...\n",
      "Done elaborating.\n",
      "module Mac(\n",
      "  input        clock,\n",
      "  input        reset,\n",
      "  input  [3:0] io_a,\n",
      "  input  [3:0] io_b,\n",
      "  input  [3:0] io_c,\n",
      "  output [5:0] io_out\n",
      ");\n",
      "  wire [7:0] _T = $signed(io_a) * $signed(io_b); // @[FixedPointTypeClass.scala 43:59]\n",
      "  wire [6:0] _GEN_0 = {$signed(io_c), 3'h0}; // @[FixedPointTypeClass.scala 21:58]\n",
      "  wire [7:0] _GEN_1 = {{1{_GEN_0[6]}},_GEN_0}; // @[FixedPointTypeClass.scala 21:58]\n",
      "  wire [7:0] _T_3 = $signed(_T) + $signed(_GEN_1); // @[FixedPointTypeClass.scala 21:58]\n",
      "  assign io_out = _T_3[7:2]; // @[cmd30.sc 11:12]\n",
      "endmodule\n",
      "\n"
     ]
    },
    {
     "data": {
      "text/plain": [
       "\u001b[32mimport \u001b[39m\u001b[36mchisel3.experimental._\n",
       "\u001b[39m\n",
       "\u001b[32mimport \u001b[39m\u001b[36mdsptools.numbers._\n",
       "\n",
       "\u001b[39m\n",
       "defined \u001b[32mclass\u001b[39m \u001b[36mMac\u001b[39m"
      ]
     },
     "execution_count": 31,
     "metadata": {},
     "output_type": "execute_result"
    }
   ],
   "source": [
    "import chisel3.experimental._\n",
    "import dsptools.numbers._\n",
    "\n",
    "class Mac[T <: Data : Ring](genIn : T, genOut: T) extends Module {\n",
    "    val io = IO(new Bundle {\n",
    "        val a = Input(genIn)\n",
    "        val b = Input(genIn)\n",
    "        val c = Input(genIn)\n",
    "        val out = Output(genOut)\n",
    "    })\n",
    "    io.out := io.a * io.b + io.c\n",
    "}\n",
    "\n",
    "println(getVerilog(new Mac(UInt(4.W), UInt(6.W)) ))\n",
    "println(getVerilog(new Mac(SInt(4.W), SInt(6.W)) ))\n",
    "println(getVerilog(new Mac(FixedPoint(4.W, 3.BP), FixedPoint(6.W, 4.BP))))\n"
   ]
  },
  {
   "cell_type": "markdown",
   "metadata": {},
   "source": [
    "<span style=\"color:red\">**Exercise: Mac as Object**</span><br>\n",
    "\n",
    "Mac '모듈'에는 적은 수의 입력과 하나의 출력만 있습니다.\n",
    "다른 Chisel generator가 다음과 같은 코드를 작성하는 것이 편리할 수 있습니다.\n",
    "```scala\n",
    "val out = Mac(a, b, c)\n",
    "```\n",
    "\n",
    "`Mac` 기능을 구현하는 아래의 `Mac` 도우미 개체에서 `Apply` 메서드를 구현합니다."
   ]
  },
  {
   "cell_type": "code",
   "execution_count": 32,
   "metadata": {},
   "outputs": [
    {
     "name": "stdout",
     "output_type": "stream",
     "text": [
      "Elaborating design...\n",
      "[\u001b[31merror\u001b[0m] \tat ... ()\n",
      "[\u001b[31merror\u001b[0m] \tat ammonite.$sess.cmd31$Helper$Mac$.apply(cmd31.sc:3)\n",
      "[\u001b[31merror\u001b[0m] \tat ammonite.$sess.cmd31$Helper$MacTestModule.$anonfun$new$1(cmd31.sc:17)\n",
      "[\u001b[31merror\u001b[0m] \tat chisel3.Data.$anonfun$$colon$eq$1(Data.scala:541)\n",
      "[\u001b[31merror\u001b[0m] \tat scala.runtime.java8.JFunction0$mcV$sp.apply(JFunction0$mcV$sp.java:23)\n",
      "[\u001b[31merror\u001b[0m] \tat chisel3.internal.prefix$.apply(prefix.scala:32)\n",
      "[\u001b[31merror\u001b[0m] \tat chisel3.Data.$colon$eq(Data.scala:541)\n",
      "[\u001b[31merror\u001b[0m] \tat ammonite.$sess.cmd31$Helper$MacTestModule.<init>(cmd31.sc:17)\n",
      "[\u001b[31merror\u001b[0m] \tat ammonite.$sess.cmd31$Helper$.$anonfun$res31_2$1(cmd31.sc:21)\n",
      "[\u001b[31merror\u001b[0m] \tat ... ()\n",
      "[\u001b[31merror\u001b[0m] \tat ... (Stack trace trimmed to user code only. Rerun with --full-stacktrace to see the full stack trace)\n"
     ]
    },
    {
     "ename": "",
     "evalue": "",
     "output_type": "error",
     "traceback": [
      "\u001b[31mscala.MatchError: ChiselExecutionFailure(Failed to elaborate Chisel circuit) (of class chisel3.ChiselExecutionFailure)\u001b[39m\n  ammonite.$file.dummy.source.load$minusivy_2$Helper.getVerilog(\u001b[32mMain.sc\u001b[39m:\u001b[32m26\u001b[39m)\n  ammonite.$sess.cmd31$Helper$.<init>(\u001b[32mcmd31.sc\u001b[39m:\u001b[32m21\u001b[39m)\n  ammonite.$sess.cmd31$Helper$.<clinit>(\u001b[32mcmd31.sc\u001b[39m:\u001b[32m-1\u001b[39m)\n  ammonite.$sess.cmd31$.<init>(\u001b[32mcmd31.sc\u001b[39m:\u001b[32m740\u001b[39m)\n  ammonite.$sess.cmd31$.<clinit>(\u001b[32mcmd31.sc\u001b[39m:\u001b[32m-1\u001b[39m)"
     ]
    }
   ],
   "source": [
    "object Mac {\n",
    "    def apply[T <: Data : Ring](a: T, b: T, c: T): T = {\n",
    "        ??? // your code\n",
    "    }\n",
    "}\n",
    "\n",
    "class MacTestModule extends Module {\n",
    "    val io = IO(new Bundle {\n",
    "        val uin = Input(UInt(4.W))\n",
    "        val uout = Output(UInt())\n",
    "        val sin = Input(SInt(4.W))\n",
    "        val sout = Output(SInt())\n",
    "        //val fin = Input(FixedPoint(16.W, 12.BP))\n",
    "        //val fout = Output(FixedPoint())\n",
    "    })\n",
    "    // for each IO pair, do out = in * in + in\n",
    "    io.uout := Mac(io.uin, io.uin, io.uin)\n",
    "    io.sout := Mac(io.sin, io.sin, io.sin)\n",
    "    //io.fout := Mac(io.fin, io.fin, io.fin)\n",
    "}\n",
    "println(getVerilog(new MacTestModule))"
   ]
  },
  {
   "cell_type": "markdown",
   "metadata": {},
   "source": [
    "<div id=\"container\"><section id=\"accordion\"><div>\n",
    "<input type=\"checkbox\" id=\"check-1\" />\n",
    "<label for=\"check-1\"><strong>Solution</strong> (click to toggle displaying)</label>\n",
    "<article>\n",
    "<pre style=\"background-color:#f7f7f7\">\n",
    "\n",
    "        a * b + c\n",
    "\n",
    "</pre></article></div></section></div>"
   ]
  },
  {
   "cell_type": "markdown",
   "metadata": {},
   "source": [
    "<span style=\"color:red\">**Exercise: Integrator**</span><br>\n",
    "아래 그림과 같이 통합자를 구현합니다. $n_1$은 `genReg`의 너비이고 $n_2$는 `genIn`의 너비입니다.\n",
    "\n",
    "`Reg`, `RegInit`, `RegNext`, `RegEnable` 등이 `T <: Data` 타입에 대해 템플릿화된다는 것을 잊지 마십시오.\n",
    "\n",
    "<img src=\"images/integrator.svg\" alt=\"Integrator\" style=\"width: 250px;\"/>"
   ]
  },
  {
   "cell_type": "code",
   "execution_count": null,
   "metadata": {},
   "outputs": [],
   "source": [
    "class Integrator[T <: Data : Ring](genIn: T, genReg: T) extends Module {\n",
    "    val io = IO(new Bundle {\n",
    "        val in  = Input(genIn)\n",
    "        val out = Output(genReg)\n",
    "    })\n",
    "    \n",
    "    ??? // your code\n",
    "}\n",
    "\n",
    "test(new Integrator(SInt(4.W), SInt(8.W))) { c =>\n",
    "    c.io.in.poke(3.S)\n",
    "    c.io.out.expect(0.S)\n",
    "    c.clock.step(1)\n",
    "    c.io.in.poke(-4.S)\n",
    "    c.io.out.expect(3.S)\n",
    "    c.clock.step(1)\n",
    "    c.io.in.poke(6.S)\n",
    "    c.io.out.expect(-1.S)\n",
    "    c.clock.step(1)\n",
    "    c.io.out.expect(5.S)\n",
    "}"
   ]
  },
  {
   "cell_type": "markdown",
   "metadata": {},
   "source": [
    "<div id=\"container\"><section id=\"accordion\"><div>\n",
    "<input type=\"checkbox\" id=\"check-2\" />\n",
    "<label for=\"check-2\"><strong>Solution</strong> (click to toggle displaying)</label>\n",
    "<article>\n",
    "<pre style=\"background-color:#f7f7f7\">\n",
    "\n",
    "class Integrator\\[T <: Data : Ring\\](genIn: T, genReg: T) extends Module {\n",
    "    val io = IO(new Bundle {\n",
    "        val in  = Input(genIn.cloneType)\n",
    "        val out = Output(genReg.cloneType)\n",
    "    })\n",
    "    \n",
    "    val reg = RegInit(genReg, Ring[T].zero) // init to zero\n",
    "    reg := reg + io.in\n",
    "    io.out := reg\n",
    "}\n",
    "\n",
    "</pre></article></div></section></div>"
   ]
  },
  {
   "cell_type": "markdown",
   "metadata": {},
   "source": [
    "---\n",
    "# Creating a Custom Type<a name=\"creating-a-custom-type\"></a>\n",
    "\n",
    "Chisel을 강력하게 만드는 것 중 하나는 확장성입니다.\n",
    "애플리케이션에 맞게 조정된 고유한 작업 및 표현이 있는 고유한 타입을 추가할 수 있습니다.\n",
    "이 섹션에서는 사용자 정의 타입을 만드는 방법을 소개합니다."
   ]
  },
  {
   "cell_type": "markdown",
   "metadata": {},
   "source": [
    "<span style=\"color:blue\">**Example: DspComplex**</span><br>\n",
    "`DspComplex`는 **dsptools** [여기](https://github.com/ucb-bar/dsptools/blob/v1.0.0/src/main/scala/dsptools/numbers/chisel_concrete)에 정의된 사용자 지정 데이터 타입입니다. /DspComplex.scala#L59).\n",
    "이해해야 할 핵심 라인은 다음과 같습니다.\n",
    "```scala\n",
    "class DspComplex[T <: Data:Ring](val real: T, val imag: T) extends Bundle { ... }\n",
    "```\n",
    "'DspComplex'는 타입 제네릭 컨테이너입니다.\n",
    "즉, 복소수의 실수 부분과 허수 부분은 `T <: Data : Ring`에 지정된 형식 제약 조건을 충족하는 한 모든 형식이 될 수 있습니다.\n",
    "\n",
    "`T <: Data`는 `T`가 Chisel 객체의 기본 타입인 `chisel3.Data`의 하위 타입임을 의미합니다.\n",
    "즉, 'DspComplex'는 임의의 Scala 타입이 아닌 Chisel 타입인 객체에만 작동합니다.\n",
    "\n",
    "'T : Ring'은 'T'에 대한 Ring 타입 클래스 구현이 존재함을 의미합니다.\n",
    "`Ring` 타입 클래스는 `+` 및 `*` 연산자와 덧셈 및 곱셈 ID를 정의합니다(고리에 대한 자세한 내용은 [이 Wikipedia 기사](https://en.wikipedia.org/wiki/Ring_(mathematics)) 참조). .\n",
    "**dsptools**는 [여기](https://github.com/ucb-bar/dsptools/tree/v1.0.0/src/main/scala/dsptools/numbers/chisel_types)에서 일반적으로 사용되는 치즐 타입에 대한 타입 클래스를 정의합니다.\n",
    "\n",
    "**dsptools**는 또한 `DspComplex`에 대한 `Ring` 타입 클래스를 정의하므로 복소수로 MAC generator를 재사용할 수 있습니다."
   ]
  },
  {
   "cell_type": "code",
   "execution_count": 33,
   "metadata": {},
   "outputs": [
    {
     "name": "stdout",
     "output_type": "stream",
     "text": [
      "Elaborating design...\n",
      "Done elaborating.\n",
      "module Mac(\n",
      "  input        clock,\n",
      "  input        reset,\n",
      "  input  [3:0] io_a_real,\n",
      "  input  [3:0] io_a_imag,\n",
      "  input  [3:0] io_b_real,\n",
      "  input  [3:0] io_b_imag,\n",
      "  input  [3:0] io_c_real,\n",
      "  input  [3:0] io_c_imag,\n",
      "  output [5:0] io_out_real,\n",
      "  output [5:0] io_out_imag\n",
      ");\n",
      "  wire [3:0] _T_2 = $signed(io_b_real) + $signed(io_b_imag); // @[SIntTypeClass.scala 19:40]\n",
      "  wire [3:0] _T_5 = $signed(io_a_real) + $signed(io_a_imag); // @[SIntTypeClass.scala 19:40]\n",
      "  wire [3:0] _T_8 = $signed(io_a_imag) - $signed(io_a_real); // @[SIntTypeClass.scala 29:50]\n",
      "  wire [7:0] _T_9 = $signed(io_a_real) * $signed(_T_2); // @[SIntTypeClass.scala 45:41]\n",
      "  wire [7:0] _T_10 = $signed(_T_5) * $signed(io_b_imag); // @[SIntTypeClass.scala 45:41]\n",
      "  wire [7:0] _T_11 = $signed(_T_8) * $signed(io_b_real); // @[SIntTypeClass.scala 45:41]\n",
      "  wire [7:0] _T_14 = $signed(_T_9) - $signed(_T_10); // @[SIntTypeClass.scala 29:50]\n",
      "  wire [7:0] _T_17 = $signed(_T_9) + $signed(_T_11); // @[SIntTypeClass.scala 19:40]\n",
      "  wire [7:0] _GEN_0 = {{4{io_c_real[3]}},io_c_real}; // @[SIntTypeClass.scala 19:40]\n",
      "  wire [7:0] _T_20 = $signed(_T_14) + $signed(_GEN_0); // @[SIntTypeClass.scala 19:40]\n",
      "  wire [7:0] _GEN_1 = {{4{io_c_imag[3]}},io_c_imag}; // @[SIntTypeClass.scala 19:40]\n",
      "  wire [7:0] _T_23 = $signed(_T_17) + $signed(_GEN_1); // @[SIntTypeClass.scala 19:40]\n",
      "  assign io_out_real = _T_20[5:0]; // @[cmd30.sc 11:12]\n",
      "  assign io_out_imag = _T_23[5:0]; // @[cmd30.sc 11:12]\n",
      "endmodule\n",
      "\n"
     ]
    }
   ],
   "source": [
    "println(getVerilog(new Mac(DspComplex(SInt(4.W), SInt(4.W)), DspComplex(SInt(6.W), SInt(6.W))) ))"
   ]
  },
  {
   "cell_type": "markdown",
   "metadata": {},
   "source": [
    "<span style=\"color:red\">**Exercise: Sign-magnitude Numbers**</span><br>\n",
    "부호 크기 표현을 사용하고 모든 DSP generator를 재사용하려고 한다고 가정합니다.\n",
    "Typeclass는 이러한 종류의 임시 다형성을 가능하게 합니다.\n",
    "다음 예제는 SignMagnitude 타입 구현의 시작과 해당 타입을 Mac generator와 함께 사용할 수 있도록 하는 `Ring` 타입 클래스의 구현을 제공합니다.\n",
    "\n",
    "`+` 및 `*`에 대한 구현을 입력합니다.\n",
    "`unary_-()`에 대한 구현 후에 패턴화해야 합니다.\n",
    "다음 블록에는 'SignMagnitude'를 사용하는 'Mac'의 정확성을 확인하는 테스트가 포함되어 있습니다."
   ]
  },
  {
   "cell_type": "code",
   "execution_count": 33,
   "metadata": {},
   "outputs": [
    {
     "name": "stderr",
     "output_type": "stream",
     "text": [
      "cmd33.sc:7: type mismatch;\n",
      " found   : Unit\n",
      " required: Helper.this.SignMagnitude\n",
      " Note: implicit object SignMagnitudeRingImpl is not applicable here because it comes after the application point and it lacks an explicit result type\n",
      "    def +(that: SignMagnitude): SignMagnitude = {\n",
      "                                                ^cmd33.sc:19: type mismatch;\n",
      " found   : Unit\n",
      " required: Helper.this.SignMagnitude\n",
      " Note: implicit object SignMagnitudeRingImpl is not applicable here because it comes after the application point and it lacks an explicit result type\n",
      "    def *(that: SignMagnitude): SignMagnitude = {\n",
      "                                                ^Compilation Failed"
     ]
    },
    {
     "ename": "",
     "evalue": "",
     "output_type": "error",
     "traceback": [
      "Compilation Failed"
     ]
    }
   ],
   "source": [
    "class SignMagnitude(val magnitudeWidth: Option[Int] = None) extends Bundle {\n",
    "    val sign = Bool()\n",
    "    val magnitude = magnitudeWidth match {\n",
    "        case Some(w) => UInt(w.W)\n",
    "        case None    => UInt()\n",
    "    }\n",
    "    def +(that: SignMagnitude): SignMagnitude = {\n",
    "        // Implement this!\n",
    "    }\n",
    "    def -(that: SignMagnitude): SignMagnitude = {\n",
    "        this.+(-that)\n",
    "    }\n",
    "    def unary_-(): SignMagnitude = {\n",
    "        val result = Wire(new SignMagnitude())\n",
    "        result.sign := !this.sign\n",
    "        result.magnitude := this.magnitude\n",
    "        result\n",
    "    }\n",
    "    def *(that: SignMagnitude): SignMagnitude = {\n",
    "        // Implement this!\n",
    "    }\n",
    "}\n",
    "trait SignMagnitudeRing extends Ring[SignMagnitude] {\n",
    "    def plus(f: SignMagnitude, g: SignMagnitude): SignMagnitude = {\n",
    "        f + g\n",
    "    }\n",
    "    def times(f: SignMagnitude, g: SignMagnitude): SignMagnitude = {\n",
    "        f * g\n",
    "    }\n",
    "    def one: SignMagnitude = {\n",
    "        val one = Wire(new SignMagnitude(Some(1)))\n",
    "        one.sign := false.B\n",
    "        one.magnitude := 1.U\n",
    "        one\n",
    "    }\n",
    "    def zero: SignMagnitude = {\n",
    "        val zero = Wire(new SignMagnitude(Some(0)))\n",
    "        zero.sign := false.B\n",
    "        zero.magnitude := 0.U\n",
    "        zero\n",
    "    }\n",
    "    def negate(f: SignMagnitude): SignMagnitude = {\n",
    "        -f\n",
    "    }\n",
    "    \n",
    "    // Leave unimplemented for this example\n",
    "    def minusContext(f: SignMagnitude, g: SignMagnitude): SignMagnitude = ???\n",
    "    def negateContext(f: SignMagnitude): SignMagnitude = ???\n",
    "    def plusContext(f: SignMagnitude,g: SignMagnitude): SignMagnitude = ???\n",
    "    def timesContext(f: SignMagnitude,g: SignMagnitude): SignMagnitude = ???\n",
    "}\n",
    "implicit object SignMagnitudeRingImpl extends SignMagnitudeRing"
   ]
  },
  {
   "cell_type": "code",
   "execution_count": 33,
   "metadata": {},
   "outputs": [
    {
     "name": "stderr",
     "output_type": "stream",
     "text": [
      "cmd33.sc:3: not found: type SignMagnitude\n",
      "val res33_1 = test(new Mac(new SignMagnitude(Some(4)), new SignMagnitude(Some(5)))) { c =>\n",
      "                               ^cmd33.sc:3: not found: type SignMagnitude\n",
      "val res33_1 = test(new Mac(new SignMagnitude(Some(4)), new SignMagnitude(Some(5)))) { c =>\n",
      "                                                           ^Compilation Failed"
     ]
    },
    {
     "ename": "",
     "evalue": "",
     "output_type": "error",
     "traceback": [
      "Compilation Failed"
     ]
    }
   ],
   "source": [
    "import chisel3.experimental.BundleLiterals._\n",
    "\n",
    "test(new Mac(new SignMagnitude(Some(4)), new SignMagnitude(Some(5)))) { c =>\n",
    "    c.io.a.poke(chiselTypeOf(c.io.a).Lit(_.sign -> false.B, _.magnitude -> 3.U))\n",
    "    c.io.b.poke(chiselTypeOf(c.io.b).Lit(_.sign -> false.B, _.magnitude -> 3.U))\n",
    "    c.io.c.poke(chiselTypeOf(c.io.c).Lit(_.sign -> false.B, _.magnitude -> 2.U))\n",
    "    c.io.out.expect(chiselTypeOf(c.io.out).Lit(_.sign -> false.B, _.magnitude -> 11.U))\n",
    "\n",
    "    c.io.c.sign.poke(true.B)\n",
    "    c.io.out.expect(chiselTypeOf(c.io.out).Lit(_.sign -> false.B, _.magnitude -> 7.U))\n",
    "\n",
    "    c.io.b.sign.poke(true.B)\n",
    "    c.io.out.expect(chiselTypeOf(c.io.out).Lit(_.sign -> true.B, _.magnitude -> 11.U))\n",
    "}\n",
    "println(\"SUCCESS!!\") // Scala Code: if we get here, our tests passed!"
   ]
  },
  {
   "cell_type": "markdown",
   "metadata": {},
   "source": [
    "출력이 합리적인지 확인하려면 Verilog를 살펴보세요."
   ]
  },
  {
   "cell_type": "code",
   "execution_count": 33,
   "metadata": {},
   "outputs": [
    {
     "name": "stderr",
     "output_type": "stream",
     "text": [
      "cmd33.sc:1: not found: type SignMagnitude\n",
      "val res33 = println(getVerilog(new Mac(new SignMagnitude(Some(4)), new SignMagnitude(Some(5)))))\n",
      "                                           ^cmd33.sc:1: not found: type SignMagnitude\n",
      "val res33 = println(getVerilog(new Mac(new SignMagnitude(Some(4)), new SignMagnitude(Some(5)))))\n",
      "                                                                       ^Compilation Failed"
     ]
    },
    {
     "ename": "",
     "evalue": "",
     "output_type": "error",
     "traceback": [
      "Compilation Failed"
     ]
    }
   ],
   "source": [
    "println(getVerilog(new Mac(new SignMagnitude(Some(4)), new SignMagnitude(Some(5)))))"
   ]
  },
  {
   "cell_type": "markdown",
   "metadata": {},
   "source": [
    "'SignMagnitude'는 'DspComplex'에서도 작동합니다!"
   ]
  },
  {
   "cell_type": "code",
   "execution_count": 33,
   "metadata": {},
   "outputs": [
    {
     "name": "stderr",
     "output_type": "stream",
     "text": [
      "cmd33.sc:1: not found: type SignMagnitude\n",
      "val res33 = println(getVerilog(new Mac(DspComplex(new SignMagnitude(Some(4)), new SignMagnitude(Some(4))), DspComplex(new SignMagnitude(Some(5)), new SignMagnitude(Some(5))))))\n",
      "                                                      ^cmd33.sc:1: not found: type SignMagnitude\n",
      "val res33 = println(getVerilog(new Mac(DspComplex(new SignMagnitude(Some(4)), new SignMagnitude(Some(4))), DspComplex(new SignMagnitude(Some(5)), new SignMagnitude(Some(5))))))\n",
      "                                                                                  ^cmd33.sc:1: not found: type SignMagnitude\n",
      "val res33 = println(getVerilog(new Mac(DspComplex(new SignMagnitude(Some(4)), new SignMagnitude(Some(4))), DspComplex(new SignMagnitude(Some(5)), new SignMagnitude(Some(5))))))\n",
      "                                                                                                                          ^cmd33.sc:1: not found: type SignMagnitude\n",
      "val res33 = println(getVerilog(new Mac(DspComplex(new SignMagnitude(Some(4)), new SignMagnitude(Some(4))), DspComplex(new SignMagnitude(Some(5)), new SignMagnitude(Some(5))))))\n",
      "                                                                                                                                                      ^Compilation Failed"
     ]
    },
    {
     "ename": "",
     "evalue": "",
     "output_type": "error",
     "traceback": [
      "Compilation Failed"
     ]
    }
   ],
   "source": [
    "println(getVerilog(new Mac(DspComplex(new SignMagnitude(Some(4)), new SignMagnitude(Some(4))), DspComplex(new SignMagnitude(Some(5)), new SignMagnitude(Some(5))))))"
   ]
  },
  {
   "cell_type": "markdown",
   "metadata": {},
   "source": [
    "<div id=\"container\"><section id=\"accordion\"><div>\n",
    "<input type=\"checkbox\" id=\"check-3\" />\n",
    "<label for=\"check-3\"><strong>Solution</strong> (click to toggle displaying)</label>\n",
    "<article>\n",
    "<pre style=\"background-color:#f7f7f7\">\n",
    "    // implementations for class SignMagnitude\n",
    "\n",
    "    def +(that: SignMagnitude): SignMagnitude = {\n",
    "      val result = Wire(new SignMagnitude())\n",
    "      val signsTheSame = this.sign === that.sign\n",
    "      when (signsTheSame) {\n",
    "        result.sign      := this.sign\n",
    "        result.magnitude := this.magnitude + that.magnitude\n",
    "      } .otherwise {\n",
    "        when (this.magnitude > that.magnitude) {\n",
    "          result.sign      := this.sign\n",
    "          result.magnitude := this.magnitude - that.magnitude\n",
    "        } .otherwise {\n",
    "          result.sign      := that.sign\n",
    "          result.magnitude := that.magnitude - this.magnitude\n",
    "        }   \n",
    "      }   \n",
    "      result\n",
    "    }\n",
    "    def *(that: SignMagnitude): SignMagnitude = {\n",
    "        val result = Wire(new SignMagnitude())\n",
    "        result.sign := this.sign ^ that.sign\n",
    "        result.magnitude := this.magnitude * that.magnitude\n",
    "        result\n",
    "    }\n",
    "\n",
    "\n",
    "</pre></article></div></section></div>"
   ]
  }
 ],
 "metadata": {
  "kernelspec": {
   "display_name": "Scala",
   "language": "scala",
   "name": "scala"
  },
  "language_info": {
   "codemirror_mode": "text/x-scala",
   "file_extension": ".scala",
   "mimetype": "text/x-scala",
   "name": "scala",
   "nbconvert_exporter": "script",
   "version": "2.12.10"
  }
 },
 "nbformat": 4,
 "nbformat_minor": 1
}
