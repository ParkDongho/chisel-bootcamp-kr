{
 "cells": [
  {
   "cell_type": "markdown",
   "metadata": {},
   "source": [
    "<a name=\"top\"></a><img src=\"images/chisel_1024.png\" alt=\"Chisel logo\" style=\"width:480px;\" />"
   ]
  },
  {
   "cell_type": "markdown",
   "metadata": {},
   "source": [
    "# Module 3.5: Object Oriented Programming\n",
    "**Prev: [Functional Programming](3.4_functional_programming.ipynb)**<br>\n",
    "**Next: [Types](3.6_types.ipynb)**\n",
    "\n",
    "## Motivation\n",
    "Scala와 Chisel은 객체 지향 프로그래밍 언어입니다. 즉, 코드를 객체로 구분할 수 있습니다. Java를 기반으로 하는 Scala는 Java의 많은 객체 지향 기능을 상속합니다. 그러나 아래에서 볼 수 있듯이 몇 가지 차이점이 있습니다. Chisel의 하드웨어 모듈은 단일 또는 다중 인스턴스로 인스턴스화 및 연결될 수 있다는 점에서 Verilog의 모듈과 유사합니다.\n",
    "\n",
    "## Setup"
   ]
  },
  {
   "cell_type": "code",
   "execution_count": null,
   "metadata": {},
   "outputs": [],
   "source": [
    "val path = System.getProperty(\"user.dir\") + \"/source/load-ivy.sc\"\n",
    "interp.load.module(ammonite.ops.Path(java.nio.file.FileSystems.getDefault().getPath(path)))"
   ]
  },
  {
   "cell_type": "code",
   "execution_count": null,
   "metadata": {},
   "outputs": [],
   "source": [
    "import chisel3._\n",
    "import chisel3.util._\n",
    "import chisel3.experimental._\n",
    "import chisel3.tester._\n",
    "import chisel3.tester.RawTester.test"
   ]
  },
  {
   "cell_type": "markdown",
   "metadata": {},
   "source": [
    "---\n",
    "# Object Oriented Programming\n",
    "이 섹션에서는 Scala가 객체 지향 프로그래밍 패러다임을 구현하는 방법을 설명합니다. 지금까지 클래스를 이미 보았지만 Scala에는 다음과 같은 기능도 있습니다.\n",
    "- [Abstract classes](#abstract)\n",
    "- [Traits](#traits)\n",
    "- [Objects](#objects)\n",
    "- [Companion Objects](#compobj)\n",
    "- [Case Classes](#caseclass)\n",
    "\n",
    "## Abstract Classes<a name=\"abstract\"></a>\n",
    "추상 클래스는 다른 프로그래밍 언어 구현과 같습니다. 하위 클래스가 구현해야 하는 많은 구현되지 않은 값을 정의할 수 있습니다. 모든 개체는 하나의 상위 추상 클래스에서만 직접 상속할 수 있습니다.\n",
    "\n",
    "<span style=\"color:blue\">**Example: Abstract Class**</span><br>"
   ]
  },
  {
   "cell_type": "code",
   "execution_count": 2,
   "metadata": {},
   "outputs": [
    {
     "data": {
      "text/plain": [
       "defined \u001b[32mclass\u001b[39m \u001b[36mMyAbstractClass\u001b[39m\n",
       "defined \u001b[32mclass\u001b[39m \u001b[36mConcreteClass\u001b[39m\n",
       "\u001b[36mconcreteClass\u001b[39m: \u001b[32mConcreteClass\u001b[39m = ammonite.$sess.cmd1$Helper$ConcreteClass@189b1524"
      ]
     },
     "execution_count": 2,
     "metadata": {},
     "output_type": "execute_result"
    }
   ],
   "source": [
    "abstract class MyAbstractClass {\n",
    "  def myFunction(i: Int): Int\n",
    "  val myValue: String\n",
    "}\n",
    "class ConcreteClass extends MyAbstractClass {\n",
    "  def myFunction(i: Int): Int = i + 1\n",
    "  val myValue = \"Hello World!\"\n",
    "}\n",
    "// Uncomment below to test!\n",
    "// val abstractClass = new MyAbstractClass() // Illegal! Cannot instantiate an abstract class\n",
    "val concreteClass = new ConcreteClass()      // Legal!\n"
   ]
  },
  {
   "cell_type": "markdown",
   "metadata": {},
   "source": [
    "## Traits<a name=\"traits\"></a>\n",
    "특성은 구현되지 않은 값을 정의할 수 있다는 점에서 추상 클래스와 매우 유사합니다. 그러나 두 가지 면에서 다릅니다.\n",
    "- 클래스는 여러 특성을 상속할 수 있습니다.\n",
    "- 트레잇은 생성자 매개변수를 가질 수 없습니다.\n",
    "\n",
    "<span style=\"color:blue\">**Example: Traits and Multiple Inheritance**</span><br>\n",
    "특성은 아래 예제와 같이 Scala가 다중 상속을 구현하는 방법입니다. `MyClass`는 `HasFunction` 및 `HasValue` 특성에서 확장됩니다."
   ]
  },
  {
   "cell_type": "code",
   "execution_count": null,
   "metadata": {},
   "outputs": [],
   "source": [
    "trait HasFunction {\n",
    "  def myFunction(i: Int): Int\n",
    "}\n",
    "trait HasValue {\n",
    "  val myValue: String\n",
    "  val myOtherValue = 100\n",
    "}\n",
    "class MyClass extends HasFunction with HasValue {\n",
    "  override def myFunction(i: Int): Int = i + 1\n",
    "  val myValue = \"Hello World!\"\n",
    "}\n",
    "// Uncomment below to test!\n",
    "// val myTraitFunction = new HasFunction() // Illegal! Cannot instantiate a trait\n",
    "// val myTraitValue = new HasValue()       // Illegal! Cannot instantiate a trait\n",
    "val myClass = new MyClass()                // Legal!"
   ]
  },
  {
   "cell_type": "markdown",
   "metadata": {},
   "source": [
    "여러 특성을 상속하려면 다음과 같이 연결하십시오.\n",
    "\n",
    "```scala\n",
    "class MyClass extends HasTrait1 with HasTrait2 with HasTrait3 ...\n",
    "```\n",
    "일반적으로 추상 클래스의 단일 상속 제한을 적용하려는 것이 확실하지 않은 한 항상 추상 클래스보다 특성을 사용하십시오.\n",
    "\n",
    "## Objects<a name=\"objects\"></a>\n",
    "Scala에는 객체라고 하는 이러한 싱글톤 클래스에 대한 언어 기능이 있습니다. 객체를 인스턴스화할 수 없습니다 **(`new`를 호출할 필요 없음)**; 단순히 직접 참조할 수 있습니다. 따라서 Java 정적 클래스와 유사합니다.\n",
    "\n",
    "<span style=\"color:blue\">**Example: Objects**</span><br>"
   ]
  },
  {
   "cell_type": "code",
   "execution_count": null,
   "metadata": {},
   "outputs": [],
   "source": [
    "object MyObject {\n",
    "  def hi: String = \"Hello World!\"\n",
    "  def apply(msg: String) = msg\n",
    "}\n",
    "println(MyObject.hi)\n",
    "println(MyObject(\"This message is important!\")) // equivalent to MyObject.apply(msg)"
   ]
  },
  {
   "cell_type": "markdown",
   "metadata": {},
   "source": [
    "## Companion Objects<a name=\"compobj\"></a>\n",
    "\n",
    "클래스와 객체가 동일한 이름을 공유하고 동일한 파일에 정의된 경우 객체를 **컴패니언 객체**라고 합니다. 클래스/객체 이름 앞에 'new'를 사용하면 클래스가 인스턴스화됩니다. `new`를 사용하지 않으면 객체를 참조합니다.\n",
    "\n",
    "<span style=\"color:blue\">**Example: Companion Object**</span><br>"
   ]
  },
  {
   "cell_type": "code",
   "execution_count": null,
   "metadata": {},
   "outputs": [],
   "source": [
    "object Lion {\n",
    "    def roar(): Unit = println(\"I'M AN OBJECT!\")\n",
    "}\n",
    "class Lion {\n",
    "    def roar(): Unit = println(\"I'M A CLASS!\")\n",
    "}\n",
    "new Lion().roar()\n",
    "Lion.roar()"
   ]
  },
  {
   "cell_type": "markdown",
   "metadata": {},
   "source": [
    "컴패니언 개체는 일반적으로 다음과 같은 이유로 사용됩니다.\n",
    "   1. 클래스와 관련된 상수를 포함하기 위해\n",
    "   2. 클래스 생성자 앞/뒤에 코드 실행\n",
    "   3. 클래스에 대해 여러 생성자를 생성하기 위해\n",
    "\n",
    "아래 예에서는 Animal의 여러 인스턴스를 인스턴스화합니다. 우리는 각 동물이 이름을 갖고 모든 인스턴스 내에서 그 순서를 알기를 원합니다. 마지막으로 이름이 지정되지 않으면 기본 이름을 가져와야 합니다."
   ]
  },
  {
   "cell_type": "code",
   "execution_count": null,
   "metadata": {},
   "outputs": [],
   "source": [
    "object Animal {\n",
    "    val defaultName = \"Bigfoot\"\n",
    "    private var numberOfAnimals = 0\n",
    "    def apply(name: String): Animal = {\n",
    "        numberOfAnimals += 1\n",
    "        new Animal(name, numberOfAnimals)\n",
    "    }\n",
    "    def apply(): Animal = apply(defaultName)\n",
    "}\n",
    "class Animal(name: String, order: Int) {\n",
    "  def info: String = s\"Hi my name is $name, and I'm $order in line!\"\n",
    "}\n",
    "\n",
    "val bunny = Animal.apply(\"Hopper\") // Calls the Animal factory method\n",
    "println(bunny.info)\n",
    "val cat = Animal(\"Whiskers\")       // Calls the Animal factory method\n",
    "println(cat.info)\n",
    "val yeti = Animal()                // Calls the Animal factory method\n",
    "println(yeti.info)\n"
   ]
  },
  {
   "cell_type": "markdown",
   "metadata": {},
   "source": [
    "*What's happening here?*\n",
    "1. **Animal Companion Object**는 ```class Animal```과 관련된 상수를 정의합니다.:\n",
    "```scala\n",
    "val defaultName = \"Bigfoot\"\n",
    "```\n",
    "1. 또한 Animal 인스턴스의 순서를 추적하기 위해 개인용 가변 정수를 정의합니다.:\n",
    "```scala \n",
    "private var numberOfAnimals = 0\n",
    "```\n",
    "1. 그것은 **class Animal**의 인스턴스를 반환한다는 점에서 **factory 메소드**로 알려진 두 개의 **apply** 메소드를 정의합니다. \n",
    "    1. 첫 번째는 하나의 인수 ```name```만 사용하여 Animal 인스턴스를 만들고 ```numberOfAnimals```를 사용하여 Animal 클래스 생성자를 호출합니다.\n",
    "```scala\n",
    "def apply(name: String): Animal = {\n",
    "            numberOfAnimals += 1\n",
    "            new Animal(name, numberOfAnimals)\n",
    "}\n",
    "```\n",
    "    1. 두 번째 팩토리 메소드는 인수가 필요하지 않으며 대신 기본 이름을 사용하여 다른 적용 메소드를 호출합니다.\n",
    "```scala\n",
    "def apply(): Animal = apply(defaultName)\n",
    "```\n",
    "1. 이러한 팩토리 메서드는 다음과 같이 순진하게 호출할 수 있습니다.\n",
    "```scala\n",
    "val bunny = Animal.apply(\"Hopper\")\n",
    "```\n",
    "이렇게 하면 new 키워드를 사용할 필요가 없지만 실제 마법은 컴파일러가 인스턴스 또는 개체에 적용된 괄호를 볼 때마다 적용 메서드를 가정한다는 것입니다.\n",
    "```scala\n",
    "val cat = Animal(\"Whiskers\")\n",
    "```\n",
    "1. 일반적으로 컴패니언 개체를 통해 제공되는 팩토리 메서드를 사용하면 인스턴스 생성을 표현하고 생성자 매개변수, 변환에 대한 추가 테스트를 제공하고 키워드 ```new```를 사용할 필요가 없습니다. 'numberOfAnimals'가 증가하려면 컴패니언 개체의 'apply' 메서드를 호출해야 합니다.\n",
    "\n",
    "다음을 작성할 때 **Chisel은 Module과 같은 많은 도우미 개체를 사용합니다.**:\n",
    "```scala\n",
    "val myModule = Module(new MyModule)\n",
    "```\n",
    "**모듈 컴패니언 개체**를 호출하므로 Chisel은 인스턴스화 전후에 백그라운드 코드를 실행할 수 있습니다.\n",
    "```MyModule```."
   ]
  },
  {
   "cell_type": "markdown",
   "metadata": {},
   "source": [
    "## Case Classes<a name=\"caseclass\"/>\n",
    "케이스 클래스는 멋진 추가 기능을 제공하는 특수한 유형의 Scala 클래스입니다. 스칼라 프로그래밍에서 매우 일반적이므로 이 섹션에서는 몇 가지 유용한 기능에 대해 간략히 설명합니다.\n",
    "- **class parameters**에 대한 **external access** 허용\n",
    "- 클래스를 인스턴스화할 때 **`new`**를 사용할 필요를 **제거**\n",
    "- 모든 클래스 매개변수에 대한 액세스를 제공하는 **unapply method**를 자동으로 생성합니다.\n",
    "- 하위 분류할 수 없음\n",
    "\n",
    "다음 예제에서는 `Nail`, `Screw`, `Staple`의 세 가지 다른 클래스를 선언합니다."
   ]
  },
  {
   "cell_type": "code",
   "execution_count": null,
   "metadata": {},
   "outputs": [],
   "source": [
    "class Nail(length: Int) // Regular class\n",
    "val nail = new Nail(10) // Requires the `new` keyword\n",
    "// println(nail.length) // Illegal! Class constructor parameters are not by default externally visible\n",
    "\n",
    "class Screw(val threadSpace: Int) // By using the `val` keyword, threadSpace is now externally visible\n",
    "val screw = new Screw(2)          // Requires the `new` keyword\n",
    "println(screw.threadSpace)\n",
    "\n",
    "case class Staple(isClosed: Boolean) // Case class constructor parameters are, by default, externally visible\n",
    "val staple = Staple(false)           // No `new` keyword required\n",
    "println(staple.isClosed)"
   ]
  },
  {
   "cell_type": "markdown",
   "metadata": {},
   "source": [
    "`Nail`은 일반 클래스이며 인수 목록에서 `val` 키워드를 사용하지 않았기 때문에 매개변수는 외부에서 볼 수 없습니다. 또한 `Nail`의 인스턴스를 선언할 때 `new` 키워드가 필요합니다.\n",
    "\n",
    "`Screw`는 `Nail`과 유사하게 선언되지만 인수 목록에 `val`이 포함됩니다. 이렇게 하면 매개변수 `threadSpace`를 외부에서 볼 수 있습니다.\n",
    "\n",
    "케이스 클래스를 사용하여 `Staple`은 모든 매개변수를 외부에서 볼 수 있다는 이점을 얻습니다(`val` 키워드가 필요 없음).\n",
    "\n",
    "또한 `Staple`은 케이스 클래스를 선언할 때 `new`를 사용할 필요가 없습니다. 이는 Scala 컴파일러가 케이스 클래스에 대한 적용 메소드를 포함하는 코드의 모든 케이스 클래스에 대한 컴패니언 객체를 자동으로 생성하기 때문입니다.\n",
    "\n",
    "케이스 클래스는 매개변수가 많은 생성기를 위한 좋은 컨테이너입니다.\n",
    "생성자는 파생 매개변수를 정의하고 입력의 유효성을 검사하기에 좋은 위치를 제공합니다."
   ]
  },
  {
   "cell_type": "code",
   "execution_count": 3,
   "metadata": {},
   "outputs": [
    {
     "data": {
      "text/plain": [
       "defined \u001b[32mclass\u001b[39m \u001b[36mSomeGeneratorParameters\u001b[39m"
      ]
     },
     "execution_count": 3,
     "metadata": {},
     "output_type": "execute_result"
    }
   ],
   "source": [
    "case class SomeGeneratorParameters(\n",
    "    someWidth: Int,\n",
    "    someOtherWidth: Int = 10,\n",
    "    pipelineMe: Boolean = false\n",
    ") {\n",
    "    require(someWidth >= 0)\n",
    "    require(someOtherWidth >= 0)\n",
    "    val totalWidth = someWidth + someOtherWidth\n",
    "}"
   ]
  },
  {
   "cell_type": "markdown",
   "metadata": {},
   "source": [
    "---\n",
    "# Inheritance with Chisel<a name=\"super\"></a>\n",
    "이전에 `Module`과 `Bundle`을 보았지만 실제로 무슨 일이 일어나고 있는지 깨닫는 것이 중요합니다. 여러분이 만드는 모든 Chisel 모듈은 기본 유형인 `Module`을 확장하는 클래스입니다. 만드는 모든 Chisel IO는 기본 유형 `Bundle`(또는 일부 특별한 경우에는 `Bundle`의 상위 유형 [`Record`](https://github.com/freechipsproject/chisel3/blob/v3.0.0/chiselFrontend/src/main/scala/chisel3/core/Aggregate.scala#L415))을 확장하는 클래스입니다. `UInt` 또는 `Bundle`과 같은 치즐 하드웨어 유형에는 모두 `Data`가 상위 유형으로 있습니다. 계층적 하드웨어 블록을 생성하고 객체 재사용을 탐색하기 위해 객체 지향 프로그래밍을 사용하는 방법을 살펴보겠습니다. 유형 제네릭 생성기에 대한 다음 모듈에서 유형과 `데이터`에 대해 자세히 알아볼 것입니다.\n",
    "\n",
    "\n",
    "\n",
    "## Module<a name=\"module\"></a>\n",
    "Chisel에서 하드웨어 개체를 생성하려면 'Module'이 슈퍼클래스로 있어야 합니다.\n",
    "상속이 재사용을 위한 올바른 도구가 아닐 수도 있지만([상속보다 합성](https://en.wikipedia.org/wiki/Composition_over_inheritance)은 일반적인 원칙입니다), 상속은 여전히 강력한 도구입니다.\n",
    "아래는 `Module`을 만들고 여러 인스턴스를 계층적으로 연결하는 예입니다."
   ]
  },
  {
   "cell_type": "markdown",
   "metadata": {},
   "source": [
    "<span style=\"color:blue\">**Example: Gray Encoder and Decoder**</span><br>\n",
    "하드웨어 Gray 인코더/디코더를 생성하겠습니다. 인코딩 또는 디코딩 작업 선택은 하드웨어 프로그래밍이 가능합니다."
   ]
  },
  {
   "cell_type": "code",
   "execution_count": 3,
   "metadata": {},
   "outputs": [
    {
     "name": "stderr",
     "output_type": "stream",
     "text": [
      "cmd3.sc:4: not found: type Module\n",
      "class GrayCoder(bitwidth: Int) extends Module {\n",
      "                                       ^cmd3.sc:5: not found: value IO\n",
      "  val io = IO(new Bundle{\n",
      "           ^cmd3.sc:5: not found: type Bundle\n",
      "  val io = IO(new Bundle{\n",
      "                  ^cmd3.sc:6: not found: value UInt\n",
      "    val in = Input(UInt(bitwidth.W))\n",
      "                   ^cmd3.sc:6: value W is not a member of Int\n",
      "    val in = Input(UInt(bitwidth.W))\n",
      "                                 ^cmd3.sc:7: not found: value Output\n",
      "    val out = Output(UInt(bitwidth.W))\n",
      "              ^cmd3.sc:7: not found: value UInt\n",
      "    val out = Output(UInt(bitwidth.W))\n",
      "                     ^cmd3.sc:7: value W is not a member of Int\n",
      "    val out = Output(UInt(bitwidth.W))\n",
      "                                   ^cmd3.sc:8: not found: value Bool\n",
      "    val encode = Input(Bool()) // decode on false\n",
      "                       ^cmd3.sc:11: not found: value when\n",
      "  when (io.encode) { //encode\n",
      "  ^Compilation Failed"
     ]
    },
    {
     "ename": "",
     "evalue": "",
     "output_type": "error",
     "traceback": [
      "Compilation Failed"
     ]
    }
   ],
   "source": [
    "import scala.math.pow\n",
    "\n",
    "// create a module\n",
    "class GrayCoder(bitwidth: Int) extends Module {\n",
    "  val io = IO(new Bundle{\n",
    "    val in = Input(UInt(bitwidth.W))\n",
    "    val out = Output(UInt(bitwidth.W))\n",
    "    val encode = Input(Bool()) // decode on false\n",
    "  })\n",
    "  \n",
    "  when (io.encode) { //encode\n",
    "    io.out := io.in ^ (io.in >> 1.U)\n",
    "  } .otherwise { // decode, much more complicated\n",
    "    io.out := Seq.fill(log2Ceil(bitwidth))(Wire(UInt(bitwidth.W))).zipWithIndex.fold((io.in, 0)){\n",
    "      case ((w1: UInt, i1: Int), (w2: UInt, i2: Int)) => {\n",
    "        w2 := w1 ^ (w1 >> pow(2, log2Ceil(bitwidth)-i2-1).toInt.U)\n",
    "        (w2, i1)\n",
    "      }\n",
    "    }._1\n",
    "  }\n",
    "}\n"
   ]
  },
  {
   "cell_type": "markdown",
   "metadata": {},
   "source": [
    "Give it a whirl!"
   ]
  },
  {
   "cell_type": "code",
   "execution_count": 3,
   "metadata": {},
   "outputs": [
    {
     "name": "stderr",
     "output_type": "stream",
     "text": [
      "cmd3.sc:2: not found: value test\n",
      "val res3_1 = test(new GrayCoder(bitwidth)) { c =>\n",
      "             ^cmd3.sc:2: not found: type GrayCoder\n",
      "val res3_1 = test(new GrayCoder(bitwidth)) { c =>\n",
      "                      ^cmd3.sc:7: not found: value pow\n",
      "    for (i <- 0 until pow(2, bitwidth).toInt) {\n",
      "                      ^cmd3.sc:15: not found: value pow\n",
      "    for (i <- 0 until pow(2, bitwidth).toInt) {\n",
      "                      ^Compilation Failed"
     ]
    },
    {
     "ename": "",
     "evalue": "",
     "output_type": "error",
     "traceback": [
      "Compilation Failed"
     ]
    }
   ],
   "source": [
    "// test our gray coder\n",
    "val bitwidth = 4\n",
    "test(new GrayCoder(bitwidth)) { c =>\n",
    "    def toBinary(i: Int, digits: Int = 8) = {\n",
    "        String.format(\"%\" + digits + \"s\", i.toBinaryString).replace(' ', '0')\n",
    "    }\n",
    "    println(\"Encoding:\")\n",
    "    for (i <- 0 until pow(2, bitwidth).toInt) {\n",
    "        c.io.in.poke(i.U)\n",
    "        c.io.encode.poke(true.B)\n",
    "        c.clock.step(1)\n",
    "        println(s\"In = ${toBinary(i, bitwidth)}, Out = ${toBinary(c.io.out.peek().litValue.toInt, bitwidth)}\")\n",
    "    }\n",
    "\n",
    "    println(\"Decoding:\")\n",
    "    for (i <- 0 until pow(2, bitwidth).toInt) {\n",
    "        c.io.in.poke(i.U)\n",
    "        c.io.encode.poke(false.B)\n",
    "        c.clock.step(1)\n",
    "        println(s\"In = ${toBinary(i, bitwidth)}, Out = ${toBinary(c.io.out.peek().litValue.toInt, bitwidth)}\")\n",
    "    }\n",
    "\n",
    "}"
   ]
  },
  {
   "cell_type": "markdown",
   "metadata": {},
   "source": [
    "그레이 코드는 종종 비동기 인터페이스에서 사용됩니다. 일반적으로 완전한 기능을 갖춘 인코더/디코더보다 회색 카운터가 사용되지만 위의 모듈을 사용하여 작업을 단순화합니다. 아래는 위의 Gray 코더를 사용하여 빌드된 AsyncFIFO의 예입니다. 제어 로직과 테스터는 나중에 연습으로 남겨둡니다. 지금은 Gray 코더가 여러 번 인스턴스화되고 연결되는 방법을 살펴보십시오."
   ]
  },
  {
   "cell_type": "code",
   "execution_count": 3,
   "metadata": {},
   "outputs": [
    {
     "name": "stderr",
     "output_type": "stream",
     "text": [
      "cmd3.sc:1: not found: type Module\n",
      "class AsyncFIFO(depth: Int = 16) extends Module {\n",
      "                                         ^cmd3.sc:2: not found: value IO\n",
      "  val io = IO(new Bundle{\n",
      "           ^cmd3.sc:2: not found: type Bundle\n",
      "  val io = IO(new Bundle{\n",
      "                  ^cmd3.sc:4: not found: value Clock\n",
      "    val write_clock = Input(Clock())\n",
      "                            ^cmd3.sc:5: not found: value Bool\n",
      "    val write_enable = Input(Bool())\n",
      "                             ^cmd3.sc:6: not found: value UInt\n",
      "    val write_data = Input(UInt(32.W))\n",
      "                           ^cmd3.sc:6: value W is not a member of Int\n",
      "    val write_data = Input(UInt(32.W))\n",
      "                                   ^cmd3.sc:9: not found: value Clock\n",
      "    val read_clock = Input(Clock())\n",
      "                           ^cmd3.sc:10: not found: value Bool\n",
      "    val read_enable = Input(Bool())\n",
      "                            ^cmd3.sc:11: not found: value Output\n",
      "    val read_data = Output(UInt(32.W))\n",
      "                    ^cmd3.sc:11: not found: value UInt\n",
      "    val read_data = Output(UInt(32.W))\n",
      "                           ^cmd3.sc:11: value W is not a member of Int\n",
      "    val read_data = Output(UInt(32.W))\n",
      "                                   ^cmd3.sc:14: not found: value Output\n",
      "    val full = Output(Bool())\n",
      "               ^cmd3.sc:14: not found: value Bool\n",
      "    val full = Output(Bool())\n",
      "                      ^cmd3.sc:15: not found: value Output\n",
      "    val empty = Output(Bool())\n",
      "                ^cmd3.sc:15: not found: value Bool\n",
      "    val empty = Output(Bool())\n",
      "                       ^cmd3.sc:19: not found: value isPow2\n",
      "  assert(isPow2(depth), \"AsyncFIFO needs a power-of-two depth!\")\n",
      "         ^cmd3.sc:20: not found: value withClock\n",
      "  val write_counter = withClock(io.write_clock) { Counter(io.write_enable && !io.full, depth*2)._1 }\n",
      "                      ^cmd3.sc:20: not found: value Counter\n",
      "  val write_counter = withClock(io.write_clock) { Counter(io.write_enable && !io.full, depth*2)._1 }\n",
      "                                                  ^cmd3.sc:21: not found: value withClock\n",
      "  val read_counter = withClock(io.read_clock) { Counter(io.read_enable && !io.empty, depth*2)._1 }\n",
      "                     ^cmd3.sc:21: not found: value Counter\n",
      "  val read_counter = withClock(io.read_clock) { Counter(io.read_enable && !io.empty, depth*2)._1 }\n",
      "                                                ^cmd3.sc:24: not found: type GrayCoder\n",
      "  val encoder = new GrayCoder(write_counter.getWidth)\n",
      "                    ^cmd3.sc:29: not found: value withClock\n",
      "  val sync = withClock(io.read_clock) { ShiftRegister(encoder.io.out, 2) }\n",
      "             ^cmd3.sc:29: not found: value ShiftRegister\n",
      "  val sync = withClock(io.read_clock) { ShiftRegister(encoder.io.out, 2) }\n",
      "                                        ^cmd3.sc:32: not found: type GrayCoder\n",
      "  val decoder = new GrayCoder(read_counter.getWidth)\n",
      "                    ^Compilation Failed"
     ]
    },
    {
     "ename": "",
     "evalue": "",
     "output_type": "error",
     "traceback": [
      "Compilation Failed"
     ]
    }
   ],
   "source": [
    "class AsyncFIFO(depth: Int = 16) extends Module {\n",
    "  val io = IO(new Bundle{\n",
    "    // write inputs\n",
    "    val write_clock = Input(Clock())\n",
    "    val write_enable = Input(Bool())\n",
    "    val write_data = Input(UInt(32.W))\n",
    "    \n",
    "    // read inputs/outputs\n",
    "    val read_clock = Input(Clock())\n",
    "    val read_enable = Input(Bool())\n",
    "    val read_data = Output(UInt(32.W))\n",
    "    \n",
    "    // FIFO status\n",
    "    val full = Output(Bool())\n",
    "    val empty = Output(Bool())\n",
    "  })\n",
    "  \n",
    "  // add extra bit to counter to check for fully/empty status\n",
    "  assert(isPow2(depth), \"AsyncFIFO needs a power-of-two depth!\")\n",
    "  val write_counter = withClock(io.write_clock) { Counter(io.write_enable && !io.full, depth*2)._1 }\n",
    "  val read_counter = withClock(io.read_clock) { Counter(io.read_enable && !io.empty, depth*2)._1 }\n",
    "  \n",
    "  // encode\n",
    "  val encoder = new GrayCoder(write_counter.getWidth)\n",
    "  encoder.io.in := write_counter\n",
    "  encoder.io.encode := true.B\n",
    "  \n",
    "  // synchronize\n",
    "  val sync = withClock(io.read_clock) { ShiftRegister(encoder.io.out, 2) }\n",
    "  \n",
    "  // decode\n",
    "  val decoder = new GrayCoder(read_counter.getWidth)\n",
    "  decoder.io.in := sync\n",
    "  decoder.io.encode := false.B\n",
    "  \n",
    "  // status logic goes here\n",
    "  \n",
    "}"
   ]
  },
  {
   "cell_type": "markdown",
   "metadata": {},
   "source": [
    "---\n",
    "# You're done!\n",
    "\n",
    "[Return to the top.](#top)"
   ]
  }
 ],
 "metadata": {
  "kernelspec": {
   "display_name": "Scala",
   "language": "scala",
   "name": "scala"
  },
  "language_info": {
   "codemirror_mode": "text/x-scala",
   "file_extension": ".scala",
   "mimetype": "text/x-scala",
   "name": "scala",
   "nbconvert_exporter": "script",
   "version": "2.12.10"
  }
 },
 "nbformat": 4,
 "nbformat_minor": 1
}
