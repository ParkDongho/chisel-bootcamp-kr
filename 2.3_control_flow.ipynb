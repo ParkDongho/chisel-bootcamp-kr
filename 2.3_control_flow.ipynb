{
 "cells": [
  {
   "cell_type": "markdown",
   "metadata": {},
   "source": [
    "<a name=\"top\"></a><img src=\"images/chisel_1024.png\" alt=\"Chisel logo\" style=\"width:480px;\" />"
   ]
  },
  {
   "cell_type": "markdown",
   "metadata": {
    "collapsed": true
   },
   "source": [
    "# Module 2.3: Control Flow\n",
    "**Prev: [Combinational Logic](2.2_comb_logic.ipynb)**<br>\n",
    "**Next: [Sequential Logic](2.4_sequential_logic.ipynb)**\n",
    "\n",
    "## Motivation\n",
    "\n",
    "지금까지 Chisel에서는 소프트웨어와 하드웨어 사이에 강력한 대응 관계가 있었습니다.\n",
    "control flow에서는 우리가 둘에 대해 생각하는 방식 사이에 더 큰 차이가 있을 것입니다.\n",
    "이 모듈은 생성기 소프트웨어와 하드웨어 모두에서 control flow을 소개합니다.\n",
    "Chisel 와이어에 다시 연결하면 어떻게 됩니까?\n",
    "두 개 이상의 입력으로 mux를 어떻게 만들 수 있습니까?\n",
    "이 모듈을 완료하면 이러한 질문 등에 대한 답을 얻을 수 있습니다.\n",
    "\n",
    "## Setup"
   ]
  },
  {
   "cell_type": "code",
   "execution_count": 1,
   "metadata": {},
   "outputs": [
    {
     "data": {
      "text/plain": [
       "\u001b[36mpath\u001b[39m: \u001b[32mString\u001b[39m = \u001b[32m\"/home/parkdongho/dev/chisel-bootcamp/source/load-ivy.sc\"\u001b[39m"
      ]
     },
     "execution_count": 1,
     "metadata": {},
     "output_type": "execute_result"
    }
   ],
   "source": [
    "val path = System.getProperty(\"user.dir\") + \"/source/load-ivy.sc\"\n",
    "interp.load.module(ammonite.ops.Path(java.nio.file.FileSystems.getDefault().getPath(path)))"
   ]
  },
  {
   "cell_type": "code",
   "execution_count": 2,
   "metadata": {},
   "outputs": [
    {
     "data": {
      "text/plain": [
       "\u001b[32mimport \u001b[39m\u001b[36mchisel3._\n",
       "\u001b[39m\n",
       "\u001b[32mimport \u001b[39m\u001b[36mchisel3.util._\n",
       "\u001b[39m\n",
       "\u001b[32mimport \u001b[39m\u001b[36mchisel3.tester._\n",
       "\u001b[39m\n",
       "\u001b[32mimport \u001b[39m\u001b[36mchisel3.tester.RawTester.test\u001b[39m"
      ]
     },
     "execution_count": 2,
     "metadata": {},
     "output_type": "execute_result"
    }
   ],
   "source": [
    "import chisel3._\n",
    "import chisel3.util._\n",
    "import chisel3.tester._\n",
    "import chisel3.tester.RawTester.test"
   ]
  },
  {
   "cell_type": "markdown",
   "metadata": {},
   "source": [
    "---\n",
    "# Last Connect Semantics\n",
    "\n",
    "<span style=\"color:blue\">**Example: Reassignment**</span><br>\n",
    "앞에서 보았듯이 Chisel을 사용하면 `:=` 연산자를 사용하여 구성 요소를 연결할 수 있습니다.\n",
    "여러 가지 이유로 동일한 구성 요소에 여러 connect 구문을 실행할 수 있습니다.\n",
    "이 경우 마지막 구문이 win합니다."
   ]
  },
  {
   "cell_type": "code",
   "execution_count": 3,
   "metadata": {},
   "outputs": [
    {
     "name": "stdout",
     "output_type": "stream",
     "text": [
      "Elaborating design...\n",
      "Done elaborating.\n",
      "test LastConnect Success: 0 tests passed in 2 cycles in 0.016582 seconds 120.61 Hz\n",
      "SUCCESS!!\n"
     ]
    },
    {
     "data": {
      "text/plain": [
       "defined \u001b[32mclass\u001b[39m \u001b[36mLastConnect\u001b[39m"
      ]
     },
     "execution_count": 3,
     "metadata": {},
     "output_type": "execute_result"
    }
   ],
   "source": [
    "class LastConnect extends Module {\n",
    "  val io = IO(new Bundle {\n",
    "    val in = Input(UInt(4.W))\n",
    "    val out = Output(UInt(4.W))\n",
    "  })\n",
    "  io.out := 1.U\n",
    "  io.out := 2.U\n",
    "  io.out := 3.U\n",
    "  io.out := 4.U\n",
    "}\n",
    "\n",
    "//  Test LastConnect\n",
    "test(new LastConnect) { c => c.io.out.expect(4.U) } // Assert that the output correctly has 4\n",
    "println(\"SUCCESS!!\") // Scala Code: if we get here, our tests passed!"
   ]
  },
  {
   "cell_type": "markdown",
   "metadata": {},
   "source": [
    "---\n",
    "# `when`, `elsewhen`, and `otherwise`\n",
    "조건부 논리의 Chisel의 기본 구현은 `when`, `elsewhen` 및 `otherwise` 구문입니다.\n",
    "이것은 일반적으로 다음과 같습니다\n",
    "```scala\n",
    "when(someBooleanCondition) {\n",
    "  // things to do when true\n",
    "}.elsewhen(someOtherBooleanCondition) {\n",
    "  // things to do on this condition\n",
    "}.otherwise {\n",
    "  // things to do if none of th boolean conditions are true\n",
    "}\n",
    "```\n",
    "\n",
    "위의 순서대로 나타나야 하지만 후자 중 하나를 생략할 수 있습니다.\n",
    "원하는 만큼 elsewhen 절이 있을 수 있습니다.\n",
    "true인 섹션은 구성을 종료합니다.\n",
    "세 body에서 취한 행동은 복잡한 블록이 될 수 있으며 중첩된 `when`와 allies을 포함할 수 있습니다.\n",
    "Scala `if`와 **달리** `when`과 관련된 블록은 값을 반환하지 않습니다.\n",
    "말할 수 없다\n",
    "\n",
    "```scala\n",
    "val result = when(squareIt) { x * x }.otherwise { x }\n",
    "```\n",
    "본 구문은 작동하지 **않습니다**. 이에 대한 해결책은 *Wires* 섹션에서 논의할 것입니다.\n",
    "\n",
    "<span style=\"color:blue\">**Example: Chisel Conditionals**</span><br>\n",
    "다음은 `when` 구문을 사용하는 `Module`의 예입니다."
   ]
  },
  {
   "cell_type": "code",
   "execution_count": 4,
   "metadata": {},
   "outputs": [
    {
     "name": "stdout",
     "output_type": "stream",
     "text": [
      "Elaborating design...\n",
      "Done elaborating.\n",
      "test Max3 Success: 0 tests passed in 2 cycles in 0.004943 seconds 404.58 Hz\n",
      "SUCCESS!!\n"
     ]
    },
    {
     "data": {
      "text/plain": [
       "defined \u001b[32mclass\u001b[39m \u001b[36mMax3\u001b[39m"
      ]
     },
     "execution_count": 4,
     "metadata": {},
     "output_type": "execute_result"
    }
   ],
   "source": [
    "// Max3 returns the max of its 3 arguments\n",
    "class Max3 extends Module {\n",
    "  val io = IO(new Bundle {\n",
    "    val in1 = Input(UInt(16.W))\n",
    "    val in2 = Input(UInt(16.W))\n",
    "    val in3 = Input(UInt(16.W))\n",
    "    val out = Output(UInt(16.W))\n",
    "  })\n",
    "    \n",
    "  when(io.in1 >= io.in2 && io.in1 >= io.in3) {\n",
    "    io.out := io.in1  \n",
    "  }.elsewhen(io.in2 >= io.in3) {\n",
    "    io.out := io.in2 \n",
    "  }.otherwise {\n",
    "    io.out := io.in3\n",
    "  }\n",
    "}\n",
    "\n",
    "// Test Max3\n",
    "test(new Max3) { c =>\n",
    "  // verify that the max of the three inputs is correct\n",
    "  c.io.in1.poke(6.U)\n",
    "  c.io.in2.poke(4.U)\n",
    "  c.io.in3.poke(2.U)\n",
    "  c.io.out.expect(6.U)  // input 1 should be biggest\n",
    "  c.io.in2.poke(7.U)\n",
    "  c.io.out.expect(7.U)  // now input 2 is\n",
    "  c.io.in3.poke(11.U)\n",
    "  c.io.out.expect(11.U) // and now input 3\n",
    "  c.io.in3.poke(3.U)\n",
    "  c.io.out.expect(7.U)  // show that decreasing an input works as well\n",
    "  c.io.in1.poke(9.U)\n",
    "  c.io.in2.poke(9.U)\n",
    "  c.io.in3.poke(6.U)\n",
    "  c.io.out.expect(9.U)  // still get max with tie\n",
    "}\n",
    "\n",
    "println(\"SUCCESS!!\") // Scala Code: if we get here, our tests passed!"
   ]
  },
  {
   "cell_type": "markdown",
   "metadata": {},
   "source": [
    "---\n",
    "# The `Wire` Construct\n",
    "\n",
    "`when`가 값을 반환하지 않는다는 제한 사항을 설명하는 위의 설명으로 돌아가 보겠습니다.\n",
    "Chisel `Wire` 구조는 이 문제를 해결하는 방법 중 하나입니다.\n",
    "`Wire`는 연결 `:=` 연산자의 우항 또는 좌항에 나타날 수 있는 회로 구성요소를 정의합니다.\n",
    "\n",
    "<span style=\"color:blue\">**Example: 4-Input Sort with Wires**</span><br>\n",
    "이를 설명하기 위해 네 개의 숫자 입력을 다음과 같이 정렬하는 작은 조합 정렬기를 만들어 보겠습니다.\n",
    "네 개의 숫자 출력. 더 명확하게 하기 위해 다음 그래프를 고려하십시오. 데이터는 빨간색 선을 따릅니다.\n",
    "왼쪽 값이 오른쪽보다 작을 때 각 단계에서 왼쪽이 오른쪽보다 클 때 값을 교환하는 검은색 선을 따릅니다.\n",
    "![Sort4](images/Sorter4.png)\n",
    "다이어그램은 이름이 *row*로 시작하는 일련의 셀을 보여줍니다. 우리는 `Wire`를 사용하여 특정 복사 또는 스왑의 결과가 배치되는 위치로 구성할 것입니다. 이에 대한 코드는 매우 장황하지만 나중에 축소하는 방법을 보게 될 것입니다."
   ]
  },
  {
   "cell_type": "code",
   "execution_count": 6,
   "metadata": {
    "scrolled": true
   },
   "outputs": [
    {
     "name": "stdout",
     "output_type": "stream",
     "text": [
      "Elaborating design...\n",
      "Done elaborating.\n",
      "test Sort4 Success: 0 tests passed in 2 cycles in 0.003785 seconds 528.45 Hz\n",
      "SUCCESS!!\n"
     ]
    },
    {
     "data": {
      "text/plain": [
       "defined \u001b[32mclass\u001b[39m \u001b[36mSort4\u001b[39m"
      ]
     },
     "execution_count": 6,
     "metadata": {},
     "output_type": "execute_result"
    }
   ],
   "source": [
    "/** Sort4 sorts its 4 inputs to its 4 outputs */\n",
    "class Sort4 extends Module {\n",
    "  val io = IO(new Bundle {\n",
    "    val in0 = Input(UInt(16.W))\n",
    "    val in1 = Input(UInt(16.W))\n",
    "    val in2 = Input(UInt(16.W))\n",
    "    val in3 = Input(UInt(16.W))\n",
    "    val out0 = Output(UInt(16.W))\n",
    "    val out1 = Output(UInt(16.W))\n",
    "    val out2 = Output(UInt(16.W))\n",
    "    val out3 = Output(UInt(16.W))\n",
    "  })\n",
    "\n",
    "  val row10 = Wire(UInt(16.W))\n",
    "  val row11 = Wire(UInt(16.W))\n",
    "  val row12 = Wire(UInt(16.W))\n",
    "  val row13 = Wire(UInt(16.W))\n",
    "\n",
    "  when(io.in0 < io.in1) {\n",
    "    row10 := io.in0            // preserve first two elements\n",
    "    row11 := io.in1\n",
    "  }.otherwise {\n",
    "    row10 := io.in1            // swap first two elements\n",
    "    row11 := io.in0\n",
    "  }\n",
    "\n",
    "  when(io.in2 < io.in3) {\n",
    "    row12 := io.in2            // preserve last two elements\n",
    "    row13 := io.in3\n",
    "  }.otherwise {\n",
    "    row12 := io.in3            // swap last two elements\n",
    "    row13 := io.in2\n",
    "  }\n",
    "\n",
    "  val row21 = Wire(UInt(16.W))\n",
    "  val row22 = Wire(UInt(16.W))\n",
    "\n",
    "  when(row11 < row12) {\n",
    "    row21 := row11            // preserve middle 2 elements\n",
    "    row22 := row12\n",
    "  }.otherwise {\n",
    "    row21 := row12            // swap middle two elements\n",
    "    row22 := row11\n",
    "  }\n",
    "\n",
    "  val row20 = Wire(UInt(16.W))\n",
    "  val row23 = Wire(UInt(16.W))\n",
    "  when(row10 < row13) {\n",
    "    row20 := row10            // preserve middle 2 elements\n",
    "    row23 := row13\n",
    "  }.otherwise {\n",
    "    row20 := row13            // swap middle two elements\n",
    "    row23 := row10\n",
    "  }\n",
    "\n",
    "  when(row20 < row21) {\n",
    "    io.out0 := row20            // preserve first two elements\n",
    "    io.out1 := row21\n",
    "  }.otherwise {\n",
    "    io.out0 := row21            // swap first two elements\n",
    "    io.out1 := row20\n",
    "  }\n",
    "\n",
    "  when(row22 < row23) {\n",
    "    io.out2 := row22            // preserve first two elements\n",
    "    io.out3 := row23\n",
    "  }.otherwise {\n",
    "    io.out2 := row23            // swap first two elements\n",
    "    io.out3 := row22\n",
    "  }\n",
    "}\n",
    "\n",
    "\n",
    "// Here's the tester\n",
    "test(new Sort4) { c =>\n",
    "  // verify the inputs are sorted\n",
    "  c.io.in0.poke(3.U)\n",
    "  c.io.in1.poke(6.U)\n",
    "  c.io.in2.poke(9.U)\n",
    "  c.io.in3.poke(12.U)\n",
    "  c.io.out0.expect(3.U)\n",
    "  c.io.out1.expect(6.U)\n",
    "  c.io.out2.expect(9.U)\n",
    "  c.io.out3.expect(12.U)\n",
    "\n",
    "  c.io.in0.poke(13.U)\n",
    "  c.io.in1.poke(4.U)\n",
    "  c.io.in2.poke(6.U)\n",
    "  c.io.in3.poke(1.U)\n",
    "  c.io.out0.expect(1.U)\n",
    "  c.io.out1.expect(4.U)\n",
    "  c.io.out2.expect(6.U)\n",
    "  c.io.out3.expect(13.U)\n",
    "\n",
    "  c.io.in0.poke(13.U)\n",
    "  c.io.in1.poke(6.U)\n",
    "  c.io.in2.poke(4.U)\n",
    "  c.io.in3.poke(1.U)\n",
    "  c.io.out0.expect(1.U)\n",
    "  c.io.out1.expect(4.U)\n",
    "  c.io.out2.expect(6.U)\n",
    "  c.io.out3.expect(13.U)\n",
    "}\n",
    "println(\"SUCCESS!!\") // Scala Code: if we get here, our tests passed!\n"
   ]
  },
  {
   "cell_type": "markdown",
   "metadata": {},
   "source": [
    "다음은 Scala `List` 기능을 사용하는 보다 철저한 테스터입니다. 이후 모듈에서 더 많은 `List` 기능을 볼 수 있습니다."
   ]
  },
  {
   "cell_type": "code",
   "execution_count": 7,
   "metadata": {},
   "outputs": [
    {
     "name": "stdout",
     "output_type": "stream",
     "text": [
      "Elaborating design...\n",
      "Done elaborating.\n",
      "Sorting 1 2 3 4\n",
      "Sorting 1 2 4 3\n",
      "Sorting 1 3 2 4\n",
      "Sorting 1 3 4 2\n",
      "Sorting 1 4 2 3\n",
      "Sorting 1 4 3 2\n",
      "Sorting 2 1 3 4\n",
      "Sorting 2 1 4 3\n",
      "Sorting 2 3 1 4\n",
      "Sorting 2 3 4 1\n",
      "Sorting 2 4 1 3\n",
      "Sorting 2 4 3 1\n",
      "Sorting 3 1 2 4\n",
      "Sorting 3 1 4 2\n",
      "Sorting 3 2 1 4\n",
      "Sorting 3 2 4 1\n",
      "Sorting 3 4 1 2\n",
      "Sorting 3 4 2 1\n",
      "Sorting 4 1 2 3\n",
      "Sorting 4 1 3 2\n",
      "Sorting 4 2 1 3\n",
      "Sorting 4 2 3 1\n",
      "Sorting 4 3 1 2\n",
      "Sorting 4 3 2 1\n",
      "test Sort4 Success: 0 tests passed in 2 cycles in 0.018270 seconds 109.47 Hz\n",
      "SUCCESS!!\n"
     ]
    }
   ],
   "source": [
    "// Here's the tester\n",
    "test(new Sort4) { c =>\n",
    "  // verify the all possible ordering of 4 numbers are sorted\n",
    "  List(1, 2, 3, 4).permutations.foreach { case i0 :: i1 :: i2 :: i3 :: Nil =>\n",
    "    println(s\"Sorting $i0 $i1 $i2 $i3\")\n",
    "    c.io.in0.poke(i0.U)\n",
    "    c.io.in1.poke(i1.U)\n",
    "    c.io.in2.poke(i2.U)\n",
    "    c.io.in3.poke(i3.U)\n",
    "    c.io.out0.expect(1.U)\n",
    "    c.io.out1.expect(2.U)\n",
    "    c.io.out2.expect(3.U)\n",
    "    c.io.out3.expect(4.U)\n",
    "  }\n",
    "}\n",
    "println(\"SUCCESS!!\") // Scala Code: if we get here, our tests passed!"
   ]
  },
  {
   "cell_type": "markdown",
   "metadata": {
    "collapsed": true
   },
   "source": [
    "---\n",
    "# Exercises\n",
    "\n",
    "<span style=\"color:red\">**Exercise: Polynomial Circuit**</span><br>\n",
    "이 다항식의 값을 계산할 `Module`을 빌드하십시오.\n",
    "- $x^2 - 2x + 1$\n",
    "- $2x^2 + 6x + 3$\n",
    "- $4x^2 - 10x -5$\n",
    "\n",
    "선택기 입력은 계산할 다항식을 결정합니다. $x^2$ 계산이 모듈에서 한 번만 나타나고 출력에 대한 단일 연결이 있도록 `Wire`를 사용합니다.\n",
    "\n",
    "먼저 테스트 주도 개발을 사용하고 스칼라를 사용하여 모델을 작성해 보겠습니다. 아래 어설션을 전달하려면 이 함수 정의를 완료하세요. 철저한(exhaustive) 점검이 아니라 온전한(sanity) 점검입니다."
   ]
  },
  {
   "cell_type": "code",
   "execution_count": null,
   "metadata": {},
   "outputs": [],
   "source": [
    "def poly0(x: Int): Int = ???\n",
    "def poly1(x: Int): Int = ???\n",
    "def poly2(x: Int): Int = ???\n",
    "\n",
    "assert(poly0(0) == 1)\n",
    "assert(poly1(0) == 3)\n",
    "assert(poly2(0) == -5)\n",
    "\n",
    "assert(poly0(1) == 0)\n",
    "assert(poly1(1) == 11)\n",
    "assert(poly2(1) == -11)"
   ]
  },
  {
   "cell_type": "markdown",
   "metadata": {},
   "source": [
    "<div id=\"container\"><section id=\"accordion\"><div>\n",
    "<input type=\"checkbox\" id=\"check-1\" />\n",
    "<label for=\"check-1\"><strong>Solution</strong></label>\n",
    "<article>\n",
    "<pre style=\"background-color:#f7f7f7\">\n",
    "def poly0(x: Int): Int = x*x - 2*x + 1\n",
    "def poly1(x: Int): Int = 2*x*x + 6*x + 3\n",
    "def poly2(x: Int): Int = 4*x*x - 10*x - 5\n",
    "</pre></article></div></section></div>"
   ]
  },
  {
   "cell_type": "markdown",
   "metadata": {},
   "source": [
    "더 쉽게 만들기 위해 원하는 하드웨어 모듈처럼 작동하는 함수를 만들어 보겠습니다. Scala `if` 문을 사용하여 `select` 입력을 기반으로 다항식을 선택합니다."
   ]
  },
  {
   "cell_type": "code",
   "execution_count": 8,
   "metadata": {},
   "outputs": [
    {
     "ename": "",
     "evalue": "",
     "output_type": "error",
     "traceback": [
      "\u001b[31mscala.NotImplementedError: an implementation is missing\u001b[39m\n  scala.Predef$.$qmark$qmark$qmark(\u001b[32mPredef.scala\u001b[39m:\u001b[32m288\u001b[39m)\n  ammonite.$sess.cmd7$Helper.poly(\u001b[32mcmd7.sc\u001b[39m:\u001b[32m2\u001b[39m)\n  ammonite.$sess.cmd7$Helper.<init>(\u001b[32mcmd7.sc\u001b[39m:\u001b[32m5\u001b[39m)\n  ammonite.$sess.cmd7$.<init>(\u001b[32mcmd7.sc\u001b[39m:\u001b[32m7\u001b[39m)\n  ammonite.$sess.cmd7$.<clinit>(\u001b[32mcmd7.sc\u001b[39m:\u001b[32m-1\u001b[39m)"
     ]
    }
   ],
   "source": [
    "def poly(select: Int, x: Int): Int = {\n",
    "  ???\n",
    "}\n",
    "\n",
    "assert(poly(1, 0) == 3)\n",
    "assert(poly(1, 1) == 11)\n",
    "assert(poly(2, 1) == -11)"
   ]
  },
  {
   "cell_type": "markdown",
   "metadata": {},
   "source": [
    "<div id=\"container\"><section id=\"accordion\"><div>\n",
    "<input type=\"checkbox\" id=\"check-2\" />\n",
    "<label for=\"check-2\"><strong>Solution</strong></label>\n",
    "<article>\n",
    "<pre style=\"background-color:#f7f7f7\">\n",
    "def poly(select: Int, x: Int): Int = {\n",
    "  if(select == 0) {\n",
    "    poly0(x)\n",
    "  }\n",
    "  else if(select == 1) {\n",
    "    poly1(x)\n",
    "  }\n",
    "  else {\n",
    "    poly2(x)\n",
    "  }\n",
    "}\n",
    "</pre></article></div></section></div>"
   ]
  },
  {
   "cell_type": "markdown",
   "metadata": {},
   "source": [
    "값이 맞는 것 같습니다. 이제 다음 템플릿을 사용하여 회로를 구현하십시오."
   ]
  },
  {
   "cell_type": "code",
   "execution_count": null,
   "metadata": {},
   "outputs": [],
   "source": [
    "// compute the polynomial\n",
    "class Polynomial extends Module {\n",
    "  val io = IO(new Bundle {\n",
    "    val select = Input(UInt(2.W))\n",
    "    val x = Input(SInt(32.W))\n",
    "    val fOfX = Output(SInt(32.W))\n",
    "  })\n",
    "    \n",
    "  val result = Wire(SInt(32.W))  \n",
    "  val square = Wire(SInt(32.W))  \n",
    "  \n",
    "  ???\n",
    "\n",
    "  io.fOfX := result  \n",
    "}\n",
    "\n",
    "// Test Polynomial\n",
    "test(new Polynomial) { c =>\n",
    "  for(x <- 0 to 20) {\n",
    "    for(select <- 0 to 2) {\n",
    "      c.io.select.poke(select.U)\n",
    "      c.io.x.poke(x.S)\n",
    "      c.io.fOfX.expect(poly(select, x).S)\n",
    "    }\n",
    "  }\n",
    "}\n",
    "println(\"SUCCESS!!\") // Scala Code: if we get here, our tests passed!"
   ]
  },
  {
   "cell_type": "markdown",
   "metadata": {},
   "source": [
    "<div id=\"container\"><section id=\"accordion\"><div>\n",
    "<input type=\"checkbox\" id=\"check-3\" />\n",
    "<label for=\"check-3\"><strong>Solution</strong></label>\n",
    "<article>\n",
    "<pre style=\"background-color:#f7f7f7\">\n",
    "  square := io.x * io.x\n",
    "  when(io.select === 0.U) {\n",
    "    result := (square - (2.S * io.x)) + 1.S\n",
    "  }.elsewhen(io.select === 1.U) {\n",
    "    result := (2.S * square) + (6.S * io.x) + 3.S\n",
    "  }.otherwise {\n",
    "    result := (4.S * square) - (10.S * io.x) - 5.S\n",
    "  }\n",
    "</pre></article></div></section></div>"
   ]
  },
  {
   "cell_type": "markdown",
   "metadata": {},
   "source": [
    "<span style=\"color:red\">**Exercise: Finite State Machine**</span><br>\n",
    "Karnaugh 맵을 사용하여 상태 머신의 논리를 최적화하는 것은 지루하고 합성 도구로 해결됩니다. 또한 직관적이지 않고 읽을 수 없는 코드를 생성합니다. 따라서 Chisel control flow과 last connect semantics를 사용하여 보다 합리적인 방법으로 작성할 것입니다.\n",
    "\n",
    "대학원생은 유휴(Idle), 코딩(Coding), 작문(Writing), 졸업(Graduating)의 4개 상태를 거치게 됩니다. 이러한 상태는 세 가지 입력(커피, 그들이 생각해낸 아이디어, 진행 상황에 대한 조언자의 압력)을 기반으로 전환됩니다. 졸업하면 Idle 상태로 돌아갑니다. 아래 FSM 다이어그램은 이러한 상태와 전환을 보여줍니다. 레이블이 지정되지 않은 전환(즉, 입력이 없는 경우)은 대학원생을 현재 상태에 머무르는 대신 Idle 상태로 되돌립니다. 입력 우선순위는 커피 > 아이디어 > 압력이므로 Idle 상태에서 커피와 압력을 동시에 받으면 대학원생은 Coding 상태로 이동합니다.\n",
    "\n",
    "<img src=\"images/fsm.png\" width=\"500\" />\n",
    "\n",
    "먼저 하드웨어에 대해 테스트할 모델을 구성합니다. 상태 머신에 대한 다음 기능 설명을 완성하십시오. 4개의 입력이 있습니다. 출력은 다음 상태입니다. 상태 지도가 제공됩니다. `states(\"grad\")`와 같이 액세스할 수 있습니다."
   ]
  },
  {
   "cell_type": "code",
   "execution_count": null,
   "metadata": {},
   "outputs": [],
   "source": [
    "// state map\n",
    "def states = Map(\"idle\" -> 0, \"coding\" -> 1, \"writing\" -> 2, \"grad\" -> 3)\n",
    "\n",
    "// life is full of question marks\n",
    "def gradLife (state: Int, coffee: Boolean, idea: Boolean, pressure: Boolean): Int = {\n",
    "  var nextState = states(\"idle\")\n",
    "  ???\n",
    "  nextState\n",
    "}\n",
    "\n",
    "// some sanity checks\n",
    "(0 until states.size).foreach{ state => assert(gradLife(state, false, false, false) == states(\"idle\")) }\n",
    "assert(gradLife(states(\"writing\"), true, false, true) == states(\"writing\"))\n",
    "assert(gradLife(states(\"idle\"), true, true, true) == states(\"coding\"))\n",
    "assert(gradLife(states(\"idle\"), false, true, true) == states(\"idle\"))\n",
    "assert(gradLife(states(\"grad\"), false, false, false) == states(\"idle\"))"
   ]
  },
  {
   "cell_type": "markdown",
   "metadata": {},
   "source": [
    "<div id=\"container\"><section id=\"accordion\"><div>\n",
    "<input type=\"checkbox\" id=\"check-4\" />\n",
    "<label for=\"check-4\"><strong>Solution</strong></label>\n",
    "<article>\n",
    "<pre style=\"background-color:#f7f7f7\">\n",
    "  if (state == states(\"idle\")) {\n",
    "    if      (coffee) { nextState = states(\"coding\") }\n",
    "    else if (idea) { nextState = states(\"idle\") }\n",
    "    else if (pressure) { nextState = states(\"writing\") }\n",
    "  } else if (state == states(\"coding\")) {\n",
    "    if      (coffee) { nextState = states(\"coding\") } \n",
    "    else if (idea || pressure) { nextState = states(\"writing\") }\n",
    "  } else if (state == states(\"writing\")) {\n",
    "    if      (coffee || idea) { nextState = states(\"writing\") }\n",
    "    else if (pressure) { nextState = states(\"grad\") }\n",
    "  }\n",
    "</pre></article></div></section></div>"
   ]
  },
  {
   "cell_type": "markdown",
   "metadata": {},
   "source": [
    "아직 순차 논리를 배우지 않았기 때문에 현재 상태는 `Module`에 대한 입력이고 다음 상태는 이전의 `gradLife` 함수와 마찬가지로 출력입니다. 이제 테스터를 통과하기 위해 Chisel에서 상태 머신을 구현합니다. Chisel은 `Enum`이라는 편리한 상태 머신 매핑 기능을 제공합니다. 이러한 상태를 사용하려면 `UInt` 리터럴처럼 취급하세요. 하드웨어 equality는 트리플 등호(===)로 수행된다는 것을 기억하십시오!"
   ]
  },
  {
   "cell_type": "code",
   "execution_count": null,
   "metadata": {},
   "outputs": [],
   "source": [
    "// life gets hard-er\n",
    "class GradLife extends Module {\n",
    "  val io = IO(new Bundle {\n",
    "    val state = Input(UInt(2.W))\n",
    "    val coffee = Input(Bool())\n",
    "    val idea = Input(Bool())\n",
    "    val pressure = Input(Bool())\n",
    "    val nextState = Output(UInt(2.W))\n",
    "  })\n",
    "    \n",
    "  val idle :: coding :: writing :: grad :: Nil = Enum(4)\n",
    "  \n",
    "  ???\n",
    "}\n",
    "\n",
    "\n",
    "// Test\n",
    "test(new GradLife) { c =>\n",
    "  // verify that the hardware matches the golden model\n",
    "  for (state <- 0 to 3) {\n",
    "    for (coffee <- List(true, false)) {\n",
    "      for (idea <- List(true, false)) {\n",
    "        for (pressure <- List(true, false)) {\n",
    "          c.io.state.poke(state.U)\n",
    "          c.io.coffee.poke(coffee.B)\n",
    "          c.io.idea.poke(idea.B)\n",
    "          c.io.pressure.poke(pressure.B)\n",
    "          c.io.nextState.expect(gradLife(state, coffee, idea, pressure).U)\n",
    "        }\n",
    "      }\n",
    "    }\n",
    "  }\n",
    "}\n",
    "println(\"SUCCESS!!\") // Scala Code: if we get here, our tests passed!"
   ]
  },
  {
   "cell_type": "markdown",
   "metadata": {},
   "source": [
    "<div id=\"container\"><section id=\"accordion\"><div>\n",
    "<input type=\"checkbox\" id=\"check-5\" />\n",
    "<label for=\"check-5\"><strong>Solution</strong></label>\n",
    "<article>\n",
    "<pre style=\"background-color:#f7f7f7\">\n",
    "  io.nextState := idle\n",
    "  when (io.state === idle) {\n",
    "    when      (io.coffee) { io.nextState := coding } \n",
    "    .elsewhen (io.idea) { io.nextState := idle }\n",
    "    .elsewhen (io.pressure) { io.nextState := writing }\n",
    "  } .elsewhen (io.state === coding) {\n",
    "    when      (io.coffee) { io.nextState := coding } \n",
    "    .elsewhen (io.idea || io.pressure) { io.nextState := writing }\n",
    "  } .elsewhen (io.state === writing) {\n",
    "    when      (io.coffee || io.idea) { io.nextState := writing }\n",
    "    .elsewhen (io.pressure) { io.nextState := grad }\n",
    "  }\n",
    "</pre></article></div></section></div>"
   ]
  },
  {
   "cell_type": "markdown",
   "metadata": {
    "collapsed": true
   },
   "source": [
    "---\n",
    "# You're done!\n",
    "\n",
    "[Return to the top.](#top)"
   ]
  }
 ],
 "metadata": {
  "kernelspec": {
   "display_name": "Scala",
   "language": "scala",
   "name": "scala"
  },
  "language_info": {
   "codemirror_mode": "text/x-scala",
   "file_extension": ".scala",
   "mimetype": "text/x-scala",
   "name": "scala",
   "nbconvert_exporter": "script",
   "version": "2.12.10"
  }
 },
 "nbformat": 4,
 "nbformat_minor": 2
}
